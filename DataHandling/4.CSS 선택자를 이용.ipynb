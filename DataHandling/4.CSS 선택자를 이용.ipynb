{
 "cells": [
  {
   "cell_type": "code",
   "execution_count": 1,
   "metadata": {},
   "outputs": [],
   "source": [
    "from bs4 import BeautifulSoup"
   ]
  },
  {
   "cell_type": "code",
   "execution_count": 2,
   "metadata": {},
   "outputs": [],
   "source": [
    "import urllib.request as ureq\n",
    "\n",
    "#환율 정보 사이트\n",
    "url = \"https://finance.naver.com/marketindex/\"\n",
    "urldata = ureq.urlopen(url).read()\n",
    "#urldata = ureq.urlopen(url).read()\n",
    "#test = urldata.decode('utf-8')\n",
    "#urldata\n",
    "#soup = BeautifulSoup(test,'html.parser')"
   ]
  },
  {
   "cell_type": "code",
   "execution_count": 3,
   "metadata": {},
   "outputs": [],
   "source": [
    "soup = BeautifulSoup(urldata,'html.parser')"
   ]
  },
  {
   "cell_type": "code",
   "execution_count": 4,
   "metadata": {},
   "outputs": [
    {
     "name": "stdout",
     "output_type": "stream",
     "text": [
      "usd/krw : 1,185.50\n"
     ]
    }
   ],
   "source": [
    "priceUsd = soup.select_one('div.head_info > span.value').string\n",
    "print('usd/krw : '+priceUsd)"
   ]
  },
  {
   "cell_type": "markdown",
   "metadata": {},
   "source": [
    "사이트에서 코드 열고 원하는 부분 오른쪽 클릭 -> Copy selector 하면 경로 딸수있음\n",
    "\n",
    "#mw-content-text > div.searchresults > ul > li:nth-child(1) > div.mw-search-result-heading"
   ]
  },
  {
   "cell_type": "markdown",
   "metadata": {},
   "source": [
    "# CSS2\n",
    "\n",
    "위키에서 한용운 검색해서 편찬한 \"시\" 목록 긁어오기\n",
    "\n",
    "https://ko.wikisource.org/wiki/%EC%A0%80%EC%9E%90:%EC%A0%95%EC%9D%B8%EC%A7%80\n"
   ]
  },
  {
   "cell_type": "code",
   "execution_count": null,
   "metadata": {},
   "outputs": [],
   "source": [
    "#mw-content-text > div > ul:nth-child(7) > li:nth-child(1) > a\n",
    "#id가 mw--\n",
    "#div 밑에\n",
    "#7번째 자식테그\n",
    "#그 밑에 1번 자식태그 밑에 a"
   ]
  },
  {
   "cell_type": "code",
   "execution_count": 2,
   "metadata": {},
   "outputs": [],
   "source": [
    "from bs4 import BeautifulSoup\n",
    "import urllib.request as ureq\n",
    "\n",
    "url = 'https://ko.wikisource.org/wiki/%EC%A0%80%EC%9E%90:%ED%95%9C%EC%9A%A9%EC%9A%B4'\n",
    "urldata = ureq.urlopen(url)\n",
    "soup = BeautifulSoup(urldata,'html.parser')"
   ]
  },
  {
   "cell_type": "code",
   "execution_count": 10,
   "metadata": {},
   "outputs": [],
   "source": [
    "list = soup.select('div#mw-content-text > div > ul > li > a')"
   ]
  },
  {
   "cell_type": "code",
   "execution_count": 17,
   "metadata": {},
   "outputs": [
    {
     "data": {
      "text/plain": [
       "42"
      ]
     },
     "execution_count": 17,
     "metadata": {},
     "output_type": "execute_result"
    }
   ],
   "source": [
    "len(list)"
   ]
  },
  {
   "cell_type": "code",
   "execution_count": 16,
   "metadata": {},
   "outputs": [
    {
     "name": "stdout",
     "output_type": "stream",
     "text": [
      "님의 침묵\n",
      "산거\n",
      "산골 물\n",
      "낙화\n",
      "일경초\n",
      "지는 해\n",
      "해촌의 석양\n",
      "일출\n",
      "강 배\n",
      "비바람\n",
      "모순\n",
      "반달과 소녀\n",
      "산촌의 여름 저녁\n",
      "세모\n",
      "성탄\n",
      "환가\n",
      "심\n",
      "심우장\n",
      "조춘\n",
      "추야몽\n",
      "한강에서\n",
      "사랑\n",
      "춘화\n",
      "추야단\n",
      "춘조\n",
      "코스모스\n",
      "계어\n",
      "성공\n",
      "추화\n",
      "남아\n",
      "직업부인\n",
      "표아\n",
      "모기\n",
      "쥐\n",
      "파리\n",
      "죽음\n",
      "후해\n",
      "철혈미인\n",
      "박명\n",
      "조선 청년에게\n",
      "조선 독립의 서\n",
      "공약 3장\n"
     ]
    }
   ],
   "source": [
    "#몇번째 태그인지 등을 안적었기 때문에 시 말고 소설도 다 긁어옴\n",
    "#한시 목록은 루트가 다르기 때문에 안들어감, 같은 루트인것만 들어옴\n",
    "for a in list:\n",
    "    print(a.string)"
   ]
  },
  {
   "cell_type": "code",
   "execution_count": 18,
   "metadata": {},
   "outputs": [
    {
     "data": {
      "text/plain": [
       "<ul id=\"itBook\">\n",
       "<li id=\"web\">PHP 언어</li>\n",
       "<li id=\"Mobile\">Android 개발</li>\n",
       "<li id=\"DataScience\">R 언어</li>\n",
       "<li id=\"DataBase\">Oracle 12g</li>\n",
       "<li id=\"OS\">Linux 배우기</li>\n",
       "<li id=\"javaScript\">ReactJs</li>\n",
       "</ul>"
      ]
     },
     "execution_count": 18,
     "metadata": {},
     "output_type": "execute_result"
    }
   ],
   "source": [
    "#연습용 html\n",
    "fp = open('book.html',encoding = 'utf-8')\n",
    "soup = BeautifulSoup(fp,'html.parser')"
   ]
  },
  {
   "cell_type": "code",
   "execution_count": 22,
   "metadata": {},
   "outputs": [
    {
     "data": {
      "text/plain": [
       "'R 언어'"
      ]
     },
     "execution_count": 22,
     "metadata": {},
     "output_type": "execute_result"
    }
   ],
   "source": [
    "soup.select_one('#DataScience').string"
   ]
  },
  {
   "cell_type": "code",
   "execution_count": 23,
   "metadata": {},
   "outputs": [
    {
     "data": {
      "text/plain": [
       "'R 언어'"
      ]
     },
     "execution_count": 23,
     "metadata": {},
     "output_type": "execute_result"
    }
   ],
   "source": [
    "soup.select_one('li#DataScience').string"
   ]
  },
  {
   "cell_type": "code",
   "execution_count": 29,
   "metadata": {},
   "outputs": [
    {
     "data": {
      "text/plain": [
       "'R 언어'"
      ]
     },
     "execution_count": 29,
     "metadata": {},
     "output_type": "execute_result"
    }
   ],
   "source": [
    "soup.select_one('ul > #DataScience').string"
   ]
  },
  {
   "cell_type": "code",
   "execution_count": 31,
   "metadata": {},
   "outputs": [
    {
     "data": {
      "text/plain": [
       "'R 언어'"
      ]
     },
     "execution_count": 31,
     "metadata": {},
     "output_type": "execute_result"
    }
   ],
   "source": [
    "soup.select_one('ul#itBook > li#DataScience').string"
   ]
  },
  {
   "cell_type": "code",
   "execution_count": 35,
   "metadata": {},
   "outputs": [
    {
     "data": {
      "text/plain": [
       "'R 언어'"
      ]
     },
     "execution_count": 35,
     "metadata": {},
     "output_type": "execute_result"
    }
   ],
   "source": [
    "soup.select_one('#itBook #DataScience').string #아이디만 확실하면 부등호 필요없는듯"
   ]
  },
  {
   "cell_type": "code",
   "execution_count": 27,
   "metadata": {},
   "outputs": [
    {
     "data": {
      "text/plain": [
       "'PHP 언어'"
      ]
     },
     "execution_count": 27,
     "metadata": {},
     "output_type": "execute_result"
    }
   ],
   "source": [
    "soup.select_one('ul > li').string"
   ]
  },
  {
   "cell_type": "code",
   "execution_count": 45,
   "metadata": {},
   "outputs": [
    {
     "data": {
      "text/plain": [
       "'R 언어'"
      ]
     },
     "execution_count": 45,
     "metadata": {},
     "output_type": "execute_result"
    }
   ],
   "source": [
    "soup.select_one(\"ul > li[id='DataScience']\").string"
   ]
  },
  {
   "cell_type": "code",
   "execution_count": 46,
   "metadata": {},
   "outputs": [
    {
     "data": {
      "text/plain": [
       "'R 언어'"
      ]
     },
     "execution_count": 46,
     "metadata": {},
     "output_type": "execute_result"
    }
   ],
   "source": [
    "soup.select_one('ul > li:nth-of-type(3)').string # n번째 항목도 선택 가능"
   ]
  },
  {
   "cell_type": "code",
   "execution_count": 47,
   "metadata": {},
   "outputs": [
    {
     "data": {
      "text/plain": [
       "'R 언어'"
      ]
     },
     "execution_count": 47,
     "metadata": {},
     "output_type": "execute_result"
    }
   ],
   "source": [
    "soup.select('ul#itBook > li')[2].string #다 긁어서 인덱스 먹여도됨"
   ]
  },
  {
   "cell_type": "code",
   "execution_count": 51,
   "metadata": {},
   "outputs": [
    {
     "data": {
      "text/plain": [
       "'R 언어'"
      ]
     },
     "execution_count": 51,
     "metadata": {},
     "output_type": "execute_result"
    }
   ],
   "source": [
    "soup.find_all('li')[2].string #find 메소드"
   ]
  },
  {
   "cell_type": "markdown",
   "metadata": {},
   "source": [
    "# CSS3"
   ]
  },
  {
   "cell_type": "code",
   "execution_count": 1,
   "metadata": {},
   "outputs": [
    {
     "data": {
      "text/plain": [
       "<html>\n",
       "<body>\n",
       "<div id=\"goods\">\n",
       "<h1>과일 야채가게 상품리스트</h1>\n",
       "<ul id=\"fruits\">\n",
       "<li class=\"red green\">사과</li>\n",
       "<li class=\"purple\">포도</li>\n",
       "<li class=\"yellow\">레몬</li>\n",
       "<li class=\"yellow\">오렌지</li>\n",
       "</ul>\n",
       "<ul id=\"vegetable\">\n",
       "<li class=\"white green\" data-lo=\"ko\">무우</li>\n",
       "<li class=\"red green\" data-lo=\"us\">파프리카</li>\n",
       "<li class=\"black purple\" data-lo=\"ko\">가지</li>\n",
       "<li class=\"white\" data-lo=\"cn\">연근</li>\n",
       "<li class=\"black\" data-lo=\"us\">아보카도</li>\n",
       "</ul>\n",
       "</div>\n",
       "</body>\n",
       "</html>"
      ]
     },
     "execution_count": 1,
     "metadata": {},
     "output_type": "execute_result"
    }
   ],
   "source": [
    "from bs4 import BeautifulSoup\n",
    "import urllib.request as ureq\n",
    "\n",
    "fp = open('fruit_vegetable.html',encoding = 'utf-8')\n",
    "soup = BeautifulSoup(fp,'html.parser')\n",
    "soup"
   ]
  },
  {
   "cell_type": "code",
   "execution_count": 5,
   "metadata": {},
   "outputs": [
    {
     "data": {
      "text/plain": [
       "'파프리카'"
      ]
     },
     "execution_count": 5,
     "metadata": {},
     "output_type": "execute_result"
    }
   ],
   "source": [
    "#파프리카 추출, nth-of-type 이용\n",
    "soup.select_one('li:nth-of-type(6)').string"
   ]
  },
  {
   "cell_type": "code",
   "execution_count": 16,
   "metadata": {},
   "outputs": [
    {
     "data": {
      "text/plain": [
       "'파프리카'"
      ]
     },
     "execution_count": 16,
     "metadata": {},
     "output_type": "execute_result"
    }
   ],
   "source": [
    "soup.select_one('ul#vegetable > li.red').string"
   ]
  },
  {
   "cell_type": "code",
   "execution_count": 18,
   "metadata": {},
   "outputs": [
    {
     "data": {
      "text/plain": [
       "'파프리카'"
      ]
     },
     "execution_count": 18,
     "metadata": {},
     "output_type": "execute_result"
    }
   ],
   "source": [
    "soup.select_one('#vegetable > li:nth-of-type(2)').string"
   ]
  },
  {
   "cell_type": "code",
   "execution_count": 21,
   "metadata": {},
   "outputs": [
    {
     "data": {
      "text/plain": [
       "'파프리카'"
      ]
     },
     "execution_count": 21,
     "metadata": {},
     "output_type": "execute_result"
    }
   ],
   "source": [
    "soup.select('#vegetable > .green')[1].string"
   ]
  },
  {
   "cell_type": "code",
   "execution_count": 28,
   "metadata": {},
   "outputs": [
    {
     "data": {
      "text/plain": [
       "[<li class=\"red green\">사과</li>,\n",
       " <li class=\"white green\" data-lo=\"ko\">무우</li>,\n",
       " <li class=\"red green\" data-lo=\"us\">파프리카</li>]"
      ]
     },
     "execution_count": 28,
     "metadata": {},
     "output_type": "execute_result"
    }
   ],
   "source": [
    "soup.select('.green')"
   ]
  },
  {
   "cell_type": "code",
   "execution_count": 13,
   "metadata": {},
   "outputs": [
    {
     "data": {
      "text/plain": [
       "<li class=\"red green\" data-lo=\"us\">파프리카</li>"
      ]
     },
     "execution_count": 13,
     "metadata": {},
     "output_type": "execute_result"
    }
   ],
   "source": [
    "#find 메소드 이용해서 추출하기\n",
    "condition ={\n",
    "    \"data-lo\":\"us\",\n",
    "    \"class\":'red'\n",
    "}\n",
    "\n",
    "soup.find(\"li\",condition) #흠... 개 별로임"
   ]
  },
  {
   "cell_type": "code",
   "execution_count": 15,
   "metadata": {},
   "outputs": [
    {
     "data": {
      "text/plain": [
       "<li class=\"red green\" data-lo=\"us\">파프리카</li>"
      ]
     },
     "execution_count": 15,
     "metadata": {},
     "output_type": "execute_result"
    }
   ],
   "source": [
    "soup.find(id='vegetable').find('li',condition)"
   ]
  },
  {
   "cell_type": "markdown",
   "metadata": {},
   "source": [
    "# urljoin 함수 사용하기\n",
    "\n",
    "실제 html은 tree구조로 되어있음\n",
    "\n",
    "..../home/a/tar1.html\n",
    "\n",
    "..../home/b/tar2.html\n",
    "\n",
    "tar1에서 tar2를 읽고 싶으면 다시 a로 나와서 b로 이동하는 과정이 필요함 (폴더처럼)\n",
    "\n",
    "./ 현재 위치, .. 이전위치"
   ]
  },
  {
   "cell_type": "code",
   "execution_count": 40,
   "metadata": {},
   "outputs": [
    {
     "data": {
      "text/plain": [
       "'http://www.example.com/html/b.html'"
      ]
     },
     "execution_count": 40,
     "metadata": {},
     "output_type": "execute_result"
    }
   ],
   "source": [
    "#상대 경로를 사용할때 쓰는 모듈 -> parse.urljoin\n",
    "#상대경로를 절대 경로로 변환하는 메소드\n",
    "from urllib.parse import urljoin\n",
    "baseUrl = 'http://www.example.com/html/a.html' #html/ 까지가 폴더라고 보면됨\n",
    "urljoin(baseUrl,\"b.html\") #html/ 아래에 b.html을 선택 (a가 b로 바뀜)"
   ]
  },
  {
   "cell_type": "code",
   "execution_count": 54,
   "metadata": {},
   "outputs": [
    {
     "data": {
      "text/plain": [
       "'http://www.example.com/html/sub/b.html'"
      ]
     },
     "execution_count": 54,
     "metadata": {},
     "output_type": "execute_result"
    }
   ],
   "source": [
    "urljoin(baseUrl,\"./sub/b.html\")"
   ]
  },
  {
   "cell_type": "code",
   "execution_count": 55,
   "metadata": {},
   "outputs": [
    {
     "data": {
      "text/plain": [
       "'http://www.example.com/index.html'"
      ]
     },
     "execution_count": 55,
     "metadata": {},
     "output_type": "execute_result"
    }
   ],
   "source": [
    "urljoin(baseUrl,\"../index.html\")"
   ]
  },
  {
   "cell_type": "code",
   "execution_count": 57,
   "metadata": {},
   "outputs": [
    {
     "data": {
      "text/plain": [
       "'http://www.example.com/css/style.css'"
      ]
     },
     "execution_count": 57,
     "metadata": {},
     "output_type": "execute_result"
    }
   ],
   "source": [
    "urljoin(baseUrl,\"../css/style.css\")"
   ]
  },
  {
   "cell_type": "code",
   "execution_count": 68,
   "metadata": {},
   "outputs": [
    {
     "data": {
      "text/plain": [
       "'http://NewnewNew'"
      ]
     },
     "execution_count": 68,
     "metadata": {},
     "output_type": "execute_result"
    }
   ],
   "source": [
    "#두번째 매개변수에 상대경로가 아닌 절대경로를 넣으면???\n",
    "urljoin(baseUrl,'http://NewnewNew') #앞에거 씹어버리네"
   ]
  },
  {
   "cell_type": "code",
   "execution_count": 71,
   "metadata": {},
   "outputs": [
    {
     "data": {
      "text/plain": [
       "'http://www.another.com'"
      ]
     },
     "execution_count": 71,
     "metadata": {},
     "output_type": "execute_result"
    }
   ],
   "source": [
    "urljoin(baseUrl,'//www.another.com') #//로 시작하면 걍 http 붙임"
   ]
  },
  {
   "cell_type": "code",
   "execution_count": null,
   "metadata": {},
   "outputs": [],
   "source": [
    "body > table > tbody > tr > td:nth-child(2) > table > tbody > tr:nth-child(3) > td > table > tbody > tr:nth-child(1) > td:nth-child(2) > table > tbody > tr:nth-child(2) > td:nth-child(1) > table > tbody > tr:nth-child(3) > td:nth-child(2) > table > tbody"
   ]
  },
  {
   "cell_type": "markdown",
   "metadata": {},
   "source": [
    "# http통신, 쿠키 개념\n",
    "\n",
    "<쿠키, 세션>\n",
    "\n",
    "Naver라는 회사는 웹서버를 가지고 있음 사용자가 요청하는 정보나 서비스를 제공함 (user, client)\n",
    "\n",
    "user와 client간의 통신규약,약속 = 프로토콜, 그 중에서도 http 프로토콜사용\n",
    "\n",
    "이외에도 ftp (파일전송프로토콜)등이 있음\n",
    "\n",
    "...\n",
    "\n",
    "# http 통신의 특성\n",
    "\n",
    " - connectionless : 클라이언트가 request를 서버에 보내면 서버는 클라이언트에게 response를 보낸다. 그리고 접속을 끊는 특성\n",
    " \n",
    " - Stateless : 접속을 끊는 순간 클라이언트와 서버의 통신은 끝나고 상태정보는 유지하지 않는 특성 ( 로그인 상태 등.. A서비스를 제공받으면 통신이 종료되니까 B서비스를 받으려면 다시 로그인 해야함 - 실제로는 그렇지 않음 왜? 쿠키와 세션이라는것을 사용하기 때문)\n",
    " \n",
    "## 쿠키와 세션의 차이 - 쿠키는 클라이언트에 저장되는 값, 세션은 서버에 저장되는 값\n",
    " \n",
    " * 쿠키(Cookie)\n",
    "  - 쿠키는 클라이언트에 저장되는 키와 값이 들어있는 (딕셔너리처럼)작은 데이터 파일이다.\n",
    "  - 쿠키는 이름, 값, 만료날짜(쿠키 저장기간), 경로정보가 있다.\n",
    "  - 쿠키는 일정시간 동안 데이터를 저장할 수 있어서 로그인 상태를 유지한다.\n",
    "  - 쿠키는 클라이언트의 상태 정보를 유저의 하드 디스크에 저장하였다가 필요할 때 참조, 재사용한다.\n",
    " \n",
    " 쿠키의 사용예>\n",
    "  - 방문사이트에서 '아이디와 비밀번호를 저장하시겠습니까?'라고 메시지가 나오면 쿠키로 저장하겠냐라는 의미이다.\n",
    "  - 팝업창이 뜰때, \"오늘 하루 보지않음\"을 체크하면 오늘은 창이 뜨지 않는다.\n",
    "  \n",
    " * 세션(Session)\n",
    " \n",
    " -세션은 클라이언트와 웹서버간 네트워크 연결이 지속 유지되고 있는 상태를 말한다.\n",
    " - 즉, 사용ㅇ자가 브라우저를 열어 서버에 접속한 뒤 접속을 종료할 때까지를 말한다.\n",
    " - HTTP프로토콜은 비접속형 프로토콜이기에, 매 접속시마다 새로운 네트워크 연결이 이루어지는데,\n",
    " 세션이 연결 유지를 가능하게 해준다.\n",
    " - 클라이언트가 Request를 보내면, 해당 서버의 엔진이 클라이언트에게 유일한 ID를 부여하는데, 이 ID를 세션이라고 한다.\n",
    " - 세션 ID는 임시로 저장하여 페이지 이동 시 이용하거나, 클라이언트가 재 접속했을 때 클라이언트를 클라이언트를 유일하게 구분하는 수단이 된다.\n",
    " \n",
    " * 세션 원리\n",
    " \n",
    " 1) 세션 ID를 서버에서 클라이언트가 웹사이트에 접속시 발급해준다.\n",
    " 2) 서버에서 클라이언트로 발급해준 세션 ID를 쿠키(쿠키이름은 JSESSIONID)를 사용해서 저장합니다.\n",
    " 3) 클라이언트는 다시 접속시, 이 쿠키(JSESSIONID)를 이용해서 세션 ID값을 서버에 전달한다.\n",
    " \n",
    " * 세션의 장점\n",
    " \n",
    " - 각 클라이언트에게 고유 ID를 부여한다.\n",
    " - 세션 ID로 클라이언트를 구분해서 클라이언트의 요구에 맞는 서비스를 제공할 수 있다.\n",
    " - 사용했던 정보들을 서버에 저장하기 때문에 보안 상 쿠키보다 우수하다.\n",
    " \n",
    " * 세션의 단점\n",
    " \n",
    " - 서버에 저장되는 세션 때문에 서버에 처리를 요구하는 부하와 저장공간을 필요로 한다.\n",
    " \n",
    " ** 쿠키와 세션의 차이점\n",
    " \n",
    " 큰차이점은 저장되는 위치, 쿠키는 클라이언트에 저장되어서 보내는 역할을 하고 (PC), \n",
    " 세션은 서버에 저장되어서 클라이언트에게 알려줘서 사용\n",
    " "
   ]
  }
 ],
 "metadata": {
  "kernelspec": {
   "display_name": "Python 3",
   "language": "python",
   "name": "python3"
  },
  "language_info": {
   "codemirror_mode": {
    "name": "ipython",
    "version": 3
   },
   "file_extension": ".py",
   "mimetype": "text/x-python",
   "name": "python",
   "nbconvert_exporter": "python",
   "pygments_lexer": "ipython3",
   "version": "3.7.0"
  }
 },
 "nbformat": 4,
 "nbformat_minor": 2
}
