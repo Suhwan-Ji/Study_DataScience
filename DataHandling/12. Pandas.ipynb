{
 "cells": [
  {
   "cell_type": "markdown",
   "metadata": {},
   "source": [
    "# Pandas : 데이터 분석 기능을 제공하는 라이브러리.  \n",
    "- 예를 들면, CSV파일 등의 데이터를 읽고 원하는 데이터 형식으로 변환해줌\n",
    "\n",
    "**Pandas 자료구조**  \n",
    "- Series, DataFrame\n",
    "- Series는 일차원 배열 같은 자료구조"
   ]
  },
  {
   "cell_type": "code",
   "execution_count": 1,
   "metadata": {},
   "outputs": [
    {
     "name": "stdout",
     "output_type": "stream",
     "text": [
      "0    a\n",
      "1    b\n",
      "2    c\n",
      "3    d\n",
      "dtype: object\n",
      "RangeIndex(start=0, stop=4, step=1)\n",
      "['a' 'b' 'c' 'd']\n"
     ]
    }
   ],
   "source": [
    "import pandas as pd\n",
    "\n",
    "obj = pd.Series(['a','b','c','d'])\n",
    "print(obj)\n",
    "print(obj.index)\n",
    "print(obj.values)"
   ]
  },
  {
   "cell_type": "code",
   "execution_count": 2,
   "metadata": {},
   "outputs": [
    {
     "name": "stdout",
     "output_type": "stream",
     "text": [
      "c      1\n",
      "ddd    2\n",
      "e      3\n",
      "f      4\n",
      "dtype: int64\n"
     ]
    }
   ],
   "source": [
    "obj2 = pd.Series([1,2,3,4],index=['c','ddd','e','f'])\n",
    "\n",
    "print(obj2)"
   ]
  },
  {
   "cell_type": "code",
   "execution_count": 3,
   "metadata": {},
   "outputs": [
    {
     "data": {
      "text/plain": [
       "1"
      ]
     },
     "execution_count": 3,
     "metadata": {},
     "output_type": "execute_result"
    }
   ],
   "source": [
    "obj2['c']"
   ]
  },
  {
   "cell_type": "code",
   "execution_count": 4,
   "metadata": {},
   "outputs": [
    {
     "data": {
      "text/plain": [
       "e    3\n",
       "c    1\n",
       "dtype: int64"
      ]
     },
     "execution_count": 4,
     "metadata": {},
     "output_type": "execute_result"
    }
   ],
   "source": [
    "obj2[['e','c']]"
   ]
  },
  {
   "cell_type": "code",
   "execution_count": 5,
   "metadata": {},
   "outputs": [
    {
     "data": {
      "text/plain": [
       "c      2\n",
       "ddd    4\n",
       "e      6\n",
       "f      8\n",
       "dtype: int64"
      ]
     },
     "execution_count": 5,
     "metadata": {},
     "output_type": "execute_result"
    }
   ],
   "source": [
    "obj2*2"
   ]
  },
  {
   "cell_type": "code",
   "execution_count": 6,
   "metadata": {},
   "outputs": [
    {
     "data": {
      "text/plain": [
       "True"
      ]
     },
     "execution_count": 6,
     "metadata": {},
     "output_type": "execute_result"
    }
   ],
   "source": [
    "'c' in obj2"
   ]
  },
  {
   "cell_type": "code",
   "execution_count": 7,
   "metadata": {},
   "outputs": [
    {
     "data": {
      "text/plain": [
       "True"
      ]
     },
     "execution_count": 7,
     "metadata": {},
     "output_type": "execute_result"
    }
   ],
   "source": [
    "2 in obj2.values"
   ]
  },
  {
   "cell_type": "code",
   "execution_count": 8,
   "metadata": {},
   "outputs": [
    {
     "name": "stdout",
     "output_type": "stream",
     "text": [
      "0    1\n",
      "1    2\n",
      "2    3\n",
      "3    4\n",
      "4    5\n",
      "5    6\n",
      "6    6\n",
      "7    7\n",
      "8    9\n",
      "dtype: int64\n"
     ]
    }
   ],
   "source": [
    "import numpy as np\n",
    "data = [1,2,3,4,5,6,6,7,9]\n",
    "obj3 = pd.Series(data,index = np.arange(len(data)))\n",
    "print(obj3)"
   ]
  },
  {
   "cell_type": "code",
   "execution_count": 9,
   "metadata": {},
   "outputs": [
    {
     "name": "stdout",
     "output_type": "stream",
     "text": [
      "Kim     3400\n",
      "Hong    2000\n",
      "Lee     2400\n",
      "Kang    1000\n",
      "dtype: int64\n"
     ]
    }
   ],
   "source": [
    "dic={\n",
    "    'Kim':3400,\n",
    "    'Hong':2000,\n",
    "    'Lee':2400,\n",
    "    'Kang':1000,    \n",
    "}\n",
    "a = pd.Series(dic)\n",
    "print(a)"
   ]
  },
  {
   "cell_type": "code",
   "execution_count": 10,
   "metadata": {},
   "outputs": [
    {
     "name": "stdout",
     "output_type": "stream",
     "text": [
      "Kim     3400\n",
      "Hong    2000\n",
      "Lee     2400\n",
      "Kang    1000\n",
      "Ha      4333\n",
      "dtype: int64\n"
     ]
    }
   ],
   "source": [
    "a['Ha']=4333\n",
    "print(a) #파이썬 딕셔너리를 그대로 대체해서 쓸수있음"
   ]
  },
  {
   "cell_type": "code",
   "execution_count": 11,
   "metadata": {},
   "outputs": [
    {
     "data": {
      "text/plain": [
       "My        [1, 2, 3, 45]\n",
       "ss                   []\n",
       "Hey                4444\n",
       "2                    Hi\n",
       "hh     [5, 67, 3, 4, 2]\n",
       "dtype: object"
      ]
     },
     "execution_count": 11,
     "metadata": {},
     "output_type": "execute_result"
    }
   ],
   "source": [
    "dictt ={\n",
    "    'My':[1,2,3,45],\n",
    "    'ss':[],\n",
    "    'Hey':'4444',\n",
    "    2:'Hi',\n",
    "    'hh':[5,67,3,4,2],\n",
    "}\n",
    "pd.Series(dictt)"
   ]
  },
  {
   "cell_type": "code",
   "execution_count": 12,
   "metadata": {},
   "outputs": [
    {
     "name": "stdout",
     "output_type": "stream",
     "text": [
      "Kim     3400.0\n",
      "Woo        NaN\n",
      "Kang    1000.0\n",
      "dtype: float64\n"
     ]
    }
   ],
   "source": [
    "dic={\n",
    "    'Kim':3400,\n",
    "    'Hong':2000,\n",
    "    'Lee':2400,\n",
    "    'Kang':1000,    \n",
    "}\n",
    "a = pd.Series(dic,index=['Kim','Woo','Kang'])\n",
    "#딕셔너리를 데이터로 넣고 인덱스를 주면 key값에 맞는 value가 나오고, 없으면 Nan\n",
    "print(a)"
   ]
  },
  {
   "cell_type": "code",
   "execution_count": 13,
   "metadata": {},
   "outputs": [
    {
     "name": "stdout",
     "output_type": "stream",
     "text": [
      "Kim     False\n",
      "Woo      True\n",
      "Kang    False\n",
      "dtype: bool\n",
      "\n",
      "Kim      True\n",
      "Woo     False\n",
      "Kang     True\n",
      "dtype: bool\n",
      "\n",
      "Kim      True\n",
      "Woo     False\n",
      "Kang     True\n",
      "dtype: bool\n",
      "\n",
      "Kim      True\n",
      "Woo     False\n",
      "Kang     True\n",
      "dtype: bool\n",
      "\n"
     ]
    }
   ],
   "source": [
    "#누락된 데이터를 찾을 때 사용하는 함수 isnull,notnull\n",
    "print(pd.isnull(a),end='\\n\\n')\n",
    "print(pd.notnull(a),end='\\n\\n')\n",
    "print(~pd.isnull(a),end='\\n\\n')\n",
    "print(pd.isnull(a)==0,end='\\n\\n')"
   ]
  }
 ],
 "metadata": {
  "kernelspec": {
   "display_name": "Python 3",
   "language": "python",
   "name": "python3"
  },
  "language_info": {
   "codemirror_mode": {
    "name": "ipython",
    "version": 3
   },
   "file_extension": ".py",
   "mimetype": "text/x-python",
   "name": "python",
   "nbconvert_exporter": "python",
   "pygments_lexer": "ipython3",
   "version": "3.7.0"
  }
 },
 "nbformat": 4,
 "nbformat_minor": 2
}
