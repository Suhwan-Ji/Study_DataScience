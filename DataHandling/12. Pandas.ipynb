{
 "cells": [
  {
   "cell_type": "markdown",
   "metadata": {},
   "source": [
    "# Pandas : 데이터 분석 기능을 제공하는 라이브러리.  \n",
    "- 예를 들면, CSV파일 등의 데이터를 읽고 원하는 데이터 형식으로 변환해줌\n",
    "\n",
    "**Pandas 자료구조**  \n",
    "- Series, DataFrame\n",
    "- Series는 일차원 배열 같은 자료구조"
   ]
  },
  {
   "cell_type": "code",
   "execution_count": 1,
   "metadata": {},
   "outputs": [
    {
     "name": "stdout",
     "output_type": "stream",
     "text": [
      "0    a\n",
      "1    b\n",
      "2    c\n",
      "3    d\n",
      "dtype: object\n",
      "RangeIndex(start=0, stop=4, step=1)\n",
      "['a' 'b' 'c' 'd']\n"
     ]
    }
   ],
   "source": [
    "import pandas as pd\n",
    "\n",
    "obj = pd.Series(['a','b','c','d'])\n",
    "print(obj)\n",
    "print(obj.index)\n",
    "print(obj.values)"
   ]
  },
  {
   "cell_type": "code",
   "execution_count": 2,
   "metadata": {},
   "outputs": [
    {
     "name": "stdout",
     "output_type": "stream",
     "text": [
      "c      1\n",
      "ddd    2\n",
      "e      3\n",
      "f      4\n",
      "dtype: int64\n"
     ]
    }
   ],
   "source": [
    "obj2 = pd.Series([1,2,3,4],index=['c','ddd','e','f'])\n",
    "\n",
    "print(obj2)"
   ]
  },
  {
   "cell_type": "code",
   "execution_count": 3,
   "metadata": {},
   "outputs": [
    {
     "data": {
      "text/plain": [
       "1"
      ]
     },
     "execution_count": 3,
     "metadata": {},
     "output_type": "execute_result"
    }
   ],
   "source": [
    "obj2['c']"
   ]
  },
  {
   "cell_type": "code",
   "execution_count": 4,
   "metadata": {},
   "outputs": [
    {
     "data": {
      "text/plain": [
       "e    3\n",
       "c    1\n",
       "dtype: int64"
      ]
     },
     "execution_count": 4,
     "metadata": {},
     "output_type": "execute_result"
    }
   ],
   "source": [
    "obj2[['e','c']]"
   ]
  },
  {
   "cell_type": "code",
   "execution_count": 5,
   "metadata": {},
   "outputs": [
    {
     "data": {
      "text/plain": [
       "c      2\n",
       "ddd    4\n",
       "e      6\n",
       "f      8\n",
       "dtype: int64"
      ]
     },
     "execution_count": 5,
     "metadata": {},
     "output_type": "execute_result"
    }
   ],
   "source": [
    "obj2*2"
   ]
  },
  {
   "cell_type": "code",
   "execution_count": 6,
   "metadata": {},
   "outputs": [
    {
     "data": {
      "text/plain": [
       "True"
      ]
     },
     "execution_count": 6,
     "metadata": {},
     "output_type": "execute_result"
    }
   ],
   "source": [
    "'c' in obj2"
   ]
  },
  {
   "cell_type": "code",
   "execution_count": 7,
   "metadata": {},
   "outputs": [
    {
     "data": {
      "text/plain": [
       "True"
      ]
     },
     "execution_count": 7,
     "metadata": {},
     "output_type": "execute_result"
    }
   ],
   "source": [
    "2 in obj2.values"
   ]
  },
  {
   "cell_type": "code",
   "execution_count": 8,
   "metadata": {},
   "outputs": [
    {
     "name": "stdout",
     "output_type": "stream",
     "text": [
      "0    1\n",
      "1    2\n",
      "2    3\n",
      "3    4\n",
      "4    5\n",
      "5    6\n",
      "6    6\n",
      "7    7\n",
      "8    9\n",
      "dtype: int64\n"
     ]
    }
   ],
   "source": [
    "import numpy as np\n",
    "data = [1,2,3,4,5,6,6,7,9]\n",
    "obj3 = pd.Series(data,index = np.arange(len(data)))\n",
    "print(obj3)"
   ]
  },
  {
   "cell_type": "code",
   "execution_count": 9,
   "metadata": {},
   "outputs": [
    {
     "name": "stdout",
     "output_type": "stream",
     "text": [
      "Kim     3400\n",
      "Hong    2000\n",
      "Lee     2400\n",
      "Kang    1000\n",
      "dtype: int64\n"
     ]
    }
   ],
   "source": [
    "dic={\n",
    "    'Kim':3400,\n",
    "    'Hong':2000,\n",
    "    'Lee':2400,\n",
    "    'Kang':1000,    \n",
    "}\n",
    "a = pd.Series(dic)\n",
    "print(a)"
   ]
  },
  {
   "cell_type": "code",
   "execution_count": 10,
   "metadata": {},
   "outputs": [
    {
     "name": "stdout",
     "output_type": "stream",
     "text": [
      "Kim     3400\n",
      "Hong    2000\n",
      "Lee     2400\n",
      "Kang    1000\n",
      "Ha      4333\n",
      "dtype: int64\n"
     ]
    }
   ],
   "source": [
    "a['Ha']=4333\n",
    "print(a) #파이썬 딕셔너리를 그대로 대체해서 쓸수있음"
   ]
  },
  {
   "cell_type": "code",
   "execution_count": 11,
   "metadata": {},
   "outputs": [
    {
     "data": {
      "text/plain": [
       "My        [1, 2, 3, 45]\n",
       "ss                   []\n",
       "Hey                4444\n",
       "2                    Hi\n",
       "hh     [5, 67, 3, 4, 2]\n",
       "dtype: object"
      ]
     },
     "execution_count": 11,
     "metadata": {},
     "output_type": "execute_result"
    }
   ],
   "source": [
    "dictt ={\n",
    "    'My':[1,2,3,45],\n",
    "    'ss':[],\n",
    "    'Hey':'4444',\n",
    "    2:'Hi',\n",
    "    'hh':[5,67,3,4,2],\n",
    "}\n",
    "pd.Series(dictt)"
   ]
  },
  {
   "cell_type": "code",
   "execution_count": 12,
   "metadata": {},
   "outputs": [
    {
     "name": "stdout",
     "output_type": "stream",
     "text": [
      "Kim     3400.0\n",
      "Woo        NaN\n",
      "Kang    1000.0\n",
      "dtype: float64\n"
     ]
    }
   ],
   "source": [
    "dic={\n",
    "    'Kim':3400,\n",
    "    'Hong':2000,\n",
    "    'Lee':2400,\n",
    "    'Kang':1000,    \n",
    "}\n",
    "a = pd.Series(dic,index=['Kim','Woo','Kang'])\n",
    "#딕셔너리를 데이터로 넣고 인덱스를 주면 key값에 맞는 value가 나오고, 없으면 Nan\n",
    "print(a)"
   ]
  },
  {
   "cell_type": "code",
   "execution_count": 13,
   "metadata": {},
   "outputs": [
    {
     "name": "stdout",
     "output_type": "stream",
     "text": [
      "Kim     False\n",
      "Woo      True\n",
      "Kang    False\n",
      "dtype: bool\n",
      "\n",
      "Kim      True\n",
      "Woo     False\n",
      "Kang     True\n",
      "dtype: bool\n",
      "\n",
      "Kim      True\n",
      "Woo     False\n",
      "Kang     True\n",
      "dtype: bool\n",
      "\n",
      "Kim      True\n",
      "Woo     False\n",
      "Kang     True\n",
      "dtype: bool\n",
      "\n"
     ]
    }
   ],
   "source": [
    "#누락된 데이터를 찾을 때 사용하는 함수 isnull,notnull\n",
    "print(pd.isnull(a),end='\\n\\n')\n",
    "print(pd.notnull(a),end='\\n\\n')\n",
    "print(~pd.isnull(a),end='\\n\\n')\n",
    "print(pd.isnull(a)==0,end='\\n\\n')"
   ]
  },
  {
   "cell_type": "code",
   "execution_count": 14,
   "metadata": {},
   "outputs": [
    {
     "name": "stdout",
     "output_type": "stream",
     "text": [
      "Seoul      4000\n",
      "Busan      2000\n",
      "Incheon    1500\n",
      "Kwangju    1000\n",
      "dtype: int64\n",
      "Seoul      4000.0\n",
      "Incheon    1500.0\n",
      "Kwangju    1000.0\n",
      "Daegu         NaN\n",
      "dtype: float64\n",
      "Busan         NaN\n",
      "Daegu         NaN\n",
      "Incheon    3000.0\n",
      "Kwangju    2000.0\n",
      "Seoul      8000.0\n",
      "dtype: float64\n"
     ]
    }
   ],
   "source": [
    "import pandas as pd\n",
    "\n",
    "data = {\n",
    "    'Seoul':4000,\n",
    "    'Busan':2000,\n",
    "    'Incheon':1500,\n",
    "    'Kwangju':1000\n",
    "}\n",
    "\n",
    "obj = pd.Series(data)\n",
    "print(obj)\n",
    "\n",
    "#인덱스 바꾸기\n",
    "cities = ['Seoul','Incheon','Kwangju','Daegu',]\n",
    "obj2 = pd.Series(data,index=cities) \n",
    "print(obj2)\n",
    "\n",
    "#두개 더하면?\n",
    "print(obj+obj2) #있는 놈들은 더해지고 부산은 2000+NaN이므로 NaN 리턴"
   ]
  },
  {
   "cell_type": "markdown",
   "metadata": {},
   "source": [
    "Series 객체와 색인(index)은 모두 name이라는 속성이 있다."
   ]
  },
  {
   "cell_type": "code",
   "execution_count": 15,
   "metadata": {},
   "outputs": [
    {
     "name": "stdout",
     "output_type": "stream",
     "text": [
      "Seoul      4000.0\n",
      "Incheon    1500.0\n",
      "Kwangju    1000.0\n",
      "Daegu         NaN\n",
      "Name: 인구수, dtype: float64\n"
     ]
    }
   ],
   "source": [
    "obj2.name=\"인구수\"\n",
    "print(obj2)"
   ]
  },
  {
   "cell_type": "code",
   "execution_count": 16,
   "metadata": {},
   "outputs": [
    {
     "name": "stdout",
     "output_type": "stream",
     "text": [
      "도시\n",
      "Seoul      4000.0\n",
      "Incheon    1500.0\n",
      "Kwangju    1000.0\n",
      "Daegu         NaN\n",
      "Name: 인구수, dtype: float64\n"
     ]
    }
   ],
   "source": [
    "obj2.index.name=\"도시\"\n",
    "print(obj2)"
   ]
  },
  {
   "cell_type": "code",
   "execution_count": 17,
   "metadata": {},
   "outputs": [
    {
     "name": "stdout",
     "output_type": "stream",
     "text": [
      "Daejeon    4000.0\n",
      "Busan      1500.0\n",
      "Seoul      1000.0\n",
      "Jeju          NaN\n",
      "Name: 인구수, dtype: float64\n"
     ]
    }
   ],
   "source": [
    "# 인덱스 그냥 바꿀수도 있음\n",
    "obj2.index=['Daejeon','Busan','Seoul','Jeju']\n",
    "print(obj2)"
   ]
  },
  {
   "cell_type": "markdown",
   "metadata": {},
   "source": [
    "# 데이터 프레임  \n",
    "- DataFrame은 2차원 리스트(2차원 배열) 같은 자료구조  \n",
    "- R언어 data.frame과 비슷하다."
   ]
  },
  {
   "cell_type": "code",
   "execution_count": 18,
   "metadata": {},
   "outputs": [
    {
     "name": "stdout",
     "output_type": "stream",
     "text": [
      "   0  1  2\n",
      "0  1  2  3\n",
      "1  4  5  6\n",
      "2  7  8  9\n"
     ]
    }
   ],
   "source": [
    "a = pd.DataFrame([\n",
    "    [1,2,3],\n",
    "    [4,5,6],\n",
    "    [7,8,9]\n",
    "])\n",
    "print(a)"
   ]
  },
  {
   "cell_type": "code",
   "execution_count": 19,
   "metadata": {},
   "outputs": [
    {
     "data": {
      "text/html": [
       "<div>\n",
       "<style scoped>\n",
       "    .dataframe tbody tr th:only-of-type {\n",
       "        vertical-align: middle;\n",
       "    }\n",
       "\n",
       "    .dataframe tbody tr th {\n",
       "        vertical-align: top;\n",
       "    }\n",
       "\n",
       "    .dataframe thead th {\n",
       "        text-align: right;\n",
       "    }\n",
       "</style>\n",
       "<table border=\"1\" class=\"dataframe\">\n",
       "  <thead>\n",
       "    <tr style=\"text-align: right;\">\n",
       "      <th></th>\n",
       "      <th>city</th>\n",
       "      <th>year</th>\n",
       "      <th>Pop</th>\n",
       "    </tr>\n",
       "  </thead>\n",
       "  <tbody>\n",
       "    <tr>\n",
       "      <th>0</th>\n",
       "      <td>Seoul</td>\n",
       "      <td>2000</td>\n",
       "      <td>4000</td>\n",
       "    </tr>\n",
       "    <tr>\n",
       "      <th>1</th>\n",
       "      <td>Busan</td>\n",
       "      <td>2001</td>\n",
       "      <td>2000</td>\n",
       "    </tr>\n",
       "    <tr>\n",
       "      <th>2</th>\n",
       "      <td>광주</td>\n",
       "      <td>2002</td>\n",
       "      <td>1000</td>\n",
       "    </tr>\n",
       "    <tr>\n",
       "      <th>3</th>\n",
       "      <td>대구</td>\n",
       "      <td>2001</td>\n",
       "      <td>1000</td>\n",
       "    </tr>\n",
       "  </tbody>\n",
       "</table>\n",
       "</div>"
      ],
      "text/plain": [
       "    city  year   Pop\n",
       "0  Seoul  2000  4000\n",
       "1  Busan  2001  2000\n",
       "2     광주  2002  1000\n",
       "3     대구  2001  1000"
      ]
     },
     "execution_count": 19,
     "metadata": {},
     "output_type": "execute_result"
    }
   ],
   "source": [
    "#사전형식으로도 사용할수 있음\n",
    "data = {\n",
    "    'city':['Seoul','Busan','광주','대구'],\n",
    "    'year':[2000,2001,2002,2001,],\n",
    "    'Pop':[4000,2000,1000,1000]\n",
    "}\n",
    "\n",
    "a = pd.DataFrame(data)\n",
    "a"
   ]
  },
  {
   "cell_type": "code",
   "execution_count": 20,
   "metadata": {},
   "outputs": [
    {
     "data": {
      "text/html": [
       "<div>\n",
       "<style scoped>\n",
       "    .dataframe tbody tr th:only-of-type {\n",
       "        vertical-align: middle;\n",
       "    }\n",
       "\n",
       "    .dataframe tbody tr th {\n",
       "        vertical-align: top;\n",
       "    }\n",
       "\n",
       "    .dataframe thead th {\n",
       "        text-align: right;\n",
       "    }\n",
       "</style>\n",
       "<table border=\"1\" class=\"dataframe\">\n",
       "  <thead>\n",
       "    <tr style=\"text-align: right;\">\n",
       "      <th></th>\n",
       "      <th>year</th>\n",
       "      <th>city</th>\n",
       "      <th>Pop</th>\n",
       "    </tr>\n",
       "  </thead>\n",
       "  <tbody>\n",
       "    <tr>\n",
       "      <th>0</th>\n",
       "      <td>2000</td>\n",
       "      <td>Seoul</td>\n",
       "      <td>4000</td>\n",
       "    </tr>\n",
       "    <tr>\n",
       "      <th>1</th>\n",
       "      <td>2001</td>\n",
       "      <td>Busan</td>\n",
       "      <td>2000</td>\n",
       "    </tr>\n",
       "    <tr>\n",
       "      <th>2</th>\n",
       "      <td>2002</td>\n",
       "      <td>광주</td>\n",
       "      <td>1000</td>\n",
       "    </tr>\n",
       "    <tr>\n",
       "      <th>3</th>\n",
       "      <td>2001</td>\n",
       "      <td>대구</td>\n",
       "      <td>1000</td>\n",
       "    </tr>\n",
       "  </tbody>\n",
       "</table>\n",
       "</div>"
      ],
      "text/plain": [
       "   year   city   Pop\n",
       "0  2000  Seoul  4000\n",
       "1  2001  Busan  2000\n",
       "2  2002     광주  1000\n",
       "3  2001     대구  1000"
      ]
     },
     "execution_count": 20,
     "metadata": {},
     "output_type": "execute_result"
    }
   ],
   "source": [
    "#순서 지정해줄수도 있음\n",
    "a = pd.DataFrame(data, columns=['year','city','Pop'])\n",
    "a"
   ]
  },
  {
   "cell_type": "code",
   "execution_count": 21,
   "metadata": {},
   "outputs": [
    {
     "data": {
      "text/html": [
       "<div>\n",
       "<style scoped>\n",
       "    .dataframe tbody tr th:only-of-type {\n",
       "        vertical-align: middle;\n",
       "    }\n",
       "\n",
       "    .dataframe tbody tr th {\n",
       "        vertical-align: top;\n",
       "    }\n",
       "\n",
       "    .dataframe thead th {\n",
       "        text-align: right;\n",
       "    }\n",
       "</style>\n",
       "<table border=\"1\" class=\"dataframe\">\n",
       "  <thead>\n",
       "    <tr style=\"text-align: right;\">\n",
       "      <th></th>\n",
       "      <th>Pop</th>\n",
       "      <th>city</th>\n",
       "      <th>year</th>\n",
       "    </tr>\n",
       "  </thead>\n",
       "  <tbody>\n",
       "    <tr>\n",
       "      <th>0</th>\n",
       "      <td>4000</td>\n",
       "      <td>Seoul</td>\n",
       "      <td>2000</td>\n",
       "    </tr>\n",
       "    <tr>\n",
       "      <th>1</th>\n",
       "      <td>2000</td>\n",
       "      <td>Busan</td>\n",
       "      <td>2001</td>\n",
       "    </tr>\n",
       "    <tr>\n",
       "      <th>2</th>\n",
       "      <td>1000</td>\n",
       "      <td>광주</td>\n",
       "      <td>2002</td>\n",
       "    </tr>\n",
       "    <tr>\n",
       "      <th>3</th>\n",
       "      <td>1000</td>\n",
       "      <td>대구</td>\n",
       "      <td>2001</td>\n",
       "    </tr>\n",
       "  </tbody>\n",
       "</table>\n",
       "</div>"
      ],
      "text/plain": [
       "    Pop   city  year\n",
       "0  4000  Seoul  2000\n",
       "1  2000  Busan  2001\n",
       "2  1000     광주  2002\n",
       "3  1000     대구  2001"
      ]
     },
     "execution_count": 21,
     "metadata": {},
     "output_type": "execute_result"
    }
   ],
   "source": [
    "a = pd.DataFrame(data, columns=sorted(data.keys()))\n",
    "a"
   ]
  },
  {
   "cell_type": "code",
   "execution_count": 22,
   "metadata": {},
   "outputs": [
    {
     "data": {
      "text/html": [
       "<div>\n",
       "<style scoped>\n",
       "    .dataframe tbody tr th:only-of-type {\n",
       "        vertical-align: middle;\n",
       "    }\n",
       "\n",
       "    .dataframe tbody tr th {\n",
       "        vertical-align: top;\n",
       "    }\n",
       "\n",
       "    .dataframe thead th {\n",
       "        text-align: right;\n",
       "    }\n",
       "</style>\n",
       "<table border=\"1\" class=\"dataframe\">\n",
       "  <thead>\n",
       "    <tr style=\"text-align: right;\">\n",
       "      <th></th>\n",
       "      <th>year</th>\n",
       "      <th>city</th>\n",
       "      <th>Pop</th>\n",
       "      <th>debt</th>\n",
       "    </tr>\n",
       "  </thead>\n",
       "  <tbody>\n",
       "    <tr>\n",
       "      <th>일</th>\n",
       "      <td>2000</td>\n",
       "      <td>Seoul</td>\n",
       "      <td>4000</td>\n",
       "      <td>NaN</td>\n",
       "    </tr>\n",
       "    <tr>\n",
       "      <th>이</th>\n",
       "      <td>2001</td>\n",
       "      <td>Busan</td>\n",
       "      <td>2000</td>\n",
       "      <td>NaN</td>\n",
       "    </tr>\n",
       "    <tr>\n",
       "      <th>삼</th>\n",
       "      <td>2002</td>\n",
       "      <td>광주</td>\n",
       "      <td>1000</td>\n",
       "      <td>NaN</td>\n",
       "    </tr>\n",
       "    <tr>\n",
       "      <th>사</th>\n",
       "      <td>2001</td>\n",
       "      <td>대구</td>\n",
       "      <td>1000</td>\n",
       "      <td>NaN</td>\n",
       "    </tr>\n",
       "  </tbody>\n",
       "</table>\n",
       "</div>"
      ],
      "text/plain": [
       "   year   city   Pop debt\n",
       "일  2000  Seoul  4000  NaN\n",
       "이  2001  Busan  2000  NaN\n",
       "삼  2002     광주  1000  NaN\n",
       "사  2001     대구  1000  NaN"
      ]
     },
     "execution_count": 22,
     "metadata": {},
     "output_type": "execute_result"
    }
   ],
   "source": [
    "# 없는 콜럼 넣으면 NaN으로 나옴\n",
    "df = pd.DataFrame(data,columns=['year','city','Pop','debt'],index=['일','이','삼','사'])#range(1,5))\n",
    "df"
   ]
  },
  {
   "cell_type": "code",
   "execution_count": 23,
   "metadata": {},
   "outputs": [
    {
     "data": {
      "text/html": [
       "<div>\n",
       "<style scoped>\n",
       "    .dataframe tbody tr th:only-of-type {\n",
       "        vertical-align: middle;\n",
       "    }\n",
       "\n",
       "    .dataframe tbody tr th {\n",
       "        vertical-align: top;\n",
       "    }\n",
       "\n",
       "    .dataframe thead th {\n",
       "        text-align: right;\n",
       "    }\n",
       "</style>\n",
       "<table border=\"1\" class=\"dataframe\">\n",
       "  <thead>\n",
       "    <tr style=\"text-align: right;\">\n",
       "      <th></th>\n",
       "      <th>city</th>\n",
       "      <th>year</th>\n",
       "    </tr>\n",
       "  </thead>\n",
       "  <tbody>\n",
       "    <tr>\n",
       "      <th>일</th>\n",
       "      <td>Seoul</td>\n",
       "      <td>2000</td>\n",
       "    </tr>\n",
       "    <tr>\n",
       "      <th>이</th>\n",
       "      <td>Busan</td>\n",
       "      <td>2001</td>\n",
       "    </tr>\n",
       "    <tr>\n",
       "      <th>삼</th>\n",
       "      <td>광주</td>\n",
       "      <td>2002</td>\n",
       "    </tr>\n",
       "    <tr>\n",
       "      <th>사</th>\n",
       "      <td>대구</td>\n",
       "      <td>2001</td>\n",
       "    </tr>\n",
       "  </tbody>\n",
       "</table>\n",
       "</div>"
      ],
      "text/plain": [
       "    city  year\n",
       "일  Seoul  2000\n",
       "이  Busan  2001\n",
       "삼     광주  2002\n",
       "사     대구  2001"
      ]
     },
     "execution_count": 23,
     "metadata": {},
     "output_type": "execute_result"
    }
   ],
   "source": [
    "#요소 선택가능\n",
    "df[['city','year',]]"
   ]
  },
  {
   "cell_type": "code",
   "execution_count": 24,
   "metadata": {},
   "outputs": [
    {
     "name": "stdout",
     "output_type": "stream",
     "text": [
      "Index(['year', 'city', 'Pop', 'debt'], dtype='object')\n",
      "Index(['일', '이', '삼', '사'], dtype='object')\n"
     ]
    }
   ],
   "source": [
    "#컬럼,인덱스만 떼오기\n",
    "print(df.columns)\n",
    "print(df.index)"
   ]
  },
  {
   "cell_type": "code",
   "execution_count": 25,
   "metadata": {},
   "outputs": [
    {
     "data": {
      "text/html": [
       "<div>\n",
       "<style scoped>\n",
       "    .dataframe tbody tr th:only-of-type {\n",
       "        vertical-align: middle;\n",
       "    }\n",
       "\n",
       "    .dataframe tbody tr th {\n",
       "        vertical-align: top;\n",
       "    }\n",
       "\n",
       "    .dataframe thead th {\n",
       "        text-align: right;\n",
       "    }\n",
       "</style>\n",
       "<table border=\"1\" class=\"dataframe\">\n",
       "  <thead>\n",
       "    <tr style=\"text-align: right;\">\n",
       "      <th></th>\n",
       "      <th>year</th>\n",
       "      <th>city</th>\n",
       "      <th>Pop</th>\n",
       "      <th>debt</th>\n",
       "      <th>gk</th>\n",
       "    </tr>\n",
       "  </thead>\n",
       "  <tbody>\n",
       "    <tr>\n",
       "      <th>일</th>\n",
       "      <td>2000</td>\n",
       "      <td>Seoul</td>\n",
       "      <td>4000</td>\n",
       "      <td>NaN</td>\n",
       "      <td>1</td>\n",
       "    </tr>\n",
       "    <tr>\n",
       "      <th>이</th>\n",
       "      <td>2001</td>\n",
       "      <td>Busan</td>\n",
       "      <td>2000</td>\n",
       "      <td>NaN</td>\n",
       "      <td>3</td>\n",
       "    </tr>\n",
       "    <tr>\n",
       "      <th>삼</th>\n",
       "      <td>2002</td>\n",
       "      <td>광주</td>\n",
       "      <td>1000</td>\n",
       "      <td>NaN</td>\n",
       "      <td>4</td>\n",
       "    </tr>\n",
       "    <tr>\n",
       "      <th>사</th>\n",
       "      <td>2001</td>\n",
       "      <td>대구</td>\n",
       "      <td>1000</td>\n",
       "      <td>NaN</td>\n",
       "      <td>5</td>\n",
       "    </tr>\n",
       "  </tbody>\n",
       "</table>\n",
       "</div>"
      ],
      "text/plain": [
       "   year   city   Pop debt   gk\n",
       "일  2000  Seoul  4000  NaN    1\n",
       "이  2001  Busan  2000  NaN    3\n",
       "삼  2002     광주  1000  NaN    4\n",
       "사  2001     대구  1000  NaN    5"
      ]
     },
     "execution_count": 25,
     "metadata": {},
     "output_type": "execute_result"
    }
   ],
   "source": [
    "df[' gk']=[1,3,4,5]\n",
    "df"
   ]
  },
  {
   "cell_type": "code",
   "execution_count": 26,
   "metadata": {},
   "outputs": [
    {
     "name": "stdout",
     "output_type": "stream",
     "text": [
      "year     2000\n",
      "city    Seoul\n",
      "Pop      4000\n",
      "debt      NaN\n",
      " gk         1\n",
      "Name: 일, dtype: object\n"
     ]
    },
    {
     "name": "stderr",
     "output_type": "stream",
     "text": [
      "C:\\Users\\user\\Anaconda3\\lib\\site-packages\\ipykernel_launcher.py:3: DeprecationWarning: \n",
      ".ix is deprecated. Please use\n",
      ".loc for label based indexing or\n",
      ".iloc for positional indexing\n",
      "\n",
      "See the documentation here:\n",
      "http://pandas.pydata.org/pandas-docs/stable/indexing.html#ix-indexer-is-deprecated\n",
      "  This is separate from the ipykernel package so we can avoid doing imports until\n"
     ]
    }
   ],
   "source": [
    "#인덱스 기준으로 가져올때는?\n",
    "#df.loc['일','year']\n",
    "print(df.ix['일']) #ix : 행의 위치 접근할 때 사용하는 메소드\n",
    "# 색인을 name속성의 값으로 할당한다."
   ]
  },
  {
   "cell_type": "code",
   "execution_count": 27,
   "metadata": {},
   "outputs": [
    {
     "name": "stdout",
     "output_type": "stream",
     "text": [
      "   year   city   Pop  debt   gk\n",
      "일  2000  Seoul  4000   100    1\n",
      "이  2001  Busan  2000   100    3\n",
      "삼  2002     광주  1000   100    4\n",
      "사  2001     대구  1000   100    5\n",
      "   year   city   Pop  debt   gk\n",
      "일     1      1     1     1    1\n",
      "이  2001  Busan  2000   100    3\n",
      "삼  2002     광주  1000   100    4\n",
      "사  2001     대구  1000   100    5\n"
     ]
    }
   ],
   "source": [
    "#모든 행, 열 초기화\n",
    "df['debt']=100\n",
    "print(df)\n",
    "df.loc['일'] = 1\n",
    "print(df)"
   ]
  },
  {
   "cell_type": "code",
   "execution_count": 28,
   "metadata": {},
   "outputs": [
    {
     "name": "stdout",
     "output_type": "stream",
     "text": [
      "   year   city   Pop  debt   gk\n",
      "일     1      1     1   0.0    1\n",
      "이  2001  Busan  2000   1.0    3\n",
      "삼  2002     광주  1000   2.0    4\n",
      "사  2001     대구  1000   3.0    5\n",
      "   year   city   Pop  debt   gk\n",
      "일     1      1     1   0.0    1\n",
      "이  2001  Busan  2000   0.0    3\n",
      "삼  2002     광주  1000   0.0    4\n",
      "사  2001     대구  1000   0.0    5\n"
     ]
    }
   ],
   "source": [
    "import numpy as np\n",
    "\n",
    "df['debt'] = np.arange(4.)\n",
    "print(df)\n",
    "df['debt'] = np.zeros(4)\n",
    "print(df)"
   ]
  },
  {
   "cell_type": "code",
   "execution_count": 29,
   "metadata": {},
   "outputs": [
    {
     "data": {
      "text/plain": [
       "(4, 5)"
      ]
     },
     "execution_count": 29,
     "metadata": {},
     "output_type": "execute_result"
    }
   ],
   "source": [
    "df.shape"
   ]
  },
  {
   "cell_type": "code",
   "execution_count": 30,
   "metadata": {},
   "outputs": [
    {
     "name": "stdout",
     "output_type": "stream",
     "text": [
      "   year   city   Pop  debt   gk\n",
      "일     1      1     1  1000    1\n",
      "이  2001  Busan  2000  2000    3\n",
      "삼  2002     광주  1000  3000    4\n",
      "사  2001     대구  1000  4000    5\n",
      "   year   city   Pop    debt   gk\n",
      "일     1      1     1  1000.0    1\n",
      "이  2001  Busan  2000  2000.0    3\n",
      "삼  2002     광주  1000  3000.0    4\n",
      "사  2001     대구  1000     NaN    5\n"
     ]
    }
   ],
   "source": [
    "#Series 로 넣어줄수도 있는데 인덱스 맞춰줘야함\n",
    "val = pd.Series([1000,2000,3000,4000],index=['일','이','삼','사'])\n",
    "df['debt']=val\n",
    "print(df)\n",
    "\n",
    "#인덱스 안맞으면 NaN\n",
    "val = pd.Series([1000,2000,3000,4000],index=['일','이','삼','오'])\n",
    "df['debt']=val\n",
    "print(df)"
   ]
  },
  {
   "cell_type": "code",
   "execution_count": 31,
   "metadata": {},
   "outputs": [
    {
     "data": {
      "text/html": [
       "<div>\n",
       "<style scoped>\n",
       "    .dataframe tbody tr th:only-of-type {\n",
       "        vertical-align: middle;\n",
       "    }\n",
       "\n",
       "    .dataframe tbody tr th {\n",
       "        vertical-align: top;\n",
       "    }\n",
       "\n",
       "    .dataframe thead th {\n",
       "        text-align: right;\n",
       "    }\n",
       "</style>\n",
       "<table border=\"1\" class=\"dataframe\">\n",
       "  <thead>\n",
       "    <tr style=\"text-align: right;\">\n",
       "      <th></th>\n",
       "      <th>year</th>\n",
       "      <th>city</th>\n",
       "      <th>Pop</th>\n",
       "      <th>debt</th>\n",
       "      <th>gk</th>\n",
       "      <th>aa</th>\n",
       "    </tr>\n",
       "  </thead>\n",
       "  <tbody>\n",
       "    <tr>\n",
       "      <th>일</th>\n",
       "      <td>1</td>\n",
       "      <td>1</td>\n",
       "      <td>1</td>\n",
       "      <td>1000.0</td>\n",
       "      <td>1</td>\n",
       "      <td>False</td>\n",
       "    </tr>\n",
       "    <tr>\n",
       "      <th>이</th>\n",
       "      <td>2001</td>\n",
       "      <td>Busan</td>\n",
       "      <td>2000</td>\n",
       "      <td>2000.0</td>\n",
       "      <td>3</td>\n",
       "      <td>False</td>\n",
       "    </tr>\n",
       "    <tr>\n",
       "      <th>삼</th>\n",
       "      <td>2002</td>\n",
       "      <td>광주</td>\n",
       "      <td>1000</td>\n",
       "      <td>3000.0</td>\n",
       "      <td>4</td>\n",
       "      <td>False</td>\n",
       "    </tr>\n",
       "    <tr>\n",
       "      <th>사</th>\n",
       "      <td>2001</td>\n",
       "      <td>대구</td>\n",
       "      <td>1000</td>\n",
       "      <td>NaN</td>\n",
       "      <td>5</td>\n",
       "      <td>True</td>\n",
       "    </tr>\n",
       "  </tbody>\n",
       "</table>\n",
       "</div>"
      ],
      "text/plain": [
       "   year   city   Pop    debt   gk     aa\n",
       "일     1      1     1  1000.0    1  False\n",
       "이  2001  Busan  2000  2000.0    3  False\n",
       "삼  2002     광주  1000  3000.0    4  False\n",
       "사  2001     대구  1000     NaN    5   True"
      ]
     },
     "execution_count": 31,
     "metadata": {},
     "output_type": "execute_result"
    }
   ],
   "source": [
    "# 불린 처리도 가능\n",
    "df['aa'] = df.city == '대구'\n",
    "df"
   ]
  },
  {
   "cell_type": "code",
   "execution_count": 32,
   "metadata": {},
   "outputs": [
    {
     "data": {
      "text/html": [
       "<div>\n",
       "<style scoped>\n",
       "    .dataframe tbody tr th:only-of-type {\n",
       "        vertical-align: middle;\n",
       "    }\n",
       "\n",
       "    .dataframe tbody tr th {\n",
       "        vertical-align: top;\n",
       "    }\n",
       "\n",
       "    .dataframe thead th {\n",
       "        text-align: right;\n",
       "    }\n",
       "</style>\n",
       "<table border=\"1\" class=\"dataframe\">\n",
       "  <thead>\n",
       "    <tr style=\"text-align: right;\">\n",
       "      <th></th>\n",
       "      <th>year</th>\n",
       "      <th>city</th>\n",
       "      <th>Pop</th>\n",
       "      <th>debt</th>\n",
       "      <th>aa</th>\n",
       "    </tr>\n",
       "  </thead>\n",
       "  <tbody>\n",
       "    <tr>\n",
       "      <th>일</th>\n",
       "      <td>1</td>\n",
       "      <td>1</td>\n",
       "      <td>1</td>\n",
       "      <td>1000.0</td>\n",
       "      <td>False</td>\n",
       "    </tr>\n",
       "    <tr>\n",
       "      <th>이</th>\n",
       "      <td>2001</td>\n",
       "      <td>Busan</td>\n",
       "      <td>2000</td>\n",
       "      <td>2000.0</td>\n",
       "      <td>False</td>\n",
       "    </tr>\n",
       "    <tr>\n",
       "      <th>삼</th>\n",
       "      <td>2002</td>\n",
       "      <td>광주</td>\n",
       "      <td>1000</td>\n",
       "      <td>3000.0</td>\n",
       "      <td>False</td>\n",
       "    </tr>\n",
       "    <tr>\n",
       "      <th>사</th>\n",
       "      <td>2001</td>\n",
       "      <td>대구</td>\n",
       "      <td>1000</td>\n",
       "      <td>NaN</td>\n",
       "      <td>True</td>\n",
       "    </tr>\n",
       "  </tbody>\n",
       "</table>\n",
       "</div>"
      ],
      "text/plain": [
       "   year   city   Pop    debt     aa\n",
       "일     1      1     1  1000.0  False\n",
       "이  2001  Busan  2000  2000.0  False\n",
       "삼  2002     광주  1000  3000.0  False\n",
       "사  2001     대구  1000     NaN   True"
      ]
     },
     "execution_count": 32,
     "metadata": {},
     "output_type": "execute_result"
    }
   ],
   "source": [
    "#지울땐 del\n",
    "del df[' gk']\n",
    "df"
   ]
  },
  {
   "cell_type": "code",
   "execution_count": 33,
   "metadata": {},
   "outputs": [
    {
     "data": {
      "text/html": [
       "<div>\n",
       "<style scoped>\n",
       "    .dataframe tbody tr th:only-of-type {\n",
       "        vertical-align: middle;\n",
       "    }\n",
       "\n",
       "    .dataframe tbody tr th {\n",
       "        vertical-align: top;\n",
       "    }\n",
       "\n",
       "    .dataframe thead th {\n",
       "        text-align: right;\n",
       "    }\n",
       "</style>\n",
       "<table border=\"1\" class=\"dataframe\">\n",
       "  <thead>\n",
       "    <tr style=\"text-align: right;\">\n",
       "      <th></th>\n",
       "      <th>일</th>\n",
       "      <th>이</th>\n",
       "      <th>삼</th>\n",
       "      <th>사</th>\n",
       "    </tr>\n",
       "  </thead>\n",
       "  <tbody>\n",
       "    <tr>\n",
       "      <th>year</th>\n",
       "      <td>1</td>\n",
       "      <td>2001</td>\n",
       "      <td>2002</td>\n",
       "      <td>2001</td>\n",
       "    </tr>\n",
       "    <tr>\n",
       "      <th>city</th>\n",
       "      <td>1</td>\n",
       "      <td>Busan</td>\n",
       "      <td>광주</td>\n",
       "      <td>대구</td>\n",
       "    </tr>\n",
       "    <tr>\n",
       "      <th>Pop</th>\n",
       "      <td>1</td>\n",
       "      <td>2000</td>\n",
       "      <td>1000</td>\n",
       "      <td>1000</td>\n",
       "    </tr>\n",
       "    <tr>\n",
       "      <th>debt</th>\n",
       "      <td>1000</td>\n",
       "      <td>2000</td>\n",
       "      <td>3000</td>\n",
       "      <td>NaN</td>\n",
       "    </tr>\n",
       "    <tr>\n",
       "      <th>aa</th>\n",
       "      <td>False</td>\n",
       "      <td>False</td>\n",
       "      <td>False</td>\n",
       "      <td>True</td>\n",
       "    </tr>\n",
       "  </tbody>\n",
       "</table>\n",
       "</div>"
      ],
      "text/plain": [
       "          일      이      삼     사\n",
       "year      1   2001   2002  2001\n",
       "city      1  Busan     광주    대구\n",
       "Pop       1   2000   1000  1000\n",
       "debt   1000   2000   3000   NaN\n",
       "aa    False  False  False  True"
      ]
     },
     "execution_count": 33,
     "metadata": {},
     "output_type": "execute_result"
    }
   ],
   "source": [
    "df.transpose()"
   ]
  },
  {
   "cell_type": "code",
   "execution_count": 34,
   "metadata": {},
   "outputs": [
    {
     "data": {
      "text/html": [
       "<div>\n",
       "<style scoped>\n",
       "    .dataframe tbody tr th:only-of-type {\n",
       "        vertical-align: middle;\n",
       "    }\n",
       "\n",
       "    .dataframe tbody tr th {\n",
       "        vertical-align: top;\n",
       "    }\n",
       "\n",
       "    .dataframe thead th {\n",
       "        text-align: right;\n",
       "    }\n",
       "</style>\n",
       "<table border=\"1\" class=\"dataframe\">\n",
       "  <thead>\n",
       "    <tr style=\"text-align: right;\">\n",
       "      <th></th>\n",
       "      <th>seoul</th>\n",
       "      <th>busan</th>\n",
       "    </tr>\n",
       "  </thead>\n",
       "  <tbody>\n",
       "    <tr>\n",
       "      <th>200</th>\n",
       "      <td>NaN</td>\n",
       "      <td>5454.0</td>\n",
       "    </tr>\n",
       "    <tr>\n",
       "      <th>2001</th>\n",
       "      <td>20.0</td>\n",
       "      <td>NaN</td>\n",
       "    </tr>\n",
       "    <tr>\n",
       "      <th>2002</th>\n",
       "      <td>30.0</td>\n",
       "      <td>NaN</td>\n",
       "    </tr>\n",
       "  </tbody>\n",
       "</table>\n",
       "</div>"
      ],
      "text/plain": [
       "      seoul   busan\n",
       "200     NaN  5454.0\n",
       "2001   20.0     NaN\n",
       "2002   30.0     NaN"
      ]
     },
     "execution_count": 34,
     "metadata": {},
     "output_type": "execute_result"
    }
   ],
   "source": [
    "#키에 사전을 넣으면?\n",
    "data = {\n",
    "    'seoul':{2001:20,2002:30},\n",
    "    'busan':{200:5454}\n",
    "}\n",
    "df3 = pd.DataFrame(data)\n",
    "df3"
   ]
  },
  {
   "cell_type": "code",
   "execution_count": 35,
   "metadata": {},
   "outputs": [
    {
     "data": {
      "text/plain": [
       "\"\\ndaf = {\\n    'a':[i for i in range(1,21)],\\n    'b':[i for i in range(1,41,2)]\\n}\\ndff = pd.DataFrame(daf)\\ndff\""
      ]
     },
     "execution_count": 35,
     "metadata": {},
     "output_type": "execute_result"
    }
   ],
   "source": [
    "'''\n",
    "daf = {\n",
    "    'a':[i for i in range(1,21)],\n",
    "    'b':[i for i in range(1,41,2)]\n",
    "}\n",
    "dff = pd.DataFrame(daf)\n",
    "dff'''"
   ]
  },
  {
   "cell_type": "code",
   "execution_count": 36,
   "metadata": {},
   "outputs": [
    {
     "data": {
      "text/plain": [
       "\"\\nstart = list(dff['a']>10).index(True)\\nend = list(dff['b']<29).index(False)\\na = dff.iloc[start:end]\\na.index = range(1,len(a)+1)\\n\""
      ]
     },
     "execution_count": 36,
     "metadata": {},
     "output_type": "execute_result"
    }
   ],
   "source": [
    "'''\n",
    "start = list(dff['a']>10).index(True)\n",
    "end = list(dff['b']<29).index(False)\n",
    "a = dff.iloc[start:end]\n",
    "a.index = range(1,len(a)+1)\n",
    "'''"
   ]
  }
 ],
 "metadata": {
  "kernelspec": {
   "display_name": "Python 3",
   "language": "python",
   "name": "python3"
  },
  "language_info": {
   "codemirror_mode": {
    "name": "ipython",
    "version": 3
   },
   "file_extension": ".py",
   "mimetype": "text/x-python",
   "name": "python",
   "nbconvert_exporter": "python",
   "pygments_lexer": "ipython3",
   "version": "3.7.0"
  }
 },
 "nbformat": 4,
 "nbformat_minor": 2
}
