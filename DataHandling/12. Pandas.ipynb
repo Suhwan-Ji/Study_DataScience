{
 "cells": [
  {
   "cell_type": "markdown",
   "metadata": {},
   "source": [
    "# Pandas : 데이터 분석 기능을 제공하는 라이브러리.  \n",
    "- 예를 들면, CSV파일 등의 데이터를 읽고 원하는 데이터 형식으로 변환해줌\n",
    "\n",
    "**Pandas 자료구조**  \n",
    "- Series, DataFrame\n",
    "- Series는 일차원 배열 같은 자료구조"
   ]
  },
  {
   "cell_type": "code",
   "execution_count": null,
   "metadata": {},
   "outputs": [],
   "source": [
    "import pandas as pd\n",
    "\n",
    "obj = pd.Series(['a','b','c','d'])\n",
    "print(obj)\n",
    "print(obj.index)\n",
    "print(obj.values)"
   ]
  },
  {
   "cell_type": "code",
   "execution_count": null,
   "metadata": {},
   "outputs": [],
   "source": [
    "obj2 = pd.Series([1,2,3,4],index=['c','ddd','e','f'])\n",
    "\n",
    "print(obj2)"
   ]
  },
  {
   "cell_type": "code",
   "execution_count": null,
   "metadata": {},
   "outputs": [],
   "source": [
    "obj2['c']"
   ]
  },
  {
   "cell_type": "code",
   "execution_count": null,
   "metadata": {},
   "outputs": [],
   "source": [
    "obj2[['e','c']]"
   ]
  },
  {
   "cell_type": "code",
   "execution_count": null,
   "metadata": {},
   "outputs": [],
   "source": [
    "obj2*2"
   ]
  },
  {
   "cell_type": "code",
   "execution_count": null,
   "metadata": {},
   "outputs": [],
   "source": [
    "'c' in obj2"
   ]
  },
  {
   "cell_type": "code",
   "execution_count": null,
   "metadata": {},
   "outputs": [],
   "source": [
    "2 in obj2.values"
   ]
  },
  {
   "cell_type": "code",
   "execution_count": null,
   "metadata": {},
   "outputs": [],
   "source": [
    "import numpy as np\n",
    "data = [1,2,3,4,5,6,6,7,9]\n",
    "obj3 = pd.Series(data,index = np.arange(len(data)))\n",
    "print(obj3)"
   ]
  },
  {
   "cell_type": "code",
   "execution_count": null,
   "metadata": {},
   "outputs": [],
   "source": [
    "dic={\n",
    "    'Kim':3400,\n",
    "    'Hong':2000,\n",
    "    'Lee':2400,\n",
    "    'Kang':1000,    \n",
    "}\n",
    "a = pd.Series(dic)\n",
    "print(a)"
   ]
  },
  {
   "cell_type": "code",
   "execution_count": null,
   "metadata": {},
   "outputs": [],
   "source": [
    "a['Ha']=4333\n",
    "print(a) #파이썬 딕셔너리를 그대로 대체해서 쓸수있음"
   ]
  },
  {
   "cell_type": "code",
   "execution_count": null,
   "metadata": {},
   "outputs": [],
   "source": [
    "dictt ={\n",
    "    'My':[1,2,3,45],\n",
    "    'ss':[],\n",
    "    'Hey':'4444',\n",
    "    2:'Hi',\n",
    "    'hh':[5,67,3,4,2],\n",
    "}\n",
    "pd.Series(dictt)"
   ]
  },
  {
   "cell_type": "code",
   "execution_count": null,
   "metadata": {},
   "outputs": [],
   "source": [
    "dic={\n",
    "    'Kim':3400,\n",
    "    'Hong':2000,\n",
    "    'Lee':2400,\n",
    "    'Kang':1000,    \n",
    "}\n",
    "a = pd.Series(dic,index=['Kim','Woo','Kang'])\n",
    "#딕셔너리를 데이터로 넣고 인덱스를 주면 key값에 맞는 value가 나오고, 없으면 Nan\n",
    "print(a)"
   ]
  },
  {
   "cell_type": "code",
   "execution_count": null,
   "metadata": {},
   "outputs": [],
   "source": [
    "#누락된 데이터를 찾을 때 사용하는 함수 isnull,notnull\n",
    "print(pd.isnull(a),end='\\n\\n')\n",
    "print(pd.notnull(a),end='\\n\\n')\n",
    "print(~pd.isnull(a),end='\\n\\n')\n",
    "print(pd.isnull(a)==0,end='\\n\\n')"
   ]
  },
  {
   "cell_type": "code",
   "execution_count": null,
   "metadata": {},
   "outputs": [],
   "source": [
    "import pandas as pd\n",
    "\n",
    "data = {\n",
    "    'Seoul':4000,\n",
    "    'Busan':2000,\n",
    "    'Incheon':1500,\n",
    "    'Kwangju':1000\n",
    "}\n",
    "\n",
    "obj = pd.Series(data)\n",
    "print(obj)\n",
    "\n",
    "#인덱스 바꾸기\n",
    "cities = ['Seoul','Incheon','Kwangju','Daegu',]\n",
    "obj2 = pd.Series(data,index=cities) \n",
    "print(obj2)\n",
    "\n",
    "#두개 더하면?\n",
    "print(obj+obj2) #있는 놈들은 더해지고 부산은 2000+NaN이므로 NaN 리턴"
   ]
  },
  {
   "cell_type": "markdown",
   "metadata": {},
   "source": [
    "Series 객체와 색인(index)은 모두 name이라는 속성이 있다."
   ]
  },
  {
   "cell_type": "code",
   "execution_count": null,
   "metadata": {},
   "outputs": [],
   "source": [
    "obj2.name=\"인구수\"\n",
    "print(obj2)"
   ]
  },
  {
   "cell_type": "code",
   "execution_count": null,
   "metadata": {},
   "outputs": [],
   "source": [
    "obj2.index.name=\"도시\"\n",
    "print(obj2)"
   ]
  },
  {
   "cell_type": "code",
   "execution_count": null,
   "metadata": {},
   "outputs": [],
   "source": [
    "# 인덱스 그냥 바꿀수도 있음\n",
    "obj2.index=['Daejeon','Busan','Seoul','Jeju']\n",
    "print(obj2)"
   ]
  },
  {
   "cell_type": "markdown",
   "metadata": {},
   "source": [
    "# 데이터 프레임  \n",
    "- DataFrame은 2차원 리스트(2차원 배열) 같은 자료구조  \n",
    "- R언어 data.frame과 비슷하다."
   ]
  },
  {
   "cell_type": "code",
   "execution_count": null,
   "metadata": {},
   "outputs": [],
   "source": [
    "a = pd.DataFrame([\n",
    "    [1,2,3],\n",
    "    [4,5,6],\n",
    "    [7,8,9]\n",
    "])\n",
    "print(a)"
   ]
  },
  {
   "cell_type": "code",
   "execution_count": null,
   "metadata": {},
   "outputs": [],
   "source": [
    "#사전형식으로도 사용할수 있음\n",
    "data = {\n",
    "    'city':['Seoul','Busan','광주','대구'],\n",
    "    'year':[2000,2001,2002,2001,],\n",
    "    'Pop':[4000,2000,1000,1000]\n",
    "}\n",
    "\n",
    "a = pd.DataFrame(data)\n",
    "a"
   ]
  },
  {
   "cell_type": "code",
   "execution_count": null,
   "metadata": {},
   "outputs": [],
   "source": [
    "#순서 지정해줄수도 있음\n",
    "a = pd.DataFrame(data, columns=['year','city','Pop'])\n",
    "a"
   ]
  },
  {
   "cell_type": "code",
   "execution_count": null,
   "metadata": {},
   "outputs": [],
   "source": [
    "a = pd.DataFrame(data, columns=sorted(data.keys()))\n",
    "a"
   ]
  }
 ],
 "metadata": {
  "kernelspec": {
   "display_name": "Python 3",
   "language": "python",
   "name": "python3"
  },
  "language_info": {
   "codemirror_mode": {
    "name": "ipython",
    "version": 3
   },
   "file_extension": ".py",
   "mimetype": "text/x-python",
   "name": "python",
   "nbconvert_exporter": "python",
   "pygments_lexer": "ipython3",
   "version": "3.7.0"
  }
 },
 "nbformat": 4,
 "nbformat_minor": 2
}
