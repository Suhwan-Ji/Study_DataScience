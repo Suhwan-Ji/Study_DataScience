{
 "cells": [
  {
   "cell_type": "markdown",
   "metadata": {},
   "source": [
    "# Selenium\n",
    "\n",
    "웹브라우저를 컨트롤하여 웹 UI를 자동화(Automation) 하는 도구 중의 하나이다.\n",
    "\n",
    "웹자동화\n",
    "--\n",
    "자동화의 종류\n",
    " - 가장 원초적인 자동화는 화면의 좌표를 기준으로 한 자동화 (계속 클릭하기 등)\n",
    " - **Selenium 도구를 이용하는 웹 자동화 (BeautifulSoup와 거의 유사하게 사용할 수 있음)**\n",
    " - 윈도우즈의 자동화\n",
    " - 작업의 자동화\n",
    " \n",
    "Selenium은 서버와 클라이언트가 있다.\n",
    "\n",
    "로컬 컴퓨터의 웹브라우저를 컨트롤하기 위해서 Seleninum Client 사용한다.\n",
    "\n",
    "Selenium Client는 WebDriver라는 공통인터페이스와 각 브라우저 타입별로 웹드라이버로 구성되어 있다.\n",
    "\n",
    "웹드라이버의 구성은\n",
    "WebDriver.FireFox : 파이어폭스 \n",
    "WebDriver.Chrom : 크롬\n",
    "WebDriver.Ie : 익스플로러\n",
    "WebDriver.Opera : 오페라\n",
    "WebDriver.PhantomJS : PhantomJS브라우저 (CLI 브라우저, command line browser 네이버 이런것 처럼 그래픽이없음 )\n",
    "\n",
    "# selenium 설치\n",
    " '>> pip install selenium\n",
    "\n",
    "## Selenium 드라이버를 설치\n",
    " Firefox : \"https://github.com/mozilla/geckodriver/releases\"\n",
    " \n",
    " Chrome : \"https://sites.google.com/a/chromium.org/chromedriver/downloads\n",
    " \n",
    " PhantomJS : http://phantomjs.org/download.html\n",
    "\n",
    "### Selenium 사용법\n",
    "from selenium import webdriver : 사용할 webdriver를 import 한다.\n",
    " - 크롬을 사용하는 경우\n",
    " \n",
    " browser = webdriver.Chrome('크롬드라이버가 있는 경로')\n",
    " - 파이어폭스 사용하는 경우\n",
    " \n",
    " browser = webdriver.Firefox('드라이버가 있는 경로')\n",
    " - PhanthomJS 사용하는 경우\n",
    " \n",
    " browser = webdriver.PhantomJS('드라이버가 있는 경로')\n",
    "\n",
    "### 특정 URL을 이용하여 브라우저를 실행 시키는 방법\n",
    "browser.get('https://google.com')"
   ]
  },
  {
   "cell_type": "code",
   "execution_count": 1,
   "metadata": {},
   "outputs": [],
   "source": [
    "import selenium"
   ]
  },
  {
   "cell_type": "markdown",
   "metadata": {},
   "source": [
    "# Selenuim으로 DOM요소를 선택하는 방법\n",
    "\n",
    "BS에서 .select_one메소드는 처음 찾는놈 가져왔었음 (CSS 선택자), .find도\n",
    "\n",
    ".select (CSS 선택자)는 여러개 요소를 다 가져와서 list로 리턴하는 메소드, .find_all\n",
    "\n",
    " - DOM 내부에 있는 여러개의 요소들 중에서 처음 찾아지는 요소를 추출하는 메소드\n",
    "   - find_element_by_id(id) id속성으로 요소를 하나 추출한다.\n",
    "   - find_element_by_name(name) // find 계열\n",
    "   - find_element_by_css_selector(query) CSS 선택자로 요소를 하나 추출한다.\n",
    "   - find_element_by_xpath(query) xpath를 지정해 요소를 하나 추출한다.\n",
    "   - find_element_by_tag_name(name) 태그 이름이 name에 해당하는 요소를 하나 추출한다.\n",
    "   - find_element_by_link_text(text) 링크 텍스트로 요소를 하나 추출한다.//<'a href=\"dd\"> 링크 텍스트로 요소를 추출하는 방법\n",
    "   - find_element_by_partial_link_text(text) 링크의 자식요소에 포함되어 있는 텍스트로 요소를 하나 추출한다.\n",
    "   - find_element_bt_class_name(name) 클래스이름이 name에 해당하는 요소를 하나 추출한다.\n",
    " - DOM 내부에 있는 여러개의 요소들을 모두 추출하는 메소드\n",
    "   - element에 s만 붙여주면됨\n",
    "   - ex> find_elements_by_css_selector(query)\n",
    "   - find_elements_by_xpath(query)\n",
    "   - find_elements_by_tagname(name)\n",
    "   - find_elements_by_class_name(name)\n",
    "   - find_element_by_partial_link_text(text)\n",
    "   \n",
    "위의 메소드를 이용해서 어떠한 요소도 찾지 못하는 경우에 발생하는 예외는 'NoSuchElementException'\n",
    "\n",
    " - DOM 요소에 적용할 수 있는 메소드들 / 속성들 (bs에서 .string 등)\n",
    "  - /////////////////메소드///////////////\n",
    "  - clear() 글자를 입력할 수 있는 요소의 글자를 지운다.(input type = text)\n",
    "  - click() 요소를 클릭한다.\n",
    "  - get_attribute(name) 요소의 속성중에 name에 해당되는 속성의 값을 추출 <'input name =\" \" >\n",
    "  - is_displayed() 요소가 화면에 출력되는지 확인한다.\n",
    "  - is_enabled() 요소가 활성화 되어있는지 확인\n",
    "  - is_selected() 체크박스 같은거 등의 요소가 선택상태인지 확인\n",
    "  - screenshot(filename) 화면을 캡쳐해서 filename으로 저장한다.\n",
    "  - send_keys(value) 키를 입력한다. 일반적으로 text데이터를 보낸다. 텍스트가 아닌경우 - 특수키(방향키),펑션키(f1,f2..),Enter...\n",
    "   > 즉, 특수키를 사용해야 하는 경우에는 별도의 모듈을 사용해야한다. from selenium.Webdriver.common.keys import Keys\n",
    "   > 방향키 : ARROW_DOWN / ARROW_LEFT..\n",
    "   > BACKSPACE/DELETE/HOME/END/INSERT\n",
    "   > ALT/COMMAND\n",
    "  - submit() 입력 양식을 전송한다.\n",
    "  - value_of_css_property(name) name에 해당하는 CSS 속성 값을 추출한다.\n",
    "  \n",
    "  - //////////////속성/////////////\n",
    "  - id 요소의 id속성\n",
    "  - location 요소의 위치\n",
    "  - parent 부모요소\n",
    "  - rect 크기와 위치정보를 가진 딕셔너리 자료형을 리턴한다.\n",
    "  - screenshot_as_base64 스크린샷을 base64형태로 추출한다.\n",
    "  - screenshot_as_pnb 스크린샷을 PNG 형태로 추출한다.\n",
    "  - size 요소의 크기\n",
    "  - tag_name 태크이름\n",
    "  - text 요소 내부의 글자 (bs에서 .string)"
   ]
  },
  {
   "cell_type": "markdown",
   "metadata": {},
   "source": [
    "///PhantomJS용 메서드와 속성\n",
    "\n",
    "메서드|설명|예시|\n",
    "---|---|---|\n",
    "add_cookie(cookie_dict)  |  쿠키값을 딕셔너리 형식으로 지정  |**driver.add_cookie({'name':'kim','value':'26','path':'/'})**|\n",
    "back()/forward()| 이전 페이지 또는 다음 페이지로 이동|\n",
    "close()|브라우저를 닫을때|\n",
    "current_url|현재 url을 추출한다.|\n",
    "delete_all_cookies|모든 쿠키를 제거한다.|\n",
    "delete_cookie(name)|특정 쿠키를 제거한다.\n",
    "get_cookies|모든 쿠키값을 추출한다.\n",
    "get_cookie(name)|특정 쿠키를 읽는다.\n",
    "execute(command,params)|브라우저의 고유 명령어를 실행\n",
    "get(url)|웹 페이지를 읽어 들인다.\n",
    "get_screenshot_as_file(filename)|스크린샷을 파일로 저장\n",
    "get_screenshot_as_png|PNG형식으로 스크린샷의 바이너리 추출\n",
    "save_screenshot(filename)|스크린샷을 저장\n",
    "implicitly_wait(Sec)|최대 대기시간을 초단위로 지정해서 처리가 끝날 때 까지 대기\n",
    "quit()|드라이버를 종료시켜서 브라우저를 닫는다. (close는 브라우저만)\n",
    "title|현재 페이지의 타이틀을 추출"
   ]
  },
  {
   "cell_type": "code",
   "execution_count": 4,
   "metadata": {},
   "outputs": [
    {
     "name": "stderr",
     "output_type": "stream",
     "text": [
      "C:\\Users\\user\\Anaconda3\\lib\\site-packages\\selenium\\webdriver\\phantomjs\\webdriver.py:49: UserWarning: Selenium support for PhantomJS has been deprecated, please use headless versions of Chrome or Firefox instead\n",
      "  warnings.warn('Selenium support for PhantomJS has been deprecated, please use headless '\n"
     ]
    },
    {
     "name": "stdout",
     "output_type": "stream",
     "text": [
      "https://www.naver.com/\n"
     ]
    }
   ],
   "source": [
    "from selenium import webdriver\n",
    "\n",
    "url = 'http://www.naver.com/'\n",
    "\n",
    "#PhantomJS 드라이버 추출 (실행파일 있는 디렉터리)\n",
    "driver = webdriver.PhantomJS(\"D:/PythonPJT/Samsung U/phantomjs-2.1.1-windows/phantomjs-2.1.1-windows/bin/phantomjs.exe\")\n",
    "\n",
    "#드라이버의 초기화 작업?\n",
    "driver.implicitly_wait(3) #드라이버를 초기화될 때까지 3초간 대기\n",
    "\n",
    "driver.get(url) #url 읽어옴\n",
    "\n",
    "driver.save_screenshot('naver.png')\n",
    "\n",
    "print(driver.current_url)\n",
    "\n",
    "driver.quit() #브라우저와 드라이버 종료"
   ]
  },
  {
   "cell_type": "code",
   "execution_count": 23,
   "metadata": {},
   "outputs": [
    {
     "name": "stdout",
     "output_type": "stream",
     "text": [
      "초기화 완료\n",
      "로그인 페이지에 접속하였습니다.\n",
      "아이디 입력!\n",
      "비번 입력!\n",
      "로그인에 성공하였습니다.\n"
     ]
    }
   ],
   "source": [
    "#네이버 로그인하기\n",
    "from selenium import webdriver\n",
    "\n",
    "myId = 'sorktnghks'\n",
    "myPw = 'bravo2thks90'\n",
    "#나중에 send_keys로 보내면됨\n",
    "\n",
    "#드라이버 불러오기\n",
    "#driver = webdriver.PhantomJS(\"D:/PythonPJT/Samsung U/phantomjs-2.1.1-windows/phantomjs-2.1.1-windows/bin/phantomjs.exe\")\n",
    "driver = webdriver.Chrome('D:/PythonPJT/Samsung U/chromedriver_win32/chromedriver.exe')\n",
    "#드라이버 초기화 시간동안 대기\n",
    "driver.implicitly_wait(3)\n",
    "print(\"초기화 완료\")\n",
    "\n",
    "url_login = 'https://nid.naver.com/nidlogin.login'\n",
    "#로그인 페이지 접근\n",
    "driver.get(url_login)\n",
    "print('로그인 페이지에 접속하였습니다.')\n",
    "\n",
    "#====================================\n",
    "# 아이디와 비밀번호를 입력하기\n",
    "#====================================\n",
    "\n",
    "#아이디를 입력하는 input요소를 찾아오기\n",
    "inputId = driver.find_element_by_id('id')\n",
    "inputId.clear() #모든 요소 지우기, 다른게 들어가 있을수 있으니\n",
    "inputId.send_keys(myId) #입력박스 요소에 아이디 입력하기\n",
    "print(\"아이디 입력!\")\n",
    "\n",
    "#비밀번호를 입력하는 input요소를 찾아오기\n",
    "inputPw = driver.find_element_by_id('pw')\n",
    "inputPw.clear()\n",
    "inputPw.send_keys(myPw) #입력박스에 비밀번호 입력하기\n",
    "print(\"비번 입력!\")\n",
    "\n",
    "#로그인 버튼을 찾아서 전송하기\n",
    "#클래스명으로 찾을건데 클래스명이 같은것 방지하기 위해 다른 속성 지정해주려면 대괄호 이용\n",
    "#loginBtn = driver.find_element_by_class_name('')\n",
    "loginBtn = driver.find_element_by_css_selector('input.btn_global[type=submit]')\n",
    "\n",
    "#아이디와 비밀번호를 전송한다.\n",
    "#loginBtn.submit()\n",
    "loginBtn.click()\n",
    "print('로그인에 성공하였습니다.')\n"
   ]
  },
  {
   "cell_type": "code",
   "execution_count": 13,
   "metadata": {},
   "outputs": [
    {
     "data": {
      "text/plain": [
       "True"
      ]
     },
     "execution_count": 13,
     "metadata": {},
     "output_type": "execute_result"
    }
   ],
   "source": [
    "#driver.current_url\n",
    "driver.get('https://mail.naver.com/')\n",
    "driver.implicitly_wait(5)\n",
    "driver.save_screenshot('naverMail.png')"
   ]
  },
  {
   "cell_type": "code",
   "execution_count": 20,
   "metadata": {},
   "outputs": [],
   "source": [
    "#execute_script() 메소드를 이용한 자바 스크립트 처리하기\n",
    "from selenium import webdriver\n",
    "\n",
    "driver = webdriver.Chrome('D:/PythonPJT/Samsung U/chromedriver_win32/chromedriver.exe')\n",
    "driver.implicitly_wait(3)\n",
    "\n",
    "#driver.get('https://google.com')\n",
    "driver.get('https://en.wikipedia.org')\n",
    "'''\n",
    "res = driver.execute_script(\"return 10+10\") #자바스크립트 명령어 실행\n",
    "print(res)\n",
    "'''\n",
    "driver.execute_script(\"window.alert('하이!! selenium!!')\") #자바스크립트 명령어 실행\n",
    "\n",
    "#driver.quit()"
   ]
  }
 ],
 "metadata": {
  "kernelspec": {
   "display_name": "Python 3",
   "language": "python",
   "name": "python3"
  },
  "language_info": {
   "codemirror_mode": {
    "name": "ipython",
    "version": 3
   },
   "file_extension": ".py",
   "mimetype": "text/x-python",
   "name": "python",
   "nbconvert_exporter": "python",
   "pygments_lexer": "ipython3",
   "version": "3.7.0"
  }
 },
 "nbformat": 4,
 "nbformat_minor": 2
}
