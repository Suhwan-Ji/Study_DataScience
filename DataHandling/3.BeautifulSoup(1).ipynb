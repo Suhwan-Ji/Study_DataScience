{
 "cells": [
  {
   "cell_type": "markdown",
   "metadata": {},
   "source": [
    "BeautifulSoup : 웹크롤링 할때 편리한 라이브러리 (원하는 부분만 가져올때)\n",
    "\n",
    "데이터 다운로드 기능은 없음\n",
    "-> urllib이 필요함\n",
    "\n",
    "라이브러리 다운로드 관리해주는것 pypi(python package index)\n",
    "->파이썬패키지 관리 시스템 : pip"
   ]
  },
  {
   "cell_type": "code",
   "execution_count": null,
   "metadata": {},
   "outputs": [],
   "source": [
    "#BeautifulSoup 사용예\n",
    "from bs4 import BeautifulSoup\n",
    "\n",
    "#html 예제\n",
    "html = \"\"\"\n",
    "<html><body>\n",
    "    <h1>스크레이핑 연습</h1>\n",
    "    <p>웹페이지를 분석해보기</p>\n",
    "    <p>데이터 정제하기1</p>\n",
    "    <p>데이터 정제하기2</p>\n",
    "    <p>데이터 정제하기3</p>\n",
    "    <p>데이터 정제하기4</p>\n",
    "    <p>데이터 정제하기5</p>\n",
    "</body>\n",
    "</html>\n",
    "\"\"\"\n",
    "\n",
    "#html 분석하기\n",
    "soup = BeautifulSoup(html,'html.parser')#뷰티풀스프 객체를 만드는것, 분석기를 지정해줌"
   ]
  },
  {
   "cell_type": "code",
   "execution_count": null,
   "metadata": {},
   "outputs": [],
   "source": [
    "soup"
   ]
  },
  {
   "cell_type": "code",
   "execution_count": null,
   "metadata": {},
   "outputs": [],
   "source": [
    "soup.html"
   ]
  },
  {
   "cell_type": "code",
   "execution_count": null,
   "metadata": {},
   "outputs": [],
   "source": [
    "soup.html.body"
   ]
  },
  {
   "cell_type": "code",
   "execution_count": null,
   "metadata": {},
   "outputs": [],
   "source": [
    "soup.html.body.h1"
   ]
  },
  {
   "cell_type": "code",
   "execution_count": null,
   "metadata": {},
   "outputs": [],
   "source": [
    "type(soup.html.body.h1)"
   ]
  },
  {
   "cell_type": "code",
   "execution_count": null,
   "metadata": {},
   "outputs": [],
   "source": [
    "str(soup.html.body.h1)"
   ]
  },
  {
   "cell_type": "code",
   "execution_count": null,
   "metadata": {},
   "outputs": [],
   "source": [
    "#원하는 요소 접근하기\n",
    "h1 = soup.html.body.h1 #.을 이용해 아래 테그들을 접근함\n",
    "\n",
    "#원하는 요소의 내용을 추출하기 (str으로 전환)\n",
    "print(\"h1=\"+h1.string)"
   ]
  },
  {
   "cell_type": "code",
   "execution_count": null,
   "metadata": {},
   "outputs": [],
   "source": [
    "#p를 접근하자 근데 2개네??\n",
    "p1 = soup.html.body.p\n",
    "p2 = soup.html.body.p\n",
    "print(\"p1 = \"+p1.string)\n",
    "print(\"p2 = \"+p2.string)"
   ]
  },
  {
   "cell_type": "markdown",
   "metadata": {},
   "source": [
    "html-body-(h1,p,p) 형식인데\n",
    "각 노드는 부모,자식 관계\n",
    "h1과 p,p의 관계는 형제 관계 (sibling)\n",
    "\n",
    "p1에서 형제를 얻어야 하므로 다른 명령어 사용해야함\n",
    "p1.next_sibling \n",
    "(실제로 의미하는것은 줄바꿈을 의미함, 줄을 바꾼다음 그다음 p태그를 찾아라)"
   ]
  },
  {
   "cell_type": "code",
   "execution_count": null,
   "metadata": {},
   "outputs": [],
   "source": [
    "p1 = soup.html.body.p\n",
    "p2 = p1.next_sibling\n",
    "print(\"p1 = \"+p1.string)\n",
    "print(\"p2 = \"+p2.string)"
   ]
  },
  {
   "cell_type": "markdown",
   "metadata": {},
   "source": [
    "줄바꾸면 공백문자가 나오기 때문에???? < /p>태그도 포함하므로\n",
    "2번 해야함"
   ]
  },
  {
   "cell_type": "code",
   "execution_count": null,
   "metadata": {},
   "outputs": [],
   "source": [
    "p1 = soup.html.body.p\n",
    "p2 = p1.next_sibling.next_sibling\n",
    "p3 = p2.next_sibling.next_sibling\n",
    "print(\"p1 = \"+p1.string)\n",
    "print(\"p2 = \"+p2.string)\n",
    "print(\"p3 = \"+p3.string)"
   ]
  },
  {
   "cell_type": "code",
   "execution_count": null,
   "metadata": {},
   "outputs": [],
   "source": [
    "print(list(p1.next_siblings))"
   ]
  },
  {
   "cell_type": "code",
   "execution_count": null,
   "metadata": {},
   "outputs": [],
   "source": [
    "p = soup.html.body.p\n",
    "print(p.string)\n",
    "i = 0\n",
    "for siblings in p.next_siblings:\n",
    "    i+=1\n",
    "    print(i,siblings.string if siblings !=\"\\n\" else \"공백\")"
   ]
  },
  {
   "cell_type": "code",
   "execution_count": null,
   "metadata": {},
   "outputs": [],
   "source": [
    "p.next_sibling.string"
   ]
  },
  {
   "cell_type": "markdown",
   "metadata": {},
   "source": [
    "find 메소드 사용하면 id값(속성) 찾아올 수 있음\n",
    "\n",
    "a = find(id=\"title\")\n",
    "\n",
    "find_all 여러개 속성?"
   ]
  },
  {
   "cell_type": "code",
   "execution_count": null,
   "metadata": {},
   "outputs": [],
   "source": [
    "from bs4 import BeautifulSoup\n",
    "\n",
    "html=\"\"\"\n",
    "<html><body>\n",
    "    <h1 id=\"title\">BeautifulSoup 사용방법</h1>\n",
    "    <p id=\"subTitle\">스크레이핑 연습하기</p>\n",
    "    <p>원하는 데이터 추출하기</p>\n",
    "</body></html>\n",
    "\"\"\"\n",
    "\n",
    "#html 분석하기 (id 이용해서)\n",
    "soup = BeautifulSoup(html,'html.parser')\n"
   ]
  },
  {
   "cell_type": "code",
   "execution_count": null,
   "metadata": {},
   "outputs": [],
   "source": [
    "#find 메서드를 이용한 데이터 추출하기\n",
    "#print(\"title = \"+soup.find(id='title').string)\n",
    "title = soup.find(id='title')\n",
    "subtitle = soup.find(id='subTitle')\n",
    "\n",
    "print(\"title = \"+title.string)\n",
    "print(\"subtitle = \"+subtitle.string)\n"
   ]
  },
  {
   "cell_type": "markdown",
   "metadata": {},
   "source": [
    "# find_all\n",
    "똑같은 속성을 가진놈 다가져오기"
   ]
  },
  {
   "cell_type": "code",
   "execution_count": null,
   "metadata": {},
   "outputs": [],
   "source": [
    "#from bs4 import BeautifulSoup\n",
    "\n",
    "html = \"\"\"\n",
    "<html>\n",
    "    <body>\n",
    "        <ul>\n",
    "            <li><a href=\"http://www.naver.com\">네이버</a></li>\n",
    "            <li><a href=\"http://www.daum.net\">다음</a></li>\n",
    "        </ul>\n",
    "        <ul>\n",
    "            <li><a href=\"http://www.pseudo.naver.com\">가짜 네이버</a></li>\n",
    "            <li><a href=\"http://www.pseudo.daum.net\">가짜 다음</a></li>\n",
    "        </ul>\n",
    "        <h1 id=\"title\">BeautifulSoup 사용방법</h1>\n",
    "        <p id=\"subTitle\">스크레이핑 연습하기</p>\n",
    "        <p>원하는 데이터 추출하기</p>\n",
    "    </body>\n",
    "</html>\n",
    "\"\"\"\n",
    "#두개의 앵커테그를 둘다 가져오고 싶음\n",
    "#html 분석하기\n",
    "soup = BeautifulSoup(html,\"html.parser\")\n",
    "\n",
    "#기존방식\n",
    "a1 = soup.html.body.ul.li.a\n",
    "\n",
    "#print(\"a1 =\",a1.string)\n",
    "\n",
    "#li 태그 하나에 하나씩으므로 하나만 불러올수 있음 ㅠㅠ\n",
    "\n",
    "#find_all() 메서드를 사용\n",
    "links = soup.find_all(\"a\")\n",
    "\n",
    "for a in links:\n",
    "    text = a.string\n",
    "    print(text)"
   ]
  },
  {
   "cell_type": "code",
   "execution_count": null,
   "metadata": {},
   "outputs": [],
   "source": [
    "#href의 값에 접근하려면??\n",
    "#a.attrs -> a태그의 속성에 접근\n",
    "a.attrs #딕셔너리 타입임"
   ]
  },
  {
   "cell_type": "code",
   "execution_count": null,
   "metadata": {},
   "outputs": [],
   "source": [
    "for a in links:\n",
    "    text = a.string\n",
    "    val = a.attrs['href']\n",
    "    print(text+\"=\",val)"
   ]
  },
  {
   "cell_type": "markdown",
   "metadata": {},
   "source": [
    "# 강의3"
   ]
  },
  {
   "cell_type": "code",
   "execution_count": null,
   "metadata": {},
   "outputs": [],
   "source": [
    "from bs4 import BeautifulSoup"
   ]
  },
  {
   "cell_type": "code",
   "execution_count": null,
   "metadata": {},
   "outputs": [],
   "source": [
    "html=\"\"\"\n",
    "<html><body><p><a href='test.text'>test파일</a></p></body></html>\n",
    "\n",
    "\"\"\"\n",
    "\n",
    "soup = BeautifulSoup(html,'html.parser')\n",
    "print(soup)"
   ]
  },
  {
   "cell_type": "code",
   "execution_count": null,
   "metadata": {},
   "outputs": [],
   "source": [
    "print(soup.prettify()) #줄바꿈 해주는 메서드"
   ]
  },
  {
   "cell_type": "code",
   "execution_count": null,
   "metadata": {},
   "outputs": [],
   "source": [
    "print(soup.a.attrs.values())"
   ]
  },
  {
   "cell_type": "code",
   "execution_count": null,
   "metadata": {},
   "outputs": [],
   "source": [
    "a = soup.a\n",
    "'href' in a.attrs #이 속성이 들어있는지 확인할수 있음"
   ]
  },
  {
   "cell_type": "code",
   "execution_count": null,
   "metadata": {},
   "outputs": [],
   "source": [
    "#중기 예보 가져오기\n",
    "import urllib.request as ureq\n",
    "import urllib.parse as upar\n",
    "from bs4 import BeautifulSoup\n",
    "\n",
    "rssUrl = \"http://www.kma.go.kr/weather/forecast/mid-term-rss3.jsp\"\n",
    "\n",
    "urldata = ureq.urlopen(rssUrl).read()"
   ]
  },
  {
   "cell_type": "code",
   "execution_count": null,
   "metadata": {},
   "outputs": [],
   "source": [
    "test = urldata.decode('utf-8')"
   ]
  },
  {
   "cell_type": "code",
   "execution_count": null,
   "metadata": {},
   "outputs": [],
   "source": [
    "soup = BeautifulSoup(test,'html.parser')\n",
    "\n",
    "title = soup.find('title')\n",
    "wf = soup.find('wf')\n",
    "print(title.string)\n",
    "print(wf.string)"
   ]
  },
  {
   "cell_type": "code",
   "execution_count": null,
   "metadata": {},
   "outputs": [],
   "source": [
    "temp1=soup.body.location#.find_all('location')"
   ]
  },
  {
   "cell_type": "code",
   "execution_count": null,
   "metadata": {},
   "outputs": [],
   "source": [
    "len(soup.find_all('city'))"
   ]
  },
  {
   "cell_type": "code",
   "execution_count": null,
   "metadata": {},
   "outputs": [],
   "source": [
    "list(cities)"
   ]
  },
  {
   "cell_type": "code",
   "execution_count": null,
   "metadata": {},
   "outputs": [],
   "source": [
    "temp1=soup.body.location#.find_all('location')"
   ]
  },
  {
   "cell_type": "code",
   "execution_count": null,
   "metadata": {},
   "outputs": [],
   "source": [
    "temp1"
   ]
  },
  {
   "cell_type": "code",
   "execution_count": null,
   "metadata": {},
   "outputs": [],
   "source": [
    "temp1=soup.body.location#.find_all('location')\n",
    "index = 'city'\n",
    "target = '수원'\n",
    "cities = list(soup.find_all(index))\n",
    "\n",
    "for i in range(len(cities)):\n",
    "    cities[i]=str(cities[i]).lstrip('<'+index+'>').rstrip('</'+index+'>')\n",
    "\n",
    "if target in cities:\n",
    "    while True:\n",
    "        if temp1.city.string == target:\n",
    "            result = temp1\n",
    "            break\n",
    "        else:\n",
    "            temp1 = temp1.nextSibling.nextSibling\n",
    "else:\n",
    "    print(\"그딴곳은 없어\")\n"
   ]
  },
  {
   "cell_type": "code",
   "execution_count": null,
   "metadata": {},
   "outputs": [],
   "source": [
    "#print(result)\n",
    "time = result.find_all('tmef')\n",
    "forecast = result.find_all('wf')\n",
    "\n",
    "timelist = [str(tim).lstrip('<tmef>').rstrip('</tmef>') for tim in time]\n",
    "forecastlist = [str(fors).lstrip('<wf>').rstrip('</wf>') for fors in forecast]\n",
    "#a = list(zip(time,forecast))\n",
    "print(list(zip(timelist,forecastlist)))"
   ]
  },
  {
   "cell_type": "code",
   "execution_count": null,
   "metadata": {},
   "outputs": [],
   "source": [
    "\"\"\"\n",
    "if target in cities:\n",
    "    while True:\n",
    "        if temp1.city.string == target:\n",
    "            result = temp1\n",
    "            break\n",
    "        else:\n",
    "            temp1 = temp1.nextSibling.nextSibling\n",
    "else:\n",
    "    print(\"그딴곳은 없어\")\n",
    "    \n",
    "print(result.string)\n",
    "\"\"\""
   ]
  },
  {
   "cell_type": "code",
   "execution_count": null,
   "metadata": {},
   "outputs": [],
   "source": [
    "result"
   ]
  },
  {
   "cell_type": "markdown",
   "metadata": {},
   "source": [
    "# 강의4 \n",
    "\n",
    "css(스타일시트) 선택자 이용하기\n",
    "\n",
    "스타일시트에서 적용함\n",
    "\n",
    "#name { }\n",
    "\n",
    "<d.iv>\n",
    "\n",
    "    <u.l> \n",
    "        \n",
    "이걸 표기할때\n",
    "div>ul 이런식으로 지정함\n",
    "\n",
    "select, select_one 메소드 있음\n",
    "- select_one() CSS 선택자로 요소 하나만 추출\n",
    "- select() 여러개 요소를 리스트로 추출"
   ]
  },
  {
   "cell_type": "code",
   "execution_count": 12,
   "metadata": {},
   "outputs": [],
   "source": [
    "\"\"\"import urllib.request as ureq\n",
    "import urllib.parse as upar\n",
    "\"\"\"\n",
    "from bs4 import BeautifulSoup\n",
    "#CSS (스타일시트) 선택자 사용하기 jquery?에서 많이 사용\n",
    "html = \"\"\"\n",
    "<html><body>\n",
    "    <div id=\"List\">\n",
    "    <h1>전체 강좌</h1>\n",
    "    </div>\n",
    "    <div id=\"lecture\">\n",
    "    <h1>빅데이터 강좌</h1>\n",
    "    <ul class=\"subject\">\n",
    "        <li>R언어 강좌</li>\n",
    "        <li>머신러닝을 위한 데이터처리</li>\n",
    "        <li>파이썬으로 익히는 딥러닝이론</li>\n",
    "    </ul>\n",
    "    </div>\n",
    "</body><html>\n",
    "\"\"\""
   ]
  },
  {
   "cell_type": "code",
   "execution_count": 7,
   "metadata": {},
   "outputs": [
    {
     "name": "stdout",
     "output_type": "stream",
     "text": [
      "D:\\PythonPJT\\Samsung U\n"
     ]
    }
   ],
   "source": [
    "!cd"
   ]
  },
  {
   "cell_type": "code",
   "execution_count": 15,
   "metadata": {},
   "outputs": [
    {
     "data": {
      "text/plain": [
       "<div id=\"lecture\">\n",
       "<h1>빅데이터 강좌</h1>\n",
       "<ul class=\"subject\">\n",
       "<li>R언어 강좌</li>\n",
       "<li>머신러닝을 위한 데이터처리</li>\n",
       "<li>파이썬으로 익히는 딥러닝이론</li>\n",
       "</ul>\n",
       "</div>"
      ]
     },
     "execution_count": 15,
     "metadata": {},
     "output_type": "execute_result"
    }
   ],
   "source": [
    "#html 분석하기\n",
    "soup = BeautifulSoup(html,'html.parser')\n",
    "\n",
    "#CSS 쿼리로 데이터 추출하기\n",
    "soup.select_one('div#lecture')#스타일 시트에서 아이디는 '#'으로 표기"
   ]
  },
  {
   "cell_type": "code",
   "execution_count": 24,
   "metadata": {},
   "outputs": [
    {
     "data": {
      "text/plain": [
       "<h1>빅데이터 강좌</h1>"
      ]
     },
     "execution_count": 24,
     "metadata": {},
     "output_type": "execute_result"
    }
   ],
   "source": [
    "soup.select_one('div#lecture > h1') #자식태크 가리킬때는 '>'표시 띄워쓰기 해야하는듯"
   ]
  },
  {
   "cell_type": "code",
   "execution_count": 26,
   "metadata": {},
   "outputs": [
    {
     "data": {
      "text/plain": [
       "<h1>전체 강좌</h1>"
      ]
     },
     "execution_count": 26,
     "metadata": {},
     "output_type": "execute_result"
    }
   ],
   "source": [
    "soup.select_one('div > h1') #아이디 명시안해주면 맨처음꺼 가져옴"
   ]
  },
  {
   "cell_type": "code",
   "execution_count": 46,
   "metadata": {},
   "outputs": [
    {
     "name": "stdout",
     "output_type": "stream",
     "text": [
      "select 해온 리스트의 타입 = <class 'list'>\n",
      "select 내부 요소의 타입 = <class 'bs4.element.Tag'>\n",
      "['R언어 강좌', '머신러닝을 위한 데이터처리', '파이썬으로 익히는 딥러닝이론']\n",
      "<class 'str'>\n"
     ]
    }
   ],
   "source": [
    "subjects = soup.select('div#lecture > ul.subject > li') #class 명은 '.'으로 표기함\n",
    "print(\"select 해온 리스트의 타입 = \"+str(type(subjects)))\n",
    "print(\"select 내부 요소의 타입 = \"+str(type(subjects[0])))\n",
    "subjectList = [str(a.string) for a in subjects]\n",
    "print(subjectList)\n",
    "print(type(subjectList[0]))"
   ]
  },
  {
   "cell_type": "code",
   "execution_count": 42,
   "metadata": {},
   "outputs": [
    {
     "data": {
      "text/plain": [
       "bs4.element.Tag"
      ]
     },
     "execution_count": 42,
     "metadata": {},
     "output_type": "execute_result"
    }
   ],
   "source": [
    "type(subjects[0])"
   ]
  }
 ],
 "metadata": {
  "kernelspec": {
   "display_name": "Python 3",
   "language": "python",
   "name": "python3"
  },
  "language_info": {
   "codemirror_mode": {
    "name": "ipython",
    "version": 3
   },
   "file_extension": ".py",
   "mimetype": "text/x-python",
   "name": "python",
   "nbconvert_exporter": "python",
   "pygments_lexer": "ipython3",
   "version": "3.7.0"
  }
 },
 "nbformat": 4,
 "nbformat_minor": 2
}
