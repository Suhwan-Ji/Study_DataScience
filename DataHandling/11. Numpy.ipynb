{
 "cells": [
  {
   "cell_type": "markdown",
   "metadata": {},
   "source": [
    "# 머신러닝을 시작하기 전 기본 라이브러리\n",
    "- Numpy\n",
    "- Scipy\n",
    "- Scikit-learn\n",
    "- Pandas\n",
    "- matplotlib"
   ]
  },
  {
   "cell_type": "markdown",
   "metadata": {},
   "source": [
    "## Numpy/Pandas 소개\n",
    "- C로 작성되어 있어 처리속도가 빠른편\n",
    "- Numpy는 과학 계산을 위한 라이브러리로 다차원 배열을 처리하는데 필요한 여러 기능을 제공한다.  \n",
    "\n",
    "### numpy 배열\n",
    "numpy에서 배열은 동일한 타입의 값들을 갖는다.  \n",
    "배열의 차원을 rank라고 한다.  \n",
    "\n",
    "shape : 각차원의 크기를 튜플로 표시한 것  \n",
    "  예> 2행, 3열인 2차원 배열은 rank는 2이고, shape(2,3)  \n",
    "  \n",
    "**numpy 배열의 생성**  \n",
    "1. 파이썬의 리스트를 사용하는 방법  \n",
    "array()메소드의 인자로 리스트를 넣어 생성한다.  \n",
    "예> numpy.array([1,2,3])  \n",
    "1. numpy에서 제공하는 함수를 사용하는 방법  \n",
    " - zeros()함수는 배열에 모두 -을 집어넣고,  \n",
    " - ones()함수는 모두 1을 집어 넣는다.  \n",
    " - full()함수는 사용자가 지정한 값을 넣는데 사용,  \n",
    " - eye()함수는 대각선으로는 1이고 나머지는 0 (identity)\n",
    "1. range(n) : 0 ~ n-1까지의 숫자를 생성하는 함수\n",
    "1. reshape() : 다차원으로 변형하는 함수"
   ]
  },
  {
   "cell_type": "code",
   "execution_count": 1,
   "metadata": {},
   "outputs": [
    {
     "data": {
      "text/plain": [
       "array([1, 2, 3, 4])"
      ]
     },
     "execution_count": 1,
     "metadata": {},
     "output_type": "execute_result"
    }
   ],
   "source": [
    "import numpy as np\n",
    "\n",
    "list1 = [1,2,3,4]\n",
    "a = np.array(list1)\n",
    "a"
   ]
  },
  {
   "cell_type": "code",
   "execution_count": 2,
   "metadata": {},
   "outputs": [
    {
     "data": {
      "text/plain": [
       "(4,)"
      ]
     },
     "execution_count": 2,
     "metadata": {},
     "output_type": "execute_result"
    }
   ],
   "source": [
    "a.shape"
   ]
  },
  {
   "cell_type": "code",
   "execution_count": 3,
   "metadata": {},
   "outputs": [
    {
     "data": {
      "text/plain": [
       "array([[1, 2, 3],\n",
       "       [4, 5, 6]])"
      ]
     },
     "execution_count": 3,
     "metadata": {},
     "output_type": "execute_result"
    }
   ],
   "source": [
    "b = np.array([[1,2,3],[4,5,6]])\n",
    "b"
   ]
  },
  {
   "cell_type": "code",
   "execution_count": 4,
   "metadata": {},
   "outputs": [
    {
     "data": {
      "text/plain": [
       "(2, 3)"
      ]
     },
     "execution_count": 4,
     "metadata": {},
     "output_type": "execute_result"
    }
   ],
   "source": [
    "b.shape"
   ]
  },
  {
   "cell_type": "code",
   "execution_count": 5,
   "metadata": {},
   "outputs": [
    {
     "name": "stdout",
     "output_type": "stream",
     "text": [
      "1\n",
      "[[2 3]\n",
      " [5 6]]\n"
     ]
    }
   ],
   "source": [
    "# 슬라이싱 가능\n",
    "print(b[0,0])\n",
    "print(b[:,1:3])"
   ]
  },
  {
   "cell_type": "code",
   "execution_count": 6,
   "metadata": {},
   "outputs": [
    {
     "data": {
      "text/plain": [
       "array([[0., 0.],\n",
       "       [0., 0.],\n",
       "       [0., 0.],\n",
       "       [0., 0.],\n",
       "       [0., 0.]])"
      ]
     },
     "execution_count": 6,
     "metadata": {},
     "output_type": "execute_result"
    }
   ],
   "source": [
    "aa = np.zeros([5,2])\n",
    "aa"
   ]
  },
  {
   "cell_type": "code",
   "execution_count": 7,
   "metadata": {},
   "outputs": [
    {
     "data": {
      "text/plain": [
       "numpy.ndarray"
      ]
     },
     "execution_count": 7,
     "metadata": {},
     "output_type": "execute_result"
    }
   ],
   "source": [
    "type(aa)"
   ]
  },
  {
   "cell_type": "code",
   "execution_count": 8,
   "metadata": {},
   "outputs": [
    {
     "data": {
      "text/plain": [
       "array([[1., 1., 1.],\n",
       "       [1., 1., 1.],\n",
       "       [1., 1., 1.]])"
      ]
     },
     "execution_count": 8,
     "metadata": {},
     "output_type": "execute_result"
    }
   ],
   "source": [
    "aa = np.ones([3,3])\n",
    "aa"
   ]
  },
  {
   "cell_type": "code",
   "execution_count": 9,
   "metadata": {},
   "outputs": [
    {
     "data": {
      "text/plain": [
       "array([[29, 29, 29],\n",
       "       [29, 29, 29]])"
      ]
     },
     "execution_count": 9,
     "metadata": {},
     "output_type": "execute_result"
    }
   ],
   "source": [
    "aa = np.full([2,3],29)\n",
    "aa"
   ]
  },
  {
   "cell_type": "code",
   "execution_count": 10,
   "metadata": {},
   "outputs": [
    {
     "data": {
      "text/plain": [
       "array([[1., 0., 0., 0., 0., 0.],\n",
       "       [0., 1., 0., 0., 0., 0.],\n",
       "       [0., 0., 1., 0., 0., 0.],\n",
       "       [0., 0., 0., 1., 0., 0.],\n",
       "       [0., 0., 0., 0., 1., 0.],\n",
       "       [0., 0., 0., 0., 0., 1.]])"
      ]
     },
     "execution_count": 10,
     "metadata": {},
     "output_type": "execute_result"
    }
   ],
   "source": [
    "aa = np.eye(6) #sqare matrix만 먹는듯\n",
    "aa"
   ]
  },
  {
   "cell_type": "code",
   "execution_count": 11,
   "metadata": {},
   "outputs": [
    {
     "data": {
      "text/plain": [
       "array([ 0,  1,  2,  3,  4,  5,  6,  7,  8,  9, 10, 11, 12, 13, 14, 15, 16,\n",
       "       17, 18, 19])"
      ]
     },
     "execution_count": 11,
     "metadata": {},
     "output_type": "execute_result"
    }
   ],
   "source": [
    "# 배열을 꽉채우기\n",
    "aa = np.array(range(20))\n",
    "aa"
   ]
  },
  {
   "cell_type": "code",
   "execution_count": 12,
   "metadata": {},
   "outputs": [
    {
     "data": {
      "text/plain": [
       "array([[ 0,  1,  2,  3,  4],\n",
       "       [ 5,  6,  7,  8,  9],\n",
       "       [10, 11, 12, 13, 14],\n",
       "       [15, 16, 17, 18, 19]])"
      ]
     },
     "execution_count": 12,
     "metadata": {},
     "output_type": "execute_result"
    }
   ],
   "source": [
    "#배열 모양 바꾸기\n",
    "aa.reshape([4,5])"
   ]
  },
  {
   "cell_type": "markdown",
   "metadata": {},
   "source": [
    "## numpy 슬라이싱, 인덱싱, 연산"
   ]
  },
  {
   "cell_type": "code",
   "execution_count": 13,
   "metadata": {},
   "outputs": [
    {
     "name": "stdout",
     "output_type": "stream",
     "text": [
      "[[1 2]\n",
      " [4 5]]\n",
      "[[5 6]\n",
      " [8 9]]\n"
     ]
    }
   ],
   "source": [
    "import numpy as np\n",
    "\n",
    "list_a = [\n",
    "    [1,2,3],\n",
    "    [4,5,6],\n",
    "    [7,8,9]\n",
    "]\n",
    "\n",
    "arr = np.array(list_a)\n",
    "\n",
    "a = arr[0:2,0:2]\n",
    "print(a)\n",
    "\n",
    "print(arr[1:,1:])"
   ]
  },
  {
   "cell_type": "markdown",
   "metadata": {},
   "source": [
    "numpy 배열 a에 대해서 a[[row1,row2],[col1,col2]]는  \n",
    "a[row1,col1]과 a[row2,col2]라는 두개의 배열 요소 집합을 의미"
   ]
  },
  {
   "cell_type": "code",
   "execution_count": 14,
   "metadata": {},
   "outputs": [
    {
     "data": {
      "text/plain": [
       "array([2, 8])"
      ]
     },
     "execution_count": 14,
     "metadata": {},
     "output_type": "execute_result"
    }
   ],
   "source": [
    "arr[[0,2],[1,1]]"
   ]
  },
  {
   "cell_type": "markdown",
   "metadata": {},
   "source": [
    "## Boolean 인덱싱"
   ]
  },
  {
   "cell_type": "code",
   "execution_count": 15,
   "metadata": {},
   "outputs": [
    {
     "name": "stdout",
     "output_type": "stream",
     "text": [
      "원래 list : \n",
      " [[1 2 3]\n",
      " [4 5 6]\n",
      " [7 8 9]]\n",
      "arr > 4 : \n",
      " [[False False False]\n",
      " [False  True  True]\n",
      " [ True  True  True]]\n",
      "불린 인덱싱 : \n",
      " [5 6 7 8 9]\n"
     ]
    }
   ],
   "source": [
    "print('원래 list : \\n',arr)\n",
    "print('arr > 4 : \\n',arr>4)\n",
    "print('불린 인덱싱 : \\n',arr[arr>4])"
   ]
  },
  {
   "cell_type": "code",
   "execution_count": 16,
   "metadata": {},
   "outputs": [
    {
     "data": {
      "text/plain": [
       "array([2, 4, 6, 8])"
      ]
     },
     "execution_count": 16,
     "metadata": {},
     "output_type": "execute_result"
    }
   ],
   "source": [
    "b_arr = np.array([\n",
    "    [False,True,False],\n",
    "    [True,False,True],\n",
    "    [False,True,False]\n",
    "])\n",
    "\n",
    "arr[b_arr]"
   ]
  },
  {
   "cell_type": "code",
   "execution_count": 17,
   "metadata": {},
   "outputs": [
    {
     "name": "stdout",
     "output_type": "stream",
     "text": [
      "[1 2 4 5]\n",
      "(4,)\n"
     ]
    }
   ],
   "source": [
    "b_arr = np.array([\n",
    "    [True,True,False],\n",
    "    [True,True,False],\n",
    "    [False,False,False]\n",
    "])\n",
    "\n",
    "print(arr[b_arr])\n",
    "print(arr[b_arr].shape)"
   ]
  },
  {
   "cell_type": "markdown",
   "metadata": {},
   "source": [
    "## 불린 인덱싱 배열을 생성할 때 표현식으로 이용하기\n",
    "\n",
    "- 배열 a에 대해서 짝수인 배열 요소만 True로 지정하겠다 하면  \n",
    "- b_arr = (a%2==0)"
   ]
  },
  {
   "cell_type": "code",
   "execution_count": 18,
   "metadata": {},
   "outputs": [
    {
     "name": "stdout",
     "output_type": "stream",
     "text": [
      "[[1 2 3]\n",
      " [4 5 6]\n",
      " [7 8 9]] \n",
      " [[False  True False]\n",
      " [ True False  True]\n",
      " [False  True False]] \n",
      " [2 4 6 8]\n"
     ]
    }
   ],
   "source": [
    "arr = np.arange(1,10).reshape(3,3)\n",
    "\n",
    "#배열 arr에 대해 짝수면 True, 홀수면 False\n",
    "b_arr = (arr%2 == 0)\n",
    "print(arr,'\\n',b_arr,'\\n',arr[b_arr])"
   ]
  },
  {
   "cell_type": "markdown",
   "metadata": {},
   "source": [
    "## numpy 연산\n",
    "\n",
    "**연산자**를 이용할 경우에는 +,-,*,/  \n",
    "\n",
    "**함수**를 이용할 경우에는 add(),substract(),multiply(),divide()\n",
    "\n",
    "- 배열 a와 배열b가 있을 때, a + b는 a[0] + b[0],a[1]+b[1].... 이와 같은 방식으로 결과 리턴  \n",
    "인자별 연산"
   ]
  },
  {
   "cell_type": "code",
   "execution_count": 19,
   "metadata": {},
   "outputs": [
    {
     "name": "stdout",
     "output_type": "stream",
     "text": [
      "[ 4 10 18]\n",
      "[0.25 0.4  0.5 ]\n",
      "[5 7 9]\n",
      "[ 4 10 18]\n"
     ]
    }
   ],
   "source": [
    "import numpy as np\n",
    "a = np.array([1,2,3])\n",
    "b = np.array([4,5,6])\n",
    "\n",
    "print(a*b)\n",
    "print(a/b)\n",
    "print(np.add(a,b))\n",
    "print(np.multiply(a,b))"
   ]
  },
  {
   "cell_type": "code",
   "execution_count": 20,
   "metadata": {},
   "outputs": [
    {
     "name": "stdout",
     "output_type": "stream",
     "text": [
      "[[ 2  4  6]\n",
      " [ 8 10 12]\n",
      " [14 16 18]]\n",
      "[ 28  80 162]\n",
      "[[12 12 12]\n",
      " [30 30 30]\n",
      " [48 48 48]]\n"
     ]
    }
   ],
   "source": [
    "# dot product\n",
    "a = np.array([\n",
    "    [1,2,3],\n",
    "    [4,5,6],\n",
    "    [7,8,9]\n",
    "])\n",
    "b = np.array([\n",
    "    [2,2,2],\n",
    "    [2,2,2],\n",
    "    [2,2,2]\n",
    "])\n",
    "\n",
    "print(a*b)\n",
    "print(a.prod(axis=0))\n",
    "print(a.dot(b))"
   ]
  },
  {
   "cell_type": "markdown",
   "metadata": {},
   "source": [
    "- numpy에서는 배열간의 연산을 위한 여러 함수들을 제공하는데, \n",
    "- 각배열의 요소를 더하는 함수 sum()\n",
    "- 배열의 요소들을 곱하는 prod()\n",
    "- 이 함수들은 axis 옵션을 사용한다. axis 0이면 컬럼끼리, 1이면 행끼리, 생략하면 모든 요소"
   ]
  },
  {
   "cell_type": "code",
   "execution_count": 21,
   "metadata": {},
   "outputs": [
    {
     "name": "stdout",
     "output_type": "stream",
     "text": [
      "10\n",
      "[4 6]\n",
      "[3 7]\n",
      "-----------\n",
      "24\n",
      "[3 8]\n",
      "[ 2 12]\n",
      "[3 7]\n"
     ]
    }
   ],
   "source": [
    "a = np.array([\n",
    "    [1,2],\n",
    "    [3,4]\n",
    "])\n",
    "\n",
    "print(a.sum())\n",
    "print(a.sum(axis=0))\n",
    "print(a.sum(axis=1))\n",
    "print('-----------')\n",
    "print(a.prod())\n",
    "print(a.prod(axis=0))\n",
    "print(a.prod(axis=1))\n",
    "print(np.sum(a,axis=1)) #이렇게 써도 똑같음"
   ]
  }
 ],
 "metadata": {
  "kernelspec": {
   "display_name": "Python 3",
   "language": "python",
   "name": "python3"
  },
  "language_info": {
   "codemirror_mode": {
    "name": "ipython",
    "version": 3
   },
   "file_extension": ".py",
   "mimetype": "text/x-python",
   "name": "python",
   "nbconvert_exporter": "python",
   "pygments_lexer": "ipython3",
   "version": "3.7.0"
  }
 },
 "nbformat": 4,
 "nbformat_minor": 2
}
