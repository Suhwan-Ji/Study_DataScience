{
 "cells": [
  {
   "cell_type": "code",
   "execution_count": null,
   "metadata": {},
   "outputs": [],
   "source": [
    "!hello.py"
   ]
  },
  {
   "cell_type": "markdown",
   "metadata": {},
   "source": [
    "## 1.urllib : url을 다루는 기능을 모아놓은 패키지\n",
    "- Http 나 FTP를 사용해서 데이터를 다운로드 할 때 사용하는 라이브러리\n",
    "\n",
    "[Naver](https://www.naver.com/)로 들어가는 하이퍼링크\n",
    "\n",
    "### 1.1 request : 웹사이트의 데이터에 접근하는 것을  도와주는 모듈\n",
    "#### 1.1.1 urlretrieve : 직접 파일을 다운로드 가능 ( 이미지 등등 )"
   ]
  },
  {
   "cell_type": "markdown",
   "metadata": {},
   "source": [
    "![](https://t1.daumcdn.net/daumtop_chanel/op/20190513105231353.png)"
   ]
  },
  {
   "cell_type": "code",
   "execution_count": 9,
   "metadata": {},
   "outputs": [],
   "source": [
    "import urllib.request as ur"
   ]
  },
  {
   "cell_type": "code",
   "execution_count": 6,
   "metadata": {},
   "outputs": [
    {
     "name": "stdout",
     "output_type": "stream",
     "text": [
      "다운로드 완료!!\n"
     ]
    }
   ],
   "source": [
    "url = \"https://t1.daumcdn.net/daumtop_chanel/op/20190513105231353.png\"\n",
    "imgName = 'D:\\PythonPJT\\Samsung U\\Daum.png'\n",
    "message = \"다운로드 완료!!\"\n",
    "#(어디에서 가져올건지, 저장할 파일경로)\n",
    "ur.urlretrieve(url,imgName)\n",
    "print(message)\n",
    "\n"
   ]
  },
  {
   "cell_type": "markdown",
   "metadata": {},
   "source": [
    "$e^{3*pi}$"
   ]
  },
  {
   "cell_type": "code",
   "execution_count": 11,
   "metadata": {},
   "outputs": [
    {
     "name": "stdout",
     "output_type": "stream",
     "text": [
      "다운로드 완료!!\n"
     ]
    }
   ],
   "source": [
    "!ex01.py"
   ]
  },
  {
   "cell_type": "markdown",
   "metadata": {},
   "source": [
    "### 1.1.2 urlopen\n",
    "urlretrive는 파일로 곧바로 바로저장하지만\n",
    "\n",
    "urlopen()합수는 파일로 바로 저장하지 않고 메모리에 로딩"
   ]
  },
  {
   "cell_type": "code",
   "execution_count": 20,
   "metadata": {},
   "outputs": [],
   "source": [
    "url = \"https://t1.daumcdn.net/daumtop_chanel/op/20190513105231353.png\"\n",
    "imgpath = 'D:\\PythonPJT\\Samsung U\\Daum2.png'\n",
    "\n",
    "downImg = ur.urlopen(url).read()\n",
    "#print(downImg)\n",
    "\n",
    "#  파일로 저장하는 과정\n",
    "# f = open(파일경로,mode)\n",
    "# f.write('테스트로 파일에 내용을 적습니다.')\n",
    "# f.close()\n",
    "\n",
    "\n",
    "\n",
    "f = open(imgpath,'w')\n",
    "f.close()"
   ]
  },
  {
   "cell_type": "markdown",
   "metadata": {},
   "source": [
    "## ※ 파일로 저장하는 과정\n",
    " f = open(파일경로,mode)\n",
    " \n",
    " f.write('테스트로 파일에 내용을 적습니다.')\n",
    " \n",
    " f.close()\n",
    " \n",
    " 위 과정을 with문으로 간단하게 표현하다.\n",
    " \n",
    "with open(파일경로,'w') as f:\n",
    "\n",
    "    f.write('내용')\n",
    "    \n",
    "close 처리하는거 까먹을때가 있는데 with 쓰면 크게 신경안써도됨\n",
    "    \n",
    "    \n",
    "     "
   ]
  },
  {
   "cell_type": "code",
   "execution_count": 37,
   "metadata": {},
   "outputs": [
    {
     "name": "stdout",
     "output_type": "stream",
     "text": [
      "다운로드 완료!\n"
     ]
    }
   ],
   "source": [
    "#'w'는 쓰기모드\n",
    "#'b'는 바이너리 모드 (이미지 등)\n",
    "with open(imgpath,'wb') as f:\n",
    "    f.write(downImg) #imgpath의 파일을 쓰기모드로 열어서 download파일 써줌\n",
    "    print('다운로드 완료!')\n"
   ]
  },
  {
   "cell_type": "code",
   "execution_count": 34,
   "metadata": {},
   "outputs": [
    {
     "name": "stdout",
     "output_type": "stream",
     "text": [
      "Object `del` not found.\n"
     ]
    }
   ],
   "source": [
    "?del(imgpath)"
   ]
  },
  {
   "cell_type": "code",
   "execution_count": null,
   "metadata": {},
   "outputs": [],
   "source": []
  }
 ],
 "metadata": {
  "kernelspec": {
   "display_name": "Python 3",
   "language": "python",
   "name": "python3"
  },
  "language_info": {
   "codemirror_mode": {
    "name": "ipython",
    "version": 3
   },
   "file_extension": ".py",
   "mimetype": "text/x-python",
   "name": "python",
   "nbconvert_exporter": "python",
   "pygments_lexer": "ipython3",
   "version": "3.7.0"
  }
 },
 "nbformat": 4,
 "nbformat_minor": 2
}
