{
 "cells": [
  {
   "cell_type": "markdown",
   "metadata": {},
   "source": [
    "짝이 맞지않는 두개의 개체를 더했을때 어케 변할까?  \n",
    "**색인**이 다른 객체를 더하는 산술연산"
   ]
  },
  {
   "cell_type": "code",
   "execution_count": 1,
   "metadata": {},
   "outputs": [
    {
     "name": "stdout",
     "output_type": "stream",
     "text": [
      "a    5\n",
      "c    6\n",
      "d   -1\n",
      "e    2\n",
      "dtype: int64\n",
      "\n",
      "a    3\n",
      "c    4\n",
      "e   -1\n",
      "f    2\n",
      "g    7\n",
      "dtype: int64\n",
      "\n",
      "a     8.0\n",
      "c    10.0\n",
      "d     NaN\n",
      "e     1.0\n",
      "f     NaN\n",
      "g     NaN\n",
      "dtype: float64\n"
     ]
    }
   ],
   "source": [
    "import pandas as pd\n",
    "from pandas import Series,DataFrame\n",
    "import numpy as np\n",
    "\n",
    "s1 = Series([5,6,-1,2],index=['a','c','d','e'])\n",
    "s2 = Series([3,4,-1,2,7],index = ['a','c','e','f','g'])\n",
    "print(s1,end='\\n\\n')\n",
    "print(s2,end='\\n\\n')\n",
    "print(s1+s2)\n"
   ]
  },
  {
   "cell_type": "markdown",
   "metadata": {},
   "source": [
    "<a color='blue'>있는 인덱스 끼리만 더해짐</a><br>\n",
    "하나라도 없는 놈들은 NaN\n",
    "\n",
    "---\n"
   ]
  },
  {
   "cell_type": "code",
   "execution_count": 2,
   "metadata": {},
   "outputs": [
    {
     "data": {
      "text/plain": [
       "['b', 'd', 'c']"
      ]
     },
     "execution_count": 2,
     "metadata": {},
     "output_type": "execute_result"
    }
   ],
   "source": [
    "list('bdc')"
   ]
  },
  {
   "cell_type": "code",
   "execution_count": 3,
   "metadata": {},
   "outputs": [
    {
     "name": "stdout",
     "output_type": "stream",
     "text": [
      "         b  c  d\n",
      "seoul    0  1  2\n",
      "busan    3  4  5\n",
      "kwangju  6  7  8\n",
      "\n",
      "         b   d   e\n",
      "incheon  0   1   2\n",
      "seoul    3   4   5\n",
      "busan    6   7   8\n",
      "suwon    9  10  11\n",
      "\n",
      "           b   c     d   e\n",
      "busan    9.0 NaN  12.0 NaN\n",
      "incheon  NaN NaN   NaN NaN\n",
      "kwangju  NaN NaN   NaN NaN\n",
      "seoul    3.0 NaN   6.0 NaN\n",
      "suwon    NaN NaN   NaN NaN\n"
     ]
    }
   ],
   "source": [
    "df1 = DataFrame(np.arange(9).reshape(3,3), columns =list('bcd'),\\\n",
    "                index = ['seoul','busan','kwangju'])\n",
    "df2 = DataFrame(np.arange(12).reshape(4,3), columns =list('bde'),\\\n",
    "                index = ['incheon','seoul','busan','suwon'])\n",
    "\n",
    "print(df1,end='\\n\\n')\n",
    "print(df2,end='\\n\\n')\n",
    "print(df1+df2)"
   ]
  },
  {
   "cell_type": "markdown",
   "metadata": {},
   "source": [
    "index 와 column 모두 같아야 더해짐\n",
    "\n",
    "---"
   ]
  },
  {
   "cell_type": "code",
   "execution_count": 4,
   "metadata": {},
   "outputs": [
    {
     "name": "stdout",
     "output_type": "stream",
     "text": [
      "   a  b   c   d\n",
      "0  0  1   2   3\n",
      "1  4  5   6   7\n",
      "2  8  9  10  11\n",
      "\n",
      "    a   b   c   d   e\n",
      "0   0   1   2   3   4\n",
      "1   5   6   7   8   9\n",
      "2  10  11  12  13  14\n",
      "3  15  16  17  18  19\n",
      "\n",
      "      a     b     c     d   e\n",
      "0   0.0   2.0   4.0   6.0 NaN\n",
      "1   9.0  11.0  13.0  15.0 NaN\n",
      "2  18.0  20.0  22.0  24.0 NaN\n",
      "3   NaN   NaN   NaN   NaN NaN\n"
     ]
    }
   ],
   "source": [
    "df3 = DataFrame(np.arange(12).reshape(3,4),columns=list('abcd'))\n",
    "df4 = DataFrame(np.arange(20).reshape(4,5),columns=list('abcde'))\n",
    "print(df3,end='\\n\\n')\n",
    "print(df4,end='\\n\\n')\n",
    "print(df3+df4)"
   ]
  },
  {
   "cell_type": "code",
   "execution_count": 5,
   "metadata": {},
   "outputs": [
    {
     "data": {
      "text/html": [
       "<div>\n",
       "<style scoped>\n",
       "    .dataframe tbody tr th:only-of-type {\n",
       "        vertical-align: middle;\n",
       "    }\n",
       "\n",
       "    .dataframe tbody tr th {\n",
       "        vertical-align: top;\n",
       "    }\n",
       "\n",
       "    .dataframe thead th {\n",
       "        text-align: right;\n",
       "    }\n",
       "</style>\n",
       "<table border=\"1\" class=\"dataframe\">\n",
       "  <thead>\n",
       "    <tr style=\"text-align: right;\">\n",
       "      <th></th>\n",
       "      <th>a</th>\n",
       "      <th>b</th>\n",
       "      <th>c</th>\n",
       "      <th>d</th>\n",
       "      <th>e</th>\n",
       "    </tr>\n",
       "  </thead>\n",
       "  <tbody>\n",
       "    <tr>\n",
       "      <th>0</th>\n",
       "      <td>0.0</td>\n",
       "      <td>2.0</td>\n",
       "      <td>4.0</td>\n",
       "      <td>6.0</td>\n",
       "      <td>4.0</td>\n",
       "    </tr>\n",
       "    <tr>\n",
       "      <th>1</th>\n",
       "      <td>9.0</td>\n",
       "      <td>11.0</td>\n",
       "      <td>13.0</td>\n",
       "      <td>15.0</td>\n",
       "      <td>9.0</td>\n",
       "    </tr>\n",
       "    <tr>\n",
       "      <th>2</th>\n",
       "      <td>18.0</td>\n",
       "      <td>20.0</td>\n",
       "      <td>22.0</td>\n",
       "      <td>24.0</td>\n",
       "      <td>14.0</td>\n",
       "    </tr>\n",
       "    <tr>\n",
       "      <th>3</th>\n",
       "      <td>15.0</td>\n",
       "      <td>16.0</td>\n",
       "      <td>17.0</td>\n",
       "      <td>18.0</td>\n",
       "      <td>19.0</td>\n",
       "    </tr>\n",
       "  </tbody>\n",
       "</table>\n",
       "</div>"
      ],
      "text/plain": [
       "      a     b     c     d     e\n",
       "0   0.0   2.0   4.0   6.0   4.0\n",
       "1   9.0  11.0  13.0  15.0   9.0\n",
       "2  18.0  20.0  22.0  24.0  14.0\n",
       "3  15.0  16.0  17.0  18.0  19.0"
      ]
     },
     "execution_count": 5,
     "metadata": {},
     "output_type": "execute_result"
    }
   ],
   "source": [
    "#옵션을 활용하여 NaN을 0으로 바꾸기\n",
    "df3.add(df4,fill_value=0)"
   ]
  },
  {
   "cell_type": "markdown",
   "metadata": {},
   "source": [
    "없는 놈이 있으면 그놈을 0으로 가정하고 계산해줌\n",
    "\n",
    "---"
   ]
  },
  {
   "cell_type": "code",
   "execution_count": 6,
   "metadata": {},
   "outputs": [
    {
     "name": "stdout",
     "output_type": "stream",
     "text": [
      "     a    b     c     d   e\n",
      "0  0.0  1.0   2.0   3.0 NaN\n",
      "1  4.0  5.0   6.0   7.0 NaN\n",
      "2  8.0  9.0  10.0  11.0 NaN\n",
      "3  NaN  NaN   NaN   NaN NaN\n",
      "\n",
      "   a  b   c   d  e\n",
      "0  0  1   2   3  0\n",
      "1  4  5   6   7  0\n",
      "2  8  9  10  11  0\n",
      "3  0  0   0   0  0\n",
      "\n"
     ]
    }
   ],
   "source": [
    "print(df3.reindex(index = df4.index,columns=df4.columns),end='\\n\\n')\n",
    "print(df3.reindex(index = df4.index,columns=df4.columns,fill_value=0),end='\\n\\n')"
   ]
  },
  {
   "cell_type": "markdown",
   "metadata": {},
   "source": [
    "### DataFrame과 Series의 연산"
   ]
  },
  {
   "cell_type": "code",
   "execution_count": 7,
   "metadata": {},
   "outputs": [
    {
     "name": "stdout",
     "output_type": "stream",
     "text": [
      "[[ 0  1  2  3]\n",
      " [ 4  5  6  7]\n",
      " [ 8  9 10 11]]\n",
      "[[0 0 0 0]\n",
      " [4 4 4 4]\n",
      " [8 8 8 8]]\n"
     ]
    }
   ],
   "source": [
    "arr = np.arange(12).reshape(3,4)\n",
    "print(arr)\n",
    "print(arr-arr[0]) #브로드 캐스팅"
   ]
  },
  {
   "cell_type": "code",
   "execution_count": 8,
   "metadata": {},
   "outputs": [
    {
     "name": "stdout",
     "output_type": "stream",
     "text": [
      "         b   d   e\n",
      "seoul    0   1   2\n",
      "kwangju  3   4   5\n",
      "daegue   6   7   8\n",
      "incheon  9  10  11\n",
      "\n",
      "b    0\n",
      "d    1\n",
      "e    2\n",
      "Name: seoul, dtype: int32\n",
      "\n",
      "         b  d  e\n",
      "seoul    0  0  0\n",
      "kwangju  3  3  3\n",
      "daegue   6  6  6\n",
      "incheon  9  9  9\n",
      "\n",
      "=============\n",
      "b    0\n",
      "e    1\n",
      "f    2\n",
      "dtype: int64\n",
      "\n",
      "           b   d     e   f\n",
      "seoul    0.0 NaN   3.0 NaN\n",
      "kwangju  3.0 NaN   6.0 NaN\n",
      "daegue   6.0 NaN   9.0 NaN\n",
      "incheon  9.0 NaN  12.0 NaN\n",
      "=============\n",
      "\n",
      "\n",
      "열로 데이터 받아와도 Series로 변환후 연산하면 이렇게됨\n",
      "\n",
      "seoul       1\n",
      "kwangju     4\n",
      "daegue      7\n",
      "incheon    10\n",
      "Name: d, dtype: int32\n",
      "\n",
      "          b   d  daegue   e  incheon  kwangju  seoul\n",
      "seoul   NaN NaN     NaN NaN      NaN      NaN    NaN\n",
      "kwangju NaN NaN     NaN NaN      NaN      NaN    NaN\n",
      "daegue  NaN NaN     NaN NaN      NaN      NaN    NaN\n",
      "incheon NaN NaN     NaN NaN      NaN      NaN    NaN\n",
      "\n",
      "=============\n",
      "\n",
      "\n",
      "열끼리 연산할 경우에는 abb/sub메소드에 axis옵션줘서 사용\n",
      "\n",
      "          b   d   e\n",
      "seoul     1   2   3\n",
      "kwangju   7   8   9\n",
      "daegue   13  14  15\n",
      "incheon  19  20  21\n"
     ]
    }
   ],
   "source": [
    "df = DataFrame(np.arange(12).reshape(4,3),columns=list('bde'),\\\n",
    "              index = ['seoul','kwangju','daegue','incheon'])\n",
    "print(df,end='\\n\\n')\n",
    "\n",
    "s1 = df.iloc[0]\n",
    "print(s1,end='\\n\\n')\n",
    "\n",
    "print(df-s1,end='\\n\\n')\n",
    "\n",
    "s2 = Series(range(3),index=list('bef'))\n",
    "print('=============')\n",
    "print(s2,end='\\n\\n')\n",
    "print(df+s2)\n",
    "s3 = df['d']\n",
    "print('=============',end='\\n\\n')\n",
    "print('''\n",
    "열로 데이터 받아와도 Series로 변환후 연산하면 이렇게됨\n",
    "''')\n",
    "print(s3,end='\\n\\n')\n",
    "print(df-s3,end='\\n\\n')\n",
    "\n",
    "print('=============',end='\\n\\n')\n",
    "print('''\n",
    "열끼리 연산할 경우에는 abb/sub메소드에 axis옵션줘서 사용\n",
    "''')\n",
    "print(df.add(s3,axis=0))"
   ]
  },
  {
   "cell_type": "markdown",
   "metadata": {},
   "source": [
    "---\n",
    "\n",
    "### 함수 적용과 매핑"
   ]
  },
  {
   "cell_type": "code",
   "execution_count": 9,
   "metadata": {},
   "outputs": [
    {
     "name": "stdout",
     "output_type": "stream",
     "text": [
      "                c         d         e\n",
      "seoul   -1.299303  0.073510  0.194438\n",
      "busan   -2.440173  0.507220  2.183287\n",
      "daegu    1.376019  1.722053 -1.465485\n",
      "incheon  1.056334 -0.088646 -0.121921\n"
     ]
    }
   ],
   "source": [
    "import pandas as pd\n",
    "from pandas import Series,DataFrame\n",
    "import numpy as np\n",
    "\n",
    "#np.random모듈에 있는 randn함수는 임의의 정규분포 데이터를 생성한다.\n",
    "df = DataFrame(np.random.randn(4,3),columns=list('cde'),\\\n",
    "              index = ['seoul','busan','daegu','incheon'])\n",
    "print(df)"
   ]
  },
  {
   "cell_type": "code",
   "execution_count": 10,
   "metadata": {},
   "outputs": [
    {
     "data": {
      "text/html": [
       "<div>\n",
       "<style scoped>\n",
       "    .dataframe tbody tr th:only-of-type {\n",
       "        vertical-align: middle;\n",
       "    }\n",
       "\n",
       "    .dataframe tbody tr th {\n",
       "        vertical-align: top;\n",
       "    }\n",
       "\n",
       "    .dataframe thead th {\n",
       "        text-align: right;\n",
       "    }\n",
       "</style>\n",
       "<table border=\"1\" class=\"dataframe\">\n",
       "  <thead>\n",
       "    <tr style=\"text-align: right;\">\n",
       "      <th></th>\n",
       "      <th>c</th>\n",
       "      <th>d</th>\n",
       "      <th>e</th>\n",
       "    </tr>\n",
       "  </thead>\n",
       "  <tbody>\n",
       "    <tr>\n",
       "      <th>seoul</th>\n",
       "      <td>1.299303</td>\n",
       "      <td>0.073510</td>\n",
       "      <td>0.194438</td>\n",
       "    </tr>\n",
       "    <tr>\n",
       "      <th>busan</th>\n",
       "      <td>2.440173</td>\n",
       "      <td>0.507220</td>\n",
       "      <td>2.183287</td>\n",
       "    </tr>\n",
       "    <tr>\n",
       "      <th>daegu</th>\n",
       "      <td>1.376019</td>\n",
       "      <td>1.722053</td>\n",
       "      <td>1.465485</td>\n",
       "    </tr>\n",
       "    <tr>\n",
       "      <th>incheon</th>\n",
       "      <td>1.056334</td>\n",
       "      <td>0.088646</td>\n",
       "      <td>0.121921</td>\n",
       "    </tr>\n",
       "  </tbody>\n",
       "</table>\n",
       "</div>"
      ],
      "text/plain": [
       "                c         d         e\n",
       "seoul    1.299303  0.073510  0.194438\n",
       "busan    2.440173  0.507220  2.183287\n",
       "daegu    1.376019  1.722053  1.465485\n",
       "incheon  1.056334  0.088646  0.121921"
      ]
     },
     "execution_count": 10,
     "metadata": {},
     "output_type": "execute_result"
    }
   ],
   "source": [
    "np.abs(df)"
   ]
  },
  {
   "cell_type": "markdown",
   "metadata": {},
   "source": [
    "numpy에 사용하는 메소드도 사용할수 있음\n",
    "\n",
    "---"
   ]
  },
  {
   "cell_type": "code",
   "execution_count": 11,
   "metadata": {},
   "outputs": [
    {
     "name": "stdout",
     "output_type": "stream",
     "text": [
      "c    1.383839\n",
      "d    1.648543\n",
      "e    2.061366\n",
      "dtype: float64\n"
     ]
    }
   ],
   "source": [
    "#apply 메소드 사용하기\n",
    "f = lambda x:x.max()-x.min()\n",
    "\n",
    "print(df.abs().apply(f))"
   ]
  },
  {
   "cell_type": "code",
   "execution_count": 12,
   "metadata": {},
   "outputs": [
    {
     "name": "stdout",
     "output_type": "stream",
     "text": [
      "seoul      1.493741\n",
      "busan      4.623460\n",
      "daegu      3.187537\n",
      "incheon    1.178256\n",
      "dtype: float64\n"
     ]
    }
   ],
   "source": [
    "#행 기준으로\n",
    "print(df.apply(f,axis=1))"
   ]
  },
  {
   "cell_type": "code",
   "execution_count": 13,
   "metadata": {},
   "outputs": [
    {
     "data": {
      "text/plain": [
       "<matplotlib.axes._subplots.AxesSubplot at 0x16e535d9470>"
      ]
     },
     "execution_count": 13,
     "metadata": {},
     "output_type": "execute_result"
    }
   ],
   "source": [
    "a = Series(np.random.randn(10000))\n",
    "a.hist()"
   ]
  }
 ],
 "metadata": {
  "kernelspec": {
   "display_name": "Python 3",
   "language": "python",
   "name": "python3"
  },
  "language_info": {
   "codemirror_mode": {
    "name": "ipython",
    "version": 3
   },
   "file_extension": ".py",
   "mimetype": "text/x-python",
   "name": "python",
   "nbconvert_exporter": "python",
   "pygments_lexer": "ipython3",
   "version": "3.7.0"
  }
 },
 "nbformat": 4,
 "nbformat_minor": 2
}
