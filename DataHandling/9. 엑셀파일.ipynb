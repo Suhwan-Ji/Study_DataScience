{
 "cells": [
  {
   "cell_type": "markdown",
   "metadata": {},
   "source": [
    "# 엑셀 파일 분석\n",
    "\n",
    "- 파이썬에서 엑셀 파일을 분석하기 위해서는 파이썬 엑셀 라이브러리를 설치해야 한다.  \n",
    "- pip3 install openpyxl\n",
    "\n",
    "- openpyxl은 파이썬에서 엑셀파일을 읽고 쓸수 있는 라이브러리이다.\n",
    "- \"http://www.index.go.kr/main.do\" -> 소비자 물가지수 -> 엑셀\n",
    "\n",
    "## 엑셀파일의 구조  \n",
    "- 보통 엑셀 파일을 book이라고 부른다. book내부에는 여러개의 sheet가 존재한다.  \n",
    "- 각 시트는 행(row)과 열(column)을 가진 2차원의 셀(cell)로 구성되어 있다."
   ]
  },
  {
   "cell_type": "code",
   "execution_count": null,
   "metadata": {},
   "outputs": [],
   "source": [
    "import openpyxl\n",
    "\n",
    "#엑셀파일 열기\n",
    "fileName = 'stats_106001.xlsx'\n",
    "#엑셀 파일(book)을 불러오기\n",
    "book = openpyxl.load_workbook(fileName)\n",
    "\n",
    "#엑셀 파일에서 원하는 Sheet를 추출하기\n",
    "#worksheets[인덱스] : 인덱스가 0,1,2  배열처럼 인덱스 사용\n",
    "sheet = book.worksheets[0] #첫번째 시트를 가져온다\n",
    "\n",
    "#시트의 각 행을 순서대로 추출해 보기\n",
    "excel_data = [] #엑셀의 각 행을 담기 위한 리스트\n",
    "for row in sheet.rows:\n",
    "    excel_data.append([\n",
    "    row[0].value,\n",
    "    row[12].value    \n",
    "    ])\n",
    "    '''\n",
    "    excel_data.append([row[i].value for i in range(13)])\n",
    "    '''\n",
    "#필요없는 행(헤더) 제거하기\n",
    "del excel_data[0:2] #연도에 해당하는 부분지움\n",
    "\n",
    "for data in excel_data:\n",
    "    print(data)"
   ]
  },
  {
   "cell_type": "code",
   "execution_count": null,
   "metadata": {},
   "outputs": [],
   "source": [
    "import openpyxl\n",
    "\n",
    "fileName='stats_104102.xlsx'\n",
    "book = openpyxl.load_workbook(fileName)\n",
    "\n",
    "#첫번째 시트를 추출하기\n",
    "sheet = book.worksheets[0]\n",
    "\n",
    "# 시트의 행을 순서대로 추출하기\n",
    "excel_record = []\n",
    "'''\n",
    "for record in sheet.rows:\n",
    "    print(len(record))\n",
    "    excel_record.append([record[i].value for i in range(len(record))])\n",
    "'''\n",
    "for record in sheet.rows:\n",
    "    excel_record.append([\n",
    "        record[0].value,\n",
    "        record[9].value,\n",
    "    ])\n",
    "    \n",
    "#필요없는 부분 날림\n",
    "del excel_record[0:3]\n",
    "\n",
    "for data in excel_record:\n",
    "    print(data)"
   ]
  },
  {
   "cell_type": "code",
   "execution_count": null,
   "metadata": {},
   "outputs": [],
   "source": [
    "#데이터를 인구순으로 정렬하기 위한 값을 선택\n",
    "b = sorted(excel_record, key = lambda x:x[1])#,reverse=True)\n",
    "print(b)\n",
    "\n",
    "#하위 5개 지역 뽑기\n",
    "print('* 하위 5개 지역 :')\n",
    "for i,data in enumerate(b):\n",
    "    if i > 4:\n",
    "        break\n",
    "    print(data[0],end=',')"
   ]
  },
  {
   "cell_type": "code",
   "execution_count": null,
   "metadata": {},
   "outputs": [],
   "source": [
    "int('2100')"
   ]
  },
  {
   "cell_type": "code",
   "execution_count": null,
   "metadata": {},
   "outputs": [],
   "source": [
    "int('2,100'.replace(',',''))"
   ]
  },
  {
   "cell_type": "code",
   "execution_count": null,
   "metadata": {},
   "outputs": [],
   "source": [
    "eval('35+int(\"5\")')"
   ]
  },
  {
   "cell_type": "code",
   "execution_count": null,
   "metadata": {},
   "outputs": [],
   "source": [
    "type('dfdfdf') == str"
   ]
  },
  {
   "cell_type": "markdown",
   "metadata": {},
   "source": [
    "### enumerate 메소드는 순서가 있는 자료형(list, 튜플, 문자열)을 입력 받아 인덱스 값을 포함하는 객체를 리턴"
   ]
  },
  {
   "cell_type": "code",
   "execution_count": null,
   "metadata": {},
   "outputs": [],
   "source": [
    "a = [1,2,3,7,8,9,10]\n",
    "for i,name in enumerate(a):\n",
    "    print(i,name)"
   ]
  },
  {
   "cell_type": "code",
   "execution_count": null,
   "metadata": {},
   "outputs": [],
   "source": [
    "#참조\n",
    "'''\n",
    "sheet = file.active\n",
    "\n",
    "그러나 다른 sheet에 접근하고 싶다면  get_sheet_by_name() 메소드를 사용하는 것이 좋다.\n",
    "sheet = file.get_sheet_by_name(\"sheetname\")\n",
    "\n",
    "'''"
   ]
  },
  {
   "cell_type": "code",
   "execution_count": null,
   "metadata": {},
   "outputs": [],
   "source": [
    "#서울을 제외한 나머지 지역의 각 연도별 인구 합산해서 엑셀 파일에 추가\n",
    "import openpyxl\n",
    "fileName = 'stats_104102.xlsx'\n",
    "book = openpyxl.load_workbook(fileName)\n",
    "sheet = book.active#book.worksheets[0]\n",
    "#a = sheet['A3':'A5']\n",
    "\n",
    "#서울과 계에 해당하는 값을 제외한 인구수 합산하기\n",
    "for i in range(0,9):\n",
    "    #row = '2'\n",
    "    col = chr(ord('B')+i)\n",
    "    #print(sheet[col+'3'].value)\n",
    "    total = sheet[col+'3'].value\n",
    "    seoul = sheet[col+'4'].value\n",
    "    \n",
    "    res = total - seoul\n",
    "    print('서울을 제외한 인구 : ',res)\n",
    "    #print('서울을 제외한 인구 : ',format(res,',')) #format 이용해서 콤마 찍을수 있음\n",
    "\n",
    "#필요 없는 데이터 지우기\n",
    "    #sheet[chr(ord('A')+i)+'21'].value=''\n",
    "    #sheet[chr(ord('A')+i)+'22'].value=''\n",
    "    \n",
    "    sheet[chr(ord('B')+i)+'21'].value=res\n",
    "sheet[chr(ord('A'))+'21'].value = '서울뺀 합계'\n",
    "'''\n",
    "cell = sheet[chr(ord('A'))+'21']\n",
    "cell.font = openpyxl.styles.Font(size = 14, color='FF0000')\n",
    "'''\n",
    "style1=openpyxl.styles.Font(size = 14, color='FF0000')\n",
    "sheet[chr(ord('A'))+'21'].font = style1\n",
    "\n",
    "#엑셀 파일에 결과를 쓰기\n",
    "fileName2 = 'stat_result.xlsx'\n",
    "book.save(fileName2)"
   ]
  },
  {
   "cell_type": "code",
   "execution_count": null,
   "metadata": {},
   "outputs": [],
   "source": [
    "?format"
   ]
  },
  {
   "cell_type": "code",
   "execution_count": null,
   "metadata": {},
   "outputs": [],
   "source": [
    "chr(66)+'5'"
   ]
  },
  {
   "cell_type": "code",
   "execution_count": null,
   "metadata": {},
   "outputs": [],
   "source": [
    "len(sheet['1'])"
   ]
  },
  {
   "cell_type": "code",
   "execution_count": null,
   "metadata": {},
   "outputs": [],
   "source": []
  }
 ],
 "metadata": {
  "kernelspec": {
   "display_name": "Python 3",
   "language": "python",
   "name": "python3"
  },
  "language_info": {
   "codemirror_mode": {
    "name": "ipython",
    "version": 3
   },
   "file_extension": ".py",
   "mimetype": "text/x-python",
   "name": "python",
   "nbconvert_exporter": "python",
   "pygments_lexer": "ipython3",
   "version": "3.7.0"
  }
 },
 "nbformat": 4,
 "nbformat_minor": 2
}
