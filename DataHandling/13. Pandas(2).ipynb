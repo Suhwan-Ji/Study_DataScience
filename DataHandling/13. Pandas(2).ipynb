{
 "cells": [
  {
   "cell_type": "markdown",
   "metadata": {},
   "source": [
    "짝이 맞지않는 두개의 개체를 더했을때 어케 변할까?  \n",
    "**색인**이 다른 객체를 더하는 산술연산"
   ]
  },
  {
   "cell_type": "code",
   "execution_count": 1,
   "metadata": {},
   "outputs": [
    {
     "name": "stdout",
     "output_type": "stream",
     "text": [
      "a    5\n",
      "c    6\n",
      "d   -1\n",
      "e    2\n",
      "dtype: int64\n",
      "\n",
      "a    3\n",
      "c    4\n",
      "e   -1\n",
      "f    2\n",
      "g    7\n",
      "dtype: int64\n",
      "\n",
      "a     8.0\n",
      "c    10.0\n",
      "d     NaN\n",
      "e     1.0\n",
      "f     NaN\n",
      "g     NaN\n",
      "dtype: float64\n"
     ]
    }
   ],
   "source": [
    "import pandas as pd\n",
    "from pandas import Series,DataFrame\n",
    "import numpy as np\n",
    "\n",
    "s1 = Series([5,6,-1,2],index=['a','c','d','e'])\n",
    "s2 = Series([3,4,-1,2,7],index = ['a','c','e','f','g'])\n",
    "print(s1,end='\\n\\n')\n",
    "print(s2,end='\\n\\n')\n",
    "print(s1+s2)\n"
   ]
  },
  {
   "cell_type": "markdown",
   "metadata": {},
   "source": [
    "<a color='blue'>있는 인덱스 끼리만 더해짐</a><br>\n",
    "하나라도 없는 놈들은 NaN\n",
    "\n",
    "---\n"
   ]
  },
  {
   "cell_type": "code",
   "execution_count": 2,
   "metadata": {},
   "outputs": [
    {
     "data": {
      "text/plain": [
       "['b', 'd', 'c']"
      ]
     },
     "execution_count": 2,
     "metadata": {},
     "output_type": "execute_result"
    }
   ],
   "source": [
    "list('bdc')"
   ]
  },
  {
   "cell_type": "code",
   "execution_count": 3,
   "metadata": {},
   "outputs": [
    {
     "name": "stdout",
     "output_type": "stream",
     "text": [
      "         b  c  d\n",
      "seoul    0  1  2\n",
      "busan    3  4  5\n",
      "kwangju  6  7  8\n",
      "\n",
      "         b   d   e\n",
      "incheon  0   1   2\n",
      "seoul    3   4   5\n",
      "busan    6   7   8\n",
      "suwon    9  10  11\n",
      "\n",
      "           b   c     d   e\n",
      "busan    9.0 NaN  12.0 NaN\n",
      "incheon  NaN NaN   NaN NaN\n",
      "kwangju  NaN NaN   NaN NaN\n",
      "seoul    3.0 NaN   6.0 NaN\n",
      "suwon    NaN NaN   NaN NaN\n"
     ]
    }
   ],
   "source": [
    "df1 = DataFrame(np.arange(9).reshape(3,3), columns =list('bcd'),\\\n",
    "                index = ['seoul','busan','kwangju'])\n",
    "df2 = DataFrame(np.arange(12).reshape(4,3), columns =list('bde'),\\\n",
    "                index = ['incheon','seoul','busan','suwon'])\n",
    "\n",
    "print(df1,end='\\n\\n')\n",
    "print(df2,end='\\n\\n')\n",
    "print(df1+df2)"
   ]
  },
  {
   "cell_type": "markdown",
   "metadata": {},
   "source": [
    "index 와 column 모두 같아야 더해짐\n",
    "\n",
    "---"
   ]
  },
  {
   "cell_type": "code",
   "execution_count": 4,
   "metadata": {},
   "outputs": [
    {
     "name": "stdout",
     "output_type": "stream",
     "text": [
      "   a  b   c   d\n",
      "0  0  1   2   3\n",
      "1  4  5   6   7\n",
      "2  8  9  10  11\n",
      "\n",
      "    a   b   c   d   e\n",
      "0   0   1   2   3   4\n",
      "1   5   6   7   8   9\n",
      "2  10  11  12  13  14\n",
      "3  15  16  17  18  19\n",
      "\n",
      "      a     b     c     d   e\n",
      "0   0.0   2.0   4.0   6.0 NaN\n",
      "1   9.0  11.0  13.0  15.0 NaN\n",
      "2  18.0  20.0  22.0  24.0 NaN\n",
      "3   NaN   NaN   NaN   NaN NaN\n"
     ]
    }
   ],
   "source": [
    "df3 = DataFrame(np.arange(12).reshape(3,4),columns=list('abcd'))\n",
    "df4 = DataFrame(np.arange(20).reshape(4,5),columns=list('abcde'))\n",
    "print(df3,end='\\n\\n')\n",
    "print(df4,end='\\n\\n')\n",
    "print(df3+df4)"
   ]
  },
  {
   "cell_type": "code",
   "execution_count": 5,
   "metadata": {},
   "outputs": [
    {
     "data": {
      "text/html": [
       "<div>\n",
       "<style scoped>\n",
       "    .dataframe tbody tr th:only-of-type {\n",
       "        vertical-align: middle;\n",
       "    }\n",
       "\n",
       "    .dataframe tbody tr th {\n",
       "        vertical-align: top;\n",
       "    }\n",
       "\n",
       "    .dataframe thead th {\n",
       "        text-align: right;\n",
       "    }\n",
       "</style>\n",
       "<table border=\"1\" class=\"dataframe\">\n",
       "  <thead>\n",
       "    <tr style=\"text-align: right;\">\n",
       "      <th></th>\n",
       "      <th>a</th>\n",
       "      <th>b</th>\n",
       "      <th>c</th>\n",
       "      <th>d</th>\n",
       "      <th>e</th>\n",
       "    </tr>\n",
       "  </thead>\n",
       "  <tbody>\n",
       "    <tr>\n",
       "      <th>0</th>\n",
       "      <td>0.0</td>\n",
       "      <td>2.0</td>\n",
       "      <td>4.0</td>\n",
       "      <td>6.0</td>\n",
       "      <td>4.0</td>\n",
       "    </tr>\n",
       "    <tr>\n",
       "      <th>1</th>\n",
       "      <td>9.0</td>\n",
       "      <td>11.0</td>\n",
       "      <td>13.0</td>\n",
       "      <td>15.0</td>\n",
       "      <td>9.0</td>\n",
       "    </tr>\n",
       "    <tr>\n",
       "      <th>2</th>\n",
       "      <td>18.0</td>\n",
       "      <td>20.0</td>\n",
       "      <td>22.0</td>\n",
       "      <td>24.0</td>\n",
       "      <td>14.0</td>\n",
       "    </tr>\n",
       "    <tr>\n",
       "      <th>3</th>\n",
       "      <td>15.0</td>\n",
       "      <td>16.0</td>\n",
       "      <td>17.0</td>\n",
       "      <td>18.0</td>\n",
       "      <td>19.0</td>\n",
       "    </tr>\n",
       "  </tbody>\n",
       "</table>\n",
       "</div>"
      ],
      "text/plain": [
       "      a     b     c     d     e\n",
       "0   0.0   2.0   4.0   6.0   4.0\n",
       "1   9.0  11.0  13.0  15.0   9.0\n",
       "2  18.0  20.0  22.0  24.0  14.0\n",
       "3  15.0  16.0  17.0  18.0  19.0"
      ]
     },
     "execution_count": 5,
     "metadata": {},
     "output_type": "execute_result"
    }
   ],
   "source": [
    "#옵션을 활용하여 NaN을 0으로 바꾸기\n",
    "df3.add(df4,fill_value=0)"
   ]
  },
  {
   "cell_type": "markdown",
   "metadata": {},
   "source": [
    "없는 놈이 있으면 그놈을 0으로 가정하고 계산해줌\n",
    "\n",
    "---"
   ]
  },
  {
   "cell_type": "code",
   "execution_count": 6,
   "metadata": {},
   "outputs": [
    {
     "name": "stdout",
     "output_type": "stream",
     "text": [
      "     a    b     c     d   e\n",
      "0  0.0  1.0   2.0   3.0 NaN\n",
      "1  4.0  5.0   6.0   7.0 NaN\n",
      "2  8.0  9.0  10.0  11.0 NaN\n",
      "3  NaN  NaN   NaN   NaN NaN\n",
      "\n",
      "   a  b   c   d  e\n",
      "0  0  1   2   3  0\n",
      "1  4  5   6   7  0\n",
      "2  8  9  10  11  0\n",
      "3  0  0   0   0  0\n",
      "\n"
     ]
    }
   ],
   "source": [
    "print(df3.reindex(index = df4.index,columns=df4.columns),end='\\n\\n')\n",
    "print(df3.reindex(index = df4.index,columns=df4.columns,fill_value=0),end='\\n\\n')"
   ]
  },
  {
   "cell_type": "markdown",
   "metadata": {},
   "source": [
    "### DataFrame과 Series의 연산"
   ]
  },
  {
   "cell_type": "code",
   "execution_count": 7,
   "metadata": {},
   "outputs": [
    {
     "name": "stdout",
     "output_type": "stream",
     "text": [
      "[[ 0  1  2  3]\n",
      " [ 4  5  6  7]\n",
      " [ 8  9 10 11]]\n",
      "[[0 0 0 0]\n",
      " [4 4 4 4]\n",
      " [8 8 8 8]]\n"
     ]
    }
   ],
   "source": [
    "arr = np.arange(12).reshape(3,4)\n",
    "print(arr)\n",
    "print(arr-arr[0]) #브로드 캐스팅"
   ]
  },
  {
   "cell_type": "code",
   "execution_count": 8,
   "metadata": {},
   "outputs": [
    {
     "name": "stdout",
     "output_type": "stream",
     "text": [
      "         b   d   e\n",
      "seoul    0   1   2\n",
      "kwangju  3   4   5\n",
      "daegue   6   7   8\n",
      "incheon  9  10  11\n",
      "\n",
      "b    0\n",
      "d    1\n",
      "e    2\n",
      "Name: seoul, dtype: int32\n",
      "\n",
      "         b  d  e\n",
      "seoul    0  0  0\n",
      "kwangju  3  3  3\n",
      "daegue   6  6  6\n",
      "incheon  9  9  9\n",
      "\n",
      "=============\n",
      "b    0\n",
      "e    1\n",
      "f    2\n",
      "dtype: int64\n",
      "\n",
      "           b   d     e   f\n",
      "seoul    0.0 NaN   3.0 NaN\n",
      "kwangju  3.0 NaN   6.0 NaN\n",
      "daegue   6.0 NaN   9.0 NaN\n",
      "incheon  9.0 NaN  12.0 NaN\n",
      "=============\n",
      "\n",
      "\n",
      "열로 데이터 받아와도 Series로 변환후 연산하면 이렇게됨\n",
      "\n",
      "seoul       1\n",
      "kwangju     4\n",
      "daegue      7\n",
      "incheon    10\n",
      "Name: d, dtype: int32\n",
      "\n",
      "          b   d  daegue   e  incheon  kwangju  seoul\n",
      "seoul   NaN NaN     NaN NaN      NaN      NaN    NaN\n",
      "kwangju NaN NaN     NaN NaN      NaN      NaN    NaN\n",
      "daegue  NaN NaN     NaN NaN      NaN      NaN    NaN\n",
      "incheon NaN NaN     NaN NaN      NaN      NaN    NaN\n",
      "\n",
      "=============\n",
      "\n",
      "\n",
      "열끼리 연산할 경우에는 abb/sub메소드에 axis옵션줘서 사용\n",
      "\n",
      "          b   d   e\n",
      "seoul     1   2   3\n",
      "kwangju   7   8   9\n",
      "daegue   13  14  15\n",
      "incheon  19  20  21\n"
     ]
    }
   ],
   "source": [
    "df = DataFrame(np.arange(12).reshape(4,3),columns=list('bde'),\\\n",
    "              index = ['seoul','kwangju','daegue','incheon'])\n",
    "print(df,end='\\n\\n')\n",
    "\n",
    "s1 = df.iloc[0]\n",
    "print(s1,end='\\n\\n')\n",
    "\n",
    "print(df-s1,end='\\n\\n')\n",
    "\n",
    "s2 = Series(range(3),index=list('bef'))\n",
    "print('=============')\n",
    "print(s2,end='\\n\\n')\n",
    "print(df+s2)\n",
    "s3 = df['d']\n",
    "print('=============',end='\\n\\n')\n",
    "print('''\n",
    "열로 데이터 받아와도 Series로 변환후 연산하면 이렇게됨\n",
    "''')\n",
    "print(s3,end='\\n\\n')\n",
    "print(df-s3,end='\\n\\n')\n",
    "\n",
    "print('=============',end='\\n\\n')\n",
    "print('''\n",
    "열끼리 연산할 경우에는 abb/sub메소드에 axis옵션줘서 사용\n",
    "''')\n",
    "print(df.add(s3,axis=0))"
   ]
  },
  {
   "cell_type": "markdown",
   "metadata": {},
   "source": [
    "---\n",
    "\n",
    "### 함수 적용과 매핑"
   ]
  },
  {
   "cell_type": "code",
   "execution_count": 9,
   "metadata": {},
   "outputs": [
    {
     "name": "stdout",
     "output_type": "stream",
     "text": [
      "                c         d         e\n",
      "seoul   -0.154484 -2.374121 -0.805533\n",
      "busan    0.874166  0.473392  0.427622\n",
      "daegu    0.593609 -1.674900  2.668389\n",
      "incheon  0.082363  0.061635 -1.007444\n"
     ]
    }
   ],
   "source": [
    "import pandas as pd\n",
    "from pandas import Series,DataFrame\n",
    "import numpy as np\n",
    "\n",
    "#np.random모듈에 있는 randn함수는 임의의 정규분포 데이터를 생성한다.\n",
    "df = DataFrame(np.random.randn(4,3),columns=list('cde'),\\\n",
    "              index = ['seoul','busan','daegu','incheon'])\n",
    "print(df)"
   ]
  },
  {
   "cell_type": "code",
   "execution_count": 10,
   "metadata": {},
   "outputs": [
    {
     "data": {
      "text/html": [
       "<div>\n",
       "<style scoped>\n",
       "    .dataframe tbody tr th:only-of-type {\n",
       "        vertical-align: middle;\n",
       "    }\n",
       "\n",
       "    .dataframe tbody tr th {\n",
       "        vertical-align: top;\n",
       "    }\n",
       "\n",
       "    .dataframe thead th {\n",
       "        text-align: right;\n",
       "    }\n",
       "</style>\n",
       "<table border=\"1\" class=\"dataframe\">\n",
       "  <thead>\n",
       "    <tr style=\"text-align: right;\">\n",
       "      <th></th>\n",
       "      <th>c</th>\n",
       "      <th>d</th>\n",
       "      <th>e</th>\n",
       "    </tr>\n",
       "  </thead>\n",
       "  <tbody>\n",
       "    <tr>\n",
       "      <th>seoul</th>\n",
       "      <td>0.154484</td>\n",
       "      <td>2.374121</td>\n",
       "      <td>0.805533</td>\n",
       "    </tr>\n",
       "    <tr>\n",
       "      <th>busan</th>\n",
       "      <td>0.874166</td>\n",
       "      <td>0.473392</td>\n",
       "      <td>0.427622</td>\n",
       "    </tr>\n",
       "    <tr>\n",
       "      <th>daegu</th>\n",
       "      <td>0.593609</td>\n",
       "      <td>1.674900</td>\n",
       "      <td>2.668389</td>\n",
       "    </tr>\n",
       "    <tr>\n",
       "      <th>incheon</th>\n",
       "      <td>0.082363</td>\n",
       "      <td>0.061635</td>\n",
       "      <td>1.007444</td>\n",
       "    </tr>\n",
       "  </tbody>\n",
       "</table>\n",
       "</div>"
      ],
      "text/plain": [
       "                c         d         e\n",
       "seoul    0.154484  2.374121  0.805533\n",
       "busan    0.874166  0.473392  0.427622\n",
       "daegu    0.593609  1.674900  2.668389\n",
       "incheon  0.082363  0.061635  1.007444"
      ]
     },
     "execution_count": 10,
     "metadata": {},
     "output_type": "execute_result"
    }
   ],
   "source": [
    "np.abs(df)"
   ]
  },
  {
   "cell_type": "markdown",
   "metadata": {},
   "source": [
    "numpy에 사용하는 메소드도 사용할수 있음\n",
    "\n",
    "---"
   ]
  },
  {
   "cell_type": "code",
   "execution_count": 11,
   "metadata": {},
   "outputs": [
    {
     "name": "stdout",
     "output_type": "stream",
     "text": [
      "c    0.791802\n",
      "d    2.312486\n",
      "e    2.240767\n",
      "dtype: float64\n"
     ]
    }
   ],
   "source": [
    "#apply 메소드 사용하기\n",
    "f = lambda x:x.max()-x.min()\n",
    "\n",
    "print(df.abs().apply(f))"
   ]
  },
  {
   "cell_type": "code",
   "execution_count": 12,
   "metadata": {},
   "outputs": [
    {
     "name": "stdout",
     "output_type": "stream",
     "text": [
      "seoul      2.219637\n",
      "busan      0.446544\n",
      "daegu      4.343289\n",
      "incheon    1.089807\n",
      "dtype: float64\n"
     ]
    }
   ],
   "source": [
    "#행 기준으로\n",
    "print(df.apply(f,axis=1))"
   ]
  },
  {
   "cell_type": "code",
   "execution_count": 13,
   "metadata": {},
   "outputs": [
    {
     "data": {
      "text/plain": [
       "<matplotlib.axes._subplots.AxesSubplot at 0x1e6c92242e8>"
      ]
     },
     "execution_count": 13,
     "metadata": {},
     "output_type": "execute_result"
    }
   ],
   "source": [
    "a = Series(np.random.randn(10000))\n",
    "a.hist()"
   ]
  },
  {
   "cell_type": "markdown",
   "metadata": {},
   "source": [
    "---\n",
    "\n",
    "## 함수 매핑"
   ]
  },
  {
   "cell_type": "code",
   "execution_count": 14,
   "metadata": {},
   "outputs": [
    {
     "name": "stdout",
     "output_type": "stream",
     "text": [
      "                c         d         e\n",
      "seoul    0.273675 -1.251516  0.491394\n",
      "busan   -0.042478  0.273424 -0.845289\n",
      "daegu   -1.486657 -0.800750 -0.574081\n",
      "incheon -1.632847 -0.309249  0.889522\n",
      "=========================\n",
      "            c         d         e\n",
      "min -1.632847 -1.251516 -0.845289\n",
      "max  0.273675  0.273424  0.889522\n",
      "=========================\n",
      "              min       max\n",
      "seoul   -1.251516  0.491394\n",
      "busan   -0.845289  0.273424\n",
      "daegu   -1.486657 -0.574081\n",
      "incheon -1.632847  0.889522\n",
      "\n",
      "apply 메소드를 이용하여 함수를 적용할수 있음\n"
     ]
    }
   ],
   "source": [
    "import pandas as pd\n",
    "import numpy as np\n",
    "\n",
    "def f(x):\n",
    "    return pd.Series([x.min(),x.max()], index = ['min','max'])\n",
    "\n",
    "df = pd.DataFrame(np.random.randn(4,3),columns=list('cde'),\\\n",
    "              index = ['seoul','busan','daegu','incheon'])\n",
    "\n",
    "print(df,end='\\n=========================\\n')\n",
    "print(df.apply(f),end='\\n=========================\\n')\n",
    "print(df.apply(f,axis=1))\n",
    "print('''\n",
    "apply 메소드를 이용하여 함수를 적용할수 있음''')"
   ]
  },
  {
   "cell_type": "code",
   "execution_count": 15,
   "metadata": {},
   "outputs": [
    {
     "name": "stdout",
     "output_type": "stream",
     "text": [
      ".applymap은 각 인자별로 적용되는 듯\n"
     ]
    },
    {
     "data": {
      "text/html": [
       "<div>\n",
       "<style scoped>\n",
       "    .dataframe tbody tr th:only-of-type {\n",
       "        vertical-align: middle;\n",
       "    }\n",
       "\n",
       "    .dataframe tbody tr th {\n",
       "        vertical-align: top;\n",
       "    }\n",
       "\n",
       "    .dataframe thead th {\n",
       "        text-align: right;\n",
       "    }\n",
       "</style>\n",
       "<table border=\"1\" class=\"dataframe\">\n",
       "  <thead>\n",
       "    <tr style=\"text-align: right;\">\n",
       "      <th></th>\n",
       "      <th>c</th>\n",
       "      <th>d</th>\n",
       "      <th>e</th>\n",
       "    </tr>\n",
       "  </thead>\n",
       "  <tbody>\n",
       "    <tr>\n",
       "      <th>seoul</th>\n",
       "      <td>0.27</td>\n",
       "      <td>-1.25</td>\n",
       "      <td>0.49</td>\n",
       "    </tr>\n",
       "    <tr>\n",
       "      <th>busan</th>\n",
       "      <td>-0.04</td>\n",
       "      <td>0.27</td>\n",
       "      <td>-0.85</td>\n",
       "    </tr>\n",
       "    <tr>\n",
       "      <th>daegu</th>\n",
       "      <td>-1.49</td>\n",
       "      <td>-0.80</td>\n",
       "      <td>-0.57</td>\n",
       "    </tr>\n",
       "    <tr>\n",
       "      <th>incheon</th>\n",
       "      <td>-1.63</td>\n",
       "      <td>-0.31</td>\n",
       "      <td>0.89</td>\n",
       "    </tr>\n",
       "  </tbody>\n",
       "</table>\n",
       "</div>"
      ],
      "text/plain": [
       "             c      d      e\n",
       "seoul     0.27  -1.25   0.49\n",
       "busan    -0.04   0.27  -0.85\n",
       "daegu    -1.49  -0.80  -0.57\n",
       "incheon  -1.63  -0.31   0.89"
      ]
     },
     "execution_count": 15,
     "metadata": {},
     "output_type": "execute_result"
    }
   ],
   "source": [
    "# 데이터 프레임 객체에서 실수 값을 문자열 포맷으로 변환할 경우\n",
    "# applymap 함수 사용\n",
    "print('.applymap은 각 인자별로 적용되는 듯')\n",
    "form = lambda x: '%.2f'%x\n",
    "\n",
    "df.applymap(form)"
   ]
  },
  {
   "cell_type": "code",
   "execution_count": 16,
   "metadata": {},
   "outputs": [
    {
     "name": "stdout",
     "output_type": "stream",
     "text": [
      "Series 객체의 경우 .map() 이용\n"
     ]
    },
    {
     "data": {
      "text/plain": [
       "seoul       0.49\n",
       "busan      -0.85\n",
       "daegu      -0.57\n",
       "incheon     0.89\n",
       "Name: e, dtype: object"
      ]
     },
     "execution_count": 16,
     "metadata": {},
     "output_type": "execute_result"
    }
   ],
   "source": [
    "print('Series 객체의 경우 .map() 이용')\n",
    "df['e'].map(form)"
   ]
  },
  {
   "cell_type": "markdown",
   "metadata": {},
   "source": [
    "---\n",
    "\n",
    "## 정렬과 순위  \n",
    "- 행의 색인이나 열의 색인 순으로 정렬하는 등의 기준이 필요"
   ]
  },
  {
   "cell_type": "code",
   "execution_count": 17,
   "metadata": {},
   "outputs": [
    {
     "name": "stdout",
     "output_type": "stream",
     "text": [
      "index 순으로 정렬할시 .sort_index()\n",
      "busan      0.44\n",
      "daegu      1.54\n",
      "incheon    0.53\n",
      "seoul      0.90\n",
      "Name: e, dtype: object\n",
      "=========\n",
      "value 순으로 정렬할시 .sort_values()\n",
      "busan      0.44\n",
      "incheon    0.53\n",
      "seoul      0.90\n",
      "daegu      1.54\n",
      "Name: e, dtype: object\n",
      "=========\n"
     ]
    }
   ],
   "source": [
    "import pandas as pd\n",
    "from pandas import DataFrame,Series\n",
    "import numpy as np\n",
    "\n",
    "df = DataFrame(np.random.randn(4,3), columns = list('bde'),\\\n",
    "              index = ['seoul','busan','daegu','incheon'])\n",
    "\n",
    "form = lambda x:'%.2f'%x\n",
    "\n",
    "s1 = df['e'].map(form)\n",
    "print('index 순으로 정렬할시 .sort_index()')\n",
    "print(s1.sort_index(),end='\\n=========\\n')\n",
    "print('value 순으로 정렬할시 .sort_values()')\n",
    "print(s1.sort_values(),end='\\n=========\\n')\n"
   ]
  },
  {
   "cell_type": "code",
   "execution_count": 18,
   "metadata": {},
   "outputs": [
    {
     "name": "stdout",
     "output_type": "stream",
     "text": [
      "       d  a  b  c\n",
      "three  0  1  2  3\n",
      "one    4  5  6  7\n",
      "==============\n",
      ".sort_index\n",
      "       d  a  b  c\n",
      "one    4  5  6  7\n",
      "three  0  1  2  3\n",
      "==============\n",
      ".sort_index axis 옵션추가 => 컬럼이름 기준\n",
      "       a  b  c  d\n",
      "three  1  2  3  0\n",
      "one    5  6  7  4\n",
      "==============\n",
      ".sort_value(\"d\")\n",
      "       d  a  b  c\n",
      "three  0  1  2  3\n",
      "one    4  5  6  7\n",
      "==============\n",
      ".sort_value(\"d\",acsending=False)\n",
      "       d  a  b  c\n",
      "one    4  5  6  7\n",
      "three  0  1  2  3\n",
      "==============\n"
     ]
    }
   ],
   "source": [
    "df2 = DataFrame(np.arange(8).reshape(2,4), index=['three','one'],columns=['d','a','b','c'])\n",
    "print(df2,end='\\n==============\\n')\n",
    "print('.sort_index')\n",
    "print(df2.sort_index(),end='\\n==============\\n')\n",
    "print('.sort_index axis 옵션추가 => 컬럼이름 기준')\n",
    "print(df2.sort_index(axis=1),end='\\n==============\\n')\n",
    "print('.sort_value(\"d\")')\n",
    "print(df2.sort_values('d'),end='\\n==============\\n')\n",
    "print('.sort_value(\"d\",acsending=False)')\n",
    "print(df2.sort_values('d',ascending=False),end='\\n==============\\n')"
   ]
  },
  {
   "cell_type": "markdown",
   "metadata": {},
   "source": [
    "데이터(색인,값)는 기본적으로 오름차순으로 정렬이 된다.  \n",
    "ascending 옵션으로 내림차순으로 변경가능\n",
    "\n",
    "---"
   ]
  },
  {
   "cell_type": "code",
   "execution_count": 19,
   "metadata": {},
   "outputs": [
    {
     "name": "stdout",
     "output_type": "stream",
     "text": [
      "0     4.0\n",
      "1     NaN\n",
      "2     8.0\n",
      "3     NaN\n",
      "4   -10.0\n",
      "5     2.0\n",
      "dtype: float64\n",
      "\n",
      "===========\n",
      "\n",
      "Nan 값이 포함되어있을때 정렬하면??\n",
      ".sort_values()\n",
      "4   -10.0\n",
      "5     2.0\n",
      "0     4.0\n",
      "2     8.0\n",
      "1     NaN\n",
      "3     NaN\n",
      "dtype: float64\n"
     ]
    }
   ],
   "source": [
    "obj1 = Series([4,np.nan,8,np.nan,-10,2])\n",
    "print(obj1)\n",
    "print('\\n===========\\n')\n",
    "print('Nan 값이 포함되어있을때 정렬하면??')\n",
    "print('.sort_values()')\n",
    "print(obj1.sort_values())"
   ]
  },
  {
   "cell_type": "markdown",
   "metadata": {},
   "source": [
    "Nan 값은 가장 마지막으로 나온다 (ascending 옵션 상관없이)"
   ]
  }
 ],
 "metadata": {
  "kernelspec": {
   "display_name": "Python 3",
   "language": "python",
   "name": "python3"
  },
  "language_info": {
   "codemirror_mode": {
    "name": "ipython",
    "version": 3
   },
   "file_extension": ".py",
   "mimetype": "text/x-python",
   "name": "python",
   "nbconvert_exporter": "python",
   "pygments_lexer": "ipython3",
   "version": "3.7.0"
  }
 },
 "nbformat": 4,
 "nbformat_minor": 2
}
