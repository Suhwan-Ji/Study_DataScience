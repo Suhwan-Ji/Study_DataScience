{
 "cells": [
  {
   "cell_type": "markdown",
   "metadata": {},
   "source": [
    "짝이 맞지않는 두개의 개체를 더했을때 어케 변할까?  \n",
    "**색인**이 다른 객체를 더하는 산술연산"
   ]
  },
  {
   "cell_type": "code",
   "execution_count": 1,
   "metadata": {},
   "outputs": [
    {
     "name": "stdout",
     "output_type": "stream",
     "text": [
      "a    5\n",
      "c    6\n",
      "d   -1\n",
      "e    2\n",
      "dtype: int64\n",
      "\n",
      "a    3\n",
      "c    4\n",
      "e   -1\n",
      "f    2\n",
      "g    7\n",
      "dtype: int64\n",
      "\n",
      "a     8.0\n",
      "c    10.0\n",
      "d     NaN\n",
      "e     1.0\n",
      "f     NaN\n",
      "g     NaN\n",
      "dtype: float64\n"
     ]
    }
   ],
   "source": [
    "import pandas as pd\n",
    "from pandas import Series,DataFrame\n",
    "import numpy as np\n",
    "\n",
    "s1 = Series([5,6,-1,2],index=['a','c','d','e'])\n",
    "s2 = Series([3,4,-1,2,7],index = ['a','c','e','f','g'])\n",
    "print(s1,end='\\n\\n')\n",
    "print(s2,end='\\n\\n')\n",
    "print(s1+s2)\n"
   ]
  },
  {
   "cell_type": "markdown",
   "metadata": {},
   "source": [
    "<a color='blue'>있는 인덱스 끼리만 더해짐</a><br>\n",
    "하나라도 없는 놈들은 NaN\n",
    "\n",
    "---\n"
   ]
  },
  {
   "cell_type": "code",
   "execution_count": 2,
   "metadata": {},
   "outputs": [
    {
     "data": {
      "text/plain": [
       "['b', 'd', 'c']"
      ]
     },
     "execution_count": 2,
     "metadata": {},
     "output_type": "execute_result"
    }
   ],
   "source": [
    "list('bdc')"
   ]
  },
  {
   "cell_type": "code",
   "execution_count": 3,
   "metadata": {},
   "outputs": [
    {
     "name": "stdout",
     "output_type": "stream",
     "text": [
      "         b  c  d\n",
      "seoul    0  1  2\n",
      "busan    3  4  5\n",
      "kwangju  6  7  8\n",
      "\n",
      "         b   d   e\n",
      "incheon  0   1   2\n",
      "seoul    3   4   5\n",
      "busan    6   7   8\n",
      "suwon    9  10  11\n",
      "\n",
      "           b   c     d   e\n",
      "busan    9.0 NaN  12.0 NaN\n",
      "incheon  NaN NaN   NaN NaN\n",
      "kwangju  NaN NaN   NaN NaN\n",
      "seoul    3.0 NaN   6.0 NaN\n",
      "suwon    NaN NaN   NaN NaN\n"
     ]
    }
   ],
   "source": [
    "df1 = DataFrame(np.arange(9).reshape(3,3), columns =list('bcd'),\\\n",
    "                index = ['seoul','busan','kwangju'])\n",
    "df2 = DataFrame(np.arange(12).reshape(4,3), columns =list('bde'),\\\n",
    "                index = ['incheon','seoul','busan','suwon'])\n",
    "\n",
    "print(df1,end='\\n\\n')\n",
    "print(df2,end='\\n\\n')\n",
    "print(df1+df2)"
   ]
  },
  {
   "cell_type": "markdown",
   "metadata": {},
   "source": [
    "index 와 column 모두 같아야 더해짐\n",
    "\n",
    "---"
   ]
  },
  {
   "cell_type": "code",
   "execution_count": 4,
   "metadata": {},
   "outputs": [
    {
     "name": "stdout",
     "output_type": "stream",
     "text": [
      "   a  b   c   d\n",
      "0  0  1   2   3\n",
      "1  4  5   6   7\n",
      "2  8  9  10  11\n",
      "\n",
      "    a   b   c   d   e\n",
      "0   0   1   2   3   4\n",
      "1   5   6   7   8   9\n",
      "2  10  11  12  13  14\n",
      "3  15  16  17  18  19\n",
      "\n",
      "      a     b     c     d   e\n",
      "0   0.0   2.0   4.0   6.0 NaN\n",
      "1   9.0  11.0  13.0  15.0 NaN\n",
      "2  18.0  20.0  22.0  24.0 NaN\n",
      "3   NaN   NaN   NaN   NaN NaN\n"
     ]
    }
   ],
   "source": [
    "df3 = DataFrame(np.arange(12).reshape(3,4),columns=list('abcd'))\n",
    "df4 = DataFrame(np.arange(20).reshape(4,5),columns=list('abcde'))\n",
    "print(df3,end='\\n\\n')\n",
    "print(df4,end='\\n\\n')\n",
    "print(df3+df4)"
   ]
  },
  {
   "cell_type": "code",
   "execution_count": 5,
   "metadata": {},
   "outputs": [
    {
     "data": {
      "text/html": [
       "<div>\n",
       "<style scoped>\n",
       "    .dataframe tbody tr th:only-of-type {\n",
       "        vertical-align: middle;\n",
       "    }\n",
       "\n",
       "    .dataframe tbody tr th {\n",
       "        vertical-align: top;\n",
       "    }\n",
       "\n",
       "    .dataframe thead th {\n",
       "        text-align: right;\n",
       "    }\n",
       "</style>\n",
       "<table border=\"1\" class=\"dataframe\">\n",
       "  <thead>\n",
       "    <tr style=\"text-align: right;\">\n",
       "      <th></th>\n",
       "      <th>a</th>\n",
       "      <th>b</th>\n",
       "      <th>c</th>\n",
       "      <th>d</th>\n",
       "      <th>e</th>\n",
       "    </tr>\n",
       "  </thead>\n",
       "  <tbody>\n",
       "    <tr>\n",
       "      <th>0</th>\n",
       "      <td>0.0</td>\n",
       "      <td>2.0</td>\n",
       "      <td>4.0</td>\n",
       "      <td>6.0</td>\n",
       "      <td>4.0</td>\n",
       "    </tr>\n",
       "    <tr>\n",
       "      <th>1</th>\n",
       "      <td>9.0</td>\n",
       "      <td>11.0</td>\n",
       "      <td>13.0</td>\n",
       "      <td>15.0</td>\n",
       "      <td>9.0</td>\n",
       "    </tr>\n",
       "    <tr>\n",
       "      <th>2</th>\n",
       "      <td>18.0</td>\n",
       "      <td>20.0</td>\n",
       "      <td>22.0</td>\n",
       "      <td>24.0</td>\n",
       "      <td>14.0</td>\n",
       "    </tr>\n",
       "    <tr>\n",
       "      <th>3</th>\n",
       "      <td>15.0</td>\n",
       "      <td>16.0</td>\n",
       "      <td>17.0</td>\n",
       "      <td>18.0</td>\n",
       "      <td>19.0</td>\n",
       "    </tr>\n",
       "  </tbody>\n",
       "</table>\n",
       "</div>"
      ],
      "text/plain": [
       "      a     b     c     d     e\n",
       "0   0.0   2.0   4.0   6.0   4.0\n",
       "1   9.0  11.0  13.0  15.0   9.0\n",
       "2  18.0  20.0  22.0  24.0  14.0\n",
       "3  15.0  16.0  17.0  18.0  19.0"
      ]
     },
     "execution_count": 5,
     "metadata": {},
     "output_type": "execute_result"
    }
   ],
   "source": [
    "#옵션을 활용하여 NaN을 0으로 바꾸기\n",
    "df3.add(df4,fill_value=0)"
   ]
  },
  {
   "cell_type": "markdown",
   "metadata": {},
   "source": [
    "없는 놈이 있으면 그놈을 0으로 가정하고 계산해줌\n",
    "\n",
    "---"
   ]
  },
  {
   "cell_type": "code",
   "execution_count": 6,
   "metadata": {},
   "outputs": [
    {
     "name": "stdout",
     "output_type": "stream",
     "text": [
      "     a    b     c     d   e\n",
      "0  0.0  1.0   2.0   3.0 NaN\n",
      "1  4.0  5.0   6.0   7.0 NaN\n",
      "2  8.0  9.0  10.0  11.0 NaN\n",
      "3  NaN  NaN   NaN   NaN NaN\n",
      "\n",
      "   a  b   c   d  e\n",
      "0  0  1   2   3  0\n",
      "1  4  5   6   7  0\n",
      "2  8  9  10  11  0\n",
      "3  0  0   0   0  0\n",
      "\n"
     ]
    }
   ],
   "source": [
    "print(df3.reindex(index = df4.index,columns=df4.columns),end='\\n\\n')\n",
    "print(df3.reindex(index = df4.index,columns=df4.columns,fill_value=0),end='\\n\\n')"
   ]
  },
  {
   "cell_type": "markdown",
   "metadata": {},
   "source": [
    "### DataFrame과 Series의 연산"
   ]
  },
  {
   "cell_type": "code",
   "execution_count": 7,
   "metadata": {},
   "outputs": [
    {
     "name": "stdout",
     "output_type": "stream",
     "text": [
      "[[ 0  1  2  3]\n",
      " [ 4  5  6  7]\n",
      " [ 8  9 10 11]]\n",
      "[[0 0 0 0]\n",
      " [4 4 4 4]\n",
      " [8 8 8 8]]\n"
     ]
    }
   ],
   "source": [
    "arr = np.arange(12).reshape(3,4)\n",
    "print(arr)\n",
    "print(arr-arr[0]) #브로드 캐스팅"
   ]
  },
  {
   "cell_type": "code",
   "execution_count": 8,
   "metadata": {},
   "outputs": [
    {
     "name": "stdout",
     "output_type": "stream",
     "text": [
      "         b   d   e\n",
      "seoul    0   1   2\n",
      "kwangju  3   4   5\n",
      "daegue   6   7   8\n",
      "incheon  9  10  11\n",
      "\n",
      "b    0\n",
      "d    1\n",
      "e    2\n",
      "Name: seoul, dtype: int32\n",
      "\n",
      "         b  d  e\n",
      "seoul    0  0  0\n",
      "kwangju  3  3  3\n",
      "daegue   6  6  6\n",
      "incheon  9  9  9\n",
      "\n",
      "=============\n",
      "b    0\n",
      "e    1\n",
      "f    2\n",
      "dtype: int64\n",
      "\n",
      "           b   d     e   f\n",
      "seoul    0.0 NaN   3.0 NaN\n",
      "kwangju  3.0 NaN   6.0 NaN\n",
      "daegue   6.0 NaN   9.0 NaN\n",
      "incheon  9.0 NaN  12.0 NaN\n",
      "=============\n",
      "\n",
      "\n",
      "열로 데이터 받아와도 Series로 변환후 연산하면 이렇게됨\n",
      "\n",
      "seoul       1\n",
      "kwangju     4\n",
      "daegue      7\n",
      "incheon    10\n",
      "Name: d, dtype: int32\n",
      "\n",
      "          b   d  daegue   e  incheon  kwangju  seoul\n",
      "seoul   NaN NaN     NaN NaN      NaN      NaN    NaN\n",
      "kwangju NaN NaN     NaN NaN      NaN      NaN    NaN\n",
      "daegue  NaN NaN     NaN NaN      NaN      NaN    NaN\n",
      "incheon NaN NaN     NaN NaN      NaN      NaN    NaN\n",
      "\n",
      "=============\n",
      "\n",
      "\n",
      "열끼리 연산할 경우에는 abb/sub메소드에 axis옵션줘서 사용\n",
      "\n",
      "          b   d   e\n",
      "seoul     1   2   3\n",
      "kwangju   7   8   9\n",
      "daegue   13  14  15\n",
      "incheon  19  20  21\n"
     ]
    }
   ],
   "source": [
    "df = DataFrame(np.arange(12).reshape(4,3),columns=list('bde'),\\\n",
    "              index = ['seoul','kwangju','daegue','incheon'])\n",
    "print(df,end='\\n\\n')\n",
    "\n",
    "s1 = df.iloc[0]\n",
    "print(s1,end='\\n\\n')\n",
    "\n",
    "print(df-s1,end='\\n\\n')\n",
    "\n",
    "s2 = Series(range(3),index=list('bef'))\n",
    "print('=============')\n",
    "print(s2,end='\\n\\n')\n",
    "print(df+s2)\n",
    "s3 = df['d']\n",
    "print('=============',end='\\n\\n')\n",
    "print('''\n",
    "열로 데이터 받아와도 Series로 변환후 연산하면 이렇게됨\n",
    "''')\n",
    "print(s3,end='\\n\\n')\n",
    "print(df-s3,end='\\n\\n')\n",
    "\n",
    "print('=============',end='\\n\\n')\n",
    "print('''\n",
    "열끼리 연산할 경우에는 abb/sub메소드에 axis옵션줘서 사용\n",
    "''')\n",
    "print(df.add(s3,axis=0))"
   ]
  },
  {
   "cell_type": "markdown",
   "metadata": {},
   "source": [
    "---\n",
    "\n",
    "### 함수 적용과 매핑"
   ]
  },
  {
   "cell_type": "code",
   "execution_count": 9,
   "metadata": {},
   "outputs": [
    {
     "name": "stdout",
     "output_type": "stream",
     "text": [
      "                c         d         e\n",
      "seoul   -0.291002  1.327633 -0.239090\n",
      "busan    0.849864 -2.376598 -0.865298\n",
      "daegu    0.463062  0.583263 -0.536423\n",
      "incheon -0.058834 -1.015811  0.288424\n"
     ]
    }
   ],
   "source": [
    "import pandas as pd\n",
    "from pandas import Series,DataFrame\n",
    "import numpy as np\n",
    "\n",
    "#np.random모듈에 있는 randn함수는 임의의 정규분포 데이터를 생성한다.\n",
    "df = DataFrame(np.random.randn(4,3),columns=list('cde'),\\\n",
    "              index = ['seoul','busan','daegu','incheon'])\n",
    "print(df)"
   ]
  },
  {
   "cell_type": "code",
   "execution_count": 10,
   "metadata": {},
   "outputs": [
    {
     "data": {
      "text/html": [
       "<div>\n",
       "<style scoped>\n",
       "    .dataframe tbody tr th:only-of-type {\n",
       "        vertical-align: middle;\n",
       "    }\n",
       "\n",
       "    .dataframe tbody tr th {\n",
       "        vertical-align: top;\n",
       "    }\n",
       "\n",
       "    .dataframe thead th {\n",
       "        text-align: right;\n",
       "    }\n",
       "</style>\n",
       "<table border=\"1\" class=\"dataframe\">\n",
       "  <thead>\n",
       "    <tr style=\"text-align: right;\">\n",
       "      <th></th>\n",
       "      <th>c</th>\n",
       "      <th>d</th>\n",
       "      <th>e</th>\n",
       "    </tr>\n",
       "  </thead>\n",
       "  <tbody>\n",
       "    <tr>\n",
       "      <th>seoul</th>\n",
       "      <td>0.291002</td>\n",
       "      <td>1.327633</td>\n",
       "      <td>0.239090</td>\n",
       "    </tr>\n",
       "    <tr>\n",
       "      <th>busan</th>\n",
       "      <td>0.849864</td>\n",
       "      <td>2.376598</td>\n",
       "      <td>0.865298</td>\n",
       "    </tr>\n",
       "    <tr>\n",
       "      <th>daegu</th>\n",
       "      <td>0.463062</td>\n",
       "      <td>0.583263</td>\n",
       "      <td>0.536423</td>\n",
       "    </tr>\n",
       "    <tr>\n",
       "      <th>incheon</th>\n",
       "      <td>0.058834</td>\n",
       "      <td>1.015811</td>\n",
       "      <td>0.288424</td>\n",
       "    </tr>\n",
       "  </tbody>\n",
       "</table>\n",
       "</div>"
      ],
      "text/plain": [
       "                c         d         e\n",
       "seoul    0.291002  1.327633  0.239090\n",
       "busan    0.849864  2.376598  0.865298\n",
       "daegu    0.463062  0.583263  0.536423\n",
       "incheon  0.058834  1.015811  0.288424"
      ]
     },
     "execution_count": 10,
     "metadata": {},
     "output_type": "execute_result"
    }
   ],
   "source": [
    "np.abs(df)"
   ]
  },
  {
   "cell_type": "markdown",
   "metadata": {},
   "source": [
    "numpy에 사용하는 메소드도 사용할수 있음\n",
    "\n",
    "---"
   ]
  },
  {
   "cell_type": "code",
   "execution_count": 11,
   "metadata": {},
   "outputs": [
    {
     "name": "stdout",
     "output_type": "stream",
     "text": [
      "c    0.791029\n",
      "d    1.793335\n",
      "e    0.626207\n",
      "dtype: float64\n"
     ]
    }
   ],
   "source": [
    "#apply 메소드 사용하기\n",
    "f = lambda x:x.max()-x.min()\n",
    "\n",
    "print(df.abs().apply(f))"
   ]
  },
  {
   "cell_type": "code",
   "execution_count": 12,
   "metadata": {},
   "outputs": [
    {
     "name": "stdout",
     "output_type": "stream",
     "text": [
      "seoul      1.618635\n",
      "busan      3.226461\n",
      "daegu      1.119686\n",
      "incheon    1.304235\n",
      "dtype: float64\n"
     ]
    }
   ],
   "source": [
    "#행 기준으로\n",
    "print(df.apply(f,axis=1))"
   ]
  },
  {
   "cell_type": "code",
   "execution_count": 13,
   "metadata": {},
   "outputs": [
    {
     "data": {
      "text/plain": [
       "<matplotlib.axes._subplots.AxesSubplot at 0x1fbccf76390>"
      ]
     },
     "execution_count": 13,
     "metadata": {},
     "output_type": "execute_result"
    }
   ],
   "source": [
    "a = Series(np.random.randn(10000))\n",
    "a.hist()"
   ]
  },
  {
   "cell_type": "markdown",
   "metadata": {},
   "source": [
    "---\n",
    "\n",
    "## 함수 매핑"
   ]
  },
  {
   "cell_type": "code",
   "execution_count": 14,
   "metadata": {},
   "outputs": [
    {
     "name": "stdout",
     "output_type": "stream",
     "text": [
      "                c         d         e\n",
      "seoul   -0.331136  0.739222  0.082745\n",
      "busan    1.849158 -0.360785 -0.246701\n",
      "daegu   -0.407137  0.343590  0.486034\n",
      "incheon  0.719524  0.085979  0.058649\n",
      "=========================\n",
      "            c         d         e\n",
      "min -0.407137 -0.360785 -0.246701\n",
      "max  1.849158  0.739222  0.486034\n",
      "=========================\n",
      "              min       max\n",
      "seoul   -0.331136  0.739222\n",
      "busan   -0.360785  1.849158\n",
      "daegu   -0.407137  0.486034\n",
      "incheon  0.058649  0.719524\n",
      "\n",
      "apply 메소드를 이용하여 함수를 적용할수 있음\n"
     ]
    }
   ],
   "source": [
    "import pandas as pd\n",
    "import numpy as np\n",
    "\n",
    "def f(x):\n",
    "    return pd.Series([x.min(),x.max()], index = ['min','max'])\n",
    "\n",
    "df = pd.DataFrame(np.random.randn(4,3),columns=list('cde'),\\\n",
    "              index = ['seoul','busan','daegu','incheon'])\n",
    "\n",
    "print(df,end='\\n=========================\\n')\n",
    "print(df.apply(f),end='\\n=========================\\n')\n",
    "print(df.apply(f,axis=1))\n",
    "print('''\n",
    "apply 메소드를 이용하여 함수를 적용할수 있음''')"
   ]
  },
  {
   "cell_type": "code",
   "execution_count": 15,
   "metadata": {},
   "outputs": [
    {
     "name": "stdout",
     "output_type": "stream",
     "text": [
      ".applymap은 각 인자별로 적용되는 듯\n"
     ]
    },
    {
     "data": {
      "text/html": [
       "<div>\n",
       "<style scoped>\n",
       "    .dataframe tbody tr th:only-of-type {\n",
       "        vertical-align: middle;\n",
       "    }\n",
       "\n",
       "    .dataframe tbody tr th {\n",
       "        vertical-align: top;\n",
       "    }\n",
       "\n",
       "    .dataframe thead th {\n",
       "        text-align: right;\n",
       "    }\n",
       "</style>\n",
       "<table border=\"1\" class=\"dataframe\">\n",
       "  <thead>\n",
       "    <tr style=\"text-align: right;\">\n",
       "      <th></th>\n",
       "      <th>c</th>\n",
       "      <th>d</th>\n",
       "      <th>e</th>\n",
       "    </tr>\n",
       "  </thead>\n",
       "  <tbody>\n",
       "    <tr>\n",
       "      <th>seoul</th>\n",
       "      <td>-0.33</td>\n",
       "      <td>0.74</td>\n",
       "      <td>0.08</td>\n",
       "    </tr>\n",
       "    <tr>\n",
       "      <th>busan</th>\n",
       "      <td>1.85</td>\n",
       "      <td>-0.36</td>\n",
       "      <td>-0.25</td>\n",
       "    </tr>\n",
       "    <tr>\n",
       "      <th>daegu</th>\n",
       "      <td>-0.41</td>\n",
       "      <td>0.34</td>\n",
       "      <td>0.49</td>\n",
       "    </tr>\n",
       "    <tr>\n",
       "      <th>incheon</th>\n",
       "      <td>0.72</td>\n",
       "      <td>0.09</td>\n",
       "      <td>0.06</td>\n",
       "    </tr>\n",
       "  </tbody>\n",
       "</table>\n",
       "</div>"
      ],
      "text/plain": [
       "             c      d      e\n",
       "seoul    -0.33   0.74   0.08\n",
       "busan     1.85  -0.36  -0.25\n",
       "daegu    -0.41   0.34   0.49\n",
       "incheon   0.72   0.09   0.06"
      ]
     },
     "execution_count": 15,
     "metadata": {},
     "output_type": "execute_result"
    }
   ],
   "source": [
    "# 데이터 프레임 객체에서 실수 값을 문자열 포맷으로 변환할 경우\n",
    "# applymap 함수 사용\n",
    "print('.applymap은 각 인자별로 적용되는 듯')\n",
    "form = lambda x: '%.2f'%x\n",
    "\n",
    "df.applymap(form)"
   ]
  },
  {
   "cell_type": "code",
   "execution_count": 16,
   "metadata": {},
   "outputs": [
    {
     "name": "stdout",
     "output_type": "stream",
     "text": [
      "Series 객체의 경우 .map() 이용\n"
     ]
    },
    {
     "data": {
      "text/plain": [
       "seoul       0.08\n",
       "busan      -0.25\n",
       "daegu       0.49\n",
       "incheon     0.06\n",
       "Name: e, dtype: object"
      ]
     },
     "execution_count": 16,
     "metadata": {},
     "output_type": "execute_result"
    }
   ],
   "source": [
    "print('Series 객체의 경우 .map() 이용')\n",
    "df['e'].map(form)"
   ]
  },
  {
   "cell_type": "markdown",
   "metadata": {},
   "source": [
    "---\n",
    "\n",
    "## 정렬과 순위  \n",
    "- 행의 색인이나 열의 색인 순으로 정렬하는 등의 기준이 필요"
   ]
  },
  {
   "cell_type": "code",
   "execution_count": 17,
   "metadata": {},
   "outputs": [
    {
     "name": "stdout",
     "output_type": "stream",
     "text": [
      "index 순으로 정렬할시 .sort_index()\n",
      "busan      -1.16\n",
      "daegu      -0.49\n",
      "incheon    -0.95\n",
      "seoul      -0.19\n",
      "Name: e, dtype: object\n",
      "=========\n",
      "value 순으로 정렬할시 .sort_values()\n",
      "seoul      -0.19\n",
      "daegu      -0.49\n",
      "incheon    -0.95\n",
      "busan      -1.16\n",
      "Name: e, dtype: object\n",
      "=========\n"
     ]
    }
   ],
   "source": [
    "import pandas as pd\n",
    "from pandas import DataFrame,Series\n",
    "import numpy as np\n",
    "\n",
    "df = DataFrame(np.random.randn(4,3), columns = list('bde'),\\\n",
    "              index = ['seoul','busan','daegu','incheon'])\n",
    "\n",
    "form = lambda x:'%.2f'%x\n",
    "\n",
    "s1 = df['e'].map(form)\n",
    "print('index 순으로 정렬할시 .sort_index()')\n",
    "print(s1.sort_index(),end='\\n=========\\n')\n",
    "print('value 순으로 정렬할시 .sort_values()')\n",
    "print(s1.sort_values(),end='\\n=========\\n')\n"
   ]
  },
  {
   "cell_type": "code",
   "execution_count": 18,
   "metadata": {},
   "outputs": [
    {
     "name": "stdout",
     "output_type": "stream",
     "text": [
      "       d  a  b  c\n",
      "three  0  1  2  3\n",
      "one    4  5  6  7\n",
      "==============\n",
      ".sort_index\n",
      "       d  a  b  c\n",
      "one    4  5  6  7\n",
      "three  0  1  2  3\n",
      "==============\n",
      ".sort_index axis 옵션추가 => 컬럼이름 기준\n",
      "       a  b  c  d\n",
      "three  1  2  3  0\n",
      "one    5  6  7  4\n",
      "==============\n",
      ".sort_value(\"d\")\n",
      "       d  a  b  c\n",
      "three  0  1  2  3\n",
      "one    4  5  6  7\n",
      "==============\n",
      ".sort_value(\"d\",acsending=False)\n",
      "       d  a  b  c\n",
      "one    4  5  6  7\n",
      "three  0  1  2  3\n",
      "==============\n"
     ]
    }
   ],
   "source": [
    "df2 = DataFrame(np.arange(8).reshape(2,4), index=['three','one'],columns=['d','a','b','c'])\n",
    "print(df2,end='\\n==============\\n')\n",
    "print('.sort_index')\n",
    "print(df2.sort_index(),end='\\n==============\\n')\n",
    "print('.sort_index axis 옵션추가 => 컬럼이름 기준')\n",
    "print(df2.sort_index(axis=1),end='\\n==============\\n')\n",
    "print('.sort_value(\"d\")')\n",
    "print(df2.sort_values('d'),end='\\n==============\\n')\n",
    "print('.sort_value(\"d\",acsending=False)')\n",
    "print(df2.sort_values('d',ascending=False),end='\\n==============\\n')"
   ]
  },
  {
   "cell_type": "markdown",
   "metadata": {},
   "source": [
    "데이터(색인,값)는 기본적으로 오름차순으로 정렬이 된다.  \n",
    "ascending 옵션으로 내림차순으로 변경가능\n",
    "\n",
    "---"
   ]
  },
  {
   "cell_type": "code",
   "execution_count": 19,
   "metadata": {},
   "outputs": [
    {
     "name": "stdout",
     "output_type": "stream",
     "text": [
      "0     4.0\n",
      "1     NaN\n",
      "2     8.0\n",
      "3     NaN\n",
      "4   -10.0\n",
      "5     2.0\n",
      "dtype: float64\n",
      "\n",
      "===========\n",
      "\n",
      "Nan 값이 포함되어있을때 정렬하면??\n",
      ".sort_values()\n",
      "4   -10.0\n",
      "5     2.0\n",
      "0     4.0\n",
      "2     8.0\n",
      "1     NaN\n",
      "3     NaN\n",
      "dtype: float64\n"
     ]
    }
   ],
   "source": [
    "obj1 = Series([4,np.nan,8,np.nan,-10,2])\n",
    "print(obj1)\n",
    "print('\\n===========\\n')\n",
    "print('Nan 값이 포함되어있을때 정렬하면??')\n",
    "print('.sort_values()')\n",
    "print(obj1.sort_values())"
   ]
  },
  {
   "cell_type": "markdown",
   "metadata": {},
   "source": [
    "Nan 값은 가장 마지막으로 나온다 (ascending 옵션 상관없이)"
   ]
  },
  {
   "cell_type": "code",
   "execution_count": 20,
   "metadata": {},
   "outputs": [
    {
     "name": "stdout",
     "output_type": "stream",
     "text": [
      "   b  a\n",
      "0  4  0\n",
      "1  7  1\n",
      "2 -5  0\n",
      "3  2  1\n",
      "===========\n",
      "frame.sort_values(by='b')\n",
      "   b  a\n",
      "2 -5  0\n",
      "3  2  1\n",
      "0  4  0\n",
      "1  7  1\n",
      "===========\n"
     ]
    }
   ],
   "source": [
    "frame = DataFrame({\n",
    "    'b':[4,7,-5,2],\n",
    "    'a':[0,1,0,1],\n",
    "})\n",
    "print(frame,end='\\n===========\\n')\n",
    "print(\"frame.sort_values(by='b')\")\n",
    "print(frame.sort_values(by='b'),end='\\n===========\\n')"
   ]
  },
  {
   "cell_type": "markdown",
   "metadata": {},
   "source": [
    "여러개의 컬럼을 기준으로 정렬하고 싶다면 리스트 형태로 주면됨"
   ]
  },
  {
   "cell_type": "code",
   "execution_count": 21,
   "metadata": {},
   "outputs": [
    {
     "name": "stdout",
     "output_type": "stream",
     "text": [
      "frame.sort_values(by='a')\n",
      "   b  a\n",
      "0  4  0\n",
      "2 -5  0\n",
      "1  7  1\n",
      "3  2  1\n",
      "===========\n",
      "frame.sort_values(by=['a','b'])\n",
      "   b  a\n",
      "2 -5  0\n",
      "0  4  0\n",
      "3  2  1\n",
      "1  7  1\n",
      "===========\n"
     ]
    }
   ],
   "source": [
    "print(\"frame.sort_values(by='a')\")\n",
    "print(frame.sort_values(by='a'),end='\\n===========\\n')\n",
    "print(\"frame.sort_values(by=['a','b'])\")\n",
    "print(frame.sort_values(by=['a','b']),end='\\n===========\\n')"
   ]
  },
  {
   "cell_type": "markdown",
   "metadata": {},
   "source": [
    "먼저 정렬하기로 한놈이 우선순위가 높음  \n",
    "\n",
    "---\n",
    "\n",
    "**순위 정하는 함수 rank()**"
   ]
  },
  {
   "cell_type": "code",
   "execution_count": 22,
   "metadata": {},
   "outputs": [
    {
     "name": "stdout",
     "output_type": "stream",
     "text": [
      "0    7\n",
      "1   -2\n",
      "2    7\n",
      "3    4\n",
      "4    2\n",
      "5    0\n",
      "6    4\n",
      "dtype: int64\n",
      "=========================\n",
      "obj3.rank() \n",
      " 0    6.5\n",
      "1    1.0\n",
      "2    6.5\n",
      "3    4.5\n",
      "4    3.0\n",
      "5    2.0\n",
      "6    4.5\n",
      "dtype: float64\n",
      "같은 순위가 있을때에는 두개의 평균값으로 나옴 ( 4위 5위가 같은 값일때 -> 4.5)\n",
      "=========================\n",
      "obj3.rank(method='first') \n",
      " 0    6.0\n",
      "1    1.0\n",
      "2    7.0\n",
      "3    4.0\n",
      "4    3.0\n",
      "5    2.0\n",
      "6    5.0\n",
      "dtype: float64\n",
      "같은 값이 있을때에는 데이터의 순서에 따라 순위를 매기겠다.\n",
      "================\n",
      "obj3.rank(ascending=False) \n",
      " 0    1.5\n",
      "1    7.0\n",
      "2    1.5\n",
      "3    3.5\n",
      "4    5.0\n",
      "5    6.0\n",
      "6    3.5\n",
      "dtype: float64\n",
      "내림차순 순서에 따라 순위 정하기\n",
      "================\n"
     ]
    }
   ],
   "source": [
    "enter = lambda : print('================')\n",
    "obj3 = Series([7,-2,7,4,2,0,4])\n",
    "print(obj3,end='\\n=========================\\n')\n",
    "a = \"obj3.rank()\"\n",
    "print(a,'\\n',eval(a))\n",
    "print('같은 순위가 있을때에는 두개의 평균값으로 나옴 ( 4위 5위가 같은 값일때 -> 4.5)',end='\\n=========================\\n')\n",
    "a = \"obj3.rank(method='first')\"\n",
    "print(a,'\\n',eval(a))\n",
    "print('같은 값이 있을때에는 데이터의 순서에 따라 순위를 매기겠다.')\n",
    "enter()\n",
    "a = \"obj3.rank(ascending=False)\"\n",
    "print(a,'\\n',eval(a))\n",
    "print('내림차순 순서에 따라 순위 정하기')\n",
    "enter()"
   ]
  },
  {
   "cell_type": "code",
   "execution_count": 23,
   "metadata": {},
   "outputs": [
    {
     "name": "stdout",
     "output_type": "stream",
     "text": [
      "0    2.0\n",
      "1    7.0\n",
      "2    2.0\n",
      "3    4.0\n",
      "4    5.0\n",
      "5    6.0\n",
      "6    4.0\n",
      "dtype: float64\n",
      "그룹지어서 순위 매김.. 같은거중 가장 낮은놈 기준인듯 (자매품 min)\n"
     ]
    }
   ],
   "source": [
    "print(obj3.rank(ascending=False,method='max'))\n",
    "print('그룹지어서 순위 매김.. 같은거중 가장 낮은놈 기준인듯 (자매품 min)')"
   ]
  }
 ],
 "metadata": {
  "kernelspec": {
   "display_name": "Python 3",
   "language": "python",
   "name": "python3"
  },
  "language_info": {
   "codemirror_mode": {
    "name": "ipython",
    "version": 3
   },
   "file_extension": ".py",
   "mimetype": "text/x-python",
   "name": "python",
   "nbconvert_exporter": "python",
   "pygments_lexer": "ipython3",
   "version": "3.7.0"
  }
 },
 "nbformat": 4,
 "nbformat_minor": 2
}
