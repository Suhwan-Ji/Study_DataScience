{
 "cells": [
  {
   "cell_type": "markdown",
   "metadata": {},
   "source": [
    "# 웹 API (Application programming interface)\n",
    "\n",
    " - 어떤 사이트가 가지고 있는 기능을 외부에서 쉽게 사용할 수 있게 공개한 것  \n",
    " -  원래 API는 어떤 프로그램 기능을 외부의 프로그램에서 호출해서 사용할 수 있게  \n",
    "만든 것을 의미\n",
    " - 간단히 말하자면 서로 다른 프로그램이 기능을 공유할 수 있게 절차나 규약을 정의한 것\n",
    " \n",
    "## 웹API를 제공하는 이유 <color=blue>\n",
    "\n",
    " - 대부분의 웹 서비스는 정보를 웹사이트를 통해서 제공한다. 이러한 정보는 크롤링의 대상이 된다.\n",
    " - 수많은 개발자들이 크롤링한다고 하면 서버에 부하가 많이 발생한다.\n",
    " - 따라서, 크롤링이 될 것이라면 차라리 미리 웹API를 제공해서 서버의 부담을 줄이는 것이 낫다.\n",
    " - 결론적으로 웹API를 제공하는 첫번째 이유는 서버의 부하를 감소시키는 것\n",
    " - 두번째 이유는 상품을 알리거나 판매할 기회를 더 많이 늘리기 위해서다.(상품 검색API제공)\n",
    " \n",
    "## 웹 API는 유료와 무료로 나뉜다.\n",
    "\n",
    "## 웹 API를 사용시 유의사항\n",
    " 1. 웹 API제공자의 문제로 인해서 API가 없어지는 경우와 사양의 변화 발생할 수 있다.  \n",
    " 1. 웹  API를 신뢰할 수 있는지 확인한다. 즉, 지원을 오래할 수 있는지, 수요가 많은지, 큰 기업에서 제공하는지 등등\n"
   ]
  },
  {
   "cell_type": "code",
   "execution_count": null,
   "metadata": {},
   "outputs": [],
   "source": [
    "#OpenWeatherMap 날씨정보 제공해주는 사이트, 개발자 등록과정 필요함, 이후 API 키를 받을수 있음\n",
    "'http://home.openweathermap.org'\n",
    "'''\n",
    "API key :\n",
    "8597a864237569c43b936e0d89800433\n",
    "'''"
   ]
  },
  {
   "cell_type": "markdown",
   "metadata": {},
   "source": [
    "# OpenWeatherMap\n",
    "API로 요청하면 Return값이 <span style=\"color: blue\">**JSON**</span>형식으로옴\n",
    "tree 구조는 보통 xml이나 json,html\n",
    "\n",
    "보통 웹API의 결과는 JSON이나 XML형식 리턴한다. 여기서는 JSON  \n",
    "따라서 JSON 형식의 데이터를 파이썬 데이터 형식으로 변환해줘야 하는데  \n",
    "이때 json 모듈이 필요함.  \n",
    "json.load() : 문서를 가져와서 파이썬형식으로 변환"
   ]
  },
  {
   "cell_type": "code",
   "execution_count": 45,
   "metadata": {},
   "outputs": [
    {
     "name": "stdout",
     "output_type": "stream",
     "text": [
      "**도시 =  Suigen\n",
      "| 날씨 =  haze\n",
      "| 최저기온 =  20.0\n",
      "| 최고기온 =  27.0\n",
      "| 습도 =  72\n",
      "| 기압 =  1009\n",
      "| 풍향 =  300\n",
      "| 풍향 =  1.5 \n",
      "\n",
      "**도시 =  Tokyo\n",
      "| 날씨 =  broken clouds\n",
      "| 최저기온 =  18.890000000000043\n",
      "| 최고기온 =  24.439999999999998\n",
      "| 습도 =  78\n",
      "| 기압 =  1012\n",
      "| 풍향 =  100\n",
      "| 풍향 =  3.6 \n",
      "\n",
      "**도시 =  New York\n",
      "| 날씨 =  broken clouds\n",
      "| 최저기온 =  13.890000000000043\n",
      "| 최고기온 =  17.78000000000003\n",
      "| 습도 =  51\n",
      "| 기압 =  1012\n",
      "| 풍향 =  290\n",
      "| 풍향 =  4.6 \n",
      "\n"
     ]
    }
   ],
   "source": [
    "import requests\n",
    "import json \n",
    "\n",
    "#API 키를 지정한다.\n",
    "apiKey = '8597a864237569c43b936e0d89800433'\n",
    "\n",
    "cityList = ['suigen,KR','tokyo,JP','New York,US']\n",
    "\n",
    "#API 지정\n",
    "api = 'http://api.openweathermap.org/data/2.5/weather?q={city}&APPID={key}'\n",
    "\n",
    "#캘빈 온도를 섭씨 온도로 변환하는 함수\n",
    "k2c = lambda k:k-273.15\n",
    "#각 도시의 정보를 추출\n",
    "for name in cityList:  \n",
    "#API의 URL 구성하기\n",
    "    url = api.format(city=name,key=apiKey)\n",
    "#API 요청을 보내 날씨 정보를 가져오기    \n",
    "    res = requests.get(url)\n",
    "#JSON형식의 데이터를 파이썬형으로 변환한다.\n",
    "    data = json.loads(res.text)\n",
    "#결과를 출력하기    \n",
    "    print('**도시 = ',data['name'])\n",
    "    print('| 날씨 = ',data['weather'][0]['description'])\n",
    "    print('| 최저기온 = ',k2c(data['main']['temp_min']))\n",
    "    print('| 최고기온 = ',k2c(data['main']['temp_max']))\n",
    "    print('| 습도 = ',data['main']['humidity'])\n",
    "    print('| 기압 = ',data['main']['pressure'])\n",
    "    print('| 풍향 = ',data['wind']['deg'])\n",
    "    print('| 풍향 = ',data['wind']['speed'],'\\n')"
   ]
  },
  {
   "cell_type": "code",
   "execution_count": 18,
   "metadata": {},
   "outputs": [
    {
     "data": {
      "text/plain": [
       "'{\"coord\":{\"lon\":139.76,\"lat\":35.68},\"weather\":[{\"id\":803,\"main\":\"Clouds\",\"description\":\"broken clouds\",\"icon\":\"04n\"}],\"base\":\"stations\",\"main\":{\"temp\":294.83,\"pressure\":1012,\"humidity\":78,\"temp_min\":292.04,\"temp_max\":297.59},\"visibility\":10000,\"wind\":{\"speed\":3.6,\"deg\":100},\"clouds\":{\"all\":75},\"dt\":1559563128,\"sys\":{\"type\":1,\"id\":8074,\"message\":0.0064,\"country\":\"JP\",\"sunrise\":1559503576,\"sunset\":1559555523},\"timezone\":32400,\"id\":1850147,\"name\":\"Tokyo\",\"cod\":200}'"
      ]
     },
     "execution_count": 18,
     "metadata": {},
     "output_type": "execute_result"
    }
   ],
   "source": [
    "res.text"
   ]
  },
  {
   "cell_type": "code",
   "execution_count": 78,
   "metadata": {},
   "outputs": [
    {
     "data": {
      "text/plain": [
       "'배가 고프다'"
      ]
     },
     "execution_count": 78,
     "metadata": {},
     "output_type": "execute_result"
    }
   ],
   "source": [
    "a='오늘도 배가 고프다 나는 배가 고프다'\n",
    "a[a.find('배가'):a.find('나는')-1]#.split(' ')"
   ]
  }
 ],
 "metadata": {
  "kernelspec": {
   "display_name": "Python 3",
   "language": "python",
   "name": "python3"
  },
  "language_info": {
   "codemirror_mode": {
    "name": "ipython",
    "version": 3
   },
   "file_extension": ".py",
   "mimetype": "text/x-python",
   "name": "python",
   "nbconvert_exporter": "python",
   "pygments_lexer": "ipython3",
   "version": "3.7.0"
  }
 },
 "nbformat": 4,
 "nbformat_minor": 2
}
