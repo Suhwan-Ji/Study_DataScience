{
 "cells": [
  {
   "cell_type": "markdown",
   "metadata": {},
   "source": [
    "로그인이 필요한 사이트에서 자료를 긁으려면 세션을 이용해야함\n",
    "requests 모듈 사용하면 쉽게 이용가능"
   ]
  },
  {
   "cell_type": "code",
   "execution_count": 6,
   "metadata": {},
   "outputs": [
    {
     "data": {
      "text/plain": [
       "\"\\nformData = {'key1':'value1', 'key2':'value2'}\\nr = requests.get('http://sample.com',formData)\\n\""
      ]
     },
     "execution_count": 6,
     "metadata": {},
     "output_type": "execute_result"
    }
   ],
   "source": [
    "#request 모듈의 메서드\n",
    "import requests\n",
    "\n",
    "#http에서 사용하는 데이터 전송방식 GET,POST방식이 있다.\n",
    "\n",
    "r = requests.get(\"http://google.com\") #겟방식의 요청을 하는 경우\n",
    "\n",
    "\n",
    "#POST 요청\n",
    "'''\n",
    "formData = {'key1':'value1', 'key2':'value2'}\n",
    "r = requests.post('http://sample.com',formData)\n",
    "'''\n"
   ]
  },
  {
   "cell_type": "code",
   "execution_count": 5,
   "metadata": {},
   "outputs": [
    {
     "data": {
      "text/plain": [
       "'2019/05/30 20:56:58'"
      ]
     },
     "execution_count": 5,
     "metadata": {},
     "output_type": "execute_result"
    }
   ],
   "source": [
    "#텍스트 데이터 가져오기\n",
    "import requests\n",
    "\n",
    "resData = requests.get('http://api.aoikujira.com/time/get.php')\n",
    "\n",
    "#텍스트 형식으로 추출하기\n",
    "txt = resData.text #웹문서를 받아와서 텍스트로 변환\n",
    "txt"
   ]
  },
  {
   "cell_type": "code",
   "execution_count": 8,
   "metadata": {},
   "outputs": [
    {
     "data": {
      "text/plain": [
       "b'2019/05/30 20:56:58'"
      ]
     },
     "execution_count": 8,
     "metadata": {},
     "output_type": "execute_result"
    }
   ],
   "source": [
    "#바이너리 형식으로 데이터 추출하기\n",
    "binary = resData.content #웹문서를 바이너리 형식으로 가져오기\n",
    "binary"
   ]
  },
  {
   "cell_type": "code",
   "execution_count": 12,
   "metadata": {},
   "outputs": [],
   "source": [
    "#바이너리 형식으로 이미지 저장하기\n",
    "res = requests.get('https://t1.daumcdn.net/daumtop_chanel/op/20170315064553027.png')\n",
    "with open('Daum3.png','wb') as f:\n",
    "    f.write(res.content)\n"
   ]
  },
  {
   "cell_type": "markdown",
   "metadata": {},
   "source": [
    "![image](./Daum3.png)"
   ]
  },
  {
   "cell_type": "code",
   "execution_count": 14,
   "metadata": {},
   "outputs": [],
   "source": [
    "#세션을 사용하는 경우\n",
    "\n",
    "session = requests.session() #세션을 시작하기\n",
    "\n",
    "#로그인 하기\n",
    "login_info = {\n",
    "    'id':'sorktnghks'\n",
    "    'passwd':'---'\n",
    "}\n",
    "url = 'http://www.test.com/loginConfirm.php'#아이디와 패스워드를 확인하는 페이지 명을 적어줘야함 어케알지???\n",
    "#로그인 페이지에서 아이디 비번 입력하면 이게 맞는지 확인하는 페이지가 존재,실제로 보이지는 않음\n",
    "#서버에서 돌아가는페이지, 여기서 OK 되면 넘어가고 아니면 다른곳으로 분기 (다시입력하세요 등)\n",
    "\n",
    "result = session.post(url,data = login_info) #오류가 발생하는지 여부를 결과값으로 받음\n",
    "result.raise_for_status() #오류 체크 : 오류가 발생하면 예외처리를 한다.\n",
    "\n",
    "#로그인 후, get 방식의 서비스를 요청할 경우에는 \n",
    "myUrl = \"http://www.test.com/myPage.html\"\n",
    "res = session.get(myUrl)\n",
    "res.raise_for_status()\n",
    "\n",
    "#이후에는 뷰티풀 수프 이용\n",
    "soup = BeautifulSoup(res.text,'html.parser')"
   ]
  },
  {
   "cell_type": "code",
   "execution_count": null,
   "metadata": {},
   "outputs": [],
   "source": []
  }
 ],
 "metadata": {
  "kernelspec": {
   "display_name": "Python 3",
   "language": "python",
   "name": "python3"
  },
  "language_info": {
   "codemirror_mode": {
    "name": "ipython",
    "version": 3
   },
   "file_extension": ".py",
   "mimetype": "text/x-python",
   "name": "python",
   "nbconvert_exporter": "python",
   "pygments_lexer": "ipython3",
   "version": "3.7.0"
  }
 },
 "nbformat": 4,
 "nbformat_minor": 2
}
