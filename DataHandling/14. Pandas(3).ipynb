{
 "cells": [
  {
   "cell_type": "markdown",
   "metadata": {},
   "source": [
    "## 중복색인"
   ]
  },
  {
   "cell_type": "code",
   "execution_count": 6,
   "metadata": {},
   "outputs": [
    {
     "name": "stdout",
     "output_type": "stream",
     "text": [
      "\n",
      "인덱스가 꼭 유니크할 필요는 없다\n",
      "[함수] >>  obj\n",
      "a    0\n",
      "a    1\n",
      "b    2\n",
      "b    3\n",
      "c    4\n",
      "dtype: int64\n",
      "==============\n",
      "\n",
      "\n",
      "중복되는 색인 값이 있을 경우에는 색인을 이용한 결과로 Series 객체를 반환한다.\n",
      "[함수] >>  obj['a']\n",
      "a    0\n",
      "a    1\n",
      "dtype: int64\n",
      "==============\n",
      "\n",
      "\n",
      "중복되는 색인 값이 없을 경우에는 색인을 이용한 결과로 스칼라 값을 반환한다.\n",
      "[함수] >>  obj['c']\n",
      "4\n",
      "==============\n",
      "\n"
     ]
    }
   ],
   "source": [
    "import pandas as pd\n",
    "from pandas import Series,DataFrame\n",
    "import numpy as np\n",
    "\n",
    "enter = lambda :print('==============',end='\\n\\n')\n",
    "def f_print(x):\n",
    "    print(\"[함수] >> \",x)\n",
    "    print(eval(x))\n",
    "    enter()\n",
    "\n",
    "print('''\n",
    "인덱스가 꼭 유니크할 필요는 없다''')\n",
    "obj = Series(range(5), index=['a','a','b','b','c'])\n",
    "f_print(\"obj\")\n",
    "print('''\n",
    "중복되는 색인 값이 있을 경우에는 색인을 이용한 결과로 Series 객체를 반환한다.''')\n",
    "f_print(\"obj['a']\")\n",
    "print('''\n",
    "중복되는 색인 값이 없을 경우에는 색인을 이용한 결과로 스칼라 값을 반환한다.''')\n",
    "f_print(\"obj['c']\")\n"
   ]
  },
  {
   "cell_type": "code",
   "execution_count": 9,
   "metadata": {},
   "outputs": [
    {
     "name": "stdout",
     "output_type": "stream",
     "text": [
      "[함수] >>  df\n",
      "          0         1         2\n",
      "a -1.487697 -0.185760 -0.391206\n",
      "a -0.651901  2.496712  2.181558\n",
      "b -0.952903  1.512503  0.384845\n",
      "b -0.451748  0.022980 -0.884734\n",
      "==============\n",
      "\n",
      "[함수] >>  df.loc['b']\n",
      "          0         1         2\n",
      "b -0.952903  1.512503  0.384845\n",
      "b -0.451748  0.022980 -0.884734\n",
      "==============\n",
      "\n"
     ]
    }
   ],
   "source": [
    "df = DataFrame(np.random.randn(4,3), index=['a','a','b','b'])\n",
    "f_print(\"df\")\n",
    "f_print(\"df.loc['b']\")"
   ]
  },
  {
   "cell_type": "markdown",
   "metadata": {},
   "source": [
    "## 기술 통계 계산  \n",
    "- Pandas는 일반적인 수학/통계 메소드를 가지고 있다.\n",
    "- Pandas의 메소드는 처음부터 누락된 데이터를 제외하도록 설계되어 있다."
   ]
  },
  {
   "cell_type": "code",
   "execution_count": 33,
   "metadata": {},
   "outputs": [
    {
     "name": "stdout",
     "output_type": "stream",
     "text": [
      "    one  two\n",
      "a  1.40  NaN\n",
      "b  7.10 -4.5\n",
      "c   NaN  NaN\n",
      "d  0.75 -1.3\n",
      "==============\n",
      "\n",
      "sum()메소드는 각 컬럼의 합을 더해서 Series객체를 반환한다.\n",
      "NaN은 기본적으로 제외된다.\n",
      "[함수] >>  df.sum()\n",
      "one    9.25\n",
      "two   -5.80\n",
      "dtype: float64\n",
      "==============\n",
      "\n",
      "행 기준으로 더하려면 axis 옵션 추가\n",
      "전체 구간의 값이 NA가 아니라면 NA값은 제외시키고 계산을 하는데\n",
      "skipna 옵션은 정체 행이나 칼럼의 값이 NA가 아니더라도 제외시키지 않을 수 있다.\n",
      "[함수] >>  df.sum(axis=1)\n",
      "a    1.40\n",
      "b    2.60\n",
      "c    0.00\n",
      "d   -0.55\n",
      "dtype: float64\n",
      "==============\n",
      "\n",
      "[함수] >>  df.sum(axis=1,skipna=False)\n",
      "a     NaN\n",
      "b    2.60\n",
      "c     NaN\n",
      "d   -0.55\n",
      "dtype: float64\n",
      "==============\n",
      "\n"
     ]
    }
   ],
   "source": [
    "df = DataFrame([\n",
    "    [1.4,np.nan],\n",
    "    [7.1,-4.5],\n",
    "    [np.nan,np.nan],\n",
    "    [0.75,-1.3]\n",
    "],index=['a','b','c','d'],\n",
    "columns=['one','two'])\n",
    "print(df)\n",
    "enter()\n",
    "print('''sum()메소드는 각 컬럼의 합을 더해서 Series객체를 반환한다.\n",
    "NaN은 기본적으로 제외된다.''')\n",
    "f_print(\"df.sum()\")\n",
    "print('''행 기준으로 더하려면 axis 옵션 추가\n",
    "전체 구간의 값이 NA가 아니라면 NA값은 제외시키고 계산을 하는데\n",
    "skipna 옵션은 정체 행이나 칼럼의 값이 NA가 아니더라도 제외시키지 않을 수 있다.''')\n",
    "f_print(\"df.sum(axis=1)\")\n",
    "f_print(\"df.sum(axis=1,skipna=False)\")"
   ]
  },
  {
   "cell_type": "code",
   "execution_count": 41,
   "metadata": {},
   "outputs": [
    {
     "name": "stdout",
     "output_type": "stream",
     "text": [
      "idxmin, idxmax와 같은 메소드는 최소,최대값을 가지고 있는 색인 값 같은 \n",
      "간접 통계를 반환한다.\n",
      "\n",
      "[함수] >>  df\n",
      "    one  two\n",
      "a  1.40  NaN\n",
      "b  7.10 -4.5\n",
      "c   NaN  NaN\n",
      "d  0.75 -1.3\n",
      "==============\n",
      "\n",
      "[함수] >>  df.idxmin()\n",
      "one    d\n",
      "two    b\n",
      "dtype: object\n",
      "==============\n",
      "\n",
      "[함수] >>  df.min()\n",
      "one    0.75\n",
      "two   -4.50\n",
      "dtype: float64\n",
      "==============\n",
      "\n"
     ]
    }
   ],
   "source": [
    "print('''idxmin, idxmax와 같은 메소드는 최소,최대값을 가지고 있는 색인 값 같은 \n",
    "간접 통계를 반환한다.\n",
    "''')\n",
    "f_print(\"df\")\n",
    "f_print(\"df.idxmin()\")\n",
    "f_print(\"df.min()\")"
   ]
  },
  {
   "cell_type": "markdown",
   "metadata": {},
   "source": [
    "## 누산 메소드  \n",
    ": cumsum() 계속해서 더하는 함수"
   ]
  },
  {
   "cell_type": "code",
   "execution_count": 45,
   "metadata": {},
   "outputs": [
    {
     "name": "stdout",
     "output_type": "stream",
     "text": [
      "[함수] >>  df\n",
      "    one  two\n",
      "a  1.40  NaN\n",
      "b  7.10 -4.5\n",
      "c   NaN  NaN\n",
      "d  0.75 -1.3\n",
      "==============\n",
      "\n",
      "[함수] >>  df.cumsum()\n",
      "    one  two\n",
      "a  1.40  NaN\n",
      "b  8.50 -4.5\n",
      "c   NaN  NaN\n",
      "d  9.25 -5.8\n",
      "==============\n",
      "\n"
     ]
    }
   ],
   "source": [
    "f_print(\"df\")\n",
    "f_print(\"df.cumsum()\")"
   ]
  }
 ],
 "metadata": {
  "kernelspec": {
   "display_name": "Python 3",
   "language": "python",
   "name": "python3"
  },
  "language_info": {
   "codemirror_mode": {
    "name": "ipython",
    "version": 3
   },
   "file_extension": ".py",
   "mimetype": "text/x-python",
   "name": "python",
   "nbconvert_exporter": "python",
   "pygments_lexer": "ipython3",
   "version": "3.7.0"
  }
 },
 "nbformat": 4,
 "nbformat_minor": 2
}
