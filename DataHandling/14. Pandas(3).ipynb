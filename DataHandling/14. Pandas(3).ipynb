{
 "cells": [
  {
   "cell_type": "markdown",
   "metadata": {},
   "source": [
    "## 중복색인"
   ]
  },
  {
   "cell_type": "code",
   "execution_count": 1,
   "metadata": {},
   "outputs": [
    {
     "name": "stdout",
     "output_type": "stream",
     "text": [
      "\n",
      "인덱스가 꼭 유니크할 필요는 없다\n",
      "[함수] >>  obj\n",
      "a    0\n",
      "a    1\n",
      "b    2\n",
      "b    3\n",
      "c    4\n",
      "dtype: int64\n",
      "==============\n",
      "\n",
      "\n",
      "중복되는 색인 값이 있을 경우에는 색인을 이용한 결과로 Series 객체를 반환한다.\n",
      "[함수] >>  obj['a']\n",
      "a    0\n",
      "a    1\n",
      "dtype: int64\n",
      "==============\n",
      "\n",
      "\n",
      "중복되는 색인 값이 없을 경우에는 색인을 이용한 결과로 스칼라 값을 반환한다.\n",
      "[함수] >>  obj['c']\n",
      "4\n",
      "==============\n",
      "\n"
     ]
    }
   ],
   "source": [
    "import pandas as pd\n",
    "from pandas import Series,DataFrame\n",
    "import numpy as np\n",
    "\n",
    "enter = lambda :print('==============',end='\\n\\n')\n",
    "def f_print(x):\n",
    "    print(\"[함수] >> \",x)\n",
    "    print(eval(x))\n",
    "    enter()\n",
    "\n",
    "print('''\n",
    "인덱스가 꼭 유니크할 필요는 없다''')\n",
    "obj = Series(range(5), index=['a','a','b','b','c'])\n",
    "f_print(\"obj\")\n",
    "print('''\n",
    "중복되는 색인 값이 있을 경우에는 색인을 이용한 결과로 Series 객체를 반환한다.''')\n",
    "f_print(\"obj['a']\")\n",
    "print('''\n",
    "중복되는 색인 값이 없을 경우에는 색인을 이용한 결과로 스칼라 값을 반환한다.''')\n",
    "f_print(\"obj['c']\")\n"
   ]
  },
  {
   "cell_type": "code",
   "execution_count": 2,
   "metadata": {},
   "outputs": [
    {
     "name": "stdout",
     "output_type": "stream",
     "text": [
      "[함수] >>  df\n",
      "          0         1         2\n",
      "a -0.628351 -0.122569 -1.301018\n",
      "a  1.051447  0.447728 -0.078590\n",
      "b  0.133960 -0.269855 -0.227845\n",
      "b -0.235192 -2.650386 -1.524708\n",
      "==============\n",
      "\n",
      "[함수] >>  df.loc['b']\n",
      "          0         1         2\n",
      "b  0.133960 -0.269855 -0.227845\n",
      "b -0.235192 -2.650386 -1.524708\n",
      "==============\n",
      "\n"
     ]
    }
   ],
   "source": [
    "df = DataFrame(np.random.randn(4,3), index=['a','a','b','b'])\n",
    "f_print(\"df\")\n",
    "f_print(\"df.loc['b']\")"
   ]
  },
  {
   "cell_type": "markdown",
   "metadata": {},
   "source": [
    "## 기술 통계 계산  \n",
    "- Pandas는 일반적인 수학/통계 메소드를 가지고 있다.\n",
    "- Pandas의 메소드는 처음부터 누락된 데이터를 제외하도록 설계되어 있다."
   ]
  },
  {
   "cell_type": "code",
   "execution_count": 3,
   "metadata": {},
   "outputs": [
    {
     "name": "stdout",
     "output_type": "stream",
     "text": [
      "    one  two\n",
      "a  1.40  NaN\n",
      "b  7.10 -4.5\n",
      "c   NaN  NaN\n",
      "d  0.75 -1.3\n",
      "==============\n",
      "\n",
      "sum()메소드는 각 컬럼의 합을 더해서 Series객체를 반환한다.\n",
      "NaN은 기본적으로 제외된다.\n",
      "[함수] >>  df.sum()\n",
      "one    9.25\n",
      "two   -5.80\n",
      "dtype: float64\n",
      "==============\n",
      "\n",
      "행 기준으로 더하려면 axis 옵션 추가\n",
      "전체 구간의 값이 NA가 아니라면 NA값은 제외시키고 계산을 하는데\n",
      "skipna 옵션은 정체 행이나 칼럼의 값이 NA가 아니더라도 제외시키지 않을 수 있다.\n",
      "[함수] >>  df.sum(axis=1)\n",
      "a    1.40\n",
      "b    2.60\n",
      "c    0.00\n",
      "d   -0.55\n",
      "dtype: float64\n",
      "==============\n",
      "\n",
      "[함수] >>  df.sum(axis=1,skipna=False)\n",
      "a     NaN\n",
      "b    2.60\n",
      "c     NaN\n",
      "d   -0.55\n",
      "dtype: float64\n",
      "==============\n",
      "\n"
     ]
    }
   ],
   "source": [
    "df = DataFrame([\n",
    "    [1.4,np.nan],\n",
    "    [7.1,-4.5],\n",
    "    [np.nan,np.nan],\n",
    "    [0.75,-1.3]\n",
    "],index=['a','b','c','d'],\n",
    "columns=['one','two'])\n",
    "print(df)\n",
    "enter()\n",
    "print('''sum()메소드는 각 컬럼의 합을 더해서 Series객체를 반환한다.\n",
    "NaN은 기본적으로 제외된다.''')\n",
    "f_print(\"df.sum()\")\n",
    "print('''행 기준으로 더하려면 axis 옵션 추가\n",
    "전체 구간의 값이 NA가 아니라면 NA값은 제외시키고 계산을 하는데\n",
    "skipna 옵션은 정체 행이나 칼럼의 값이 NA가 아니더라도 제외시키지 않을 수 있다.''')\n",
    "f_print(\"df.sum(axis=1)\")\n",
    "f_print(\"df.sum(axis=1,skipna=False)\")"
   ]
  },
  {
   "cell_type": "code",
   "execution_count": 4,
   "metadata": {},
   "outputs": [
    {
     "name": "stdout",
     "output_type": "stream",
     "text": [
      "idxmin, idxmax와 같은 메소드는 최소,최대값을 가지고 있는 색인 값 같은 \n",
      "간접 통계를 반환한다.\n",
      "\n",
      "[함수] >>  df\n",
      "    one  two\n",
      "a  1.40  NaN\n",
      "b  7.10 -4.5\n",
      "c   NaN  NaN\n",
      "d  0.75 -1.3\n",
      "==============\n",
      "\n",
      "[함수] >>  df.idxmin()\n",
      "one    d\n",
      "two    b\n",
      "dtype: object\n",
      "==============\n",
      "\n",
      "[함수] >>  df.min()\n",
      "one    0.75\n",
      "two   -4.50\n",
      "dtype: float64\n",
      "==============\n",
      "\n"
     ]
    }
   ],
   "source": [
    "print('''idxmin, idxmax와 같은 메소드는 최소,최대값을 가지고 있는 색인 값 같은 \n",
    "간접 통계를 반환한다.\n",
    "''')\n",
    "f_print(\"df\")\n",
    "f_print(\"df.idxmin()\")\n",
    "f_print(\"df.min()\")"
   ]
  },
  {
   "cell_type": "markdown",
   "metadata": {},
   "source": [
    "## 누산 메소드  \n",
    ": cumsum() 계속해서 더하는 함수"
   ]
  },
  {
   "cell_type": "code",
   "execution_count": 5,
   "metadata": {},
   "outputs": [
    {
     "name": "stdout",
     "output_type": "stream",
     "text": [
      "[함수] >>  df\n",
      "    one  two\n",
      "a  1.40  NaN\n",
      "b  7.10 -4.5\n",
      "c   NaN  NaN\n",
      "d  0.75 -1.3\n",
      "==============\n",
      "\n",
      "[함수] >>  df.cumsum()\n",
      "    one  two\n",
      "a  1.40  NaN\n",
      "b  8.50 -4.5\n",
      "c   NaN  NaN\n",
      "d  9.25 -5.8\n",
      "==============\n",
      "\n"
     ]
    }
   ],
   "source": [
    "f_print(\"df\")\n",
    "f_print(\"df.cumsum()\")"
   ]
  },
  {
   "cell_type": "markdown",
   "metadata": {},
   "source": [
    "### 유일한 값, 도수 메서드"
   ]
  },
  {
   "cell_type": "code",
   "execution_count": 6,
   "metadata": {},
   "outputs": [
    {
     "name": "stdout",
     "output_type": "stream",
     "text": [
      "[함수] >>  s1\n",
      "0    c\n",
      "1    a\n",
      "2    d\n",
      "3    a\n",
      "4    a\n",
      "5    b\n",
      "6    b\n",
      "7    c\n",
      "8    c\n",
      "dtype: object\n",
      "==============\n",
      "\n",
      "unique 메소드 : 중복된 값을 하나로 표기\n",
      "[함수] >>  s1.unique()\n",
      "['c' 'a' 'd' 'b']\n",
      "==============\n",
      "\n",
      ".value_counts() : 값의 갯수를 출력(도수), 결과값은 Series(내림차순)\n",
      "[함수] >>  s1.value_counts()\n",
      "a    3\n",
      "c    3\n",
      "b    2\n",
      "d    1\n",
      "dtype: int64\n",
      "==============\n",
      "\n",
      "isin : 어떤 값이 Series에 있는지 나타내는 메소드\n",
      "불린값을 반환한다.\n",
      "DataFrame, Series에서 원하는 값을 골라내고 싶을 때 유용하게 사용하는 메소드\n",
      "[함수] >>  s1.isin(['a'])\n",
      "0    False\n",
      "1     True\n",
      "2    False\n",
      "3     True\n",
      "4     True\n",
      "5    False\n",
      "6    False\n",
      "7    False\n",
      "8    False\n",
      "dtype: bool\n",
      "==============\n",
      "\n"
     ]
    },
    {
     "data": {
      "text/plain": [
       "0    c\n",
       "5    b\n",
       "6    b\n",
       "7    c\n",
       "8    c\n",
       "dtype: object"
      ]
     },
     "execution_count": 6,
     "metadata": {},
     "output_type": "execute_result"
    }
   ],
   "source": [
    "s1 = Series(['c','a','d','a','a','b','b','c','c'])\n",
    "f_print(\"s1\")\n",
    "print('''unique 메소드 : 중복된 값을 하나로 표기''')\n",
    "f_print(\"s1.unique()\")\n",
    "print('''.value_counts() : 값의 갯수를 출력(도수), 결과값은 Series(내림차순)''')\n",
    "f_print(\"s1.value_counts()\")\n",
    "print('''isin : 어떤 값이 Series에 있는지 나타내는 메소드\n",
    "불린값을 반환한다.\n",
    "DataFrame, Series에서 원하는 값을 골라내고 싶을 때 유용하게 사용하는 메소드''')\n",
    "f_print(\"s1.isin(['a'])\")\n",
    "\n",
    "mask = s1.isin(['b','c'])\n",
    "s1[mask]"
   ]
  },
  {
   "cell_type": "code",
   "execution_count": 7,
   "metadata": {},
   "outputs": [
    {
     "name": "stdout",
     "output_type": "stream",
     "text": [
      "   Q1  Q2  Q3\n",
      "0   1   2   1\n",
      "1   3   3   5\n",
      "2   4   1   2\n",
      "3   3   2   4\n",
      "4   4   3   4\n",
      "==============\n",
      "\n",
      "DataFrame에서는 apply를 이용하여 메소드를 넘김\n",
      "[함수] >>  data.apply(pd.value_counts)\n",
      "    Q1   Q2   Q3\n",
      "1  1.0  1.0  1.0\n",
      "2  NaN  2.0  1.0\n",
      "3  2.0  2.0  NaN\n",
      "4  2.0  NaN  2.0\n",
      "5  NaN  NaN  1.0\n",
      "==============\n",
      "\n",
      "[함수] >>  data.apply(pd.value_counts).fillna(0)\n",
      "    Q1   Q2   Q3\n",
      "1  1.0  1.0  1.0\n",
      "2  0.0  2.0  1.0\n",
      "3  2.0  2.0  0.0\n",
      "4  2.0  0.0  2.0\n",
      "5  0.0  0.0  1.0\n",
      "==============\n",
      "\n"
     ]
    }
   ],
   "source": [
    "data = DataFrame({'Q1':[1,3,4,3,4],\n",
    "                'Q2':[2,3,1,2,3,],\n",
    "                 'Q3':[1,5,2,4,4]})\n",
    "print(data)\n",
    "enter()\n",
    "print('''DataFrame에서는 apply를 이용하여 메소드를 넘김''')\n",
    "f_print(\"data.apply(pd.value_counts)\")\n",
    "f_print(\"data.apply(pd.value_counts).fillna(0)\")"
   ]
  },
  {
   "cell_type": "markdown",
   "metadata": {},
   "source": [
    "### 누락된 데이터 처리  \n",
    "- Pandas의 설계 목표 중 하나는 누락된 데이터를 쉽게 처리하는것  \n",
    "- Pandas에서는 누락된 데이터를 실수든 아니든 모두 NaN으로 취급한다.\n",
    "- 이러한 Nan의 값은 파이썬의 None값 NA와 같은 값으로 취급된다."
   ]
  },
  {
   "cell_type": "code",
   "execution_count": 8,
   "metadata": {},
   "outputs": [
    {
     "name": "stdout",
     "output_type": "stream",
     "text": [
      "0    aaa\n",
      "1    bbb\n",
      "2    NaN\n",
      "3    ccc\n",
      "dtype: object\n"
     ]
    }
   ],
   "source": [
    "stringData = Series(['aaa','bbb',np.nan,'ccc'])\n",
    "print(stringData)"
   ]
  },
  {
   "cell_type": "code",
   "execution_count": 9,
   "metadata": {},
   "outputs": [
    {
     "data": {
      "text/plain": [
       "0    False\n",
       "1    False\n",
       "2     True\n",
       "3    False\n",
       "dtype: bool"
      ]
     },
     "execution_count": 9,
     "metadata": {},
     "output_type": "execute_result"
    }
   ],
   "source": [
    "stringData.isnull()"
   ]
  },
  {
   "cell_type": "code",
   "execution_count": 10,
   "metadata": {},
   "outputs": [
    {
     "name": "stdout",
     "output_type": "stream",
     "text": [
      "0    None\n",
      "1     bbb\n",
      "2     NaN\n",
      "3     ccc\n",
      "dtype: object\n",
      "==============\n",
      "\n",
      "0     True\n",
      "1    False\n",
      "2     True\n",
      "3    False\n",
      "dtype: bool\n"
     ]
    }
   ],
   "source": [
    "stringData[0] = None\n",
    "print(stringData)\n",
    "enter()\n",
    "print(stringData.isnull())"
   ]
  },
  {
   "cell_type": "markdown",
   "metadata": {},
   "source": [
    "## 누락된 데이터 골라내기  \n",
    "- dropna 함수를 이용하는 방법 등 여러 방법이 있을 수 있다.\n",
    "* dropna를 사용하는 것이 유용한 방법이며, 사용 결과값으로 Series 객체를 반환\n"
   ]
  },
  {
   "cell_type": "code",
   "execution_count": 11,
   "metadata": {},
   "outputs": [
    {
     "name": "stdout",
     "output_type": "stream",
     "text": [
      "0    1.0\n",
      "1    NaN\n",
      "2    3.0\n",
      "3    4.0\n",
      "4    NaN\n",
      "5    8.0\n",
      "dtype: float64\n",
      "==============\n",
      "\n",
      "[함수] >>  data.dropna()\n",
      "0    1.0\n",
      "2    3.0\n",
      "3    4.0\n",
      "5    8.0\n",
      "dtype: float64\n",
      "==============\n",
      "\n"
     ]
    }
   ],
   "source": [
    "import pandas as pd\n",
    "import numpy as np\n",
    "from numpy import nan as NA\n",
    "from pandas import Series,DataFrame\n",
    "\n",
    "data = Series([1,NA,3,4,NA,8])\n",
    "print(data)\n",
    "enter()\n",
    "f_print(\"data.dropna()\")"
   ]
  },
  {
   "cell_type": "markdown",
   "metadata": {},
   "source": [
    "## 불린 색인을 이용해서 직접 계산한 후에 가져오기"
   ]
  },
  {
   "cell_type": "code",
   "execution_count": 12,
   "metadata": {},
   "outputs": [
    {
     "name": "stdout",
     "output_type": "stream",
     "text": [
      "[함수] >>  data.notnull()\n",
      "0     True\n",
      "1    False\n",
      "2     True\n",
      "3     True\n",
      "4    False\n",
      "5     True\n",
      "dtype: bool\n",
      "==============\n",
      "\n",
      "[함수] >>  data[data.notnull()]\n",
      "0    1.0\n",
      "2    3.0\n",
      "3    4.0\n",
      "5    8.0\n",
      "dtype: float64\n",
      "==============\n",
      "\n",
      "[함수] >>  data[~data.isnull()]\n",
      "0    1.0\n",
      "2    3.0\n",
      "3    4.0\n",
      "5    8.0\n",
      "dtype: float64\n",
      "==============\n",
      "\n"
     ]
    }
   ],
   "source": [
    "f_print(\"data.notnull()\")\n",
    "f_print(\"data[data.notnull()]\")\n",
    "f_print(\"data[~data.isnull()]\")"
   ]
  },
  {
   "cell_type": "markdown",
   "metadata": {},
   "source": [
    "- DataFrame에서 누락된 데이터를 골라 내기\n",
    "- dropna는 기본적으로 NA값이 하나라도 있는 로우는 제외시킨다."
   ]
  },
  {
   "cell_type": "code",
   "execution_count": 13,
   "metadata": {},
   "outputs": [
    {
     "name": "stdout",
     "output_type": "stream",
     "text": [
      "     0    1    2\n",
      "0  1.0  5.5  3.0\n",
      "1  1.0  NaN  NaN\n",
      "2  NaN  NaN  NaN\n",
      "3  NaN  3.3  3.0\n",
      "==============\n",
      "\n",
      "[함수] >>  data.dropna()\n",
      "     0    1    2\n",
      "0  1.0  5.5  3.0\n",
      "==============\n",
      "\n",
      "option how = \"all\"옵션을 주면 모든값이 NA인 행만 제거된다.\n",
      "[함수] >>  data.dropna(how='all')\n",
      "     0    1    2\n",
      "0  1.0  5.5  3.0\n",
      "1  1.0  NaN  NaN\n",
      "3  NaN  3.3  3.0\n",
      "==============\n",
      "\n",
      "==============\n",
      "\n",
      "     0    1    2   4\n",
      "0  1.0  5.5  3.0 NaN\n",
      "1  1.0  NaN  NaN NaN\n",
      "2  NaN  NaN  NaN NaN\n",
      "3  NaN  3.3  3.0 NaN\n",
      "[함수] >>  data.dropna(how='all',axis=1)\n",
      "     0    1    2\n",
      "0  1.0  5.5  3.0\n",
      "1  1.0  NaN  NaN\n",
      "2  NaN  NaN  NaN\n",
      "3  NaN  3.3  3.0\n",
      "==============\n",
      "\n"
     ]
    }
   ],
   "source": [
    "data = DataFrame([\n",
    "    [1,5.5,3],\n",
    "    [1,NA,NA],\n",
    "    [NA,NA,NA],\n",
    "    [NA,3.3,3]\n",
    "])\n",
    "print(data)\n",
    "enter()\n",
    "f_print(\"data.dropna()\")\n",
    "print('''option how = \"all\"옵션을 주면 모든값이 NA인 행만 제거된다.''')\n",
    "f_print(\"data.dropna(how='all')\")\n",
    "#f_print(\"data.isnull()\")\n",
    "data[4]=NA\n",
    "enter()\n",
    "print(data)\n",
    "f_print(\"data.dropna(how='all',axis=1)\")"
   ]
  },
  {
   "cell_type": "code",
   "execution_count": 14,
   "metadata": {},
   "outputs": [
    {
     "name": "stdout",
     "output_type": "stream",
     "text": [
      "      0     1     2   3\n",
      "0   1.0   2.0   3.0 NaN\n",
      "1   NaN  33.0  11.0 NaN\n",
      "2  11.0   NaN   NaN NaN\n",
      "3  43.0   NaN   NaN NaN\n",
      "\n",
      "몇개 이상의 value가 들어 있는 행을 가져오고 싶을 경우 사용되는 인자: thresh\n",
      "==============\n",
      "\n",
      "[함수] >>  data2.dropna(thresh=2)\n",
      "     0     1     2   3\n",
      "0  1.0   2.0   3.0 NaN\n",
      "1  NaN  33.0  11.0 NaN\n",
      "==============\n",
      "\n",
      "\n",
      "누락된 값을 채우기\n",
      "데이터 프레임에서는 누락된 데이터를 완벽하게 골라낼 수가 없으므로 다른데이터도 함께 버려지게 된다.\n",
      "이런 경우에는 fillna메서드를 활용해서 비어있는값(구멍)을 채워주면 데이터의 손실을 막을 수 있다.\n",
      "[함수] >>  data2.fillna(0)\n",
      "      0     1     2    3\n",
      "0   1.0   2.0   3.0  0.0\n",
      "1   0.0  33.0  11.0  0.0\n",
      "2  11.0   0.0   0.0  0.0\n",
      "3  43.0   0.0   0.0  0.0\n",
      "==============\n",
      "\n",
      "fillna의 활용에 따라 각 칼럼마다 다른 값을 채워 넣을 수 있다.\n",
      "-> fillna 값을 딕셔너리로 채워주면됨\n",
      "[함수] >>  data2.fillna({1:10,3:30})\n",
      "      0     1     2     3\n",
      "0   1.0   2.0   3.0  30.0\n",
      "1   NaN  33.0  11.0  30.0\n",
      "2  11.0  10.0   NaN  30.0\n",
      "3  43.0  10.0   NaN  30.0\n",
      "==============\n",
      "\n",
      "[함수] >>  data2.fillna(method='ffill')\n",
      "      0     1     2   3\n",
      "0   1.0   2.0   3.0 NaN\n",
      "1   1.0  33.0  11.0 NaN\n",
      "2  11.0  33.0  11.0 NaN\n",
      "3  43.0  33.0  11.0 NaN\n",
      "==============\n",
      "\n",
      "[함수] >>  data2.fillna(method='ffill',limit=1)\n",
      "      0     1     2   3\n",
      "0   1.0   2.0   3.0 NaN\n",
      "1   1.0  33.0  11.0 NaN\n",
      "2  11.0  33.0  11.0 NaN\n",
      "3  43.0   NaN   NaN NaN\n",
      "==============\n",
      "\n"
     ]
    }
   ],
   "source": [
    "data2 = DataFrame([\n",
    "    [1,2,3,NA],\n",
    "    [NA,33,11,NA],\n",
    "    [11,NA,NA,NA],\n",
    "    [43,NA,NA,NA]\n",
    "])\n",
    "print(data2)\n",
    "print('''\n",
    "몇개 이상의 value가 들어 있는 행을 가져오고 싶을 경우 사용되는 인자: thresh''')\n",
    "enter()\n",
    "f_print(\"data2.dropna(thresh=2)\")\n",
    "print('''\n",
    "누락된 값을 채우기\n",
    "데이터 프레임에서는 누락된 데이터를 완벽하게 골라낼 수가 없으므로 다른데이터도 함께 버려지게 된다.\n",
    "이런 경우에는 fillna메서드를 활용해서 비어있는값(구멍)을 채워주면 데이터의 손실을 막을 수 있다.''')\n",
    "f_print(\"data2.fillna(0)\")\n",
    "print('''\\\n",
    "fillna의 활용에 따라 각 칼럼마다 다른 값을 채워 넣을 수 있다.\n",
    "-> fillna 값을 딕셔너리로 채워주면됨''')\n",
    "f_print(\"data2.fillna({1:10,3:30})\")\n",
    "f_print(\"data2.fillna(method='ffill')\")\n",
    "f_print(\"data2.fillna(method='ffill',limit=1)\")"
   ]
  },
  {
   "cell_type": "code",
   "execution_count": 15,
   "metadata": {},
   "outputs": [
    {
     "data": {
      "text/plain": [
       "0    1.000000\n",
       "1    3.833333\n",
       "2    3.500000\n",
       "3    3.833333\n",
       "4    7.000000\n",
       "dtype: float64"
      ]
     },
     "execution_count": 15,
     "metadata": {},
     "output_type": "execute_result"
    }
   ],
   "source": [
    "#빈값을 평균값으로 채우기\n",
    "data3 = Series([1,NA,3.5,NA,7])\n",
    "data3.fillna(data3.mean())"
   ]
  }
 ],
 "metadata": {
  "kernelspec": {
   "display_name": "Python 3",
   "language": "python",
   "name": "python3"
  },
  "language_info": {
   "codemirror_mode": {
    "name": "ipython",
    "version": 3
   },
   "file_extension": ".py",
   "mimetype": "text/x-python",
   "name": "python",
   "nbconvert_exporter": "python",
   "pygments_lexer": "ipython3",
   "version": "3.7.0"
  }
 },
 "nbformat": 4,
 "nbformat_minor": 2
}
