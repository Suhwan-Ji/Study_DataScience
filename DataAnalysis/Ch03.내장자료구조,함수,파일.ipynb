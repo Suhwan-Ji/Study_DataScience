{
 "cells": [
  {
   "cell_type": "markdown",
   "metadata": {},
   "source": [
    "# CH03 내장자료구조, 함수, 파일"
   ]
  },
  {
   "cell_type": "markdown",
   "metadata": {},
   "source": [
    "## 3.1.1 튜플"
   ]
  },
  {
   "cell_type": "code",
   "execution_count": 8,
   "metadata": {
    "scrolled": true
   },
   "outputs": [
    {
     "data": {
      "text/plain": [
       "(1, [1, 2, 3, 25], 4)"
      ]
     },
     "execution_count": 8,
     "metadata": {},
     "output_type": "execute_result"
    }
   ],
   "source": [
    "tup = (1,[1,2,3],4)\n",
    "tup[1].append(25)\n",
    "tup #튜플의 값은 못바꾸는데 튜플에 저장된 객체는 변경이 가능하다"
   ]
  },
  {
   "cell_type": "code",
   "execution_count": 9,
   "metadata": {
    "scrolled": true
   },
   "outputs": [
    {
     "data": {
      "text/plain": [
       "(1, 2, 3)"
      ]
     },
     "execution_count": 9,
     "metadata": {},
     "output_type": "execute_result"
    }
   ],
   "source": [
    "tup1 = (1,2,)\n",
    "tup2 = (3,)\n",
    "tup1+tup2"
   ]
  },
  {
   "cell_type": "code",
   "execution_count": 10,
   "metadata": {
    "scrolled": true
   },
   "outputs": [
    {
     "data": {
      "text/plain": [
       "(1, 2, 1, 2, 1, 2, 1, 2)"
      ]
     },
     "execution_count": 10,
     "metadata": {},
     "output_type": "execute_result"
    }
   ],
   "source": [
    "tup1 *4"
   ]
  },
  {
   "cell_type": "code",
   "execution_count": 17,
   "metadata": {
    "scrolled": true
   },
   "outputs": [
    {
     "name": "stdout",
     "output_type": "stream",
     "text": [
      "1 2 1 2\n"
     ]
    }
   ],
   "source": [
    "a,b= tup1\n",
    "c,_ = tup1\n",
    "_,d = tup1\n",
    "print(a,b,c,d)"
   ]
  },
  {
   "cell_type": "code",
   "execution_count": 21,
   "metadata": {
    "scrolled": true
   },
   "outputs": [
    {
     "name": "stdout",
     "output_type": "stream",
     "text": [
      "a= 2 b= 1\n"
     ]
    }
   ],
   "source": [
    "#값을 받을수 있는 특성을 이용하면 변수듣 바꾸기 편하다\n",
    "a =1\n",
    "b = 2\n",
    "\n",
    "a,b = b,a\n",
    "print(\"a=\",a,\"b=\",b)"
   ]
  },
  {
   "cell_type": "code",
   "execution_count": 22,
   "metadata": {
    "scrolled": true
   },
   "outputs": [
    {
     "name": "stdout",
     "output_type": "stream",
     "text": [
      "a=1,b=2,c=3\n",
      "a=4,b=5,c=6\n",
      "a=7,b=8,c=9\n"
     ]
    }
   ],
   "source": [
    "seq = [(1,2,3),(4,5,6),(7,8,9)]\n",
    "for a,b,c in seq:\n",
    "    print(\"a={},b={},c={}\".format(a,b,c))"
   ]
  },
  {
   "cell_type": "code",
   "execution_count": 29,
   "metadata": {
    "scrolled": true
   },
   "outputs": [
    {
     "name": "stdout",
     "output_type": "stream",
     "text": [
      "1 2 [3, 4, 5, 6, 7, 8]\n",
      "1 2\n"
     ]
    }
   ],
   "source": [
    "#전체가 몇개인지 모를떄 몇개만 뽑아내기\n",
    "a,b,*rest = (1,2,3,4,5,6,7,8)\n",
    "print(a,b,rest)\n",
    "#값을 무시한다는 의미로 _를 사용하기도함\n",
    "a,b,*_ = (1,2,3,4,5,6,7,8)\n",
    "print(a,b)"
   ]
  },
  {
   "cell_type": "markdown",
   "metadata": {},
   "source": [
    "## 3.1.2 리스트"
   ]
  },
  {
   "cell_type": "code",
   "execution_count": 38,
   "metadata": {
    "scrolled": true
   },
   "outputs": [
    {
     "data": {
      "text/plain": [
       "True"
      ]
     },
     "execution_count": 38,
     "metadata": {},
     "output_type": "execute_result"
    }
   ],
   "source": [
    "a = ['gg','hh']\n",
    "'gg' in a"
   ]
  },
  {
   "cell_type": "code",
   "execution_count": 39,
   "metadata": {
    "scrolled": true
   },
   "outputs": [
    {
     "data": {
      "text/plain": [
       "['gg', 'hh', 'gg', 'hh']"
      ]
     },
     "execution_count": 39,
     "metadata": {},
     "output_type": "execute_result"
    }
   ],
   "source": [
    "a+a"
   ]
  },
  {
   "cell_type": "code",
   "execution_count": 40,
   "metadata": {
    "scrolled": true
   },
   "outputs": [],
   "source": [
    "a.extend([['d'],23])"
   ]
  },
  {
   "cell_type": "code",
   "execution_count": 41,
   "metadata": {
    "scrolled": true
   },
   "outputs": [
    {
     "data": {
      "text/plain": [
       "['gg', 'hh', ['d'], 23]"
      ]
     },
     "execution_count": 41,
     "metadata": {},
     "output_type": "execute_result"
    }
   ],
   "source": [
    "a"
   ]
  },
  {
   "cell_type": "markdown",
   "metadata": {},
   "source": [
    "리스트를 +로 이어붙이면 새로운 리스트를 생성하고 복사하므로 상대적으로 연산비용이높음\n",
    "\n",
    "extend가 더 나은 선택임"
   ]
  },
  {
   "cell_type": "code",
   "execution_count": 1,
   "metadata": {
    "scrolled": true
   },
   "outputs": [],
   "source": [
    "import numpy as np\n",
    "a = np.arange(100)\n",
    "\n",
    "def doit(a):\n",
    "    everything = []\n",
    "    for chunk in a:\n",
    "        everything = everything + [chunk]\n",
    "    return everything\n",
    "\n",
    "def doit2(a):\n",
    "    everything = []\n",
    "    for chunk in a:\n",
    "        everything.extend([chunk])\n",
    "    return everything"
   ]
  },
  {
   "cell_type": "code",
   "execution_count": 4,
   "metadata": {
    "scrolled": true
   },
   "outputs": [
    {
     "name": "stdout",
     "output_type": "stream",
     "text": [
      "69.8 µs ± 731 ns per loop (mean ± std. dev. of 7 runs, 10000 loops each)\n",
      "33 µs ± 967 ns per loop (mean ± std. dev. of 7 runs, 10000 loops each)\n"
     ]
    }
   ],
   "source": [
    "%timeit doit(a)\n",
    "%timeit doit2(a)"
   ]
  },
  {
   "cell_type": "code",
   "execution_count": 7,
   "metadata": {
    "scrolled": true
   },
   "outputs": [
    {
     "data": {
      "text/plain": [
       "[1, 2, 5, 6, 7, 99]"
      ]
     },
     "execution_count": 7,
     "metadata": {},
     "output_type": "execute_result"
    }
   ],
   "source": [
    "a = [1,99,2,6,5,7]\n",
    "a.sort()\n",
    "a"
   ]
  },
  {
   "cell_type": "code",
   "execution_count": 8,
   "metadata": {
    "scrolled": true
   },
   "outputs": [
    {
     "data": {
      "text/plain": [
       "[1, 2, 5, 6, 7, 99]"
      ]
     },
     "execution_count": 8,
     "metadata": {},
     "output_type": "execute_result"
    }
   ],
   "source": [
    "sorted(a)"
   ]
  },
  {
   "cell_type": "code",
   "execution_count": 9,
   "metadata": {
    "scrolled": true
   },
   "outputs": [
    {
     "name": "stdout",
     "output_type": "stream",
     "text": [
      "['hhh', 'ahhhhhh', 'hhhh']\n",
      "['ahhhhhh', 'hhh', 'hhhh']\n",
      "['hhh', 'hhhh', 'ahhhhhh']\n"
     ]
    }
   ],
   "source": [
    "a = ['hhh','ahhhhhh','hhhh']\n",
    "print(a)\n",
    "a.sort()\n",
    "print(a)\n",
    "a.sort(key=len)\n",
    "print(a)"
   ]
  },
  {
   "cell_type": "markdown",
   "metadata": {},
   "source": [
    "이진탐색, 정렬된 리스트에 값을 추가하기"
   ]
  },
  {
   "cell_type": "code",
   "execution_count": 25,
   "metadata": {
    "scrolled": true
   },
   "outputs": [
    {
     "name": "stdout",
     "output_type": "stream",
     "text": [
      "[1, 3, 8, 9]\n"
     ]
    },
    {
     "data": {
      "text/plain": [
       "[1, 3, 8, 9, 9.9]"
      ]
     },
     "execution_count": 25,
     "metadata": {},
     "output_type": "execute_result"
    }
   ],
   "source": [
    "import bisect\n",
    "a = [3,8,9,1]\n",
    "a.sort()\n",
    "print(a)\n",
    "val = 9.9\n",
    "pos = bisect.bisect(a,val) #2번쨰 값을 리스트에 추가할떄 정렬상태를 안해치는 위치 리턴\n",
    "a.insert(pos,val)\n",
    "a"
   ]
  },
  {
   "cell_type": "code",
   "execution_count": 37,
   "metadata": {
    "scrolled": true
   },
   "outputs": [
    {
     "data": {
      "text/plain": [
       "[1, 3, 5, 8, 9]"
      ]
     },
     "execution_count": 37,
     "metadata": {},
     "output_type": "execute_result"
    }
   ],
   "source": [
    "a = [3,8,9,1]\n",
    "a.sort() #값을 정렬하기 않고 insort쓰면 틀린 값나옴\n",
    "bisect.insort(a,5) #정렬을 해치지않고 값추가\n",
    "a"
   ]
  },
  {
   "cell_type": "code",
   "execution_count": 16,
   "metadata": {
    "scrolled": true
   },
   "outputs": [
    {
     "data": {
      "text/plain": [
       "[5, 1, 2, 3]"
      ]
     },
     "execution_count": 16,
     "metadata": {},
     "output_type": "execute_result"
    }
   ],
   "source": [
    "a = [1,2,3]\n",
    "a.insert(0,5)\n",
    "a"
   ]
  },
  {
   "cell_type": "code",
   "execution_count": 39,
   "metadata": {
    "scrolled": true
   },
   "outputs": [
    {
     "data": {
      "text/plain": [
       "{'a': 1, 'b': 5, 'c': 7}"
      ]
     },
     "execution_count": 39,
     "metadata": {},
     "output_type": "execute_result"
    }
   ],
   "source": [
    "#dict의 update\n",
    "dic1 = {\n",
    "    'a':1,\n",
    "    'b':2\n",
    "}\n",
    "dic2 = {\n",
    "    'b':5,\n",
    "    'c':7\n",
    "}\n",
    "dic1.update(dic2)\n",
    "dic1"
   ]
  },
  {
   "cell_type": "code",
   "execution_count": 40,
   "metadata": {
    "scrolled": true
   },
   "outputs": [
    {
     "name": "stdout",
     "output_type": "stream",
     "text": [
      "5\n",
      "99\n"
     ]
    }
   ],
   "source": [
    "#dict의 get 메서드\n",
    "dic = {\n",
    "    'a':5,\n",
    "    'b':10\n",
    "}\n",
    "print(dic.get('a',99))\n",
    "print(dic.get('c',99))"
   ]
  },
  {
   "cell_type": "code",
   "execution_count": 45,
   "metadata": {
    "scrolled": true
   },
   "outputs": [
    {
     "data": {
      "text/plain": [
       "{'a': ['apple', 'atom'], 'b': ['banana'], 'c': ['camel']}"
      ]
     },
     "execution_count": 45,
     "metadata": {},
     "output_type": "execute_result"
    }
   ],
   "source": [
    "words = ['apple','banana','atom','camel']\n",
    "by_letters={}\n",
    "for word in words:\n",
    "    letter = word[0]\n",
    "    if letter in by_letters:\n",
    "        by_letters[letter].append(word)\n",
    "    else:\n",
    "        by_letters[letter] = [word]\n",
    "by_letters"
   ]
  },
  {
   "cell_type": "code",
   "execution_count": 49,
   "metadata": {
    "scrolled": true
   },
   "outputs": [
    {
     "data": {
      "text/plain": [
       "{'a': ['apple', 'atom'], 'b': ['banana'], 'c': ['camel']}"
      ]
     },
     "execution_count": 49,
     "metadata": {},
     "output_type": "execute_result"
    }
   ],
   "source": [
    "#set_default사용\n",
    "words = ['apple','banana','atom','camel']\n",
    "by_letter={}\n",
    "for word in words:\n",
    "    letter = word[0]\n",
    "    by_letter.setdefault(letter,[]).append(word) #letter가 있으면 아무것도 안하고 없으면 초기화\n",
    "by_letter"
   ]
  },
  {
   "cell_type": "code",
   "execution_count": 59,
   "metadata": {
    "scrolled": true
   },
   "outputs": [
    {
     "data": {
      "text/plain": [
       "defaultdict(list, {})"
      ]
     },
     "execution_count": 59,
     "metadata": {},
     "output_type": "execute_result"
    }
   ],
   "source": [
    "#내장 defaultdict 클래스 사용\n",
    "from collections import defaultdict\n",
    "defaultdict(list)"
   ]
  },
  {
   "cell_type": "code",
   "execution_count": 60,
   "metadata": {
    "scrolled": true
   },
   "outputs": [],
   "source": [
    "by_letter = defaultdict(list)\n",
    "for word in words:\n",
    "    by_letter[word[0]].append(word)"
   ]
  },
  {
   "cell_type": "code",
   "execution_count": 61,
   "metadata": {
    "scrolled": true
   },
   "outputs": [
    {
     "data": {
      "text/plain": [
       "defaultdict(list, {'a': ['apple', 'atom'], 'b': ['banana'], 'c': ['camel']})"
      ]
     },
     "execution_count": 61,
     "metadata": {},
     "output_type": "execute_result"
    }
   ],
   "source": [
    "by_letter"
   ]
  },
  {
   "cell_type": "code",
   "execution_count": 62,
   "metadata": {
    "scrolled": true
   },
   "outputs": [
    {
     "data": {
      "text/plain": [
       "{'a': ['apple', 'atom'], 'b': ['banana'], 'c': ['camel']}"
      ]
     },
     "execution_count": 62,
     "metadata": {},
     "output_type": "execute_result"
    }
   ],
   "source": [
    "dict(by_letter)"
   ]
  },
  {
   "cell_type": "markdown",
   "metadata": {},
   "source": [
    "set"
   ]
  },
  {
   "cell_type": "code",
   "execution_count": 65,
   "metadata": {
    "scrolled": true
   },
   "outputs": [
    {
     "name": "stdout",
     "output_type": "stream",
     "text": [
      "{1, 2, 3, 4, 5, 6}\n",
      "{1, 2, 3, 4, 5, 6}\n",
      "{3, 4}\n",
      "{3, 4}\n"
     ]
    }
   ],
   "source": [
    "a = {1,2,3,4}\n",
    "b = {3,4,5,6}\n",
    "print(a.union(b))\n",
    "print(a|b)\n",
    "print(a.intersection(b))\n",
    "print(a&b)"
   ]
  },
  {
   "cell_type": "markdown",
   "metadata": {},
   "source": [
    "## 3.1.6 리스트,집합,사전표기법"
   ]
  },
  {
   "cell_type": "code",
   "execution_count": 69,
   "metadata": {
    "scrolled": true
   },
   "outputs": [
    {
     "name": "stdout",
     "output_type": "stream",
     "text": [
      "['A', 'B', 'APPLY', 'BANANA', 'CAR']\n",
      "['APPLY', 'BANANA', 'CAR']\n"
     ]
    }
   ],
   "source": [
    "#리스트 표현법 (집합도 가능함 {} 쓰면됨)\n",
    "a = ['a','b','apply','banana','car']\n",
    "b = [i.upper() for i in a]\n",
    "print(b)\n",
    "c = [i.upper() for i in a if len(i)>2]\n",
    "print(c)"
   ]
  },
  {
   "cell_type": "code",
   "execution_count": 70,
   "metadata": {
    "scrolled": true
   },
   "outputs": [
    {
     "data": {
      "text/plain": [
       "{'a': 0, 'b': 1, 'apply': 2, 'banana': 3, 'car': 4}"
      ]
     },
     "execution_count": 70,
     "metadata": {},
     "output_type": "execute_result"
    }
   ],
   "source": [
    "#사전표기법\n",
    "#문자열의 위치를 얻어내는 사전\n",
    "dic = {key:val for val,key in enumerate(a)}\n",
    "dic"
   ]
  },
  {
   "cell_type": "markdown",
   "metadata": {},
   "source": [
    "## 3.2 함수"
   ]
  },
  {
   "cell_type": "code",
   "execution_count": 16,
   "metadata": {
    "ExecuteTime": {
     "end_time": "2019-08-11T04:01:02.508413Z",
     "start_time": "2019-08-11T04:01:02.499295Z"
    },
    "code_folding": [],
    "scrolled": true
   },
   "outputs": [
    {
     "name": "stdout",
     "output_type": "stream",
     "text": [
      "[0, 1, 2, 3, 4]\n"
     ]
    },
    {
     "data": {
      "text/plain": [
       "5"
      ]
     },
     "execution_count": 16,
     "metadata": {},
     "output_type": "execute_result"
    }
   ],
   "source": [
    "def func():\n",
    "    a = []\n",
    "    for i in range(5):\n",
    "        a.append(i)\n",
    "    print(a)\n",
    "func()\n",
    "a"
   ]
  },
  {
   "cell_type": "code",
   "execution_count": 19,
   "metadata": {
    "ExecuteTime": {
     "end_time": "2019-08-11T04:02:33.065727Z",
     "start_time": "2019-08-11T04:02:33.055717Z"
    }
   },
   "outputs": [
    {
     "data": {
      "text/plain": [
       "[0, 1, 2, 3, 4]"
      ]
     },
     "execution_count": 19,
     "metadata": {},
     "output_type": "execute_result"
    }
   ],
   "source": [
    "a = []\n",
    "def func2():\n",
    "    global a\n",
    "    for i in range(5):\n",
    "        a.append(i)\n",
    "func2()\n",
    "a"
   ]
  },
  {
   "cell_type": "markdown",
   "metadata": {},
   "source": [
    "- 여러값 반환"
   ]
  },
  {
   "cell_type": "code",
   "execution_count": 29,
   "metadata": {
    "ExecuteTime": {
     "end_time": "2019-08-11T04:04:58.966165Z",
     "start_time": "2019-08-11T04:04:58.956016Z"
    },
    "scrolled": true
   },
   "outputs": [
    {
     "data": {
      "text/plain": [
       "5"
      ]
     },
     "execution_count": 29,
     "metadata": {},
     "output_type": "execute_result"
    },
    {
     "data": {
      "text/plain": [
       "10"
      ]
     },
     "execution_count": 29,
     "metadata": {},
     "output_type": "execute_result"
    },
    {
     "data": {
      "text/plain": [
       "7"
      ]
     },
     "execution_count": 29,
     "metadata": {},
     "output_type": "execute_result"
    },
    {
     "data": {
      "text/plain": [
       "(5, 10, 7)"
      ]
     },
     "execution_count": 29,
     "metadata": {},
     "output_type": "execute_result"
    }
   ],
   "source": [
    "def func():\n",
    "    a = 5\n",
    "    b= 10\n",
    "    c = 7\n",
    "    return a,b,c\n",
    "result = func()\n",
    "x,y,z= func()\n",
    "x\n",
    "y\n",
    "z\n",
    "result"
   ]
  },
  {
   "cell_type": "code",
   "execution_count": 30,
   "metadata": {
    "ExecuteTime": {
     "end_time": "2019-08-11T04:07:20.634485Z",
     "start_time": "2019-08-11T04:07:20.630424Z"
    }
   },
   "outputs": [],
   "source": [
    "status = ['Alabama','Georgial','Georgia','georgia','FlOrida','southcarolina##','West verginia?']\n",
    "#요런 엉망인 놈들 처리하기"
   ]
  },
  {
   "cell_type": "code",
   "execution_count": 36,
   "metadata": {
    "ExecuteTime": {
     "end_time": "2019-08-11T04:10:59.587603Z",
     "start_time": "2019-08-11T04:10:59.580342Z"
    }
   },
   "outputs": [
    {
     "data": {
      "text/plain": [
       "'Dde  Eff'"
      ]
     },
     "execution_count": 36,
     "metadata": {},
     "output_type": "execute_result"
    }
   ],
   "source": [
    "a= 'dde  eff'\n",
    "a.title()"
   ]
  },
  {
   "cell_type": "code",
   "execution_count": 37,
   "metadata": {
    "ExecuteTime": {
     "end_time": "2019-08-11T04:11:32.198380Z",
     "start_time": "2019-08-11T04:11:32.182785Z"
    }
   },
   "outputs": [
    {
     "data": {
      "text/plain": [
       "'Southcarolina'"
      ]
     },
     "execution_count": 37,
     "metadata": {},
     "output_type": "execute_result"
    },
    {
     "data": {
      "text/plain": [
       "['Alabama',\n",
       " 'Georgial',\n",
       " 'Georgia',\n",
       " 'Georgia',\n",
       " 'Florida',\n",
       " 'Southcarolina',\n",
       " 'West Verginia']"
      ]
     },
     "execution_count": 37,
     "metadata": {},
     "output_type": "execute_result"
    }
   ],
   "source": [
    "import re\n",
    "a = re.sub('[!#?]','',status[-2])\n",
    "a.title()\n",
    "def clean_string(strings):\n",
    "    result = []\n",
    "    for value in strings:\n",
    "        value = value.strip()\n",
    "        value = re.sub('[!#?]','',value) #해당 문자열 없애기, 대체하기\n",
    "        value = value.title()\n",
    "        result.append(value)\n",
    "    return result\n",
    "clean_string(status)\n",
    "        "
   ]
  },
  {
   "cell_type": "code",
   "execution_count": 41,
   "metadata": {
    "ExecuteTime": {
     "end_time": "2019-08-11T04:16:47.479540Z",
     "start_time": "2019-08-11T04:16:47.467660Z"
    }
   },
   "outputs": [
    {
     "data": {
      "text/plain": [
       "['Alabama',\n",
       " 'Georgial',\n",
       " 'Georgia',\n",
       " 'Georgia',\n",
       " 'Florida',\n",
       " 'Southcarolina',\n",
       " 'West Verginia']"
      ]
     },
     "execution_count": 41,
     "metadata": {},
     "output_type": "execute_result"
    }
   ],
   "source": [
    "#클리닝할 함수들을 따로 저장해놓고 문자열 마다 적용하기\n",
    "def remove_puctuation(value):\n",
    "    return re.sub('[?!#]','',value)\n",
    "clean_op = [str.strip,remove_puctuation,str.title ]\n",
    "\n",
    "def clean_strings(strings,op):\n",
    "    result = []\n",
    "    for value in strings:\n",
    "        for function in op:\n",
    "            value = function(value) # 요래 사용가능하네 기억!!\n",
    "        result.append(value)\n",
    "    return result\n",
    "\n",
    "clean_strings(status,clean_op)"
   ]
  },
  {
   "cell_type": "markdown",
   "metadata": {},
   "source": [
    "- 위와같이 하면 패턴을 상위레벨에서 쉽게 제어가능함 (함수 안디벼도) -> clean_op함수의 재사용성이 좋아짐"
   ]
  },
  {
   "cell_type": "code",
   "execution_count": 44,
   "metadata": {
    "ExecuteTime": {
     "end_time": "2019-08-11T04:19:28.324388Z",
     "start_time": "2019-08-11T04:19:28.317526Z"
    }
   },
   "outputs": [
    {
     "name": "stdout",
     "output_type": "stream",
     "text": [
      "Alabama\n",
      "Georgial\n",
      "Georgia\n",
      "georgia\n",
      "FlOrida\n",
      "southcarolina\n",
      "West verginia\n"
     ]
    }
   ],
   "source": [
    "#map 함수 이용하기\n",
    "for x in map(clean_op[1],status):\n",
    "    print(x)"
   ]
  },
  {
   "cell_type": "markdown",
   "metadata": {},
   "source": [
    "## 3.2.4 익명함수 (람다?)"
   ]
  },
  {
   "cell_type": "code",
   "execution_count": 46,
   "metadata": {
    "ExecuteTime": {
     "end_time": "2019-08-11T04:21:03.661448Z",
     "start_time": "2019-08-11T04:21:03.658454Z"
    }
   },
   "outputs": [],
   "source": [
    "def short_function(x):\n",
    "    return x **2\n",
    "\n",
    "equiv_anon = lambda x:x**2"
   ]
  },
  {
   "cell_type": "code",
   "execution_count": 51,
   "metadata": {
    "ExecuteTime": {
     "end_time": "2019-08-11T04:23:04.971909Z",
     "start_time": "2019-08-11T04:23:04.967892Z"
    }
   },
   "outputs": [
    {
     "name": "stdout",
     "output_type": "stream",
     "text": [
      "1\n",
      "4\n",
      "9\n"
     ]
    }
   ],
   "source": [
    "for i in map(equiv_anon, [1,2,3]):\n",
    "    print(i)"
   ]
  },
  {
   "cell_type": "code",
   "execution_count": 53,
   "metadata": {
    "ExecuteTime": {
     "end_time": "2019-08-11T04:33:03.325964Z",
     "start_time": "2019-08-11T04:33:03.313950Z"
    }
   },
   "outputs": [
    {
     "data": {
      "text/plain": [
       "[8, 0, 2, 10, 12]"
      ]
     },
     "execution_count": 53,
     "metadata": {},
     "output_type": "execute_result"
    }
   ],
   "source": [
    "def apply_to_list(some_list,f):\n",
    "    return [f(x) for x in some_list]\n",
    "ints = [4,0,1,5,6]\n",
    "apply_to_list(ints,lambda x:x*2)"
   ]
  },
  {
   "cell_type": "code",
   "execution_count": 61,
   "metadata": {
    "ExecuteTime": {
     "end_time": "2019-08-11T04:36:37.301205Z",
     "start_time": "2019-08-11T04:36:37.295993Z"
    }
   },
   "outputs": [
    {
     "data": {
      "text/plain": [
       "['card', 'bar', 'foo', 'abab', 'aaa']"
      ]
     },
     "execution_count": 61,
     "metadata": {},
     "output_type": "execute_result"
    }
   ],
   "source": [
    "#문자열을 다양한 문자 순서로 정렬\n",
    "stings = ['foo','card','bar','aaa','abab']\n",
    "stings.sort(key = lambda x : len(set(list(x))),reverse = True)\n",
    "stings"
   ]
  },
  {
   "cell_type": "markdown",
   "metadata": {},
   "source": [
    "## 3.2.5 커링 : 일부 인자만 취하기"
   ]
  },
  {
   "cell_type": "code",
   "execution_count": 65,
   "metadata": {
    "ExecuteTime": {
     "end_time": "2019-08-11T04:41:26.267240Z",
     "start_time": "2019-08-11T04:41:26.255751Z"
    }
   },
   "outputs": [
    {
     "data": {
      "text/plain": [
       "10"
      ]
     },
     "execution_count": 65,
     "metadata": {},
     "output_type": "execute_result"
    }
   ],
   "source": [
    "def funcs(x,y):\n",
    "    return x+y\n",
    "add_five = lambda x : funcs(x,5) #첫번째 인자만 받아 5 더해주는 함수 새로 정의\n",
    "#func함수의 첫번째 인자를 커링했다고 표현함\n",
    "add_five(5)"
   ]
  },
  {
   "cell_type": "code",
   "execution_count": 69,
   "metadata": {
    "ExecuteTime": {
     "end_time": "2019-08-11T04:42:59.222996Z",
     "start_time": "2019-08-11T04:42:59.211839Z"
    }
   },
   "outputs": [
    {
     "data": {
      "text/plain": [
       "10"
      ]
     },
     "execution_count": 69,
     "metadata": {},
     "output_type": "execute_result"
    }
   ],
   "source": [
    "from functools import partial\n",
    "add_five = partial(funcs,5) #partial 이용하면 단순화 가능\n",
    "add_five(5)"
   ]
  },
  {
   "cell_type": "markdown",
   "metadata": {},
   "source": [
    "## 3.2.6 제너레이터"
   ]
  },
  {
   "cell_type": "code",
   "execution_count": 72,
   "metadata": {
    "ExecuteTime": {
     "end_time": "2019-08-11T04:46:35.888154Z",
     "start_time": "2019-08-11T04:46:35.871856Z"
    }
   },
   "outputs": [
    {
     "data": {
      "text/plain": [
       "<dict_keyiterator at 0x2615c94f638>"
      ]
     },
     "execution_count": 72,
     "metadata": {},
     "output_type": "execute_result"
    },
    {
     "name": "stdout",
     "output_type": "stream",
     "text": [
      "a\n",
      "b\n",
      "c\n",
      "a\n",
      "b\n",
      "c\n",
      "1\n",
      "23\n",
      "4\n",
      "5\n",
      "7\n"
     ]
    }
   ],
   "source": [
    "some_dict = {\n",
    "    'a':1,\n",
    "    'b':2,\n",
    "    'c':3\n",
    "}\n",
    "iter(some_dict)\n",
    "for i in iter(some_dict):\n",
    "    print(i)\n",
    "\n",
    "for i in some_dict:\n",
    "    print(i)\n",
    "#사전을 for문에 넣으면 key 기준으로 이터레이터 생성\n",
    "slist = [1,23,4,5,7]\n",
    "for i in iter(slist):\n",
    "    print(i)"
   ]
  },
  {
   "cell_type": "markdown",
   "metadata": {},
   "source": [
    "- 일반 함수는 실행시 단일값을 반환하지만 제너레이터는 순차적인 값을 매 요청시마다 하나씩 반환함  \n",
    "return 대신 yield 를 사용"
   ]
  },
  {
   "cell_type": "code",
   "execution_count": 82,
   "metadata": {
    "ExecuteTime": {
     "end_time": "2019-08-11T04:51:54.466610Z",
     "start_time": "2019-08-11T04:51:54.455037Z"
    }
   },
   "outputs": [
    {
     "data": {
      "text/plain": [
       "<generator object squares at 0x000002615C7D7480>"
      ]
     },
     "execution_count": 82,
     "metadata": {},
     "output_type": "execute_result"
    }
   ],
   "source": [
    "def squares(n=10):\n",
    "    print('generation squares from 1 to {0}'.format(n))\n",
    "    for i in range(1,n+1):\n",
    "        yield i**2\n",
    "gen = squares()\n",
    "gen"
   ]
  },
  {
   "cell_type": "code",
   "execution_count": 83,
   "metadata": {
    "ExecuteTime": {
     "end_time": "2019-08-11T04:51:56.869383Z",
     "start_time": "2019-08-11T04:51:56.861189Z"
    }
   },
   "outputs": [
    {
     "name": "stdout",
     "output_type": "stream",
     "text": [
      "generation squares from 1 to 10\n",
      "1 4 9 16 25 36 49 64 81 100 "
     ]
    }
   ],
   "source": [
    "for x in gen:\n",
    "    print(x,end=' ')\n",
    "# 값을 요청해야 제너레이터가 실행됨"
   ]
  },
  {
   "cell_type": "markdown",
   "metadata": {},
   "source": [
    "- 제너레이터 표현식 (리스트 표현식과 유사함)"
   ]
  },
  {
   "cell_type": "code",
   "execution_count": 84,
   "metadata": {
    "ExecuteTime": {
     "end_time": "2019-08-11T04:53:23.026876Z",
     "start_time": "2019-08-11T04:53:23.019060Z"
    }
   },
   "outputs": [],
   "source": [
    "gen = (x**2 for x in range(100))"
   ]
  },
  {
   "cell_type": "code",
   "execution_count": 85,
   "metadata": {
    "ExecuteTime": {
     "end_time": "2019-08-11T04:54:17.850444Z",
     "start_time": "2019-08-11T04:54:17.845605Z"
    }
   },
   "outputs": [],
   "source": [
    "def _make_gen():\n",
    "    for i in range(100):\n",
    "        yield i**2\n",
    "gen = _make_gen()"
   ]
  },
  {
   "cell_type": "markdown",
   "metadata": {},
   "source": [
    "**제너레이터는 리스트를 인자로 받는 어떤 함수에서도 수행가능함**"
   ]
  },
  {
   "cell_type": "code",
   "execution_count": 88,
   "metadata": {
    "ExecuteTime": {
     "end_time": "2019-08-11T04:57:22.603099Z",
     "start_time": "2019-08-11T04:57:22.593329Z"
    }
   },
   "outputs": [
    {
     "data": {
      "text/plain": [
       "328350"
      ]
     },
     "execution_count": 88,
     "metadata": {},
     "output_type": "execute_result"
    }
   ],
   "source": [
    "sum(i**2 for i in range(100))"
   ]
  },
  {
   "cell_type": "markdown",
   "metadata": {},
   "source": [
    "**itertools 모듈**  \n",
    "일반 데이터 알고리듬을 위한 제너레이터를 포함"
   ]
  },
  {
   "cell_type": "code",
   "execution_count": 91,
   "metadata": {
    "ExecuteTime": {
     "end_time": "2019-08-11T05:02:10.227447Z",
     "start_time": "2019-08-11T05:02:10.219975Z"
    }
   },
   "outputs": [
    {
     "name": "stdout",
     "output_type": "stream",
     "text": [
      "A ['Alan', 'Adam']\n",
      "W ['Wes', 'Will']\n",
      "A ['Albert']\n",
      "S ['Steven']\n"
     ]
    }
   ],
   "source": [
    "import itertools\n",
    "#Ex) groupby는 함수 결과값에 따라 짝지어줌\n",
    "first_letter = lambda x : x[0]\n",
    "dat = ['Alan','Adam','Wes','Will','Albert','Steven']\n",
    "for letter,names in itertools.groupby(dat,first_letter):\n",
    "    print(letter,list(names)) #names는 제너레이터 객체이므로 캐스팅\n"
   ]
  },
  {
   "cell_type": "markdown",
   "metadata": {},
   "source": [
    "## 3.2.7 에러와 예외처리"
   ]
  },
  {
   "cell_type": "code",
   "execution_count": 92,
   "metadata": {
    "ExecuteTime": {
     "end_time": "2019-08-11T05:03:07.913995Z",
     "start_time": "2019-08-11T05:03:07.897198Z"
    }
   },
   "outputs": [
    {
     "data": {
      "text/plain": [
       "3.14"
      ]
     },
     "execution_count": 92,
     "metadata": {},
     "output_type": "execute_result"
    },
    {
     "ename": "ValueError",
     "evalue": "could not convert string to float: 'hahaha'",
     "output_type": "error",
     "traceback": [
      "\u001b[1;31m---------------------------------------------------------------------------\u001b[0m",
      "\u001b[1;31mValueError\u001b[0m                                Traceback (most recent call last)",
      "\u001b[1;32m<ipython-input-92-5df68c7f3a46>\u001b[0m in \u001b[0;36m<module>\u001b[1;34m\u001b[0m\n\u001b[0;32m      1\u001b[0m \u001b[0mfloat\u001b[0m\u001b[1;33m(\u001b[0m\u001b[1;36m3.14\u001b[0m\u001b[1;33m)\u001b[0m\u001b[1;33m\u001b[0m\u001b[1;33m\u001b[0m\u001b[0m\n\u001b[1;32m----> 2\u001b[1;33m \u001b[0mfloat\u001b[0m\u001b[1;33m(\u001b[0m\u001b[1;34m'hahaha'\u001b[0m\u001b[1;33m)\u001b[0m\u001b[1;33m\u001b[0m\u001b[1;33m\u001b[0m\u001b[0m\n\u001b[0m",
      "\u001b[1;31mValueError\u001b[0m: could not convert string to float: 'hahaha'"
     ]
    }
   ],
   "source": [
    "float(3.14)\n",
    "float('hahaha')"
   ]
  },
  {
   "cell_type": "code",
   "execution_count": 93,
   "metadata": {
    "ExecuteTime": {
     "end_time": "2019-08-11T05:04:15.991422Z",
     "start_time": "2019-08-11T05:04:15.980676Z"
    }
   },
   "outputs": [
    {
     "data": {
      "text/plain": [
       "3.14"
      ]
     },
     "execution_count": 93,
     "metadata": {},
     "output_type": "execute_result"
    },
    {
     "data": {
      "text/plain": [
       "'hahaha'"
      ]
     },
     "execution_count": 93,
     "metadata": {},
     "output_type": "execute_result"
    }
   ],
   "source": [
    "#위처럼 잘못된 입력값은 그대로 돌려주는 함수 작성\n",
    "def attemp_float(x):\n",
    "    try:\n",
    "        return float(x)\n",
    "    except:\n",
    "        return x\n",
    "\n",
    "attemp_float(3.14)\n",
    "attemp_float('hahaha')"
   ]
  },
  {
   "cell_type": "code",
   "execution_count": 94,
   "metadata": {
    "ExecuteTime": {
     "end_time": "2019-08-11T05:06:17.065793Z",
     "start_time": "2019-08-11T05:06:17.039742Z"
    }
   },
   "outputs": [
    {
     "data": {
      "text/plain": [
       "3.14"
      ]
     },
     "execution_count": 94,
     "metadata": {},
     "output_type": "execute_result"
    },
    {
     "data": {
      "text/plain": [
       "'hhh'"
      ]
     },
     "execution_count": 94,
     "metadata": {},
     "output_type": "execute_result"
    },
    {
     "ename": "TypeError",
     "evalue": "float() argument must be a string or a number, not 'list'",
     "output_type": "error",
     "traceback": [
      "\u001b[1;31m---------------------------------------------------------------------------\u001b[0m",
      "\u001b[1;31mTypeError\u001b[0m                                 Traceback (most recent call last)",
      "\u001b[1;32m<ipython-input-94-76c69604d5df>\u001b[0m in \u001b[0;36m<module>\u001b[1;34m\u001b[0m\n\u001b[0;32m      8\u001b[0m \u001b[0matmp_float2\u001b[0m\u001b[1;33m(\u001b[0m\u001b[1;36m3.14\u001b[0m\u001b[1;33m)\u001b[0m\u001b[1;33m\u001b[0m\u001b[1;33m\u001b[0m\u001b[0m\n\u001b[0;32m      9\u001b[0m \u001b[0matmp_float2\u001b[0m\u001b[1;33m(\u001b[0m\u001b[1;34m'hhh'\u001b[0m\u001b[1;33m)\u001b[0m\u001b[1;33m\u001b[0m\u001b[1;33m\u001b[0m\u001b[0m\n\u001b[1;32m---> 10\u001b[1;33m \u001b[0matmp_float2\u001b[0m\u001b[1;33m(\u001b[0m\u001b[1;33m[\u001b[0m\u001b[1;36m1\u001b[0m\u001b[1;33m,\u001b[0m\u001b[1;36m2\u001b[0m\u001b[1;33m,\u001b[0m\u001b[1;36m3\u001b[0m\u001b[1;33m]\u001b[0m\u001b[1;33m)\u001b[0m\u001b[1;33m\u001b[0m\u001b[1;33m\u001b[0m\u001b[0m\n\u001b[0m",
      "\u001b[1;32m<ipython-input-94-76c69604d5df>\u001b[0m in \u001b[0;36matmp_float2\u001b[1;34m(x)\u001b[0m\n\u001b[0;32m      2\u001b[0m \u001b[1;32mdef\u001b[0m \u001b[0matmp_float2\u001b[0m\u001b[1;33m(\u001b[0m\u001b[0mx\u001b[0m\u001b[1;33m)\u001b[0m\u001b[1;33m:\u001b[0m\u001b[1;33m\u001b[0m\u001b[1;33m\u001b[0m\u001b[0m\n\u001b[0;32m      3\u001b[0m     \u001b[1;32mtry\u001b[0m\u001b[1;33m:\u001b[0m\u001b[1;33m\u001b[0m\u001b[1;33m\u001b[0m\u001b[0m\n\u001b[1;32m----> 4\u001b[1;33m         \u001b[1;32mreturn\u001b[0m \u001b[0mfloat\u001b[0m\u001b[1;33m(\u001b[0m\u001b[0mx\u001b[0m\u001b[1;33m)\u001b[0m\u001b[1;33m\u001b[0m\u001b[1;33m\u001b[0m\u001b[0m\n\u001b[0m\u001b[0;32m      5\u001b[0m     \u001b[1;32mexcept\u001b[0m \u001b[0mValueError\u001b[0m\u001b[1;33m:\u001b[0m\u001b[1;33m\u001b[0m\u001b[1;33m\u001b[0m\u001b[0m\n\u001b[0;32m      6\u001b[0m         \u001b[1;32mreturn\u001b[0m \u001b[0mx\u001b[0m\u001b[1;33m\u001b[0m\u001b[1;33m\u001b[0m\u001b[0m\n",
      "\u001b[1;31mTypeError\u001b[0m: float() argument must be a string or a number, not 'list'"
     ]
    }
   ],
   "source": [
    "#다른 에러는 띄우고 특정 에러만 해결하고 싶다면  except위에 해결할 예외만 적어줌\n",
    "def atmp_float2(x):\n",
    "    try:\n",
    "        return float(x)\n",
    "    except ValueError:\n",
    "        return x\n",
    "\n",
    "atmp_float2(3.14)\n",
    "atmp_float2('hhh')\n",
    "atmp_float2([1,2,3])"
   ]
  },
  {
   "cell_type": "code",
   "execution_count": 100,
   "metadata": {
    "ExecuteTime": {
     "end_time": "2019-08-11T05:09:35.221830Z",
     "start_time": "2019-08-11T05:09:35.202424Z"
    }
   },
   "outputs": [
    {
     "name": "stdout",
     "output_type": "stream",
     "text": [
      "에러와 상관없이 무조건 수행됨\n"
     ]
    },
    {
     "data": {
      "text/plain": [
       "3.14"
      ]
     },
     "execution_count": 100,
     "metadata": {},
     "output_type": "execute_result"
    },
    {
     "name": "stdout",
     "output_type": "stream",
     "text": [
      "에러와 상관없이 무조건 수행됨\n"
     ]
    },
    {
     "data": {
      "text/plain": [
       "'ㅗㅗ'"
      ]
     },
     "execution_count": 100,
     "metadata": {},
     "output_type": "execute_result"
    },
    {
     "name": "stdout",
     "output_type": "stream",
     "text": [
      "에러와 상관없이 무조건 수행됨\n"
     ]
    },
    {
     "ename": "TypeError",
     "evalue": "float() argument must be a string or a number, not 'list'",
     "output_type": "error",
     "traceback": [
      "\u001b[1;31m---------------------------------------------------------------------------\u001b[0m",
      "\u001b[1;31mTypeError\u001b[0m                                 Traceback (most recent call last)",
      "\u001b[1;32m<ipython-input-100-5c85db2481bc>\u001b[0m in \u001b[0;36m<module>\u001b[1;34m\u001b[0m\n\u001b[0;32m      9\u001b[0m \u001b[0matmp_float3\u001b[0m\u001b[1;33m(\u001b[0m\u001b[1;36m3.14\u001b[0m\u001b[1;33m)\u001b[0m\u001b[1;33m\u001b[0m\u001b[1;33m\u001b[0m\u001b[0m\n\u001b[0;32m     10\u001b[0m \u001b[0matmp_float3\u001b[0m\u001b[1;33m(\u001b[0m\u001b[1;34m'ㅗㅗ'\u001b[0m\u001b[1;33m)\u001b[0m\u001b[1;33m\u001b[0m\u001b[1;33m\u001b[0m\u001b[0m\n\u001b[1;32m---> 11\u001b[1;33m \u001b[0matmp_float3\u001b[0m\u001b[1;33m(\u001b[0m\u001b[1;33m[\u001b[0m\u001b[1;36m1\u001b[0m\u001b[1;33m,\u001b[0m\u001b[1;36m2\u001b[0m\u001b[1;33m,\u001b[0m\u001b[1;36m3\u001b[0m\u001b[1;33m]\u001b[0m\u001b[1;33m)\u001b[0m\u001b[1;33m\u001b[0m\u001b[1;33m\u001b[0m\u001b[0m\n\u001b[0m",
      "\u001b[1;32m<ipython-input-100-5c85db2481bc>\u001b[0m in \u001b[0;36matmp_float3\u001b[1;34m(x)\u001b[0m\n\u001b[0;32m      2\u001b[0m \u001b[1;32mdef\u001b[0m \u001b[0matmp_float3\u001b[0m\u001b[1;33m(\u001b[0m\u001b[0mx\u001b[0m\u001b[1;33m)\u001b[0m\u001b[1;33m:\u001b[0m\u001b[1;33m\u001b[0m\u001b[1;33m\u001b[0m\u001b[0m\n\u001b[0;32m      3\u001b[0m     \u001b[1;32mtry\u001b[0m\u001b[1;33m:\u001b[0m\u001b[1;33m\u001b[0m\u001b[1;33m\u001b[0m\u001b[0m\n\u001b[1;32m----> 4\u001b[1;33m         \u001b[1;32mreturn\u001b[0m \u001b[0mfloat\u001b[0m\u001b[1;33m(\u001b[0m\u001b[0mx\u001b[0m\u001b[1;33m)\u001b[0m\u001b[1;33m\u001b[0m\u001b[1;33m\u001b[0m\u001b[0m\n\u001b[0m\u001b[0;32m      5\u001b[0m     \u001b[1;32mexcept\u001b[0m \u001b[1;33m(\u001b[0m\u001b[0mValueError\u001b[0m\u001b[1;33m)\u001b[0m\u001b[1;33m:\u001b[0m\u001b[1;31m# TypeError):\u001b[0m\u001b[1;33m\u001b[0m\u001b[1;33m\u001b[0m\u001b[0m\n\u001b[0;32m      6\u001b[0m         \u001b[1;32mreturn\u001b[0m \u001b[0mx\u001b[0m\u001b[1;33m\u001b[0m\u001b[1;33m\u001b[0m\u001b[0m\n",
      "\u001b[1;31mTypeError\u001b[0m: float() argument must be a string or a number, not 'list'"
     ]
    }
   ],
   "source": [
    "#예외를 튜플로 묶으면 여러개 처리가능\n",
    "def atmp_float3(x):\n",
    "    try:\n",
    "        return float(x)\n",
    "    except (ValueError):# TypeError):\n",
    "        return x\n",
    "    finally:\n",
    "        print('에러와 상관없이 무조건 수행됨')\n",
    "atmp_float3(3.14)\n",
    "atmp_float3('ㅗㅗ')\n",
    "atmp_float3([1,2,3])\n",
    "#f.close 처럼 무조건 수행되어야 하는 구문을 여기에둠"
   ]
  },
  {
   "cell_type": "code",
   "execution_count": 103,
   "metadata": {
    "ExecuteTime": {
     "end_time": "2019-08-11T05:13:41.517127Z",
     "start_time": "2019-08-11T05:13:41.505537Z"
    }
   },
   "outputs": [
    {
     "name": "stdout",
     "output_type": "stream",
     "text": [
      "else 구문은 try가 성공했을때 DP\n",
      "에러와 상관없이 무조건 수행됨\n"
     ]
    },
    {
     "data": {
      "text/plain": [
       "3.14"
      ]
     },
     "execution_count": 103,
     "metadata": {},
     "output_type": "execute_result"
    },
    {
     "name": "stdout",
     "output_type": "stream",
     "text": [
      "실패했음\n",
      "에러와 상관없이 무조건 수행됨\n"
     ]
    },
    {
     "data": {
      "text/plain": [
       "'ㅗㅗ'"
      ]
     },
     "execution_count": 103,
     "metadata": {},
     "output_type": "execute_result"
    },
    {
     "name": "stdout",
     "output_type": "stream",
     "text": [
      "얌마!\n",
      "에러와 상관없이 무조건 수행됨\n"
     ]
    }
   ],
   "source": [
    "#예외를 튜플로 묶으면 여러개 처리가능\n",
    "def atmp_float3(x):\n",
    "    try:\n",
    "        float(x)\n",
    "    except (\n",
    "        ValueError):\n",
    "        print('실패했음')\n",
    "        return x\n",
    "    except (TypeError):\n",
    "        print('얌마!')\n",
    "    else:\n",
    "        print('else 구문은 try가 성공했을때 DP')\n",
    "        return float(x)\n",
    "    finally:\n",
    "        print('에러와 상관없이 무조건 수행됨')\n",
    "atmp_float3(3.14)\n",
    "atmp_float3('ㅗㅗ')\n",
    "atmp_float3([1,2,3])"
   ]
  },
  {
   "cell_type": "code",
   "execution_count": null,
   "metadata": {},
   "outputs": [],
   "source": []
  }
 ],
 "metadata": {
  "kernelspec": {
   "display_name": "Python 3",
   "language": "python",
   "name": "python3"
  },
  "language_info": {
   "codemirror_mode": {
    "name": "ipython",
    "version": 3
   },
   "file_extension": ".py",
   "mimetype": "text/x-python",
   "name": "python",
   "nbconvert_exporter": "python",
   "pygments_lexer": "ipython3",
   "version": "3.7.3"
  },
  "varInspector": {
   "cols": {
    "lenName": "16",
    "lenType": "16",
    "lenVar": 40
   },
   "kernels_config": {
    "python": {
     "delete_cmd_postfix": "",
     "delete_cmd_prefix": "del ",
     "library": "var_list.py",
     "varRefreshCmd": "print(var_dic_list())"
    },
    "r": {
     "delete_cmd_postfix": ") ",
     "delete_cmd_prefix": "rm(",
     "library": "var_list.r",
     "varRefreshCmd": "cat(var_dic_list()) "
    }
   },
   "position": {
    "height": "627px",
    "left": "1550px",
    "right": "20px",
    "top": "120px",
    "width": "350px"
   },
   "types_to_exclude": [
    "module",
    "function",
    "builtin_function_or_method",
    "instance",
    "_Feature"
   ],
   "window_display": true
  }
 },
 "nbformat": 4,
 "nbformat_minor": 2
}
