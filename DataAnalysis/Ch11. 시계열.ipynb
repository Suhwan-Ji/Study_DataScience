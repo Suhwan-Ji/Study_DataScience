{
 "cells": [
  {
   "cell_type": "code",
   "execution_count": 1,
   "metadata": {
    "ExecuteTime": {
     "end_time": "2019-09-01T05:42:37.305182Z",
     "start_time": "2019-09-01T05:42:35.511390Z"
    }
   },
   "outputs": [],
   "source": [
    "import pandas as pd\n",
    "import numpy as np\n",
    "\n",
    "pd.options.display.max_rows = 10"
   ]
  },
  {
   "cell_type": "markdown",
   "metadata": {},
   "source": [
    "## 11.1. 날짜, 시간자료형, 도구  \n",
    "datetime,time,calande모듈"
   ]
  },
  {
   "cell_type": "code",
   "execution_count": 2,
   "metadata": {
    "ExecuteTime": {
     "end_time": "2019-09-01T05:42:37.331542Z",
     "start_time": "2019-09-01T05:42:37.308087Z"
    }
   },
   "outputs": [
    {
     "data": {
      "text/plain": [
       "datetime.datetime(2019, 9, 1, 14, 42, 37, 311080)"
      ]
     },
     "execution_count": 2,
     "metadata": {},
     "output_type": "execute_result"
    },
    {
     "data": {
      "text/plain": [
       "(2019, 9, 1)"
      ]
     },
     "execution_count": 2,
     "metadata": {},
     "output_type": "execute_result"
    }
   ],
   "source": [
    "from datetime import datetime\n",
    "now = datetime.now()\n",
    "now\n",
    "now.year,now.month,now.day"
   ]
  },
  {
   "cell_type": "markdown",
   "metadata": {},
   "source": [
    "datetime은 날짜와 시간을 모두 저장하며, 마이크로초까지 지원함"
   ]
  },
  {
   "cell_type": "code",
   "execution_count": 3,
   "metadata": {
    "ExecuteTime": {
     "end_time": "2019-09-01T05:42:37.359278Z",
     "start_time": "2019-09-01T05:42:37.337615Z"
    }
   },
   "outputs": [
    {
     "data": {
      "text/plain": [
       "37"
      ]
     },
     "execution_count": 3,
     "metadata": {},
     "output_type": "execute_result"
    },
    {
     "data": {
      "text/plain": [
       "311080"
      ]
     },
     "execution_count": 3,
     "metadata": {},
     "output_type": "execute_result"
    },
    {
     "data": {
      "text/plain": [
       "311"
      ]
     },
     "execution_count": 3,
     "metadata": {},
     "output_type": "execute_result"
    },
    {
     "data": {
      "text/plain": [
       "80"
      ]
     },
     "execution_count": 3,
     "metadata": {},
     "output_type": "execute_result"
    }
   ],
   "source": [
    "now.second;now.microsecond\n",
    "now.microsecond//1000;now.microsecond%1000"
   ]
  },
  {
   "cell_type": "markdown",
   "metadata": {},
   "source": [
    "datetime.timedelta는 두 객체간 시간적 차이를 표현가능"
   ]
  },
  {
   "cell_type": "code",
   "execution_count": 4,
   "metadata": {
    "ExecuteTime": {
     "end_time": "2019-09-01T05:42:37.378261Z",
     "start_time": "2019-09-01T05:42:37.363270Z"
    }
   },
   "outputs": [
    {
     "data": {
      "text/plain": [
       "datetime.timedelta(days=926, seconds=56700)"
      ]
     },
     "execution_count": 4,
     "metadata": {},
     "output_type": "execute_result"
    },
    {
     "data": {
      "text/plain": [
       "926"
      ]
     },
     "execution_count": 4,
     "metadata": {},
     "output_type": "execute_result"
    },
    {
     "data": {
      "text/plain": [
       "56700"
      ]
     },
     "execution_count": 4,
     "metadata": {},
     "output_type": "execute_result"
    }
   ],
   "source": [
    "delta = datetime(2011,1,7) - datetime(2008,6,24,8,15)\n",
    "delta\n",
    "delta.days\n",
    "delta.seconds"
   ]
  },
  {
   "cell_type": "markdown",
   "metadata": {
    "ExecuteTime": {
     "end_time": "2019-08-31T08:01:35.080079Z",
     "start_time": "2019-08-31T08:01:35.073107Z"
    }
   },
   "source": [
    "time delta를 더하거나 빼면 그만큼의 시간이 datetime객체에 적용되어 새 객체를 만듦"
   ]
  },
  {
   "cell_type": "code",
   "execution_count": 5,
   "metadata": {
    "ExecuteTime": {
     "end_time": "2019-09-01T05:42:37.395215Z",
     "start_time": "2019-09-01T05:42:37.381220Z"
    }
   },
   "outputs": [
    {
     "data": {
      "text/plain": [
       "datetime.datetime(2011, 1, 7, 0, 0)"
      ]
     },
     "execution_count": 5,
     "metadata": {},
     "output_type": "execute_result"
    },
    {
     "data": {
      "text/plain": [
       "datetime.datetime(2011, 1, 19, 0, 0)"
      ]
     },
     "execution_count": 5,
     "metadata": {},
     "output_type": "execute_result"
    },
    {
     "data": {
      "text/plain": [
       "datetime.datetime(2011, 1, 3, 0, 0)"
      ]
     },
     "execution_count": 5,
     "metadata": {},
     "output_type": "execute_result"
    }
   ],
   "source": [
    "from datetime import timedelta\n",
    "start = datetime(2011,1,7)\n",
    "start\n",
    "start + timedelta(12)#일,초,마이크로초\n",
    "start - 2* timedelta(2)"
   ]
  },
  {
   "cell_type": "markdown",
   "metadata": {},
   "source": [
    "### 11.1.1 문자열을 datetime으로 변환하기  \n",
    "포맷규칙을 넘겨서 문자열로 나타낼 수 있음"
   ]
  },
  {
   "cell_type": "code",
   "execution_count": 6,
   "metadata": {
    "ExecuteTime": {
     "end_time": "2019-09-01T05:42:37.413134Z",
     "start_time": "2019-09-01T05:42:37.398174Z"
    }
   },
   "outputs": [
    {
     "data": {
      "text/plain": [
       "datetime.datetime(2011, 1, 3, 0, 0)"
      ]
     },
     "execution_count": 6,
     "metadata": {},
     "output_type": "execute_result"
    },
    {
     "data": {
      "text/plain": [
       "'2011-01-03 00:00:00'"
      ]
     },
     "execution_count": 6,
     "metadata": {},
     "output_type": "execute_result"
    },
    {
     "data": {
      "text/plain": [
       "'2011-01-03'"
      ]
     },
     "execution_count": 6,
     "metadata": {},
     "output_type": "execute_result"
    }
   ],
   "source": [
    "stamp = datetime(2011,1,3)\n",
    "stamp\n",
    "str(stamp)\n",
    "stamp.strftime('%Y-%m-%d')"
   ]
  },
  {
   "cell_type": "code",
   "execution_count": 7,
   "metadata": {
    "ExecuteTime": {
     "end_time": "2019-09-01T05:42:37.430746Z",
     "start_time": "2019-09-01T05:42:37.416129Z"
    }
   },
   "outputs": [
    {
     "data": {
      "text/plain": [
       "datetime.datetime(2011, 1, 3, 0, 0)"
      ]
     },
     "execution_count": 7,
     "metadata": {},
     "output_type": "execute_result"
    },
    {
     "data": {
      "text/plain": [
       "[datetime.datetime(2011, 6, 7, 0, 0), datetime.datetime(2011, 6, 8, 0, 0)]"
      ]
     },
     "execution_count": 7,
     "metadata": {},
     "output_type": "execute_result"
    }
   ],
   "source": [
    "#문자열을 날짜로 변환할 수도 있음\n",
    "value = '2011-01-03'\n",
    "datetime.strptime(value,'%Y-%m-%d')\n",
    "\n",
    "datestrs = ['7/6/2011','8/6/2011']\n",
    "[datetime.strptime(value,'%d/%m/%Y') for value in datestrs]"
   ]
  },
  {
   "cell_type": "markdown",
   "metadata": {},
   "source": [
    "datetime.strptime을 사용하는것이 강력하긴 하지만 매번 규칙을 명시하는것은 귀찮음..  \n",
    "dateutil에 parse.parse메서드를 쓰면 편리함 (Pandas와 함께 설치됨)"
   ]
  },
  {
   "cell_type": "code",
   "execution_count": 8,
   "metadata": {
    "ExecuteTime": {
     "end_time": "2019-09-01T05:42:37.451066Z",
     "start_time": "2019-09-01T05:42:37.436074Z"
    }
   },
   "outputs": [
    {
     "data": {
      "text/plain": [
       "datetime.datetime(2011, 6, 7, 0, 0)"
      ]
     },
     "execution_count": 8,
     "metadata": {},
     "output_type": "execute_result"
    },
    {
     "data": {
      "text/plain": [
       "datetime.datetime(2019, 1, 31, 11, 40)"
      ]
     },
     "execution_count": 8,
     "metadata": {},
     "output_type": "execute_result"
    },
    {
     "data": {
      "text/plain": [
       "'사람이 인지하는 거의 대부분의 표현방식을 파싱가능'"
      ]
     },
     "execution_count": 8,
     "metadata": {},
     "output_type": "execute_result"
    }
   ],
   "source": [
    "from dateutil.parser import parse\n",
    "\n",
    "parse('2011-06-07')\n",
    "parse('jAn 31,2019 11:40')\n",
    "'''사람이 인지하는 거의 대부분의 표현방식을 파싱가능'''"
   ]
  },
  {
   "cell_type": "code",
   "execution_count": 9,
   "metadata": {
    "ExecuteTime": {
     "end_time": "2019-09-01T05:42:37.464002Z",
     "start_time": "2019-09-01T05:42:37.456020Z"
    }
   },
   "outputs": [
    {
     "data": {
      "text/plain": [
       "datetime.datetime(2011, 12, 6, 0, 0)"
      ]
     },
     "execution_count": 9,
     "metadata": {},
     "output_type": "execute_result"
    }
   ],
   "source": [
    "#날짜가 월 앞에 오는경우 dayfirst=True\n",
    "parse('6/12/2011',dayfirst = True)"
   ]
  },
  {
   "cell_type": "code",
   "execution_count": 10,
   "metadata": {
    "ExecuteTime": {
     "end_time": "2019-09-01T05:42:37.493069Z",
     "start_time": "2019-09-01T05:42:37.467140Z"
    }
   },
   "outputs": [
    {
     "data": {
      "text/plain": [
       "DatetimeIndex(['2011-07-06 12:00:00', '2011-09-06 12:00:00'], dtype='datetime64[ns]', freq=None)"
      ]
     },
     "execution_count": 10,
     "metadata": {},
     "output_type": "execute_result"
    },
    {
     "data": {
      "text/plain": [
       "DatetimeIndex(['2011-07-06 12:00:00', '2011-09-06 12:00:00', 'NaT'], dtype='datetime64[ns]', freq=None)"
      ]
     },
     "execution_count": 10,
     "metadata": {},
     "output_type": "execute_result"
    },
    {
     "data": {
      "text/plain": [
       "array([False, False,  True])"
      ]
     },
     "execution_count": 10,
     "metadata": {},
     "output_type": "execute_result"
    }
   ],
   "source": [
    "#to_datetime\n",
    "datestrs = ['2011-07-06 12:00:00','2011-09-06 12:00:00']\n",
    "pd.to_datetime(datestrs)\n",
    "\n",
    "#누락된값으로 간주해야할 값도 처리해줌\n",
    "idx = pd.to_datetime(datestrs + [None])\n",
    "idx\n",
    "pd.isnull(idx) #Not a Time"
   ]
  },
  {
   "cell_type": "markdown",
   "metadata": {},
   "source": [
    "## 11.2. 시계열 기초  \n",
    "가장 기본적인 시계열 객체는 문자열이나 datetime객체로 표현되는 타임스탬프 Series"
   ]
  },
  {
   "cell_type": "code",
   "execution_count": 11,
   "metadata": {
    "ExecuteTime": {
     "end_time": "2019-09-01T05:42:37.517491Z",
     "start_time": "2019-09-01T05:42:37.494917Z"
    }
   },
   "outputs": [
    {
     "data": {
      "text/plain": [
       "2011-01-02    1.131501\n",
       "2011-01-05   -1.238637\n",
       "2011-01-07    0.004637\n",
       "2011-01-08    0.877150\n",
       "2011-01-10    1.133093\n",
       "2011-01-12    0.277973\n",
       "dtype: float64"
      ]
     },
     "execution_count": 11,
     "metadata": {},
     "output_type": "execute_result"
    },
    {
     "data": {
      "text/plain": [
       "DatetimeIndex(['2011-01-02', '2011-01-05', '2011-01-07', '2011-01-08',\n",
       "               '2011-01-10', '2011-01-12'],\n",
       "              dtype='datetime64[ns]', freq=None)"
      ]
     },
     "execution_count": 11,
     "metadata": {},
     "output_type": "execute_result"
    }
   ],
   "source": [
    "from datetime import datetime\n",
    "dates = [datetime(2011,1,2),datetime(2011,1,5),\n",
    "        datetime(2011,1,7),datetime(2011,1,8),\n",
    "        datetime(2011,1,10),datetime(2011,1,12)]\n",
    "ts = pd.Series(np.random.randn(6),index = dates)\n",
    "ts\n",
    "ts.index"
   ]
  },
  {
   "cell_type": "markdown",
   "metadata": {},
   "source": [
    "numpy의 datetime64를 사용해 나노초 단위로 타임스탬프 저장  \n",
    "DatetimeIndex의 스칼라값은 Timestamp 객체"
   ]
  },
  {
   "cell_type": "code",
   "execution_count": 12,
   "metadata": {
    "ExecuteTime": {
     "end_time": "2019-09-01T05:42:37.533812Z",
     "start_time": "2019-09-01T05:42:37.520851Z"
    }
   },
   "outputs": [
    {
     "data": {
      "text/plain": [
       "dtype('<M8[ns]')"
      ]
     },
     "execution_count": 12,
     "metadata": {},
     "output_type": "execute_result"
    },
    {
     "data": {
      "text/plain": [
       "Timestamp('2011-01-02 00:00:00')"
      ]
     },
     "execution_count": 12,
     "metadata": {},
     "output_type": "execute_result"
    }
   ],
   "source": [
    "ts.index.dtype\n",
    "ts.index[0]"
   ]
  },
  {
   "cell_type": "code",
   "execution_count": 13,
   "metadata": {
    "ExecuteTime": {
     "end_time": "2019-09-01T05:42:37.575875Z",
     "start_time": "2019-09-01T05:42:37.537801Z"
    }
   },
   "outputs": [
    {
     "data": {
      "text/plain": [
       "2011-01-02    2.263001\n",
       "2011-01-05         NaN\n",
       "2011-01-07    0.009274\n",
       "2011-01-08         NaN\n",
       "2011-01-10    2.266186\n",
       "2011-01-12         NaN\n",
       "dtype: float64"
      ]
     },
     "execution_count": 13,
     "metadata": {},
     "output_type": "execute_result"
    }
   ],
   "source": [
    "ts + ts[::2]"
   ]
  },
  {
   "cell_type": "markdown",
   "metadata": {},
   "source": [
    "### 11.2.1 색인, 선택, 부분선택"
   ]
  },
  {
   "cell_type": "markdown",
   "metadata": {},
   "source": [
    "시계열의 인덱싱은 시리즈와 동일함"
   ]
  },
  {
   "cell_type": "code",
   "execution_count": 14,
   "metadata": {
    "ExecuteTime": {
     "end_time": "2019-09-01T05:42:37.588671Z",
     "start_time": "2019-09-01T05:42:37.577694Z"
    }
   },
   "outputs": [
    {
     "data": {
      "text/plain": [
       "2011-01-02    1.131501\n",
       "2011-01-05   -1.238637\n",
       "2011-01-07    0.004637\n",
       "2011-01-08    0.877150\n",
       "2011-01-10    1.133093\n",
       "2011-01-12    0.277973\n",
       "dtype: float64"
      ]
     },
     "execution_count": 14,
     "metadata": {},
     "output_type": "execute_result"
    },
    {
     "data": {
      "text/plain": [
       "0.004637037003246075"
      ]
     },
     "execution_count": 14,
     "metadata": {},
     "output_type": "execute_result"
    }
   ],
   "source": [
    "ts\n",
    "stamp = ts.index[2]\n",
    "ts[stamp]"
   ]
  },
  {
   "cell_type": "markdown",
   "metadata": {},
   "source": [
    "해석가능한 문자를 넘겨서 편리하게 사용할 수 있음"
   ]
  },
  {
   "cell_type": "code",
   "execution_count": 15,
   "metadata": {
    "ExecuteTime": {
     "end_time": "2019-09-01T05:42:37.612648Z",
     "start_time": "2019-09-01T05:42:37.590660Z"
    }
   },
   "outputs": [
    {
     "data": {
      "text/plain": [
       "0.004637037003246075"
      ]
     },
     "execution_count": 15,
     "metadata": {},
     "output_type": "execute_result"
    },
    {
     "data": {
      "text/plain": [
       "0.004637037003246075"
      ]
     },
     "execution_count": 15,
     "metadata": {},
     "output_type": "execute_result"
    }
   ],
   "source": [
    "ts['1/7/2011']\n",
    "ts['20110107']"
   ]
  },
  {
   "cell_type": "markdown",
   "metadata": {
    "ExecuteTime": {
     "end_time": "2019-09-01T05:22:47.371212Z",
     "start_time": "2019-09-01T05:22:47.363068Z"
    }
   },
   "source": [
    "긴 시계열에서 연이나 월만 넘겨서 데이터 일부를 선택할수도있음"
   ]
  },
  {
   "cell_type": "code",
   "execution_count": 16,
   "metadata": {
    "ExecuteTime": {
     "end_time": "2019-09-01T05:42:37.637574Z",
     "start_time": "2019-09-01T05:42:37.615595Z"
    }
   },
   "outputs": [
    {
     "data": {
      "text/plain": [
       "2000-01-01   -1.133166\n",
       "2000-01-02   -1.572344\n",
       "2000-01-03   -0.384777\n",
       "2000-01-04    0.951442\n",
       "2000-01-05   -0.477794\n",
       "                ...   \n",
       "2002-09-22    2.202454\n",
       "2002-09-23   -0.804767\n",
       "2002-09-24   -0.084637\n",
       "2002-09-25   -1.762638\n",
       "2002-09-26    1.169230\n",
       "Freq: D, Length: 1000, dtype: float64"
      ]
     },
     "execution_count": 16,
     "metadata": {},
     "output_type": "execute_result"
    },
    {
     "data": {
      "text/plain": [
       "2001-01-01   -0.348587\n",
       "2001-01-02   -0.477844\n",
       "2001-01-03   -0.946755\n",
       "2001-01-04   -0.153351\n",
       "2001-01-05    0.270694\n",
       "                ...   \n",
       "2001-12-27    2.423387\n",
       "2001-12-28    0.065935\n",
       "2001-12-29    0.097193\n",
       "2001-12-30   -1.520763\n",
       "2001-12-31   -0.461759\n",
       "Freq: D, Length: 365, dtype: float64"
      ]
     },
     "execution_count": 16,
     "metadata": {},
     "output_type": "execute_result"
    }
   ],
   "source": [
    "longer_ts = pd.Series(np.random.randn(1000),\n",
    "                     index = pd.date_range('1/1/2000',periods=1000))\n",
    "longer_ts\n",
    "longer_ts['2001']"
   ]
  },
  {
   "cell_type": "code",
   "execution_count": 17,
   "metadata": {
    "ExecuteTime": {
     "end_time": "2019-09-01T05:42:37.653492Z",
     "start_time": "2019-09-01T05:42:37.640670Z"
    }
   },
   "outputs": [
    {
     "data": {
      "text/plain": [
       "2001-05-01    0.520532\n",
       "2001-05-02    0.062845\n",
       "2001-05-03    1.086768\n",
       "2001-05-04    0.478732\n",
       "2001-05-05   -1.066658\n",
       "                ...   \n",
       "2001-05-27   -1.663930\n",
       "2001-05-28   -0.494743\n",
       "2001-05-29   -0.766146\n",
       "2001-05-30   -1.723497\n",
       "2001-05-31   -0.881968\n",
       "Freq: D, Length: 31, dtype: float64"
      ]
     },
     "execution_count": 17,
     "metadata": {},
     "output_type": "execute_result"
    }
   ],
   "source": [
    "longer_ts['2001-05']"
   ]
  },
  {
   "cell_type": "markdown",
   "metadata": {},
   "source": [
    "슬라이싱도 유사함"
   ]
  },
  {
   "cell_type": "code",
   "execution_count": 18,
   "metadata": {
    "ExecuteTime": {
     "end_time": "2019-09-01T05:42:37.675434Z",
     "start_time": "2019-09-01T05:42:37.657481Z"
    }
   },
   "outputs": [
    {
     "data": {
      "text/plain": [
       "2011-01-07    0.004637\n",
       "2011-01-08    0.877150\n",
       "2011-01-10    1.133093\n",
       "2011-01-12    0.277973\n",
       "dtype: float64"
      ]
     },
     "execution_count": 18,
     "metadata": {},
     "output_type": "execute_result"
    }
   ],
   "source": [
    "ts[datetime(2011,1,7):]"
   ]
  },
  {
   "cell_type": "code",
   "execution_count": 19,
   "metadata": {
    "ExecuteTime": {
     "end_time": "2019-09-01T05:42:37.701364Z",
     "start_time": "2019-09-01T05:42:37.678425Z"
    }
   },
   "outputs": [
    {
     "data": {
      "text/plain": [
       "2011-01-02    1.131501\n",
       "2011-01-05   -1.238637\n",
       "2011-01-07    0.004637\n",
       "2011-01-08    0.877150\n",
       "2011-01-10    1.133093\n",
       "2011-01-12    0.277973\n",
       "dtype: float64"
      ]
     },
     "execution_count": 19,
     "metadata": {},
     "output_type": "execute_result"
    },
    {
     "data": {
      "text/plain": [
       "2011-01-07    0.004637\n",
       "2011-01-08    0.877150\n",
       "2011-01-10    1.133093\n",
       "dtype: float64"
      ]
     },
     "execution_count": 19,
     "metadata": {},
     "output_type": "execute_result"
    }
   ],
   "source": [
    "ts\n",
    "ts['1/6/2011':'01/11/2011']"
   ]
  },
  {
   "cell_type": "markdown",
   "metadata": {},
   "source": [
    "슬라이스된 데이터는 원본의 뷰이므로 변경사항이 원본에 적용된다는것에 유의!"
   ]
  },
  {
   "cell_type": "markdown",
   "metadata": {},
   "source": [
    "truncate 인스턴스 메서드는 TimeSeries를 두개의 날짜로 나눔"
   ]
  },
  {
   "cell_type": "code",
   "execution_count": 20,
   "metadata": {
    "ExecuteTime": {
     "end_time": "2019-09-01T05:42:37.726332Z",
     "start_time": "2019-09-01T05:42:37.703359Z"
    }
   },
   "outputs": [
    {
     "data": {
      "text/plain": [
       "2011-01-02    1.131501\n",
       "2011-01-05   -1.238637\n",
       "2011-01-07    0.004637\n",
       "2011-01-08    0.877150\n",
       "2011-01-10    1.133093\n",
       "2011-01-12    0.277973\n",
       "dtype: float64"
      ]
     },
     "execution_count": 20,
     "metadata": {},
     "output_type": "execute_result"
    },
    {
     "data": {
      "text/plain": [
       "2011-01-10    1.133093\n",
       "2011-01-12    0.277973\n",
       "dtype: float64"
      ]
     },
     "execution_count": 20,
     "metadata": {},
     "output_type": "execute_result"
    },
    {
     "data": {
      "text/plain": [
       "2011-01-02    1.131501\n",
       "2011-01-05   -1.238637\n",
       "2011-01-07    0.004637\n",
       "2011-01-08    0.877150\n",
       "dtype: float64"
      ]
     },
     "execution_count": 20,
     "metadata": {},
     "output_type": "execute_result"
    }
   ],
   "source": [
    "ts\n",
    "ts.truncate(before='1/9/2011')\n",
    "ts.truncate(after='1/9/2011')"
   ]
  },
  {
   "cell_type": "markdown",
   "metadata": {},
   "source": [
    "**DataFrame에도 동일하게 적용되며, 로우에 인덱싱됨**"
   ]
  },
  {
   "cell_type": "code",
   "execution_count": 21,
   "metadata": {
    "ExecuteTime": {
     "end_time": "2019-09-01T05:42:37.780873Z",
     "start_time": "2019-09-01T05:42:37.728294Z"
    }
   },
   "outputs": [
    {
     "data": {
      "text/html": [
       "<div>\n",
       "<style scoped>\n",
       "    .dataframe tbody tr th:only-of-type {\n",
       "        vertical-align: middle;\n",
       "    }\n",
       "\n",
       "    .dataframe tbody tr th {\n",
       "        vertical-align: top;\n",
       "    }\n",
       "\n",
       "    .dataframe thead th {\n",
       "        text-align: right;\n",
       "    }\n",
       "</style>\n",
       "<table border=\"1\" class=\"dataframe\">\n",
       "  <thead>\n",
       "    <tr style=\"text-align: right;\">\n",
       "      <th></th>\n",
       "      <th>Colorado</th>\n",
       "      <th>Texas</th>\n",
       "      <th>New York</th>\n",
       "      <th>Ohio</th>\n",
       "    </tr>\n",
       "  </thead>\n",
       "  <tbody>\n",
       "    <tr>\n",
       "      <th>2001-05-02</th>\n",
       "      <td>-0.882055</td>\n",
       "      <td>0.865215</td>\n",
       "      <td>-2.238999</td>\n",
       "      <td>-0.885110</td>\n",
       "    </tr>\n",
       "    <tr>\n",
       "      <th>2001-05-09</th>\n",
       "      <td>-0.871110</td>\n",
       "      <td>0.468433</td>\n",
       "      <td>-1.347181</td>\n",
       "      <td>0.332800</td>\n",
       "    </tr>\n",
       "    <tr>\n",
       "      <th>2001-05-16</th>\n",
       "      <td>0.360573</td>\n",
       "      <td>2.202293</td>\n",
       "      <td>0.402414</td>\n",
       "      <td>1.146535</td>\n",
       "    </tr>\n",
       "    <tr>\n",
       "      <th>2001-05-23</th>\n",
       "      <td>-2.862731</td>\n",
       "      <td>-0.317551</td>\n",
       "      <td>-0.012387</td>\n",
       "      <td>0.010088</td>\n",
       "    </tr>\n",
       "    <tr>\n",
       "      <th>2001-05-30</th>\n",
       "      <td>-1.552841</td>\n",
       "      <td>-0.138858</td>\n",
       "      <td>-0.423759</td>\n",
       "      <td>0.442692</td>\n",
       "    </tr>\n",
       "  </tbody>\n",
       "</table>\n",
       "</div>"
      ],
      "text/plain": [
       "            Colorado     Texas  New York      Ohio\n",
       "2001-05-02 -0.882055  0.865215 -2.238999 -0.885110\n",
       "2001-05-09 -0.871110  0.468433 -1.347181  0.332800\n",
       "2001-05-16  0.360573  2.202293  0.402414  1.146535\n",
       "2001-05-23 -2.862731 -0.317551 -0.012387  0.010088\n",
       "2001-05-30 -1.552841 -0.138858 -0.423759  0.442692"
      ]
     },
     "execution_count": 21,
     "metadata": {},
     "output_type": "execute_result"
    }
   ],
   "source": [
    "dates = pd.date_range('1/1/2000',periods = 100,freq='W-WED')\n",
    "long_df = pd.DataFrame(np.random.randn(100,4),\n",
    "                      index = dates,\n",
    "                      columns = ['Colorado','Texas','New York','Ohio'])\n",
    "long_df.loc['5-2001']"
   ]
  },
  {
   "cell_type": "markdown",
   "metadata": {},
   "source": [
    "### 11.2.2. 중복된 색인을 갖는 시계열"
   ]
  },
  {
   "cell_type": "code",
   "execution_count": 22,
   "metadata": {
    "ExecuteTime": {
     "end_time": "2019-09-01T05:42:37.795117Z",
     "start_time": "2019-09-01T05:42:37.783146Z"
    }
   },
   "outputs": [
    {
     "data": {
      "text/plain": [
       "2000-01-01    0\n",
       "2000-01-02    1\n",
       "2000-01-02    2\n",
       "2000-01-02    3\n",
       "2000-01-03    4\n",
       "dtype: int32"
      ]
     },
     "execution_count": 22,
     "metadata": {},
     "output_type": "execute_result"
    }
   ],
   "source": [
    "dates = pd.DatetimeIndex(['1/1/2000','1/2/2000','1/2/2000','1/2/2000','1/3/2000'])\n",
    "dup_ts = pd.Series(np.arange(5),index=dates)\n",
    "dup_ts"
   ]
  },
  {
   "cell_type": "markdown",
   "metadata": {},
   "source": [
    "is_unique 속성을 보면 색인이 유일하지 않음을 확인가능"
   ]
  },
  {
   "cell_type": "code",
   "execution_count": 23,
   "metadata": {
    "ExecuteTime": {
     "end_time": "2019-09-01T05:42:37.815164Z",
     "start_time": "2019-09-01T05:42:37.805468Z"
    }
   },
   "outputs": [
    {
     "data": {
      "text/plain": [
       "array([False, False,  True,  True, False])"
      ]
     },
     "execution_count": 23,
     "metadata": {},
     "output_type": "execute_result"
    }
   ],
   "source": [
    "dup_ts.index.duplicated()"
   ]
  },
  {
   "cell_type": "code",
   "execution_count": 24,
   "metadata": {
    "ExecuteTime": {
     "end_time": "2019-09-01T05:42:37.831020Z",
     "start_time": "2019-09-01T05:42:37.820596Z"
    }
   },
   "outputs": [
    {
     "data": {
      "text/plain": [
       "False"
      ]
     },
     "execution_count": 24,
     "metadata": {},
     "output_type": "execute_result"
    }
   ],
   "source": [
    "dup_ts.index.is_unique"
   ]
  },
  {
   "cell_type": "markdown",
   "metadata": {},
   "source": [
    "이걸 인덱싱하면 중복여부에 따라 스칼라 혹은 슬라이스가 생성"
   ]
  },
  {
   "cell_type": "code",
   "execution_count": 25,
   "metadata": {
    "ExecuteTime": {
     "end_time": "2019-09-01T05:42:37.853003Z",
     "start_time": "2019-09-01T05:42:37.833015Z"
    }
   },
   "outputs": [
    {
     "data": {
      "text/plain": [
       "4"
      ]
     },
     "execution_count": 25,
     "metadata": {},
     "output_type": "execute_result"
    },
    {
     "data": {
      "text/plain": [
       "2000-01-02    1\n",
       "2000-01-02    2\n",
       "2000-01-02    3\n",
       "dtype: int32"
      ]
     },
     "execution_count": 25,
     "metadata": {},
     "output_type": "execute_result"
    }
   ],
   "source": [
    "dup_ts['1/3/2000']\n",
    "dup_ts['1/2/2000']"
   ]
  },
  {
   "cell_type": "markdown",
   "metadata": {},
   "source": [
    "유일하지 않은 타임스탬프를 가진 데이터를 집계한다고 하면, 한가지 방법은 groupby에 level=0(단일단계 인덱싱)을 넘기는것"
   ]
  },
  {
   "cell_type": "code",
   "execution_count": 26,
   "metadata": {
    "ExecuteTime": {
     "end_time": "2019-09-01T05:42:37.885871Z",
     "start_time": "2019-09-01T05:42:37.854954Z"
    }
   },
   "outputs": [
    {
     "data": {
      "text/plain": [
       "2000-01-01    0\n",
       "2000-01-02    2\n",
       "2000-01-03    4\n",
       "dtype: int32"
      ]
     },
     "execution_count": 26,
     "metadata": {},
     "output_type": "execute_result"
    },
    {
     "data": {
      "text/plain": [
       "2000-01-01    1\n",
       "2000-01-02    3\n",
       "2000-01-03    1\n",
       "dtype: int64"
      ]
     },
     "execution_count": 26,
     "metadata": {},
     "output_type": "execute_result"
    }
   ],
   "source": [
    "# dup_ts.groupby(dup_ts.index).mean()\n",
    "dup_ts.groupby(level=0).mean()\n",
    "dup_ts.groupby(level=0).count()"
   ]
  }
 ],
 "metadata": {
  "kernelspec": {
   "display_name": "Python 3",
   "language": "python",
   "name": "python3"
  },
  "language_info": {
   "codemirror_mode": {
    "name": "ipython",
    "version": 3
   },
   "file_extension": ".py",
   "mimetype": "text/x-python",
   "name": "python",
   "nbconvert_exporter": "python",
   "pygments_lexer": "ipython3",
   "version": "3.7.3"
  },
  "toc": {
   "base_numbering": 1,
   "nav_menu": {},
   "number_sections": false,
   "sideBar": true,
   "skip_h1_title": false,
   "title_cell": "Table of Contents",
   "title_sidebar": "Contents",
   "toc_cell": false,
   "toc_position": {},
   "toc_section_display": true,
   "toc_window_display": true
  },
  "varInspector": {
   "cols": {
    "lenName": "16",
    "lenType": "16",
    "lenVar": 40
   },
   "kernels_config": {
    "python": {
     "delete_cmd_postfix": "",
     "delete_cmd_prefix": "del ",
     "library": "var_list.py",
     "varRefreshCmd": "print(var_dic_list())"
    },
    "r": {
     "delete_cmd_postfix": ") ",
     "delete_cmd_prefix": "rm(",
     "library": "var_list.r",
     "varRefreshCmd": "cat(var_dic_list()) "
    }
   },
   "types_to_exclude": [
    "module",
    "function",
    "builtin_function_or_method",
    "instance",
    "_Feature"
   ],
   "window_display": true
  }
 },
 "nbformat": 4,
 "nbformat_minor": 2
}
