{
 "cells": [
  {
   "cell_type": "markdown",
   "metadata": {},
   "source": [
    "# Ch04. Numpy기본: 배열과 벡터연산"
   ]
  },
  {
   "cell_type": "code",
   "execution_count": 1,
   "metadata": {
    "ExecuteTime": {
     "end_time": "2019-08-11T08:03:50.507144Z",
     "start_time": "2019-08-11T08:03:46.854940Z"
    }
   },
   "outputs": [
    {
     "name": "stdout",
     "output_type": "stream",
     "text": [
      "Wall time: 48.3 ms\n",
      "Wall time: 2.01 s\n"
     ]
    }
   ],
   "source": [
    "#배열처리 속도비교\n",
    "import numpy as np\n",
    "my_arr = np.arange(1000000)\n",
    "my_list = list(range(1000000))\n",
    "\n",
    "%time for _ in range(10):my_arr2 = my_arr *2\n",
    "\n",
    "%time for _ in range(10):my_list2 = [x*2 for x in my_list ]"
   ]
  },
  {
   "cell_type": "code",
   "execution_count": 2,
   "metadata": {
    "ExecuteTime": {
     "end_time": "2019-08-11T08:03:50.535202Z",
     "start_time": "2019-08-11T08:03:50.510139Z"
    }
   },
   "outputs": [
    {
     "data": {
      "text/plain": [
       "[1, 2, 3, 1, 2, 3]"
      ]
     },
     "execution_count": 2,
     "metadata": {},
     "output_type": "execute_result"
    }
   ],
   "source": [
    "[1,2,3] *2"
   ]
  },
  {
   "cell_type": "markdown",
   "metadata": {},
   "source": [
    "## 4.1 Numpy ndarray : 다차원 배열객체"
   ]
  },
  {
   "cell_type": "code",
   "execution_count": 3,
   "metadata": {
    "ExecuteTime": {
     "end_time": "2019-08-11T08:03:50.551600Z",
     "start_time": "2019-08-11T08:03:50.537744Z"
    }
   },
   "outputs": [
    {
     "data": {
      "text/plain": [
       "array([[-1.82366269,  1.32842195, -0.04508146],\n",
       "       [ 0.92150133, -0.07987557, -1.10277628]])"
      ]
     },
     "execution_count": 3,
     "metadata": {},
     "output_type": "execute_result"
    }
   ],
   "source": [
    "import numpy as np\n",
    "data = np.random.randn(2,3)\n",
    "data"
   ]
  },
  {
   "cell_type": "code",
   "execution_count": 4,
   "metadata": {
    "ExecuteTime": {
     "end_time": "2019-08-11T08:03:50.565619Z",
     "start_time": "2019-08-11T08:03:50.554584Z"
    }
   },
   "outputs": [
    {
     "data": {
      "text/plain": [
       "array([[-18.23662685,  13.28421948,  -0.45081465],\n",
       "       [  9.21501327,  -0.79875569, -11.02776279]])"
      ]
     },
     "execution_count": 4,
     "metadata": {},
     "output_type": "execute_result"
    }
   ],
   "source": [
    "data * 10"
   ]
  },
  {
   "cell_type": "code",
   "execution_count": 5,
   "metadata": {
    "ExecuteTime": {
     "end_time": "2019-08-11T08:03:50.583659Z",
     "start_time": "2019-08-11T08:03:50.567614Z"
    }
   },
   "outputs": [
    {
     "data": {
      "text/plain": [
       "array([[-3.64732537,  2.6568439 , -0.09016293],\n",
       "       [ 1.84300265, -0.15975114, -2.20555256]])"
      ]
     },
     "execution_count": 5,
     "metadata": {},
     "output_type": "execute_result"
    }
   ],
   "source": [
    "data + data"
   ]
  },
  {
   "cell_type": "markdown",
   "metadata": {},
   "source": [
    "ndarray에 저장된 데이터는 모두 같은 타입이어야햠"
   ]
  },
  {
   "cell_type": "code",
   "execution_count": 6,
   "metadata": {
    "ExecuteTime": {
     "end_time": "2019-08-11T08:03:50.596969Z",
     "start_time": "2019-08-11T08:03:50.586652Z"
    }
   },
   "outputs": [
    {
     "data": {
      "text/plain": [
       "(2, 3)"
      ]
     },
     "execution_count": 6,
     "metadata": {},
     "output_type": "execute_result"
    },
    {
     "data": {
      "text/plain": [
       "dtype('float64')"
      ]
     },
     "execution_count": 6,
     "metadata": {},
     "output_type": "execute_result"
    }
   ],
   "source": [
    "data.shape\n",
    "data.dtype"
   ]
  },
  {
   "cell_type": "markdown",
   "metadata": {},
   "source": [
    "### 4.1.1 ndarray 생성하기"
   ]
  },
  {
   "cell_type": "code",
   "execution_count": 7,
   "metadata": {
    "ExecuteTime": {
     "end_time": "2019-08-11T08:03:50.614018Z",
     "start_time": "2019-08-11T08:03:50.599961Z"
    }
   },
   "outputs": [
    {
     "data": {
      "text/plain": [
       "array([6. , 7.5, 8. , 0. , 1. ])"
      ]
     },
     "execution_count": 7,
     "metadata": {},
     "output_type": "execute_result"
    },
    {
     "data": {
      "text/plain": [
       "array([[1, 2, 3, 4],\n",
       "       [5, 6, 7, 8]])"
      ]
     },
     "execution_count": 7,
     "metadata": {},
     "output_type": "execute_result"
    }
   ],
   "source": [
    "data1 = [6, 7.5, 8, 0, 1]\n",
    "arr1 = np.array(data1)\n",
    "arr1\n",
    "\n",
    "data2 = [[1,2,3,4],\n",
    "        [5,6,7,8]]\n",
    "arr2 = np.array(data2)\n",
    "arr2"
   ]
  },
  {
   "cell_type": "code",
   "execution_count": 8,
   "metadata": {
    "ExecuteTime": {
     "end_time": "2019-08-11T08:03:50.629792Z",
     "start_time": "2019-08-11T08:03:50.616988Z"
    }
   },
   "outputs": [
    {
     "data": {
      "text/plain": [
       "2"
      ]
     },
     "execution_count": 8,
     "metadata": {},
     "output_type": "execute_result"
    },
    {
     "data": {
      "text/plain": [
       "(2, 4)"
      ]
     },
     "execution_count": 8,
     "metadata": {},
     "output_type": "execute_result"
    },
    {
     "data": {
      "text/plain": [
       "dtype('float64')"
      ]
     },
     "execution_count": 8,
     "metadata": {},
     "output_type": "execute_result"
    },
    {
     "data": {
      "text/plain": [
       "dtype('int32')"
      ]
     },
     "execution_count": 8,
     "metadata": {},
     "output_type": "execute_result"
    }
   ],
   "source": [
    "arr2.ndim\n",
    "arr2.shape\n",
    "\n",
    "#명시적으로 알려주지 않으면 적절한 데이터 타입을 추론함\n",
    "arr1.dtype\n",
    "arr2.dtype"
   ]
  },
  {
   "cell_type": "markdown",
   "metadata": {},
   "source": [
    "**새 배열 생성**"
   ]
  },
  {
   "cell_type": "code",
   "execution_count": 9,
   "metadata": {
    "ExecuteTime": {
     "end_time": "2019-08-11T08:03:50.651596Z",
     "start_time": "2019-08-11T08:03:50.633128Z"
    }
   },
   "outputs": [
    {
     "data": {
      "text/plain": [
       "array([[0, 0, 0, 0, 0, 0, 0, 0, 0, 0],\n",
       "       [0, 0, 0, 0, 0, 0, 0, 0, 0, 0],\n",
       "       [0, 0, 0, 0, 0, 0, 0, 0, 0, 0],\n",
       "       [0, 0, 0, 0, 0, 0, 0, 0, 0, 0],\n",
       "       [0, 0, 0, 0, 0, 0, 0, 0, 0, 0],\n",
       "       [0, 0, 0, 0, 0, 0, 0, 0, 0, 0],\n",
       "       [0, 0, 0, 0, 0, 0, 0, 0, 0, 0],\n",
       "       [0, 0, 0, 0, 0, 0, 0, 0, 0, 0],\n",
       "       [0, 0, 0, 0, 0, 0, 0, 0, 0, 0],\n",
       "       [0, 0, 0, 0, 0, 0, 0, 0, 0, 0]])"
      ]
     },
     "execution_count": 9,
     "metadata": {},
     "output_type": "execute_result"
    },
    {
     "data": {
      "text/plain": [
       "array([[1., 1., 1.],\n",
       "       [1., 1., 1.]])"
      ]
     },
     "execution_count": 9,
     "metadata": {},
     "output_type": "execute_result"
    },
    {
     "data": {
      "text/plain": [
       "array([0., 0., 0., 0., 0., 0., 0., 0., 0., 0.])"
      ]
     },
     "execution_count": 9,
     "metadata": {},
     "output_type": "execute_result"
    },
    {
     "data": {
      "text/plain": [
       "array([0, 1, 2, 3, 4, 5, 6, 7, 8, 9])"
      ]
     },
     "execution_count": 9,
     "metadata": {},
     "output_type": "execute_result"
    },
    {
     "data": {
      "text/plain": [
       "array([[1, 1, 1],\n",
       "       [1, 1, 1]])"
      ]
     },
     "execution_count": 9,
     "metadata": {},
     "output_type": "execute_result"
    },
    {
     "data": {
      "text/plain": [
       "array([[1., 0., 0., 0., 0.],\n",
       "       [0., 1., 0., 0., 0.],\n",
       "       [0., 0., 1., 0., 0.],\n",
       "       [0., 0., 0., 1., 0.],\n",
       "       [0., 0., 0., 0., 1.]])"
      ]
     },
     "execution_count": 9,
     "metadata": {},
     "output_type": "execute_result"
    }
   ],
   "source": [
    "np.zeros((10,10),dtype = np.int32)\n",
    "np.ones((2,3))\n",
    "np.empty(10) #초기화 안된 걍 가비지값\n",
    "np.arange(10)\n",
    "np.full((2,3),1)\n",
    "np.eye(5)\n",
    "#자료형을 명시하지 않으면 float64로 대부분 나옴"
   ]
  },
  {
   "cell_type": "code",
   "execution_count": 10,
   "metadata": {
    "ExecuteTime": {
     "end_time": "2019-08-11T08:03:50.662011Z",
     "start_time": "2019-08-11T08:03:50.652734Z"
    }
   },
   "outputs": [
    {
     "data": {
      "text/plain": [
       "dtype('int32')"
      ]
     },
     "execution_count": 10,
     "metadata": {},
     "output_type": "execute_result"
    },
    {
     "data": {
      "text/plain": [
       "dtype('float64')"
      ]
     },
     "execution_count": 10,
     "metadata": {},
     "output_type": "execute_result"
    }
   ],
   "source": [
    "#astype 이용해서 dtype 캐스팅 가능\n",
    "#!! astype은 타입이 이전과 동일해도 항상 새 배열을 생성한다.\n",
    "a = np.empty((5,5),dtype = np.int32)\n",
    "b = a.astype(dtype=np.float64)\n",
    "a.dtype\n",
    "b.dtype"
   ]
  },
  {
   "cell_type": "markdown",
   "metadata": {},
   "source": [
    "**np.string 은 고정된 크기를 가지기 때문에 임의로 데이터를 자를수 있으므로 주의해야함**"
   ]
  },
  {
   "cell_type": "code",
   "execution_count": 11,
   "metadata": {
    "ExecuteTime": {
     "end_time": "2019-08-11T08:03:50.679218Z",
     "start_time": "2019-08-11T08:03:50.663043Z"
    }
   },
   "outputs": [
    {
     "data": {
      "text/plain": [
       "array([1, 2, 3])"
      ]
     },
     "execution_count": 11,
     "metadata": {},
     "output_type": "execute_result"
    },
    {
     "data": {
      "text/plain": [
       "array([[0., 0., 0.],\n",
       "       [0., 0., 0.]])"
      ]
     },
     "execution_count": 11,
     "metadata": {},
     "output_type": "execute_result"
    },
    {
     "data": {
      "text/plain": [
       "array([[0, 0, 0],\n",
       "       [0, 0, 0]])"
      ]
     },
     "execution_count": 11,
     "metadata": {},
     "output_type": "execute_result"
    }
   ],
   "source": [
    "#다른 배열의 타입 가져올수도 있음\n",
    "a = np.array([1,2,3],dtype=np.int32)\n",
    "b = np.zeros((2,3),dtype=np.float64)\n",
    "c = b.astype(a.dtype)\n",
    "a\n",
    "b\n",
    "c"
   ]
  },
  {
   "cell_type": "code",
   "execution_count": 12,
   "metadata": {
    "ExecuteTime": {
     "end_time": "2019-08-11T08:03:50.691146Z",
     "start_time": "2019-08-11T08:03:50.679218Z"
    }
   },
   "outputs": [
    {
     "data": {
      "text/plain": [
       "array([         0, 1075314688,          0, 1075707904,          0,\n",
       "       1075838976,          0, 1072693248], dtype=uint32)"
      ]
     },
     "execution_count": 12,
     "metadata": {},
     "output_type": "execute_result"
    }
   ],
   "source": [
    "#축약코드를 사용할수도 있음\n",
    "empty_uint32 = np.empty(8,dtype='u4')\n",
    "empty_uint32"
   ]
  },
  {
   "cell_type": "markdown",
   "metadata": {},
   "source": [
    "### 4.1.3 Numpy배열의 산술연산  \n",
    "- for 문을 안쓰고도 데이터를 일괄처리할수 있음 (벡터화)  \n",
    "\n",
    "\n",
    "### 4.1.4 색인과 슬라이싱 기초  \n",
    "- 리스트와 비슷하지만 차이점은 슬라이싱 한 결과가 원본의 뷰라는 점임"
   ]
  },
  {
   "cell_type": "code",
   "execution_count": 13,
   "metadata": {
    "ExecuteTime": {
     "end_time": "2019-08-11T08:03:50.714207Z",
     "start_time": "2019-08-11T08:03:50.694997Z"
    }
   },
   "outputs": [
    {
     "data": {
      "text/plain": [
       "array([5, 6, 7, 8, 9])"
      ]
     },
     "execution_count": 13,
     "metadata": {},
     "output_type": "execute_result"
    },
    {
     "data": {
      "text/plain": [
       "array([20,  6,  7,  8,  9])"
      ]
     },
     "execution_count": 13,
     "metadata": {},
     "output_type": "execute_result"
    },
    {
     "data": {
      "text/plain": [
       "array([ 0,  1,  2,  3,  4, 20,  6,  7,  8,  9])"
      ]
     },
     "execution_count": 13,
     "metadata": {},
     "output_type": "execute_result"
    },
    {
     "data": {
      "text/plain": [
       "[20, 6, 7, 8, 9]"
      ]
     },
     "execution_count": 13,
     "metadata": {},
     "output_type": "execute_result"
    },
    {
     "data": {
      "text/plain": [
       "[0, 1, 2, 3, 4, 5, 6, 7, 8, 9]"
      ]
     },
     "execution_count": 13,
     "metadata": {},
     "output_type": "execute_result"
    }
   ],
   "source": [
    "arr = np.arange(10)\n",
    "arr_slice = arr[5:]\n",
    "arr_slice\n",
    "arr_slice[0] = 20\n",
    "arr_slice\n",
    "arr\n",
    "\n",
    "\n",
    "a = list(range(10))\n",
    "a_slice = a[5:]\n",
    "a_slice[0] = 20\n",
    "a_slice\n",
    "a"
   ]
  },
  {
   "cell_type": "code",
   "execution_count": 14,
   "metadata": {
    "ExecuteTime": {
     "end_time": "2019-08-11T08:03:50.722489Z",
     "start_time": "2019-08-11T08:03:50.716234Z"
    }
   },
   "outputs": [
    {
     "data": {
      "text/plain": [
       "array([ 0,  1,  2,  3,  4, 20, 20, 20, 20, 20])"
      ]
     },
     "execution_count": 14,
     "metadata": {},
     "output_type": "execute_result"
    }
   ],
   "source": [
    "arr = np.arange(10)\n",
    "arr_slice = arr[5:]\n",
    "arr_slice[:]=20\n",
    "arr"
   ]
  },
  {
   "cell_type": "markdown",
   "metadata": {},
   "source": [
    "- 위처럼 데이터 복사가 안일어나기때문에 고용량 데이터에서 유리한 면이있음  \n",
    "- 복사를 하고싶다면 .copy()를 해서 명시적으로 복사해야함"
   ]
  },
  {
   "cell_type": "markdown",
   "metadata": {},
   "source": [
    "- 다차원 배열에서 마지막 색인을 생략시 한차원 낮은 ndarray가됨"
   ]
  },
  {
   "cell_type": "code",
   "execution_count": 15,
   "metadata": {
    "ExecuteTime": {
     "end_time": "2019-08-11T08:03:50.738444Z",
     "start_time": "2019-08-11T08:03:50.724518Z"
    }
   },
   "outputs": [
    {
     "data": {
      "text/plain": [
       "array([[[ 1,  2,  3],\n",
       "        [ 4,  5,  6]],\n",
       "\n",
       "       [[ 7,  8,  9],\n",
       "        [10, 11, 12]]])"
      ]
     },
     "execution_count": 15,
     "metadata": {},
     "output_type": "execute_result"
    },
    {
     "data": {
      "text/plain": [
       "array([[1, 2, 3],\n",
       "       [4, 5, 6]])"
      ]
     },
     "execution_count": 15,
     "metadata": {},
     "output_type": "execute_result"
    }
   ],
   "source": [
    "arr3d = np.array([[[1,2,3],[4,5,6]],[[7,8,9],[10,11,12]]])\n",
    "arr3d\n",
    "\n",
    "arr3d[0]"
   ]
  },
  {
   "cell_type": "code",
   "execution_count": 16,
   "metadata": {
    "ExecuteTime": {
     "end_time": "2019-08-11T08:03:50.750213Z",
     "start_time": "2019-08-11T08:03:50.740470Z"
    }
   },
   "outputs": [
    {
     "data": {
      "text/plain": [
       "array([[[42, 42, 42],\n",
       "        [42, 42, 42]],\n",
       "\n",
       "       [[ 7,  8,  9],\n",
       "        [10, 11, 12]]])"
      ]
     },
     "execution_count": 16,
     "metadata": {},
     "output_type": "execute_result"
    }
   ],
   "source": [
    "old_values = arr3d[0].copy()\n",
    "\n",
    "arr3d[0] = 42\n",
    "arr3d"
   ]
  },
  {
   "cell_type": "code",
   "execution_count": 17,
   "metadata": {
    "ExecuteTime": {
     "end_time": "2019-08-11T08:03:50.762354Z",
     "start_time": "2019-08-11T08:03:50.753206Z"
    }
   },
   "outputs": [
    {
     "data": {
      "text/plain": [
       "array([[[ 1,  2,  3],\n",
       "        [ 4,  5,  6]],\n",
       "\n",
       "       [[ 7,  8,  9],\n",
       "        [10, 11, 12]]])"
      ]
     },
     "execution_count": 17,
     "metadata": {},
     "output_type": "execute_result"
    },
    {
     "data": {
      "text/plain": [
       "'\\n조각난 arr에도 스칼라, 배열 모두 대입가능\\n'"
      ]
     },
     "execution_count": 17,
     "metadata": {},
     "output_type": "execute_result"
    }
   ],
   "source": [
    "arr3d[0] = old_values\n",
    "arr3d\n",
    "\"\"\"\n",
    "조각난 arr에도 스칼라, 배열 모두 대입가능\n",
    "\"\"\""
   ]
  },
  {
   "cell_type": "markdown",
   "metadata": {},
   "source": [
    "### 4.1.5 불리언 값으로 선택하기"
   ]
  },
  {
   "cell_type": "code",
   "execution_count": 18,
   "metadata": {
    "ExecuteTime": {
     "end_time": "2019-08-11T08:03:50.778356Z",
     "start_time": "2019-08-11T08:03:50.764458Z"
    }
   },
   "outputs": [
    {
     "data": {
      "text/plain": [
       "array(['Bob', 'Joe', 'Will', 'Bob', 'Will', 'Joe', 'Joe'], dtype='<U4')"
      ]
     },
     "execution_count": 18,
     "metadata": {},
     "output_type": "execute_result"
    },
    {
     "data": {
      "text/plain": [
       "array([[-0.61154217,  0.01866177,  0.77337931,  1.25630407],\n",
       "       [ 0.65294263, -0.88725449,  1.06498598,  0.09555667],\n",
       "       [ 0.54402658, -0.71656225, -1.25114174, -0.07477464],\n",
       "       [ 0.44905361,  1.05221744,  1.26478143, -0.1516545 ],\n",
       "       [-0.16573046, -0.0229659 , -0.66982767,  0.86359057],\n",
       "       [ 0.83164014,  0.4973722 , -0.13472428, -0.82132421],\n",
       "       [ 1.38433952,  0.54522251, -0.14912584,  0.16731575]])"
      ]
     },
     "execution_count": 18,
     "metadata": {},
     "output_type": "execute_result"
    }
   ],
   "source": [
    "names=  np.array(['Bob','Joe','Will','Bob','Will','Joe','Joe'])\n",
    "data = np.random.randn(7,4)\n",
    "names\n",
    "data"
   ]
  },
  {
   "cell_type": "code",
   "execution_count": 19,
   "metadata": {
    "ExecuteTime": {
     "end_time": "2019-08-11T08:03:50.790378Z",
     "start_time": "2019-08-11T08:03:50.779354Z"
    }
   },
   "outputs": [
    {
     "data": {
      "text/plain": [
       "array([ True, False, False,  True, False, False, False])"
      ]
     },
     "execution_count": 19,
     "metadata": {},
     "output_type": "execute_result"
    }
   ],
   "source": [
    "a = (names == 'Bob')\n",
    "a"
   ]
  },
  {
   "cell_type": "code",
   "execution_count": 20,
   "metadata": {
    "ExecuteTime": {
     "end_time": "2019-08-11T08:03:50.802104Z",
     "start_time": "2019-08-11T08:03:50.791375Z"
    }
   },
   "outputs": [
    {
     "data": {
      "text/plain": [
       "array([[-0.61154217,  0.01866177,  0.77337931,  1.25630407],\n",
       "       [ 0.44905361,  1.05221744,  1.26478143, -0.1516545 ]])"
      ]
     },
     "execution_count": 20,
     "metadata": {},
     "output_type": "execute_result"
    }
   ],
   "source": [
    "data[names=='Bob']"
   ]
  },
  {
   "cell_type": "code",
   "execution_count": 21,
   "metadata": {
    "ExecuteTime": {
     "end_time": "2019-08-11T08:03:50.814074Z",
     "start_time": "2019-08-11T08:03:50.803101Z"
    }
   },
   "outputs": [
    {
     "data": {
      "text/plain": [
       "array([[ 0.77337931,  1.25630407],\n",
       "       [ 1.26478143, -0.1516545 ]])"
      ]
     },
     "execution_count": 21,
     "metadata": {},
     "output_type": "execute_result"
    }
   ],
   "source": [
    "data[names=='Bob',2:]"
   ]
  },
  {
   "cell_type": "code",
   "execution_count": 22,
   "metadata": {
    "ExecuteTime": {
     "end_time": "2019-08-11T08:03:50.827189Z",
     "start_time": "2019-08-11T08:03:50.817253Z"
    }
   },
   "outputs": [
    {
     "data": {
      "text/plain": [
       "array([ 1.25630407, -0.1516545 ])"
      ]
     },
     "execution_count": 22,
     "metadata": {},
     "output_type": "execute_result"
    }
   ],
   "source": [
    "data[names=='Bob',3]"
   ]
  },
  {
   "cell_type": "code",
   "execution_count": 23,
   "metadata": {
    "ExecuteTime": {
     "end_time": "2019-08-11T08:03:50.847064Z",
     "start_time": "2019-08-11T08:03:50.831293Z"
    }
   },
   "outputs": [
    {
     "data": {
      "text/plain": [
       "array([False,  True,  True, False,  True,  True,  True])"
      ]
     },
     "execution_count": 23,
     "metadata": {},
     "output_type": "execute_result"
    },
    {
     "data": {
      "text/plain": [
       "array([[ 0.65294263, -0.88725449,  1.06498598,  0.09555667],\n",
       "       [ 0.54402658, -0.71656225, -1.25114174, -0.07477464],\n",
       "       [-0.16573046, -0.0229659 , -0.66982767,  0.86359057],\n",
       "       [ 0.83164014,  0.4973722 , -0.13472428, -0.82132421],\n",
       "       [ 1.38433952,  0.54522251, -0.14912584,  0.16731575]])"
      ]
     },
     "execution_count": 23,
     "metadata": {},
     "output_type": "execute_result"
    },
    {
     "data": {
      "text/plain": [
       "array([[ 0.65294263, -0.88725449,  1.06498598,  0.09555667],\n",
       "       [ 0.54402658, -0.71656225, -1.25114174, -0.07477464],\n",
       "       [-0.16573046, -0.0229659 , -0.66982767,  0.86359057],\n",
       "       [ 0.83164014,  0.4973722 , -0.13472428, -0.82132421],\n",
       "       [ 1.38433952,  0.54522251, -0.14912584,  0.16731575]])"
      ]
     },
     "execution_count": 23,
     "metadata": {},
     "output_type": "execute_result"
    }
   ],
   "source": [
    "#Bob이 아닌놈\n",
    "names!='Bob'\n",
    "\n",
    "data[names!='Bob']\n",
    "data[~(names=='Bob')]"
   ]
  },
  {
   "cell_type": "code",
   "execution_count": 24,
   "metadata": {
    "ExecuteTime": {
     "end_time": "2019-08-11T08:03:50.859888Z",
     "start_time": "2019-08-11T08:03:50.851673Z"
    }
   },
   "outputs": [
    {
     "data": {
      "text/plain": [
       "array([[-0.61154217,  0.01866177,  0.77337931,  1.25630407],\n",
       "       [ 0.54402658, -0.71656225, -1.25114174, -0.07477464],\n",
       "       [ 0.44905361,  1.05221744,  1.26478143, -0.1516545 ],\n",
       "       [-0.16573046, -0.0229659 , -0.66982767,  0.86359057]])"
      ]
     },
     "execution_count": 24,
     "metadata": {},
     "output_type": "execute_result"
    }
   ],
   "source": [
    "#두가지 이름 선택 or, and\n",
    "mask = (names == 'Bob')|(names=='Will')\n",
    "data[mask]"
   ]
  },
  {
   "cell_type": "markdown",
   "metadata": {},
   "source": [
    "**불리언 배열을 이용해서 선택하면 데이터 복사가 일어남??**"
   ]
  },
  {
   "cell_type": "markdown",
   "metadata": {},
   "source": [
    "### 4.1.6 팬시 색인  \n",
    "- 정수 배열을 이용한 색인"
   ]
  },
  {
   "cell_type": "code",
   "execution_count": 25,
   "metadata": {
    "ExecuteTime": {
     "end_time": "2019-08-11T08:03:50.877427Z",
     "start_time": "2019-08-11T08:03:50.861921Z"
    }
   },
   "outputs": [
    {
     "data": {
      "text/plain": [
       "array([[0., 0., 0., 0.],\n",
       "       [1., 1., 1., 1.],\n",
       "       [2., 2., 2., 2.],\n",
       "       [3., 3., 3., 3.],\n",
       "       [4., 4., 4., 4.],\n",
       "       [5., 5., 5., 5.],\n",
       "       [6., 6., 6., 6.],\n",
       "       [7., 7., 7., 7.]])"
      ]
     },
     "execution_count": 25,
     "metadata": {},
     "output_type": "execute_result"
    }
   ],
   "source": [
    "arr = np.empty((8,4))\n",
    "for i in range(8):\n",
    "    arr[i] = i\n",
    "arr"
   ]
  },
  {
   "cell_type": "code",
   "execution_count": 26,
   "metadata": {
    "ExecuteTime": {
     "end_time": "2019-08-11T08:03:50.891242Z",
     "start_time": "2019-08-11T08:03:50.878426Z"
    }
   },
   "outputs": [
    {
     "data": {
      "text/plain": [
       "array([[3., 3., 3., 3.],\n",
       "       [4., 4., 4., 4.],\n",
       "       [5., 5., 5., 5.]])"
      ]
     },
     "execution_count": 26,
     "metadata": {},
     "output_type": "execute_result"
    },
    {
     "data": {
      "text/plain": [
       "array([[7., 7., 7., 7.],\n",
       "       [6., 6., 6., 6.],\n",
       "       [7., 7., 7., 7.]])"
      ]
     },
     "execution_count": 26,
     "metadata": {},
     "output_type": "execute_result"
    }
   ],
   "source": [
    "#특정한 로우 선택하려면 걍 원하는 숫자가 담긴 ndarray나 list 넘기면됨\n",
    "arr[[3,4,5]]\n",
    "arr[[-1,-2,-1]]"
   ]
  },
  {
   "cell_type": "code",
   "execution_count": 27,
   "metadata": {
    "ExecuteTime": {
     "end_time": "2019-08-11T08:03:50.904525Z",
     "start_time": "2019-08-11T08:03:50.893238Z"
    }
   },
   "outputs": [
    {
     "data": {
      "text/plain": [
       "array([1., 2., 3.])"
      ]
     },
     "execution_count": 27,
     "metadata": {},
     "output_type": "execute_result"
    }
   ],
   "source": [
    "#다차원 배열을 넘기면 각각의 색인 튜플에 대응하는 1차원 배열이 선택됨\n",
    "arr[[1,2,3],[1,2,3]]"
   ]
  },
  {
   "cell_type": "code",
   "execution_count": 28,
   "metadata": {
    "ExecuteTime": {
     "end_time": "2019-08-11T08:03:50.920799Z",
     "start_time": "2019-08-11T08:03:50.905717Z"
    }
   },
   "outputs": [
    {
     "data": {
      "text/plain": [
       "array([[1., 1., 1.],\n",
       "       [2., 2., 2.],\n",
       "       [3., 3., 3.]])"
      ]
     },
     "execution_count": 28,
     "metadata": {},
     "output_type": "execute_result"
    }
   ],
   "source": [
    "#만약 2차원으로 선택하려면..\n",
    "arr[[1,2,3]][:,[1,2,3]]"
   ]
  },
  {
   "cell_type": "markdown",
   "metadata": {},
   "source": [
    "### 4.1.7 배열 전치와 축 바꾸기  \n",
    "- 데이터를 복사하지 않고 모양이 바뀐 뷰를 제공"
   ]
  },
  {
   "cell_type": "code",
   "execution_count": 29,
   "metadata": {
    "ExecuteTime": {
     "end_time": "2019-08-11T08:03:50.933506Z",
     "start_time": "2019-08-11T08:03:50.922830Z"
    }
   },
   "outputs": [
    {
     "data": {
      "text/plain": [
       "array([[ 0,  1,  2,  3,  4],\n",
       "       [ 5,  6,  7,  8,  9],\n",
       "       [10, 11, 12, 13, 14]])"
      ]
     },
     "execution_count": 29,
     "metadata": {},
     "output_type": "execute_result"
    },
    {
     "data": {
      "text/plain": [
       "(3, 5)"
      ]
     },
     "execution_count": 29,
     "metadata": {},
     "output_type": "execute_result"
    }
   ],
   "source": [
    "arr = np.arange(15).reshape((3,5))\n",
    "arr\n",
    "arr.shape"
   ]
  },
  {
   "cell_type": "code",
   "execution_count": 30,
   "metadata": {
    "ExecuteTime": {
     "end_time": "2019-08-11T08:03:50.946937Z",
     "start_time": "2019-08-11T08:03:50.935466Z"
    }
   },
   "outputs": [
    {
     "data": {
      "text/plain": [
       "array([[ 0,  5, 10],\n",
       "       [ 1,  6, 11],\n",
       "       [ 2,  7, 12],\n",
       "       [ 3,  8, 13],\n",
       "       [ 4,  9, 14]])"
      ]
     },
     "execution_count": 30,
     "metadata": {},
     "output_type": "execute_result"
    },
    {
     "data": {
      "text/plain": [
       "(5, 3)"
      ]
     },
     "execution_count": 30,
     "metadata": {},
     "output_type": "execute_result"
    }
   ],
   "source": [
    "arr.T\n",
    "arr.T.shape"
   ]
  },
  {
   "cell_type": "markdown",
   "metadata": {},
   "source": [
    "## 4.2 유니버셜 함수 : 배열의 각 원소를 빠르게 처리하는 함수  \n",
    " - 하나이상의 스칼라값을 받아서 하나이상의 스칼라 결과값을 반환  \n",
    " - 고속으로 처리가능"
   ]
  },
  {
   "cell_type": "code",
   "execution_count": 31,
   "metadata": {
    "ExecuteTime": {
     "end_time": "2019-08-11T08:03:50.963471Z",
     "start_time": "2019-08-11T08:03:50.949398Z"
    }
   },
   "outputs": [
    {
     "data": {
      "text/plain": [
       "array([0, 1, 2, 3, 4, 5, 6, 7, 8, 9])"
      ]
     },
     "execution_count": 31,
     "metadata": {},
     "output_type": "execute_result"
    },
    {
     "data": {
      "text/plain": [
       "array([0.        , 1.        , 1.41421356, 1.73205081, 2.        ,\n",
       "       2.23606798, 2.44948974, 2.64575131, 2.82842712, 3.        ])"
      ]
     },
     "execution_count": 31,
     "metadata": {},
     "output_type": "execute_result"
    },
    {
     "data": {
      "text/plain": [
       "array([1.00000000e+00, 2.71828183e+00, 7.38905610e+00, 2.00855369e+01,\n",
       "       5.45981500e+01, 1.48413159e+02, 4.03428793e+02, 1.09663316e+03,\n",
       "       2.98095799e+03, 8.10308393e+03])"
      ]
     },
     "execution_count": 31,
     "metadata": {},
     "output_type": "execute_result"
    }
   ],
   "source": [
    "arr = np.arange(10)\n",
    "arr\n",
    "\n",
    "np.sqrt(arr)\n",
    "np.exp(arr) #단항 유니버셜함수"
   ]
  },
  {
   "cell_type": "code",
   "execution_count": 32,
   "metadata": {
    "ExecuteTime": {
     "end_time": "2019-08-11T08:03:50.978368Z",
     "start_time": "2019-08-11T08:03:50.965465Z"
    }
   },
   "outputs": [
    {
     "data": {
      "text/plain": [
       "array([-0.79523513,  0.5934584 , -0.80792649,  0.1927989 ,  0.63381618,\n",
       "        0.21212115, -0.77123103, -0.89786071])"
      ]
     },
     "execution_count": 32,
     "metadata": {},
     "output_type": "execute_result"
    },
    {
     "data": {
      "text/plain": [
       "array([ 0.420802  , -0.22410124,  0.48744054, -1.10455611,  0.50620253,\n",
       "        2.4134318 ,  0.04443562, -0.7488975 ])"
      ]
     },
     "execution_count": 32,
     "metadata": {},
     "output_type": "execute_result"
    },
    {
     "data": {
      "text/plain": [
       "array([ 0.420802  ,  0.5934584 ,  0.48744054,  0.1927989 ,  0.63381618,\n",
       "        2.4134318 ,  0.04443562, -0.7488975 ])"
      ]
     },
     "execution_count": 32,
     "metadata": {},
     "output_type": "execute_result"
    }
   ],
   "source": [
    "#이항 유니버셜 함수\n",
    "x = np.random.randn(8)\n",
    "y = np.random.randn(8)\n",
    "x\n",
    "y\n",
    "\n",
    "np.maximum(x,y)"
   ]
  },
  {
   "cell_type": "code",
   "execution_count": 33,
   "metadata": {
    "ExecuteTime": {
     "end_time": "2019-08-11T08:03:50.995553Z",
     "start_time": "2019-08-11T08:03:50.979366Z"
    }
   },
   "outputs": [
    {
     "data": {
      "text/plain": [
       "array([  3.39543142, -14.02840434,  -3.3702322 ,   5.16685961,\n",
       "        -8.71358485,  -3.24207513,  -1.38789401])"
      ]
     },
     "execution_count": 33,
     "metadata": {},
     "output_type": "execute_result"
    },
    {
     "data": {
      "text/plain": [
       "array([ 0.39543142, -0.02840434, -0.3702322 ,  0.16685961, -0.71358485,\n",
       "       -0.24207513, -0.38789401])"
      ]
     },
     "execution_count": 33,
     "metadata": {},
     "output_type": "execute_result"
    },
    {
     "data": {
      "text/plain": [
       "array([  3., -14.,  -3.,   5.,  -8.,  -3.,  -1.])"
      ]
     },
     "execution_count": 33,
     "metadata": {},
     "output_type": "execute_result"
    }
   ],
   "source": [
    "#여러개의 배열을 반환하는 유니버셜\n",
    "arr = np.random.randn(7) *5\n",
    "arr\n",
    "remainde,whole_part = np.modf(arr)\n",
    "remainde\n",
    "whole_part\n"
   ]
  },
  {
   "cell_type": "code",
   "execution_count": 34,
   "metadata": {
    "ExecuteTime": {
     "end_time": "2019-08-11T08:03:51.012229Z",
     "start_time": "2019-08-11T08:03:50.996551Z"
    }
   },
   "outputs": [
    {
     "data": {
      "text/plain": [
       "array([  3.39543142, -14.02840434,  -3.3702322 ,   5.16685961,\n",
       "        -8.71358485,  -3.24207513,  -1.38789401])"
      ]
     },
     "execution_count": 34,
     "metadata": {},
     "output_type": "execute_result"
    },
    {
     "name": "stderr",
     "output_type": "stream",
     "text": [
      "C:\\Users\\sorkt\\Anaconda3\\lib\\site-packages\\ipykernel_launcher.py:3: RuntimeWarning: invalid value encountered in sqrt\n",
      "  This is separate from the ipykernel package so we can avoid doing imports until\n"
     ]
    },
    {
     "data": {
      "text/plain": [
       "array([1.84266964,        nan,        nan, 2.27307272,        nan,\n",
       "              nan,        nan])"
      ]
     },
     "execution_count": 34,
     "metadata": {},
     "output_type": "execute_result"
    },
    {
     "name": "stderr",
     "output_type": "stream",
     "text": [
      "C:\\Users\\sorkt\\Anaconda3\\lib\\site-packages\\ipykernel_launcher.py:4: RuntimeWarning: invalid value encountered in sqrt\n",
      "  after removing the cwd from sys.path.\n"
     ]
    },
    {
     "data": {
      "text/plain": [
       "array([1.84266964,        nan,        nan, 2.27307272,        nan,\n",
       "              nan,        nan])"
      ]
     },
     "execution_count": 34,
     "metadata": {},
     "output_type": "execute_result"
    },
    {
     "data": {
      "text/plain": [
       "array([1.84266964,        nan,        nan, 2.27307272,        nan,\n",
       "              nan,        nan])"
      ]
     },
     "execution_count": 34,
     "metadata": {},
     "output_type": "execute_result"
    }
   ],
   "source": [
    "#out인자를 따로 추가해 값을 받을수도있음\n",
    "arr\n",
    "np.sqrt(arr)\n",
    "np.sqrt(arr,arr)\n",
    "arr"
   ]
  },
  {
   "cell_type": "markdown",
   "metadata": {},
   "source": [
    "## 4.3 배열을 이용한 배열지향 프로그래밍  \n",
    "- 배열연산을 이용하여 반복문의 제거하면 (벡터화) 성능이 매우 상승함"
   ]
  },
  {
   "cell_type": "code",
   "execution_count": 35,
   "metadata": {
    "ExecuteTime": {
     "end_time": "2019-08-11T08:03:51.033203Z",
     "start_time": "2019-08-11T08:03:51.014448Z"
    }
   },
   "outputs": [
    {
     "data": {
      "text/plain": [
       "array([[-5.  , -4.99, -4.98, ...,  4.97,  4.98,  4.99],\n",
       "       [-5.  , -4.99, -4.98, ...,  4.97,  4.98,  4.99],\n",
       "       [-5.  , -4.99, -4.98, ...,  4.97,  4.98,  4.99],\n",
       "       ...,\n",
       "       [-5.  , -4.99, -4.98, ...,  4.97,  4.98,  4.99],\n",
       "       [-5.  , -4.99, -4.98, ...,  4.97,  4.98,  4.99],\n",
       "       [-5.  , -4.99, -4.98, ...,  4.97,  4.98,  4.99]])"
      ]
     },
     "execution_count": 35,
     "metadata": {},
     "output_type": "execute_result"
    },
    {
     "data": {
      "text/plain": [
       "array([[-5.  , -5.  , -5.  , ..., -5.  , -5.  , -5.  ],\n",
       "       [-4.99, -4.99, -4.99, ..., -4.99, -4.99, -4.99],\n",
       "       [-4.98, -4.98, -4.98, ..., -4.98, -4.98, -4.98],\n",
       "       ...,\n",
       "       [ 4.97,  4.97,  4.97, ...,  4.97,  4.97,  4.97],\n",
       "       [ 4.98,  4.98,  4.98, ...,  4.98,  4.98,  4.98],\n",
       "       [ 4.99,  4.99,  4.99, ...,  4.99,  4.99,  4.99]])"
      ]
     },
     "execution_count": 35,
     "metadata": {},
     "output_type": "execute_result"
    }
   ],
   "source": [
    "#meshgrid 는 두개의 1차원 배열을 받아서 가능한 모든수 짝을 만들어줌, 2차원 배열 2개 반환\n",
    "points = np.arange(-5,5,0.01)\n",
    "xs,ys = np.meshgrid(points,points)\n",
    "xs\n",
    "ys"
   ]
  },
  {
   "cell_type": "code",
   "execution_count": 36,
   "metadata": {
    "ExecuteTime": {
     "end_time": "2019-08-11T08:03:51.058919Z",
     "start_time": "2019-08-11T08:03:51.034232Z"
    }
   },
   "outputs": [
    {
     "data": {
      "text/plain": [
       "array([[7.07106781, 7.06400028, 7.05693985, ..., 7.04988652, 7.05693985,\n",
       "        7.06400028],\n",
       "       [7.06400028, 7.05692568, 7.04985815, ..., 7.04279774, 7.04985815,\n",
       "        7.05692568],\n",
       "       [7.05693985, 7.04985815, 7.04278354, ..., 7.03571603, 7.04278354,\n",
       "        7.04985815],\n",
       "       ...,\n",
       "       [7.04988652, 7.04279774, 7.03571603, ..., 7.0286414 , 7.03571603,\n",
       "        7.04279774],\n",
       "       [7.05693985, 7.04985815, 7.04278354, ..., 7.03571603, 7.04278354,\n",
       "        7.04985815],\n",
       "       [7.06400028, 7.05692568, 7.04985815, ..., 7.04279774, 7.04985815,\n",
       "        7.05692568]])"
      ]
     },
     "execution_count": 36,
     "metadata": {},
     "output_type": "execute_result"
    }
   ],
   "source": [
    "z = np.sqrt(xs**2 + ys**2)\n",
    "z"
   ]
  },
  {
   "cell_type": "code",
   "execution_count": 37,
   "metadata": {
    "ExecuteTime": {
     "end_time": "2019-08-11T08:03:52.738128Z",
     "start_time": "2019-08-11T08:03:51.059926Z"
    }
   },
   "outputs": [
    {
     "data": {
      "text/plain": [
       "<matplotlib.image.AxesImage at 0x22115d694e0>"
      ]
     },
     "execution_count": 37,
     "metadata": {},
     "output_type": "execute_result"
    },
    {
     "data": {
      "text/plain": [
       "<matplotlib.colorbar.Colorbar at 0x22115d9ddd8>"
      ]
     },
     "execution_count": 37,
     "metadata": {},
     "output_type": "execute_result"
    },
    {
     "data": {
      "text/plain": [
       "Text(0.5, 1.0, '$\\\\sqrt{x^2 + y^2}$')"
      ]
     },
     "execution_count": 37,
     "metadata": {},
     "output_type": "execute_result"
    },
    {
     "data": {
      "image/png": "[encoded data removed]",
      "text/plain": [
       "<Figure size 432x288 with 2 Axes>"
      ]
     },
     "metadata": {
      "needs_background": "light"
     },
     "output_type": "display_data"
    }
   ],
   "source": [
    "%matplotlib inline\n",
    "import matplotlib.pyplot as plt\n",
    "plt.imshow(z,cmap=plt.cm.gray)\n",
    "plt.colorbar()\n",
    "plt.title('$\\sqrt{x^2 + y^2}$')"
   ]
  },
  {
   "cell_type": "markdown",
   "metadata": {},
   "source": [
    "### 4.3.1 배열 연산으로 조건절 표현하기  \n",
    "- np.where : x if 조건 else y 같은 삼항식의 베터화된 버전임"
   ]
  },
  {
   "cell_type": "code",
   "execution_count": 38,
   "metadata": {
    "ExecuteTime": {
     "end_time": "2019-08-11T08:03:52.750164Z",
     "start_time": "2019-08-11T08:03:52.741186Z"
    }
   },
   "outputs": [],
   "source": [
    "xarr = np.array([1.1, 1.2, 1.3, 1.4, 1.5])\n",
    "yarr = np.array([2.1, 2.2, 2.3, 2.4, 2.5])\n",
    "cond = np.array([True, False, True, True, False])"
   ]
  },
  {
   "cell_type": "code",
   "execution_count": 39,
   "metadata": {
    "ExecuteTime": {
     "end_time": "2019-08-11T08:03:52.770065Z",
     "start_time": "2019-08-11T08:03:52.753225Z"
    }
   },
   "outputs": [
    {
     "data": {
      "text/plain": [
       "[1.1, 2.2, 1.3, 1.4, 2.5]"
      ]
     },
     "execution_count": 39,
     "metadata": {},
     "output_type": "execute_result"
    }
   ],
   "source": [
    "#cond가 True이면 x, 아니면 y를 취하고자 할때\n",
    "result = [(x if c else y) for x,c,y in zip(xarr,cond,yarr)]\n",
    "result"
   ]
  },
  {
   "cell_type": "markdown",
   "metadata": {},
   "source": [
    "순수파이썬 문법이므로 큰배열일수록 성능 저하, 다차원 배열에는 사용불가"
   ]
  },
  {
   "cell_type": "code",
   "execution_count": 40,
   "metadata": {
    "ExecuteTime": {
     "end_time": "2019-08-11T08:03:52.794719Z",
     "start_time": "2019-08-11T08:03:52.774054Z"
    }
   },
   "outputs": [
    {
     "data": {
      "text/plain": [
       "array([1.1, 2.2, 1.3, 1.4, 2.5])"
      ]
     },
     "execution_count": 40,
     "metadata": {},
     "output_type": "execute_result"
    }
   ],
   "source": [
    "#np.where\n",
    "result = np.where(cond,xarr,yarr)\n",
    "result"
   ]
  },
  {
   "cell_type": "code",
   "execution_count": 41,
   "metadata": {
    "ExecuteTime": {
     "end_time": "2019-08-11T08:03:52.810249Z",
     "start_time": "2019-08-11T08:03:52.797712Z"
    }
   },
   "outputs": [
    {
     "data": {
      "text/plain": [
       "array([1.1, 5. , 1.3, 1.4, 5. ])"
      ]
     },
     "execution_count": 41,
     "metadata": {},
     "output_type": "execute_result"
    },
    {
     "data": {
      "text/plain": [
       "array([1, 5, 1, 1, 5])"
      ]
     },
     "execution_count": 41,
     "metadata": {},
     "output_type": "execute_result"
    }
   ],
   "source": [
    "#꼭 배열일 필요없음\n",
    "np.where(cond,xarr,5)\n",
    "np.where(cond,1,5)"
   ]
  },
  {
   "cell_type": "code",
   "execution_count": 42,
   "metadata": {
    "ExecuteTime": {
     "end_time": "2019-08-11T08:03:52.835190Z",
     "start_time": "2019-08-11T08:03:52.813243Z"
    }
   },
   "outputs": [
    {
     "data": {
      "text/plain": [
       "array([[-0.72860281, -0.7794716 , -0.01387589, -0.69195367],\n",
       "       [-1.10537005,  1.43891127,  0.30913503,  1.22014945],\n",
       "       [ 1.34809279, -1.20167542, -0.29624198,  0.14710289],\n",
       "       [-1.23282729,  0.27501954,  0.46928297, -0.03142455]])"
      ]
     },
     "execution_count": 42,
     "metadata": {},
     "output_type": "execute_result"
    },
    {
     "data": {
      "text/plain": [
       "array([[False, False, False, False],\n",
       "       [False,  True,  True,  True],\n",
       "       [ True, False, False,  True],\n",
       "       [False,  True,  True, False]])"
      ]
     },
     "execution_count": 42,
     "metadata": {},
     "output_type": "execute_result"
    },
    {
     "data": {
      "text/plain": [
       "array([[-2, -2, -2, -2],\n",
       "       [-2,  2,  2,  2],\n",
       "       [ 2, -2, -2,  2],\n",
       "       [-2,  2,  2, -2]])"
      ]
     },
     "execution_count": 42,
     "metadata": {},
     "output_type": "execute_result"
    },
    {
     "data": {
      "text/plain": [
       "array([[-0.72860281, -0.7794716 , -0.01387589, -0.69195367],\n",
       "       [-1.10537005,  2.        ,  2.        ,  2.        ],\n",
       "       [ 2.        , -1.20167542, -0.29624198,  2.        ],\n",
       "       [-1.23282729,  2.        ,  2.        , -0.03142455]])"
      ]
     },
     "execution_count": 42,
     "metadata": {},
     "output_type": "execute_result"
    }
   ],
   "source": [
    "#일반적인 예시, 음수는 모두 -2로, 양수는 모두 2로\n",
    "arr = np.random.randn(4,4)\n",
    "arr\n",
    "arr>=0\n",
    "np.where(arr>=0,2,-2)\n",
    "np.where(arr>=0,2,arr)#스칼라, 배열 조합해서 양수만 바꿀수도 있음"
   ]
  },
  {
   "cell_type": "markdown",
   "metadata": {},
   "source": [
    "### 4.3.2 수학 메서드와 통계 메서드"
   ]
  },
  {
   "cell_type": "code",
   "execution_count": 43,
   "metadata": {
    "ExecuteTime": {
     "end_time": "2019-08-11T08:03:52.855108Z",
     "start_time": "2019-08-11T08:03:52.837186Z"
    }
   },
   "outputs": [
    {
     "data": {
      "text/plain": [
       "array([[ 1.5820164 ,  1.14529917, -0.6486242 ,  1.37705854],\n",
       "       [ 0.40850807, -0.02393262, -0.2147173 ,  0.18623347],\n",
       "       [ 0.3258652 , -0.42656392,  0.99039749,  0.1167077 ],\n",
       "       [-0.09811045, -1.27739706, -0.90795464, -0.48019157],\n",
       "       [ 0.74064673,  0.76574347, -0.38136559,  0.36762723]])"
      ]
     },
     "execution_count": 43,
     "metadata": {},
     "output_type": "execute_result"
    },
    {
     "data": {
      "text/plain": [
       "0.17736230627342423"
      ]
     },
     "execution_count": 43,
     "metadata": {},
     "output_type": "execute_result"
    },
    {
     "data": {
      "text/plain": [
       "0.17736230627342423"
      ]
     },
     "execution_count": 43,
     "metadata": {},
     "output_type": "execute_result"
    },
    {
     "data": {
      "text/plain": [
       "3.5472461254684844"
      ]
     },
     "execution_count": 43,
     "metadata": {},
     "output_type": "execute_result"
    }
   ],
   "source": [
    "arr = np.random.randn(5,4)\n",
    "arr\n",
    "arr.mean()\n",
    "np.mean(arr)\n",
    "np.sum(arr)"
   ]
  },
  {
   "cell_type": "code",
   "execution_count": 44,
   "metadata": {
    "ExecuteTime": {
     "end_time": "2019-08-11T08:03:52.868383Z",
     "start_time": "2019-08-11T08:03:52.857107Z"
    }
   },
   "outputs": [
    {
     "data": {
      "text/plain": [
       "array([ 0.59178519,  0.03662981, -0.23245285,  0.31348707])"
      ]
     },
     "execution_count": 44,
     "metadata": {},
     "output_type": "execute_result"
    },
    {
     "data": {
      "text/plain": [
       "array([ 3.45574991,  0.35609161,  1.00640648, -2.76365372,  1.49265184])"
      ]
     },
     "execution_count": 44,
     "metadata": {},
     "output_type": "execute_result"
    },
    {
     "data": {
      "text/plain": [
       "array([ 3.45574991,  0.35609161,  1.00640648, -2.76365372,  1.49265184])"
      ]
     },
     "execution_count": 44,
     "metadata": {},
     "output_type": "execute_result"
    }
   ],
   "source": [
    "#axis 받아서 해당 축에 해당하는 값만 계산가능\n",
    "np.mean(arr,axis=0)\n",
    "arr.sum(axis=1)\n",
    "arr.sum(1)"
   ]
  },
  {
   "cell_type": "code",
   "execution_count": 45,
   "metadata": {
    "ExecuteTime": {
     "end_time": "2019-08-11T08:03:52.888142Z",
     "start_time": "2019-08-11T08:03:52.870378Z"
    }
   },
   "outputs": [
    {
     "data": {
      "text/plain": [
       "array([[ 1.5820164 ,  1.14529917, -0.6486242 ,  1.37705854],\n",
       "       [ 1.99052447,  1.12136655, -0.8633415 ,  1.56329201],\n",
       "       [ 2.31638967,  0.69480263,  0.12705599,  1.67999971],\n",
       "       [ 2.21827922, -0.58259442, -0.78089865,  1.19980813],\n",
       "       [ 2.95892595,  0.18314905, -1.16226424,  1.56743536]])"
      ]
     },
     "execution_count": 45,
     "metadata": {},
     "output_type": "execute_result"
    },
    {
     "data": {
      "text/plain": [
       "array([[ 1.5820164 ,  1.14529917, -0.6486242 ,  1.37705854],\n",
       "       [ 0.64626646, -0.02741002,  0.13927084,  0.25645439],\n",
       "       [ 0.21059575,  0.01169212,  0.13793349,  0.0299302 ],\n",
       "       [-0.02066164, -0.01493548, -0.12523735, -0.01437223],\n",
       "       [-0.01530298, -0.01143675,  0.04776122, -0.00528362]])"
      ]
     },
     "execution_count": 45,
     "metadata": {},
     "output_type": "execute_result"
    }
   ],
   "source": [
    "#cumsum\n",
    "arr.cumsum(0)\n",
    "arr.cumprod(0)"
   ]
  },
  {
   "cell_type": "code",
   "execution_count": 46,
   "metadata": {
    "ExecuteTime": {
     "end_time": "2019-08-11T08:03:52.904439Z",
     "start_time": "2019-08-11T08:03:52.891267Z"
    }
   },
   "outputs": [
    {
     "data": {
      "text/plain": [
       "array([[0, 1, 2],\n",
       "       [3, 4, 5],\n",
       "       [6, 7, 8]])"
      ]
     },
     "execution_count": 46,
     "metadata": {},
     "output_type": "execute_result"
    },
    {
     "data": {
      "text/plain": [
       "array([[ 0,  1,  2],\n",
       "       [ 3,  5,  7],\n",
       "       [ 9, 12, 15]], dtype=int32)"
      ]
     },
     "execution_count": 46,
     "metadata": {},
     "output_type": "execute_result"
    }
   ],
   "source": [
    "arr = np.array([[0,1,2],[3,4,5],[6,7,8]])\n",
    "arr\n",
    "arr.cumsum(axis=0)"
   ]
  },
  {
   "cell_type": "markdown",
   "metadata": {},
   "source": [
    "### 4.3.3 불리언 배열을 위한 메서드"
   ]
  },
  {
   "cell_type": "code",
   "execution_count": 47,
   "metadata": {
    "ExecuteTime": {
     "end_time": "2019-08-11T08:03:52.924881Z",
     "start_time": "2019-08-11T08:03:52.906783Z"
    }
   },
   "outputs": [
    {
     "data": {
      "text/plain": [
       "array([False,  True, False,  True,  True,  True, False,  True,  True,\n",
       "        True, False, False, False, False, False,  True,  True,  True,\n",
       "        True,  True,  True, False,  True, False, False, False, False,\n",
       "        True,  True, False, False,  True,  True, False,  True,  True,\n",
       "        True, False, False,  True, False, False, False,  True, False,\n",
       "       False, False, False,  True,  True, False,  True, False,  True,\n",
       "        True, False,  True,  True,  True, False,  True, False,  True,\n",
       "       False, False, False,  True, False, False, False,  True, False,\n",
       "        True, False,  True, False,  True, False,  True, False, False,\n",
       "        True,  True,  True,  True,  True,  True,  True, False,  True,\n",
       "        True, False,  True,  True,  True,  True,  True,  True,  True,\n",
       "        True])"
      ]
     },
     "execution_count": 47,
     "metadata": {},
     "output_type": "execute_result"
    },
    {
     "data": {
      "text/plain": [
       "56"
      ]
     },
     "execution_count": 47,
     "metadata": {},
     "output_type": "execute_result"
    }
   ],
   "source": [
    "arr = np.random.randn(100)\n",
    "(arr>0)\n",
    "(arr>0).sum() #요러면 True인 원소수를 알수있음"
   ]
  },
  {
   "cell_type": "code",
   "execution_count": 48,
   "metadata": {
    "ExecuteTime": {
     "end_time": "2019-08-11T08:03:52.938988Z",
     "start_time": "2019-08-11T08:03:52.927119Z"
    }
   },
   "outputs": [
    {
     "data": {
      "text/plain": [
       "True"
      ]
     },
     "execution_count": 48,
     "metadata": {},
     "output_type": "execute_result"
    },
    {
     "data": {
      "text/plain": [
       "False"
      ]
     },
     "execution_count": 48,
     "metadata": {},
     "output_type": "execute_result"
    }
   ],
   "source": [
    "#all과 any\n",
    "bools = np.array([False,False,True,False])\n",
    "bools.any()\n",
    "bools.all()"
   ]
  },
  {
   "cell_type": "markdown",
   "metadata": {},
   "source": [
    "### 4.3.4 정렬"
   ]
  },
  {
   "cell_type": "code",
   "execution_count": 49,
   "metadata": {
    "ExecuteTime": {
     "end_time": "2019-08-11T08:03:52.961229Z",
     "start_time": "2019-08-11T08:03:52.942156Z"
    }
   },
   "outputs": [
    {
     "data": {
      "text/plain": [
       "array([-0.95246727, -0.13068818, -0.27467657,  0.58981376,  1.23441592,\n",
       "       -0.43507542])"
      ]
     },
     "execution_count": 49,
     "metadata": {},
     "output_type": "execute_result"
    },
    {
     "data": {
      "text/plain": [
       "array([-0.95246727, -0.43507542, -0.27467657, -0.13068818,  0.58981376,\n",
       "        1.23441592])"
      ]
     },
     "execution_count": 49,
     "metadata": {},
     "output_type": "execute_result"
    }
   ],
   "source": [
    "arr = np.random.randn(6)\n",
    "arr\n",
    "arr.sort()\n",
    "arr"
   ]
  },
  {
   "cell_type": "code",
   "execution_count": 50,
   "metadata": {
    "ExecuteTime": {
     "end_time": "2019-08-11T08:03:52.977097Z",
     "start_time": "2019-08-11T08:03:52.964221Z"
    }
   },
   "outputs": [
    {
     "data": {
      "text/plain": [
       "array([[-0.35412615, -1.69669933,  2.81183484],\n",
       "       [-1.00654434, -1.71578993,  0.4264395 ],\n",
       "       [-0.14904082,  0.02934405, -1.47483221],\n",
       "       [ 2.07434535, -0.57257444, -0.90112791],\n",
       "       [-1.09438377, -0.01736547, -1.65145617]])"
      ]
     },
     "execution_count": 50,
     "metadata": {},
     "output_type": "execute_result"
    },
    {
     "data": {
      "text/plain": [
       "array([[-1.09438377, -1.71578993, -1.65145617],\n",
       "       [-1.00654434, -1.69669933, -1.47483221],\n",
       "       [-0.35412615, -0.57257444, -0.90112791],\n",
       "       [-0.14904082, -0.01736547,  0.4264395 ],\n",
       "       [ 2.07434535,  0.02934405,  2.81183484]])"
      ]
     },
     "execution_count": 50,
     "metadata": {},
     "output_type": "execute_result"
    }
   ],
   "source": [
    "#다차원의 경우 넘긴 축의 값에 따라 정렬함\n",
    "arr = np.random.randn(5,3)\n",
    "arr\n",
    "arr.sort(axis=0)\n",
    "arr"
   ]
  },
  {
   "cell_type": "code",
   "execution_count": 51,
   "metadata": {
    "ExecuteTime": {
     "end_time": "2019-08-11T08:03:52.992369Z",
     "start_time": "2019-08-11T08:03:52.980844Z"
    }
   },
   "outputs": [
    {
     "data": {
      "text/plain": [
       "array([[-0.7308854 , -0.79531302, -1.72946763],\n",
       "       [-0.42439019, -0.62555728, -0.49366776],\n",
       "       [ 0.54702711,  0.24125044, -0.47670569],\n",
       "       [ 1.16633675,  0.54705762, -0.22747611],\n",
       "       [ 1.23207879,  1.11757498,  0.34820035]])"
      ]
     },
     "execution_count": 51,
     "metadata": {},
     "output_type": "execute_result"
    }
   ],
   "source": [
    "#np.sort()를하면 직접변경하지 않고 변경된 배열 반환\n",
    "arr = np.random.randn(5,3)\n",
    "np.sort(arr,axis=0)"
   ]
  },
  {
   "cell_type": "code",
   "execution_count": 52,
   "metadata": {
    "ExecuteTime": {
     "end_time": "2019-08-11T08:03:53.005907Z",
     "start_time": "2019-08-11T08:03:52.994363Z"
    }
   },
   "outputs": [
    {
     "data": {
      "text/plain": [
       "-1.519955650672719"
      ]
     },
     "execution_count": 52,
     "metadata": {},
     "output_type": "execute_result"
    }
   ],
   "source": [
    "#배열의 분위수를 구하기 위해서는 일단 정렬하고 특정분위의 값을 선택하면 된다.\n",
    "large = np.random.randn(1000)\n",
    "large.sort()\n",
    "large[int(0.05 * len(large))]"
   ]
  },
  {
   "cell_type": "markdown",
   "metadata": {},
   "source": [
    "### 4.3.5 집합관련 함수"
   ]
  },
  {
   "cell_type": "code",
   "execution_count": 53,
   "metadata": {
    "ExecuteTime": {
     "end_time": "2019-08-11T08:03:53.021478Z",
     "start_time": "2019-08-11T08:03:53.007973Z"
    }
   },
   "outputs": [
    {
     "data": {
      "text/plain": [
       "array(['Adam', 'Bob', 'Joe', 'Will'], dtype='<U4')"
      ]
     },
     "execution_count": 53,
     "metadata": {},
     "output_type": "execute_result"
    },
    {
     "name": "stdout",
     "output_type": "stream",
     "text": [
      "\n",
      "정렬도 해줌\n"
     ]
    }
   ],
   "source": [
    "#유일한 값 얻기\n",
    "names = np.array(['Bob','Joe','Will','Adam','Bob','Will','Joe','Joe'])\n",
    "np.unique(names)\n",
    "print(\"\"\"\n",
    "정렬도 해줌\"\"\")"
   ]
  },
  {
   "cell_type": "code",
   "execution_count": 54,
   "metadata": {
    "ExecuteTime": {
     "end_time": "2019-08-11T08:03:53.037321Z",
     "start_time": "2019-08-11T08:03:53.024472Z"
    }
   },
   "outputs": [
    {
     "data": {
      "text/plain": [
       "['Adam', 'Bob', 'Joe', 'Will']"
      ]
     },
     "execution_count": 54,
     "metadata": {},
     "output_type": "execute_result"
    }
   ],
   "source": [
    "#파이썬만으로 등가 구현하면\n",
    "sorted(set(names))"
   ]
  },
  {
   "cell_type": "code",
   "execution_count": 55,
   "metadata": {
    "ExecuteTime": {
     "end_time": "2019-08-11T08:03:53.049184Z",
     "start_time": "2019-08-11T08:03:53.038686Z"
    }
   },
   "outputs": [
    {
     "data": {
      "text/plain": [
       "array([ True, False, False,  True, False, False,  True])"
      ]
     },
     "execution_count": 55,
     "metadata": {},
     "output_type": "execute_result"
    }
   ],
   "source": [
    "#np.in1d : 두개의 배열을 받아 첫번째 배열의 각원소가 두번째에 들어가있는지 확인\n",
    "values = np.array([6,0,0,3,2,5,6])\n",
    "np.in1d(values,[6,3])"
   ]
  },
  {
   "cell_type": "markdown",
   "metadata": {},
   "source": [
    "## 4.4 배열 데이터의 파일 입출력"
   ]
  },
  {
   "cell_type": "code",
   "execution_count": null,
   "metadata": {},
   "outputs": [],
   "source": []
  }
 ],
 "metadata": {
  "kernelspec": {
   "display_name": "Python 3",
   "language": "python",
   "name": "python3"
  },
  "language_info": {
   "codemirror_mode": {
    "name": "ipython",
    "version": 3
   },
   "file_extension": ".py",
   "mimetype": "text/x-python",
   "name": "python",
   "nbconvert_exporter": "python",
   "pygments_lexer": "ipython3",
   "version": "3.7.3"
  },
  "varInspector": {
   "cols": {
    "lenName": "16",
    "lenType": "16",
    "lenVar": 40
   },
   "kernels_config": {
    "python": {
     "delete_cmd_postfix": "",
     "delete_cmd_prefix": "del ",
     "library": "var_list.py",
     "varRefreshCmd": "print(var_dic_list())"
    },
    "r": {
     "delete_cmd_postfix": ") ",
     "delete_cmd_prefix": "rm(",
     "library": "var_list.r",
     "varRefreshCmd": "cat(var_dic_list()) "
    }
   },
   "oldHeight": 239,
   "position": {
    "height": "40px",
    "left": "1371px",
    "right": "20px",
    "top": "80px",
    "width": "529px"
   },
   "types_to_exclude": [
    "module",
    "function",
    "builtin_function_or_method",
    "instance",
    "_Feature"
   ],
   "varInspector_section_display": "none",
   "window_display": true
  }
 },
 "nbformat": 4,
 "nbformat_minor": 2
}
