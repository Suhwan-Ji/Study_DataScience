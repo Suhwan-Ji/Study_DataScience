{
 "cells": [
  {
   "cell_type": "markdown",
   "metadata": {},
   "source": [
    "# Ch04. Numpy기본: 배열과 벡터연산"
   ]
  },
  {
   "cell_type": "code",
   "execution_count": 1,
   "metadata": {
    "ExecuteTime": {
     "end_time": "2019-08-15T05:33:58.054603Z",
     "start_time": "2019-08-15T05:33:55.976402Z"
    }
   },
   "outputs": [
    {
     "name": "stdout",
     "output_type": "stream",
     "text": [
      "Wall time: 23.3 ms\n",
      "Wall time: 1.85 s\n"
     ]
    }
   ],
   "source": [
    "#배열처리 속도비교\n",
    "import numpy as np\n",
    "my_arr = np.arange(1000000)\n",
    "my_list = list(range(1000000))\n",
    "\n",
    "%time for _ in range(10):my_arr2 = my_arr *2\n",
    "\n",
    "%time for _ in range(10):my_list2 = [x*2 for x in my_list ]"
   ]
  },
  {
   "cell_type": "code",
   "execution_count": 2,
   "metadata": {
    "ExecuteTime": {
     "end_time": "2019-08-15T05:33:58.089506Z",
     "start_time": "2019-08-15T05:33:58.055652Z"
    }
   },
   "outputs": [
    {
     "data": {
      "text/plain": [
       "[1, 2, 3, 1, 2, 3]"
      ]
     },
     "execution_count": 2,
     "metadata": {},
     "output_type": "execute_result"
    }
   ],
   "source": [
    "[1,2,3] *2"
   ]
  },
  {
   "cell_type": "markdown",
   "metadata": {},
   "source": [
    "## 4.1 Numpy ndarray : 다차원 배열객체"
   ]
  },
  {
   "cell_type": "code",
   "execution_count": 3,
   "metadata": {
    "ExecuteTime": {
     "end_time": "2019-08-15T05:33:58.116825Z",
     "start_time": "2019-08-15T05:33:58.091836Z"
    }
   },
   "outputs": [
    {
     "data": {
      "text/plain": [
       "array([[ 0.26323584, -0.68892401,  0.42276259],\n",
       "       [ 1.43369721,  0.17378112,  0.41199071]])"
      ]
     },
     "execution_count": 3,
     "metadata": {},
     "output_type": "execute_result"
    }
   ],
   "source": [
    "import numpy as np\n",
    "data = np.random.randn(2,3)\n",
    "data"
   ]
  },
  {
   "cell_type": "code",
   "execution_count": 4,
   "metadata": {
    "ExecuteTime": {
     "end_time": "2019-08-15T05:33:58.128517Z",
     "start_time": "2019-08-15T05:33:58.117855Z"
    }
   },
   "outputs": [
    {
     "data": {
      "text/plain": [
       "array([[ 2.63235842, -6.88924008,  4.22762592],\n",
       "       [14.33697214,  1.73781115,  4.11990713]])"
      ]
     },
     "execution_count": 4,
     "metadata": {},
     "output_type": "execute_result"
    }
   ],
   "source": [
    "data * 10"
   ]
  },
  {
   "cell_type": "code",
   "execution_count": 5,
   "metadata": {
    "ExecuteTime": {
     "end_time": "2019-08-15T05:33:58.141267Z",
     "start_time": "2019-08-15T05:33:58.129152Z"
    }
   },
   "outputs": [
    {
     "data": {
      "text/plain": [
       "array([[ 0.52647168, -1.37784802,  0.84552518],\n",
       "       [ 2.86739443,  0.34756223,  0.82398143]])"
      ]
     },
     "execution_count": 5,
     "metadata": {},
     "output_type": "execute_result"
    }
   ],
   "source": [
    "data + data"
   ]
  },
  {
   "cell_type": "markdown",
   "metadata": {},
   "source": [
    "ndarray에 저장된 데이터는 모두 같은 타입이어야햠"
   ]
  },
  {
   "cell_type": "code",
   "execution_count": 6,
   "metadata": {
    "ExecuteTime": {
     "end_time": "2019-08-15T05:33:58.157799Z",
     "start_time": "2019-08-15T05:33:58.144081Z"
    }
   },
   "outputs": [
    {
     "data": {
      "text/plain": [
       "(2, 3)"
      ]
     },
     "execution_count": 6,
     "metadata": {},
     "output_type": "execute_result"
    },
    {
     "data": {
      "text/plain": [
       "dtype('float64')"
      ]
     },
     "execution_count": 6,
     "metadata": {},
     "output_type": "execute_result"
    }
   ],
   "source": [
    "data.shape\n",
    "data.dtype"
   ]
  },
  {
   "cell_type": "markdown",
   "metadata": {},
   "source": [
    "### 4.1.1 ndarray 생성하기"
   ]
  },
  {
   "cell_type": "code",
   "execution_count": 7,
   "metadata": {
    "ExecuteTime": {
     "end_time": "2019-08-15T05:33:58.168882Z",
     "start_time": "2019-08-15T05:33:58.157799Z"
    }
   },
   "outputs": [
    {
     "data": {
      "text/plain": [
       "array([6. , 7.5, 8. , 0. , 1. ])"
      ]
     },
     "execution_count": 7,
     "metadata": {},
     "output_type": "execute_result"
    },
    {
     "data": {
      "text/plain": [
       "array([[1, 2, 3, 4],\n",
       "       [5, 6, 7, 8]])"
      ]
     },
     "execution_count": 7,
     "metadata": {},
     "output_type": "execute_result"
    }
   ],
   "source": [
    "data1 = [6, 7.5, 8, 0, 1]\n",
    "arr1 = np.array(data1)\n",
    "arr1\n",
    "\n",
    "data2 = [[1,2,3,4],\n",
    "        [5,6,7,8]]\n",
    "arr2 = np.array(data2)\n",
    "arr2"
   ]
  },
  {
   "cell_type": "code",
   "execution_count": 8,
   "metadata": {
    "ExecuteTime": {
     "end_time": "2019-08-15T05:33:58.187038Z",
     "start_time": "2019-08-15T05:33:58.172868Z"
    }
   },
   "outputs": [
    {
     "data": {
      "text/plain": [
       "2"
      ]
     },
     "execution_count": 8,
     "metadata": {},
     "output_type": "execute_result"
    },
    {
     "data": {
      "text/plain": [
       "(2, 4)"
      ]
     },
     "execution_count": 8,
     "metadata": {},
     "output_type": "execute_result"
    },
    {
     "data": {
      "text/plain": [
       "dtype('float64')"
      ]
     },
     "execution_count": 8,
     "metadata": {},
     "output_type": "execute_result"
    },
    {
     "data": {
      "text/plain": [
       "dtype('int32')"
      ]
     },
     "execution_count": 8,
     "metadata": {},
     "output_type": "execute_result"
    }
   ],
   "source": [
    "arr2.ndim\n",
    "arr2.shape\n",
    "\n",
    "#명시적으로 알려주지 않으면 적절한 데이터 타입을 추론함\n",
    "arr1.dtype\n",
    "arr2.dtype"
   ]
  },
  {
   "cell_type": "markdown",
   "metadata": {},
   "source": [
    "**새 배열 생성**"
   ]
  },
  {
   "cell_type": "code",
   "execution_count": 9,
   "metadata": {
    "ExecuteTime": {
     "end_time": "2019-08-15T05:33:58.207629Z",
     "start_time": "2019-08-15T05:33:58.189033Z"
    }
   },
   "outputs": [
    {
     "data": {
      "text/plain": [
       "array([[0, 0, 0, 0, 0, 0, 0, 0, 0, 0],\n",
       "       [0, 0, 0, 0, 0, 0, 0, 0, 0, 0],\n",
       "       [0, 0, 0, 0, 0, 0, 0, 0, 0, 0],\n",
       "       [0, 0, 0, 0, 0, 0, 0, 0, 0, 0],\n",
       "       [0, 0, 0, 0, 0, 0, 0, 0, 0, 0],\n",
       "       [0, 0, 0, 0, 0, 0, 0, 0, 0, 0],\n",
       "       [0, 0, 0, 0, 0, 0, 0, 0, 0, 0],\n",
       "       [0, 0, 0, 0, 0, 0, 0, 0, 0, 0],\n",
       "       [0, 0, 0, 0, 0, 0, 0, 0, 0, 0],\n",
       "       [0, 0, 0, 0, 0, 0, 0, 0, 0, 0]])"
      ]
     },
     "execution_count": 9,
     "metadata": {},
     "output_type": "execute_result"
    },
    {
     "data": {
      "text/plain": [
       "array([[1., 1., 1.],\n",
       "       [1., 1., 1.]])"
      ]
     },
     "execution_count": 9,
     "metadata": {},
     "output_type": "execute_result"
    },
    {
     "data": {
      "text/plain": [
       "array([0., 0., 0., 0., 0., 0., 0., 0., 0., 0.])"
      ]
     },
     "execution_count": 9,
     "metadata": {},
     "output_type": "execute_result"
    },
    {
     "data": {
      "text/plain": [
       "array([0, 1, 2, 3, 4, 5, 6, 7, 8, 9])"
      ]
     },
     "execution_count": 9,
     "metadata": {},
     "output_type": "execute_result"
    },
    {
     "data": {
      "text/plain": [
       "array([[1, 1, 1],\n",
       "       [1, 1, 1]])"
      ]
     },
     "execution_count": 9,
     "metadata": {},
     "output_type": "execute_result"
    },
    {
     "data": {
      "text/plain": [
       "array([[1., 0., 0., 0., 0.],\n",
       "       [0., 1., 0., 0., 0.],\n",
       "       [0., 0., 1., 0., 0.],\n",
       "       [0., 0., 0., 1., 0.],\n",
       "       [0., 0., 0., 0., 1.]])"
      ]
     },
     "execution_count": 9,
     "metadata": {},
     "output_type": "execute_result"
    }
   ],
   "source": [
    "np.zeros((10,10),dtype = np.int32)\n",
    "np.ones((2,3))\n",
    "np.empty(10) #초기화 안된 걍 가비지값\n",
    "np.arange(10)\n",
    "np.full((2,3),1)\n",
    "np.eye(5)\n",
    "#자료형을 명시하지 않으면 float64로 대부분 나옴"
   ]
  },
  {
   "cell_type": "code",
   "execution_count": 10,
   "metadata": {
    "ExecuteTime": {
     "end_time": "2019-08-15T05:33:58.221278Z",
     "start_time": "2019-08-15T05:33:58.208628Z"
    }
   },
   "outputs": [
    {
     "data": {
      "text/plain": [
       "dtype('int32')"
      ]
     },
     "execution_count": 10,
     "metadata": {},
     "output_type": "execute_result"
    },
    {
     "data": {
      "text/plain": [
       "dtype('float64')"
      ]
     },
     "execution_count": 10,
     "metadata": {},
     "output_type": "execute_result"
    }
   ],
   "source": [
    "#astype 이용해서 dtype 캐스팅 가능\n",
    "#!! astype은 타입이 이전과 동일해도 항상 새 배열을 생성한다.\n",
    "a = np.empty((5,5),dtype = np.int32)\n",
    "b = a.astype(dtype=np.float64)\n",
    "a.dtype\n",
    "b.dtype"
   ]
  },
  {
   "cell_type": "markdown",
   "metadata": {},
   "source": [
    "**np.string 은 고정된 크기를 가지기 때문에 임의로 데이터를 자를수 있으므로 주의해야함**"
   ]
  },
  {
   "cell_type": "code",
   "execution_count": 11,
   "metadata": {
    "ExecuteTime": {
     "end_time": "2019-08-15T05:33:58.238178Z",
     "start_time": "2019-08-15T05:33:58.223121Z"
    }
   },
   "outputs": [
    {
     "data": {
      "text/plain": [
       "array([1, 2, 3])"
      ]
     },
     "execution_count": 11,
     "metadata": {},
     "output_type": "execute_result"
    },
    {
     "data": {
      "text/plain": [
       "array([[0., 0., 0.],\n",
       "       [0., 0., 0.]])"
      ]
     },
     "execution_count": 11,
     "metadata": {},
     "output_type": "execute_result"
    },
    {
     "data": {
      "text/plain": [
       "array([[0, 0, 0],\n",
       "       [0, 0, 0]])"
      ]
     },
     "execution_count": 11,
     "metadata": {},
     "output_type": "execute_result"
    }
   ],
   "source": [
    "#다른 배열의 타입 가져올수도 있음\n",
    "a = np.array([1,2,3],dtype=np.int32)\n",
    "b = np.zeros((2,3),dtype=np.float64)\n",
    "c = b.astype(a.dtype)\n",
    "a\n",
    "b\n",
    "c"
   ]
  },
  {
   "cell_type": "code",
   "execution_count": 12,
   "metadata": {
    "ExecuteTime": {
     "end_time": "2019-08-15T05:33:58.249085Z",
     "start_time": "2019-08-15T05:33:58.240129Z"
    }
   },
   "outputs": [
    {
     "data": {
      "text/plain": [
       "array([         0, 1075314688,          0, 1075707904,          0,\n",
       "       1075838976,          0, 1072693248], dtype=uint32)"
      ]
     },
     "execution_count": 12,
     "metadata": {},
     "output_type": "execute_result"
    }
   ],
   "source": [
    "#축약코드를 사용할수도 있음\n",
    "empty_uint32 = np.empty(8,dtype='u4')\n",
    "empty_uint32"
   ]
  },
  {
   "cell_type": "markdown",
   "metadata": {},
   "source": [
    "### 4.1.3 Numpy배열의 산술연산  \n",
    "- for 문을 안쓰고도 데이터를 일괄처리할수 있음 (벡터화)  \n",
    "\n",
    "\n",
    "### 4.1.4 색인과 슬라이싱 기초  \n",
    "- 리스트와 비슷하지만 차이점은 슬라이싱 한 결과가 원본의 뷰라는 점임"
   ]
  },
  {
   "cell_type": "code",
   "execution_count": 13,
   "metadata": {
    "ExecuteTime": {
     "end_time": "2019-08-15T05:33:58.270701Z",
     "start_time": "2019-08-15T05:33:58.250081Z"
    }
   },
   "outputs": [
    {
     "data": {
      "text/plain": [
       "array([5, 6, 7, 8, 9])"
      ]
     },
     "execution_count": 13,
     "metadata": {},
     "output_type": "execute_result"
    },
    {
     "data": {
      "text/plain": [
       "array([20,  6,  7,  8,  9])"
      ]
     },
     "execution_count": 13,
     "metadata": {},
     "output_type": "execute_result"
    },
    {
     "data": {
      "text/plain": [
       "array([ 0,  1,  2,  3,  4, 20,  6,  7,  8,  9])"
      ]
     },
     "execution_count": 13,
     "metadata": {},
     "output_type": "execute_result"
    },
    {
     "data": {
      "text/plain": [
       "[20, 6, 7, 8, 9]"
      ]
     },
     "execution_count": 13,
     "metadata": {},
     "output_type": "execute_result"
    },
    {
     "data": {
      "text/plain": [
       "[0, 1, 2, 3, 4, 5, 6, 7, 8, 9]"
      ]
     },
     "execution_count": 13,
     "metadata": {},
     "output_type": "execute_result"
    }
   ],
   "source": [
    "arr = np.arange(10)\n",
    "arr_slice = arr[5:]\n",
    "arr_slice\n",
    "arr_slice[0] = 20\n",
    "arr_slice\n",
    "arr\n",
    "\n",
    "\n",
    "a = list(range(10))\n",
    "a_slice = a[5:]\n",
    "a_slice[0] = 20\n",
    "a_slice\n",
    "a"
   ]
  },
  {
   "cell_type": "code",
   "execution_count": 14,
   "metadata": {
    "ExecuteTime": {
     "end_time": "2019-08-15T05:33:58.283542Z",
     "start_time": "2019-08-15T05:33:58.273695Z"
    }
   },
   "outputs": [
    {
     "data": {
      "text/plain": [
       "array([ 0,  1,  2,  3,  4, 20, 20, 20, 20, 20])"
      ]
     },
     "execution_count": 14,
     "metadata": {},
     "output_type": "execute_result"
    }
   ],
   "source": [
    "arr = np.arange(10)\n",
    "arr_slice = arr[5:]\n",
    "arr_slice[:]=20\n",
    "arr"
   ]
  },
  {
   "cell_type": "markdown",
   "metadata": {},
   "source": [
    "- 위처럼 데이터 복사가 안일어나기때문에 고용량 데이터에서 유리한 면이있음  \n",
    "- 복사를 하고싶다면 .copy()를 해서 명시적으로 복사해야함"
   ]
  },
  {
   "cell_type": "markdown",
   "metadata": {},
   "source": [
    "- 다차원 배열에서 마지막 색인을 생략시 한차원 낮은 ndarray가됨"
   ]
  },
  {
   "cell_type": "code",
   "execution_count": 15,
   "metadata": {
    "ExecuteTime": {
     "end_time": "2019-08-15T05:33:58.303384Z",
     "start_time": "2019-08-15T05:33:58.284532Z"
    }
   },
   "outputs": [
    {
     "data": {
      "text/plain": [
       "array([[[ 1,  2,  3],\n",
       "        [ 4,  5,  6]],\n",
       "\n",
       "       [[ 7,  8,  9],\n",
       "        [10, 11, 12]]])"
      ]
     },
     "execution_count": 15,
     "metadata": {},
     "output_type": "execute_result"
    },
    {
     "data": {
      "text/plain": [
       "array([[1, 2, 3],\n",
       "       [4, 5, 6]])"
      ]
     },
     "execution_count": 15,
     "metadata": {},
     "output_type": "execute_result"
    }
   ],
   "source": [
    "arr3d = np.array([[[1,2,3],[4,5,6]],[[7,8,9],[10,11,12]]])\n",
    "arr3d\n",
    "\n",
    "arr3d[0]"
   ]
  },
  {
   "cell_type": "code",
   "execution_count": 16,
   "metadata": {
    "ExecuteTime": {
     "end_time": "2019-08-15T05:33:58.311877Z",
     "start_time": "2019-08-15T05:33:58.305676Z"
    }
   },
   "outputs": [
    {
     "data": {
      "text/plain": [
       "array([[[42, 42, 42],\n",
       "        [42, 42, 42]],\n",
       "\n",
       "       [[ 7,  8,  9],\n",
       "        [10, 11, 12]]])"
      ]
     },
     "execution_count": 16,
     "metadata": {},
     "output_type": "execute_result"
    }
   ],
   "source": [
    "old_values = arr3d[0].copy()\n",
    "\n",
    "arr3d[0] = 42\n",
    "arr3d"
   ]
  },
  {
   "cell_type": "code",
   "execution_count": 17,
   "metadata": {
    "ExecuteTime": {
     "end_time": "2019-08-15T05:33:58.330409Z",
     "start_time": "2019-08-15T05:33:58.314407Z"
    }
   },
   "outputs": [
    {
     "data": {
      "text/plain": [
       "array([[[ 1,  2,  3],\n",
       "        [ 4,  5,  6]],\n",
       "\n",
       "       [[ 7,  8,  9],\n",
       "        [10, 11, 12]]])"
      ]
     },
     "execution_count": 17,
     "metadata": {},
     "output_type": "execute_result"
    },
    {
     "data": {
      "text/plain": [
       "'\\n조각난 arr에도 스칼라, 배열 모두 대입가능\\n'"
      ]
     },
     "execution_count": 17,
     "metadata": {},
     "output_type": "execute_result"
    }
   ],
   "source": [
    "arr3d[0] = old_values\n",
    "arr3d\n",
    "\"\"\"\n",
    "조각난 arr에도 스칼라, 배열 모두 대입가능\n",
    "\"\"\""
   ]
  },
  {
   "cell_type": "markdown",
   "metadata": {},
   "source": [
    "### 4.1.5 불리언 값으로 선택하기"
   ]
  },
  {
   "cell_type": "code",
   "execution_count": 18,
   "metadata": {
    "ExecuteTime": {
     "end_time": "2019-08-15T05:33:58.345009Z",
     "start_time": "2019-08-15T05:33:58.332404Z"
    }
   },
   "outputs": [
    {
     "data": {
      "text/plain": [
       "array(['Bob', 'Joe', 'Will', 'Bob', 'Will', 'Joe', 'Joe'], dtype='<U4')"
      ]
     },
     "execution_count": 18,
     "metadata": {},
     "output_type": "execute_result"
    },
    {
     "data": {
      "text/plain": [
       "array([[ 4.22385185e-01, -8.56777461e-01,  1.33600382e+00,\n",
       "        -6.49172751e-01],\n",
       "       [ 9.88750155e-01,  1.74624256e+00,  5.97572444e-01,\n",
       "        -8.05955197e-01],\n",
       "       [ 1.18537008e+00, -1.55599215e+00, -2.40966646e-01,\n",
       "         1.70959382e-02],\n",
       "       [ 5.79781511e-01,  1.56863017e-03, -2.94976307e-01,\n",
       "        -1.97531663e+00],\n",
       "       [ 1.20888612e-02,  1.12221431e+00, -5.11251650e-01,\n",
       "         3.17740769e-02],\n",
       "       [ 5.05332113e-01, -1.76795724e+00,  8.47272291e-04,\n",
       "         6.53973741e-01],\n",
       "       [ 1.16926245e-01, -1.45220667e+00,  1.36337185e+00,\n",
       "         4.82299615e-01]])"
      ]
     },
     "execution_count": 18,
     "metadata": {},
     "output_type": "execute_result"
    }
   ],
   "source": [
    "names=  np.array(['Bob','Joe','Will','Bob','Will','Joe','Joe'])\n",
    "data = np.random.randn(7,4)\n",
    "names\n",
    "data"
   ]
  },
  {
   "cell_type": "code",
   "execution_count": 19,
   "metadata": {
    "ExecuteTime": {
     "end_time": "2019-08-15T05:33:58.358918Z",
     "start_time": "2019-08-15T05:33:58.346008Z"
    }
   },
   "outputs": [
    {
     "data": {
      "text/plain": [
       "array([ True, False, False,  True, False, False, False])"
      ]
     },
     "execution_count": 19,
     "metadata": {},
     "output_type": "execute_result"
    }
   ],
   "source": [
    "a = (names == 'Bob')\n",
    "a"
   ]
  },
  {
   "cell_type": "code",
   "execution_count": 20,
   "metadata": {
    "ExecuteTime": {
     "end_time": "2019-08-15T05:33:58.375437Z",
     "start_time": "2019-08-15T05:33:58.360586Z"
    }
   },
   "outputs": [
    {
     "data": {
      "text/plain": [
       "array([[ 4.22385185e-01, -8.56777461e-01,  1.33600382e+00,\n",
       "        -6.49172751e-01],\n",
       "       [ 5.79781511e-01,  1.56863017e-03, -2.94976307e-01,\n",
       "        -1.97531663e+00]])"
      ]
     },
     "execution_count": 20,
     "metadata": {},
     "output_type": "execute_result"
    }
   ],
   "source": [
    "data[names=='Bob']"
   ]
  },
  {
   "cell_type": "code",
   "execution_count": 21,
   "metadata": {
    "ExecuteTime": {
     "end_time": "2019-08-15T05:33:58.389369Z",
     "start_time": "2019-08-15T05:33:58.377306Z"
    }
   },
   "outputs": [
    {
     "data": {
      "text/plain": [
       "array([[ 1.33600382, -0.64917275],\n",
       "       [-0.29497631, -1.97531663]])"
      ]
     },
     "execution_count": 21,
     "metadata": {},
     "output_type": "execute_result"
    }
   ],
   "source": [
    "data[names=='Bob',2:]"
   ]
  },
  {
   "cell_type": "code",
   "execution_count": 22,
   "metadata": {
    "ExecuteTime": {
     "end_time": "2019-08-15T05:33:58.401074Z",
     "start_time": "2019-08-15T05:33:58.391171Z"
    }
   },
   "outputs": [
    {
     "data": {
      "text/plain": [
       "array([-0.64917275, -1.97531663])"
      ]
     },
     "execution_count": 22,
     "metadata": {},
     "output_type": "execute_result"
    }
   ],
   "source": [
    "data[names=='Bob',3]"
   ]
  },
  {
   "cell_type": "code",
   "execution_count": 23,
   "metadata": {
    "ExecuteTime": {
     "end_time": "2019-08-15T05:33:58.421930Z",
     "start_time": "2019-08-15T05:33:58.406412Z"
    }
   },
   "outputs": [
    {
     "data": {
      "text/plain": [
       "array([False,  True,  True, False,  True,  True,  True])"
      ]
     },
     "execution_count": 23,
     "metadata": {},
     "output_type": "execute_result"
    },
    {
     "data": {
      "text/plain": [
       "array([[ 9.88750155e-01,  1.74624256e+00,  5.97572444e-01,\n",
       "        -8.05955197e-01],\n",
       "       [ 1.18537008e+00, -1.55599215e+00, -2.40966646e-01,\n",
       "         1.70959382e-02],\n",
       "       [ 1.20888612e-02,  1.12221431e+00, -5.11251650e-01,\n",
       "         3.17740769e-02],\n",
       "       [ 5.05332113e-01, -1.76795724e+00,  8.47272291e-04,\n",
       "         6.53973741e-01],\n",
       "       [ 1.16926245e-01, -1.45220667e+00,  1.36337185e+00,\n",
       "         4.82299615e-01]])"
      ]
     },
     "execution_count": 23,
     "metadata": {},
     "output_type": "execute_result"
    },
    {
     "data": {
      "text/plain": [
       "array([[ 9.88750155e-01,  1.74624256e+00,  5.97572444e-01,\n",
       "        -8.05955197e-01],\n",
       "       [ 1.18537008e+00, -1.55599215e+00, -2.40966646e-01,\n",
       "         1.70959382e-02],\n",
       "       [ 1.20888612e-02,  1.12221431e+00, -5.11251650e-01,\n",
       "         3.17740769e-02],\n",
       "       [ 5.05332113e-01, -1.76795724e+00,  8.47272291e-04,\n",
       "         6.53973741e-01],\n",
       "       [ 1.16926245e-01, -1.45220667e+00,  1.36337185e+00,\n",
       "         4.82299615e-01]])"
      ]
     },
     "execution_count": 23,
     "metadata": {},
     "output_type": "execute_result"
    }
   ],
   "source": [
    "#Bob이 아닌놈\n",
    "names!='Bob'\n",
    "\n",
    "data[names!='Bob']\n",
    "data[~(names=='Bob')]"
   ]
  },
  {
   "cell_type": "code",
   "execution_count": 24,
   "metadata": {
    "ExecuteTime": {
     "end_time": "2019-08-15T05:33:58.435739Z",
     "start_time": "2019-08-15T05:33:58.428244Z"
    }
   },
   "outputs": [
    {
     "data": {
      "text/plain": [
       "array([[ 4.22385185e-01, -8.56777461e-01,  1.33600382e+00,\n",
       "        -6.49172751e-01],\n",
       "       [ 1.18537008e+00, -1.55599215e+00, -2.40966646e-01,\n",
       "         1.70959382e-02],\n",
       "       [ 5.79781511e-01,  1.56863017e-03, -2.94976307e-01,\n",
       "        -1.97531663e+00],\n",
       "       [ 1.20888612e-02,  1.12221431e+00, -5.11251650e-01,\n",
       "         3.17740769e-02]])"
      ]
     },
     "execution_count": 24,
     "metadata": {},
     "output_type": "execute_result"
    }
   ],
   "source": [
    "#두가지 이름 선택 or, and\n",
    "mask = (names == 'Bob')|(names=='Will')\n",
    "data[mask]"
   ]
  },
  {
   "cell_type": "markdown",
   "metadata": {},
   "source": [
    "**불리언 배열을 이용해서 선택하면 데이터 복사가 일어남??**"
   ]
  },
  {
   "cell_type": "markdown",
   "metadata": {},
   "source": [
    "### 4.1.6 팬시 색인  \n",
    "- 정수 배열을 이용한 색인"
   ]
  },
  {
   "cell_type": "code",
   "execution_count": 25,
   "metadata": {
    "ExecuteTime": {
     "end_time": "2019-08-15T05:33:58.455613Z",
     "start_time": "2019-08-15T05:33:58.437747Z"
    }
   },
   "outputs": [
    {
     "data": {
      "text/plain": [
       "array([[0., 0., 0., 0.],\n",
       "       [1., 1., 1., 1.],\n",
       "       [2., 2., 2., 2.],\n",
       "       [3., 3., 3., 3.],\n",
       "       [4., 4., 4., 4.],\n",
       "       [5., 5., 5., 5.],\n",
       "       [6., 6., 6., 6.],\n",
       "       [7., 7., 7., 7.]])"
      ]
     },
     "execution_count": 25,
     "metadata": {},
     "output_type": "execute_result"
    }
   ],
   "source": [
    "arr = np.empty((8,4))\n",
    "for i in range(8):\n",
    "    arr[i] = i\n",
    "arr"
   ]
  },
  {
   "cell_type": "code",
   "execution_count": 26,
   "metadata": {
    "ExecuteTime": {
     "end_time": "2019-08-15T05:33:58.465637Z",
     "start_time": "2019-08-15T05:33:58.457610Z"
    }
   },
   "outputs": [
    {
     "data": {
      "text/plain": [
       "array([[3., 3., 3., 3.],\n",
       "       [4., 4., 4., 4.],\n",
       "       [5., 5., 5., 5.]])"
      ]
     },
     "execution_count": 26,
     "metadata": {},
     "output_type": "execute_result"
    },
    {
     "data": {
      "text/plain": [
       "array([[7., 7., 7., 7.],\n",
       "       [6., 6., 6., 6.],\n",
       "       [7., 7., 7., 7.]])"
      ]
     },
     "execution_count": 26,
     "metadata": {},
     "output_type": "execute_result"
    }
   ],
   "source": [
    "#특정한 로우 선택하려면 걍 원하는 숫자가 담긴 ndarray나 list 넘기면됨\n",
    "arr[[3,4,5]]\n",
    "arr[[-1,-2,-1]]"
   ]
  },
  {
   "cell_type": "code",
   "execution_count": 27,
   "metadata": {
    "ExecuteTime": {
     "end_time": "2019-08-15T05:33:58.478272Z",
     "start_time": "2019-08-15T05:33:58.468056Z"
    }
   },
   "outputs": [
    {
     "data": {
      "text/plain": [
       "array([1., 2., 3.])"
      ]
     },
     "execution_count": 27,
     "metadata": {},
     "output_type": "execute_result"
    }
   ],
   "source": [
    "#다차원 배열을 넘기면 각각의 색인 튜플에 대응하는 1차원 배열이 선택됨\n",
    "arr[[1,2,3],[1,2,3]]"
   ]
  },
  {
   "cell_type": "code",
   "execution_count": 28,
   "metadata": {
    "ExecuteTime": {
     "end_time": "2019-08-15T05:33:58.492438Z",
     "start_time": "2019-08-15T05:33:58.480247Z"
    }
   },
   "outputs": [
    {
     "data": {
      "text/plain": [
       "array([[1., 1., 1.],\n",
       "       [2., 2., 2.],\n",
       "       [3., 3., 3.]])"
      ]
     },
     "execution_count": 28,
     "metadata": {},
     "output_type": "execute_result"
    }
   ],
   "source": [
    "#만약 2차원으로 선택하려면..\n",
    "arr[[1,2,3]][:,[1,2,3]]"
   ]
  },
  {
   "cell_type": "markdown",
   "metadata": {},
   "source": [
    "### 4.1.7 배열 전치와 축 바꾸기  \n",
    "- 데이터를 복사하지 않고 모양이 바뀐 뷰를 제공"
   ]
  },
  {
   "cell_type": "code",
   "execution_count": 29,
   "metadata": {
    "ExecuteTime": {
     "end_time": "2019-08-15T05:33:58.508514Z",
     "start_time": "2019-08-15T05:33:58.493870Z"
    }
   },
   "outputs": [
    {
     "data": {
      "text/plain": [
       "array([[ 0,  1,  2,  3,  4],\n",
       "       [ 5,  6,  7,  8,  9],\n",
       "       [10, 11, 12, 13, 14]])"
      ]
     },
     "execution_count": 29,
     "metadata": {},
     "output_type": "execute_result"
    },
    {
     "data": {
      "text/plain": [
       "(3, 5)"
      ]
     },
     "execution_count": 29,
     "metadata": {},
     "output_type": "execute_result"
    }
   ],
   "source": [
    "arr = np.arange(15).reshape((3,5))\n",
    "arr\n",
    "arr.shape"
   ]
  },
  {
   "cell_type": "code",
   "execution_count": 30,
   "metadata": {
    "ExecuteTime": {
     "end_time": "2019-08-15T05:33:58.525436Z",
     "start_time": "2019-08-15T05:33:58.509511Z"
    }
   },
   "outputs": [
    {
     "data": {
      "text/plain": [
       "array([[ 0,  5, 10],\n",
       "       [ 1,  6, 11],\n",
       "       [ 2,  7, 12],\n",
       "       [ 3,  8, 13],\n",
       "       [ 4,  9, 14]])"
      ]
     },
     "execution_count": 30,
     "metadata": {},
     "output_type": "execute_result"
    },
    {
     "data": {
      "text/plain": [
       "(5, 3)"
      ]
     },
     "execution_count": 30,
     "metadata": {},
     "output_type": "execute_result"
    }
   ],
   "source": [
    "arr.T\n",
    "arr.T.shape"
   ]
  },
  {
   "cell_type": "markdown",
   "metadata": {},
   "source": [
    "## 4.2 유니버셜 함수 : 배열의 각 원소를 빠르게 처리하는 함수  \n",
    " - 하나이상의 스칼라값을 받아서 하나이상의 스칼라 결과값을 반환  \n",
    " - 고속으로 처리가능"
   ]
  },
  {
   "cell_type": "code",
   "execution_count": 31,
   "metadata": {
    "ExecuteTime": {
     "end_time": "2019-08-15T05:33:58.542841Z",
     "start_time": "2019-08-15T05:33:58.526388Z"
    }
   },
   "outputs": [
    {
     "data": {
      "text/plain": [
       "array([0, 1, 2, 3, 4, 5, 6, 7, 8, 9])"
      ]
     },
     "execution_count": 31,
     "metadata": {},
     "output_type": "execute_result"
    },
    {
     "data": {
      "text/plain": [
       "array([0.        , 1.        , 1.41421356, 1.73205081, 2.        ,\n",
       "       2.23606798, 2.44948974, 2.64575131, 2.82842712, 3.        ])"
      ]
     },
     "execution_count": 31,
     "metadata": {},
     "output_type": "execute_result"
    },
    {
     "data": {
      "text/plain": [
       "array([1.00000000e+00, 2.71828183e+00, 7.38905610e+00, 2.00855369e+01,\n",
       "       5.45981500e+01, 1.48413159e+02, 4.03428793e+02, 1.09663316e+03,\n",
       "       2.98095799e+03, 8.10308393e+03])"
      ]
     },
     "execution_count": 31,
     "metadata": {},
     "output_type": "execute_result"
    }
   ],
   "source": [
    "arr = np.arange(10)\n",
    "arr\n",
    "\n",
    "np.sqrt(arr)\n",
    "np.exp(arr) #단항 유니버셜함수"
   ]
  },
  {
   "cell_type": "code",
   "execution_count": 32,
   "metadata": {
    "ExecuteTime": {
     "end_time": "2019-08-15T05:33:58.560616Z",
     "start_time": "2019-08-15T05:33:58.545779Z"
    }
   },
   "outputs": [
    {
     "data": {
      "text/plain": [
       "array([-0.79610798,  0.70695943, -0.69983435, -2.26576279,  1.1627071 ,\n",
       "       -0.76975944, -0.73342262, -0.52787876])"
      ]
     },
     "execution_count": 32,
     "metadata": {},
     "output_type": "execute_result"
    },
    {
     "data": {
      "text/plain": [
       "array([ 0.02918285,  0.14045119, -2.18240357, -0.44768482, -0.85440296,\n",
       "       -0.33412496,  0.09384972, -0.72110884])"
      ]
     },
     "execution_count": 32,
     "metadata": {},
     "output_type": "execute_result"
    },
    {
     "data": {
      "text/plain": [
       "array([ 0.02918285,  0.70695943, -0.69983435, -0.44768482,  1.1627071 ,\n",
       "       -0.33412496,  0.09384972, -0.52787876])"
      ]
     },
     "execution_count": 32,
     "metadata": {},
     "output_type": "execute_result"
    }
   ],
   "source": [
    "#이항 유니버셜 함수\n",
    "x = np.random.randn(8)\n",
    "y = np.random.randn(8)\n",
    "x\n",
    "y\n",
    "\n",
    "np.maximum(x,y)"
   ]
  },
  {
   "cell_type": "code",
   "execution_count": 33,
   "metadata": {
    "ExecuteTime": {
     "end_time": "2019-08-15T05:33:58.576524Z",
     "start_time": "2019-08-15T05:33:58.562987Z"
    }
   },
   "outputs": [
    {
     "data": {
      "text/plain": [
       "array([ 9.00516588, -9.95193558, -0.15260556,  7.77281666, -3.26864447,\n",
       "       -3.18371878,  1.09178825])"
      ]
     },
     "execution_count": 33,
     "metadata": {},
     "output_type": "execute_result"
    },
    {
     "data": {
      "text/plain": [
       "array([ 0.00516588, -0.95193558, -0.15260556,  0.77281666, -0.26864447,\n",
       "       -0.18371878,  0.09178825])"
      ]
     },
     "execution_count": 33,
     "metadata": {},
     "output_type": "execute_result"
    },
    {
     "data": {
      "text/plain": [
       "array([ 9., -9., -0.,  7., -3., -3.,  1.])"
      ]
     },
     "execution_count": 33,
     "metadata": {},
     "output_type": "execute_result"
    }
   ],
   "source": [
    "#여러개의 배열을 반환하는 유니버셜\n",
    "arr = np.random.randn(7) *5\n",
    "arr\n",
    "remainde,whole_part = np.modf(arr)\n",
    "remainde\n",
    "whole_part\n"
   ]
  },
  {
   "cell_type": "code",
   "execution_count": 34,
   "metadata": {
    "ExecuteTime": {
     "end_time": "2019-08-15T05:33:58.597168Z",
     "start_time": "2019-08-15T05:33:58.578517Z"
    }
   },
   "outputs": [
    {
     "data": {
      "text/plain": [
       "array([ 9.00516588, -9.95193558, -0.15260556,  7.77281666, -3.26864447,\n",
       "       -3.18371878,  1.09178825])"
      ]
     },
     "execution_count": 34,
     "metadata": {},
     "output_type": "execute_result"
    },
    {
     "name": "stderr",
     "output_type": "stream",
     "text": [
      "C:\\Users\\sorkt\\Anaconda3\\lib\\site-packages\\ipykernel_launcher.py:3: RuntimeWarning: invalid value encountered in sqrt\n",
      "  This is separate from the ipykernel package so we can avoid doing imports until\n"
     ]
    },
    {
     "data": {
      "text/plain": [
       "array([3.00086086,        nan,        nan, 2.78797716,        nan,\n",
       "              nan, 1.04488672])"
      ]
     },
     "execution_count": 34,
     "metadata": {},
     "output_type": "execute_result"
    },
    {
     "name": "stderr",
     "output_type": "stream",
     "text": [
      "C:\\Users\\sorkt\\Anaconda3\\lib\\site-packages\\ipykernel_launcher.py:4: RuntimeWarning: invalid value encountered in sqrt\n",
      "  after removing the cwd from sys.path.\n"
     ]
    },
    {
     "data": {
      "text/plain": [
       "array([3.00086086,        nan,        nan, 2.78797716,        nan,\n",
       "              nan, 1.04488672])"
      ]
     },
     "execution_count": 34,
     "metadata": {},
     "output_type": "execute_result"
    },
    {
     "data": {
      "text/plain": [
       "array([3.00086086,        nan,        nan, 2.78797716,        nan,\n",
       "              nan, 1.04488672])"
      ]
     },
     "execution_count": 34,
     "metadata": {},
     "output_type": "execute_result"
    }
   ],
   "source": [
    "#out인자를 따로 추가해 값을 받을수도있음\n",
    "arr\n",
    "np.sqrt(arr)\n",
    "np.sqrt(arr,arr)\n",
    "arr"
   ]
  },
  {
   "cell_type": "markdown",
   "metadata": {},
   "source": [
    "## 4.3 배열을 이용한 배열지향 프로그래밍  \n",
    "- 배열연산을 이용하여 반복문의 제거하면 (벡터화) 성능이 매우 상승함"
   ]
  },
  {
   "cell_type": "code",
   "execution_count": 35,
   "metadata": {
    "ExecuteTime": {
     "end_time": "2019-08-15T05:33:58.626743Z",
     "start_time": "2019-08-15T05:33:58.600163Z"
    }
   },
   "outputs": [
    {
     "data": {
      "text/plain": [
       "array([[-5.  , -4.99, -4.98, ...,  4.97,  4.98,  4.99],\n",
       "       [-5.  , -4.99, -4.98, ...,  4.97,  4.98,  4.99],\n",
       "       [-5.  , -4.99, -4.98, ...,  4.97,  4.98,  4.99],\n",
       "       ...,\n",
       "       [-5.  , -4.99, -4.98, ...,  4.97,  4.98,  4.99],\n",
       "       [-5.  , -4.99, -4.98, ...,  4.97,  4.98,  4.99],\n",
       "       [-5.  , -4.99, -4.98, ...,  4.97,  4.98,  4.99]])"
      ]
     },
     "execution_count": 35,
     "metadata": {},
     "output_type": "execute_result"
    },
    {
     "data": {
      "text/plain": [
       "array([[-5.  , -5.  , -5.  , ..., -5.  , -5.  , -5.  ],\n",
       "       [-4.99, -4.99, -4.99, ..., -4.99, -4.99, -4.99],\n",
       "       [-4.98, -4.98, -4.98, ..., -4.98, -4.98, -4.98],\n",
       "       ...,\n",
       "       [ 4.97,  4.97,  4.97, ...,  4.97,  4.97,  4.97],\n",
       "       [ 4.98,  4.98,  4.98, ...,  4.98,  4.98,  4.98],\n",
       "       [ 4.99,  4.99,  4.99, ...,  4.99,  4.99,  4.99]])"
      ]
     },
     "execution_count": 35,
     "metadata": {},
     "output_type": "execute_result"
    }
   ],
   "source": [
    "#meshgrid 는 두개의 1차원 배열을 받아서 가능한 모든수 짝을 만들어줌, 2차원 배열 2개 반환\n",
    "points = np.arange(-5,5,0.01)\n",
    "xs,ys = np.meshgrid(points,points)\n",
    "xs\n",
    "ys"
   ]
  },
  {
   "cell_type": "code",
   "execution_count": 36,
   "metadata": {
    "ExecuteTime": {
     "end_time": "2019-08-15T05:33:58.666819Z",
     "start_time": "2019-08-15T05:33:58.626743Z"
    }
   },
   "outputs": [
    {
     "data": {
      "text/plain": [
       "array([[7.07106781, 7.06400028, 7.05693985, ..., 7.04988652, 7.05693985,\n",
       "        7.06400028],\n",
       "       [7.06400028, 7.05692568, 7.04985815, ..., 7.04279774, 7.04985815,\n",
       "        7.05692568],\n",
       "       [7.05693985, 7.04985815, 7.04278354, ..., 7.03571603, 7.04278354,\n",
       "        7.04985815],\n",
       "       ...,\n",
       "       [7.04988652, 7.04279774, 7.03571603, ..., 7.0286414 , 7.03571603,\n",
       "        7.04279774],\n",
       "       [7.05693985, 7.04985815, 7.04278354, ..., 7.03571603, 7.04278354,\n",
       "        7.04985815],\n",
       "       [7.06400028, 7.05692568, 7.04985815, ..., 7.04279774, 7.04985815,\n",
       "        7.05692568]])"
      ]
     },
     "execution_count": 36,
     "metadata": {},
     "output_type": "execute_result"
    }
   ],
   "source": [
    "z = np.sqrt(xs**2 + ys**2)\n",
    "z"
   ]
  },
  {
   "cell_type": "code",
   "execution_count": 37,
   "metadata": {
    "ExecuteTime": {
     "end_time": "2019-08-15T05:34:00.276708Z",
     "start_time": "2019-08-15T05:33:58.666819Z"
    }
   },
   "outputs": [
    {
     "data": {
      "text/plain": [
       "<matplotlib.image.AxesImage at 0x218eb40a240>"
      ]
     },
     "execution_count": 37,
     "metadata": {},
     "output_type": "execute_result"
    },
    {
     "data": {
      "text/plain": [
       "<matplotlib.colorbar.Colorbar at 0x218eb43fba8>"
      ]
     },
     "execution_count": 37,
     "metadata": {},
     "output_type": "execute_result"
    },
    {
     "data": {
      "text/plain": [
       "Text(0.5, 1.0, '$\\\\sqrt{x^2 + y^2}$')"
      ]
     },
     "execution_count": 37,
     "metadata": {},
     "output_type": "execute_result"
    },
    {
     "data": {
      "image/png": "[encoded data removed]",
      "text/plain": [
       "<Figure size 432x288 with 2 Axes>"
      ]
     },
     "metadata": {
      "needs_background": "light"
     },
     "output_type": "display_data"
    }
   ],
   "source": [
    "%matplotlib inline\n",
    "import matplotlib.pyplot as plt\n",
    "plt.imshow(z,cmap=plt.cm.gray)\n",
    "plt.colorbar()\n",
    "plt.title('$\\sqrt{x^2 + y^2}$')"
   ]
  },
  {
   "cell_type": "markdown",
   "metadata": {},
   "source": [
    "### 4.3.1 배열 연산으로 조건절 표현하기  \n",
    "- np.where : x if 조건 else y 같은 삼항식의 베터화된 버전임"
   ]
  },
  {
   "cell_type": "code",
   "execution_count": 38,
   "metadata": {
    "ExecuteTime": {
     "end_time": "2019-08-15T05:34:00.288935Z",
     "start_time": "2019-08-15T05:34:00.277702Z"
    }
   },
   "outputs": [],
   "source": [
    "xarr = np.array([1.1, 1.2, 1.3, 1.4, 1.5])\n",
    "yarr = np.array([2.1, 2.2, 2.3, 2.4, 2.5])\n",
    "cond = np.array([True, False, True, True, False])"
   ]
  },
  {
   "cell_type": "code",
   "execution_count": 39,
   "metadata": {
    "ExecuteTime": {
     "end_time": "2019-08-15T05:34:00.310311Z",
     "start_time": "2019-08-15T05:34:00.290951Z"
    }
   },
   "outputs": [
    {
     "data": {
      "text/plain": [
       "[1.1, 2.2, 1.3, 1.4, 2.5]"
      ]
     },
     "execution_count": 39,
     "metadata": {},
     "output_type": "execute_result"
    }
   ],
   "source": [
    "#cond가 True이면 x, 아니면 y를 취하고자 할때\n",
    "result = [(x if c else y) for x,c,y in zip(xarr,cond,yarr)]\n",
    "result"
   ]
  },
  {
   "cell_type": "markdown",
   "metadata": {},
   "source": [
    "순수파이썬 문법이므로 큰배열일수록 성능 저하, 다차원 배열에는 사용불가"
   ]
  },
  {
   "cell_type": "code",
   "execution_count": 40,
   "metadata": {
    "ExecuteTime": {
     "end_time": "2019-08-15T05:34:00.325226Z",
     "start_time": "2019-08-15T05:34:00.311306Z"
    }
   },
   "outputs": [
    {
     "data": {
      "text/plain": [
       "array([1.1, 2.2, 1.3, 1.4, 2.5])"
      ]
     },
     "execution_count": 40,
     "metadata": {},
     "output_type": "execute_result"
    }
   ],
   "source": [
    "#np.where\n",
    "result = np.where(cond,xarr,yarr)\n",
    "result"
   ]
  },
  {
   "cell_type": "code",
   "execution_count": 41,
   "metadata": {
    "ExecuteTime": {
     "end_time": "2019-08-15T05:34:00.341106Z",
     "start_time": "2019-08-15T05:34:00.327583Z"
    }
   },
   "outputs": [
    {
     "data": {
      "text/plain": [
       "array([1.1, 5. , 1.3, 1.4, 5. ])"
      ]
     },
     "execution_count": 41,
     "metadata": {},
     "output_type": "execute_result"
    },
    {
     "data": {
      "text/plain": [
       "array([1, 5, 1, 1, 5])"
      ]
     },
     "execution_count": 41,
     "metadata": {},
     "output_type": "execute_result"
    }
   ],
   "source": [
    "#꼭 배열일 필요없음\n",
    "np.where(cond,xarr,5)\n",
    "np.where(cond,1,5)"
   ]
  },
  {
   "cell_type": "code",
   "execution_count": 42,
   "metadata": {
    "ExecuteTime": {
     "end_time": "2019-08-15T05:34:00.360485Z",
     "start_time": "2019-08-15T05:34:00.343680Z"
    }
   },
   "outputs": [
    {
     "data": {
      "text/plain": [
       "array([[-2.08095913,  0.51689244,  1.15173545, -2.58339147],\n",
       "       [-1.16215477, -0.19156403, -0.61663231, -1.23468285],\n",
       "       [-1.28305398, -0.61248706, -0.3016271 ,  0.41050963],\n",
       "       [ 1.95817758,  2.16199438, -0.27337187, -0.17466548]])"
      ]
     },
     "execution_count": 42,
     "metadata": {},
     "output_type": "execute_result"
    },
    {
     "data": {
      "text/plain": [
       "array([[False,  True,  True, False],\n",
       "       [False, False, False, False],\n",
       "       [False, False, False,  True],\n",
       "       [ True,  True, False, False]])"
      ]
     },
     "execution_count": 42,
     "metadata": {},
     "output_type": "execute_result"
    },
    {
     "data": {
      "text/plain": [
       "array([[-2,  2,  2, -2],\n",
       "       [-2, -2, -2, -2],\n",
       "       [-2, -2, -2,  2],\n",
       "       [ 2,  2, -2, -2]])"
      ]
     },
     "execution_count": 42,
     "metadata": {},
     "output_type": "execute_result"
    },
    {
     "data": {
      "text/plain": [
       "array([[-2.08095913,  2.        ,  2.        , -2.58339147],\n",
       "       [-1.16215477, -0.19156403, -0.61663231, -1.23468285],\n",
       "       [-1.28305398, -0.61248706, -0.3016271 ,  2.        ],\n",
       "       [ 2.        ,  2.        , -0.27337187, -0.17466548]])"
      ]
     },
     "execution_count": 42,
     "metadata": {},
     "output_type": "execute_result"
    }
   ],
   "source": [
    "#일반적인 예시, 음수는 모두 -2로, 양수는 모두 2로\n",
    "arr = np.random.randn(4,4)\n",
    "arr\n",
    "arr>=0\n",
    "np.where(arr>=0,2,-2)\n",
    "np.where(arr>=0,2,arr)#스칼라, 배열 조합해서 양수만 바꿀수도 있음"
   ]
  },
  {
   "cell_type": "markdown",
   "metadata": {},
   "source": [
    "### 4.3.2 수학 메서드와 통계 메서드"
   ]
  },
  {
   "cell_type": "code",
   "execution_count": 43,
   "metadata": {
    "ExecuteTime": {
     "end_time": "2019-08-15T05:34:00.373488Z",
     "start_time": "2019-08-15T05:34:00.361483Z"
    }
   },
   "outputs": [
    {
     "data": {
      "text/plain": [
       "array([[ 0.64990008,  0.81719103,  0.50517596,  1.09631227],\n",
       "       [ 1.102799  ,  0.14464432,  0.7415408 ,  0.64154468],\n",
       "       [-0.20774433,  0.67038502, -0.3782867 , -0.10457748],\n",
       "       [ 0.72727699, -0.80078725,  0.83252587, -0.44495341],\n",
       "       [-0.60077121, -1.28312221,  1.61849444, -1.14944443]])"
      ]
     },
     "execution_count": 43,
     "metadata": {},
     "output_type": "execute_result"
    },
    {
     "data": {
      "text/plain": [
       "0.22890517188734294"
      ]
     },
     "execution_count": 43,
     "metadata": {},
     "output_type": "execute_result"
    },
    {
     "data": {
      "text/plain": [
       "0.22890517188734294"
      ]
     },
     "execution_count": 43,
     "metadata": {},
     "output_type": "execute_result"
    },
    {
     "data": {
      "text/plain": [
       "4.578103437746859"
      ]
     },
     "execution_count": 43,
     "metadata": {},
     "output_type": "execute_result"
    }
   ],
   "source": [
    "arr = np.random.randn(5,4)\n",
    "arr\n",
    "arr.mean()\n",
    "np.mean(arr)\n",
    "np.sum(arr)"
   ]
  },
  {
   "cell_type": "code",
   "execution_count": 44,
   "metadata": {
    "ExecuteTime": {
     "end_time": "2019-08-15T05:34:00.389922Z",
     "start_time": "2019-08-15T05:34:00.375483Z"
    }
   },
   "outputs": [
    {
     "data": {
      "text/plain": [
       "array([ 0.3342921 , -0.09033782,  0.66389007,  0.00777633])"
      ]
     },
     "execution_count": 44,
     "metadata": {},
     "output_type": "execute_result"
    },
    {
     "data": {
      "text/plain": [
       "array([ 3.06857933,  2.6305288 , -0.02022349,  0.3140622 , -1.41484341])"
      ]
     },
     "execution_count": 44,
     "metadata": {},
     "output_type": "execute_result"
    },
    {
     "data": {
      "text/plain": [
       "array([ 3.06857933,  2.6305288 , -0.02022349,  0.3140622 , -1.41484341])"
      ]
     },
     "execution_count": 44,
     "metadata": {},
     "output_type": "execute_result"
    }
   ],
   "source": [
    "#axis 받아서 해당 축에 해당하는 값만 계산가능\n",
    "np.mean(arr,axis=0)\n",
    "arr.sum(axis=1)\n",
    "arr.sum(1)"
   ]
  },
  {
   "cell_type": "code",
   "execution_count": 45,
   "metadata": {
    "ExecuteTime": {
     "end_time": "2019-08-15T05:34:00.401472Z",
     "start_time": "2019-08-15T05:34:00.391074Z"
    }
   },
   "outputs": [
    {
     "data": {
      "text/plain": [
       "array([[ 0.64990008,  0.81719103,  0.50517596,  1.09631227],\n",
       "       [ 1.75269907,  0.96183534,  1.24671676,  1.73785695],\n",
       "       [ 1.54495474,  1.63222037,  0.86843006,  1.63327947],\n",
       "       [ 2.27223173,  0.83143312,  1.70095593,  1.18832606],\n",
       "       [ 1.67146052, -0.45168909,  3.31945037,  0.03888164]])"
      ]
     },
     "execution_count": 45,
     "metadata": {},
     "output_type": "execute_result"
    },
    {
     "data": {
      "text/plain": [
       "array([[ 0.64990008,  0.81719103,  0.50517596,  1.09631227],\n",
       "       [ 0.71670915,  0.11820204,  0.37460859,  0.7033333 ],\n",
       "       [-0.14889226,  0.07924088, -0.14170945, -0.07355282],\n",
       "       [-0.10828592, -0.06345508, -0.11797678,  0.03272758],\n",
       "       [ 0.06505506,  0.08142063, -0.19094476, -0.03761853]])"
      ]
     },
     "execution_count": 45,
     "metadata": {},
     "output_type": "execute_result"
    }
   ],
   "source": [
    "#cumsum\n",
    "arr.cumsum(0)\n",
    "arr.cumprod(0)"
   ]
  },
  {
   "cell_type": "code",
   "execution_count": 46,
   "metadata": {
    "ExecuteTime": {
     "end_time": "2019-08-15T05:34:00.414781Z",
     "start_time": "2019-08-15T05:34:00.401472Z"
    }
   },
   "outputs": [
    {
     "data": {
      "text/plain": [
       "array([[0, 1, 2],\n",
       "       [3, 4, 5],\n",
       "       [6, 7, 8]])"
      ]
     },
     "execution_count": 46,
     "metadata": {},
     "output_type": "execute_result"
    },
    {
     "data": {
      "text/plain": [
       "array([[ 0,  1,  2],\n",
       "       [ 3,  5,  7],\n",
       "       [ 9, 12, 15]], dtype=int32)"
      ]
     },
     "execution_count": 46,
     "metadata": {},
     "output_type": "execute_result"
    }
   ],
   "source": [
    "arr = np.array([[0,1,2],[3,4,5],[6,7,8]])\n",
    "arr\n",
    "arr.cumsum(axis=0)"
   ]
  },
  {
   "cell_type": "markdown",
   "metadata": {},
   "source": [
    "### 4.3.3 불리언 배열을 위한 메서드"
   ]
  },
  {
   "cell_type": "code",
   "execution_count": 47,
   "metadata": {
    "ExecuteTime": {
     "end_time": "2019-08-15T05:34:00.434030Z",
     "start_time": "2019-08-15T05:34:00.415781Z"
    }
   },
   "outputs": [
    {
     "data": {
      "text/plain": [
       "array([False, False, False, False, False, False, False,  True,  True,\n",
       "        True, False, False, False, False,  True,  True, False,  True,\n",
       "        True,  True, False,  True,  True,  True, False,  True, False,\n",
       "        True, False, False,  True,  True,  True,  True,  True, False,\n",
       "       False,  True,  True,  True,  True, False, False, False, False,\n",
       "        True, False, False, False,  True, False, False,  True, False,\n",
       "        True, False, False, False, False,  True,  True,  True, False,\n",
       "       False,  True,  True, False, False, False, False, False,  True,\n",
       "       False,  True, False,  True,  True,  True, False,  True,  True,\n",
       "       False,  True,  True, False,  True,  True, False,  True, False,\n",
       "        True, False, False, False, False, False,  True, False,  True,\n",
       "        True])"
      ]
     },
     "execution_count": 47,
     "metadata": {},
     "output_type": "execute_result"
    },
    {
     "data": {
      "text/plain": [
       "47"
      ]
     },
     "execution_count": 47,
     "metadata": {},
     "output_type": "execute_result"
    }
   ],
   "source": [
    "arr = np.random.randn(100)\n",
    "(arr>0)\n",
    "(arr>0).sum() #요러면 True인 원소수를 알수있음"
   ]
  },
  {
   "cell_type": "code",
   "execution_count": 48,
   "metadata": {
    "ExecuteTime": {
     "end_time": "2019-08-15T05:34:00.443407Z",
     "start_time": "2019-08-15T05:34:00.435027Z"
    }
   },
   "outputs": [
    {
     "data": {
      "text/plain": [
       "True"
      ]
     },
     "execution_count": 48,
     "metadata": {},
     "output_type": "execute_result"
    },
    {
     "data": {
      "text/plain": [
       "False"
      ]
     },
     "execution_count": 48,
     "metadata": {},
     "output_type": "execute_result"
    }
   ],
   "source": [
    "#all과 any\n",
    "bools = np.array([False,False,True,False])\n",
    "bools.any()\n",
    "bools.all()"
   ]
  },
  {
   "cell_type": "markdown",
   "metadata": {},
   "source": [
    "### 4.3.4 정렬"
   ]
  },
  {
   "cell_type": "code",
   "execution_count": 49,
   "metadata": {
    "ExecuteTime": {
     "end_time": "2019-08-15T05:34:00.459275Z",
     "start_time": "2019-08-15T05:34:00.446142Z"
    }
   },
   "outputs": [
    {
     "data": {
      "text/plain": [
       "array([ 0.01480229, -1.8642941 , -0.86564701, -0.68961702, -1.02507595,\n",
       "       -0.12000189])"
      ]
     },
     "execution_count": 49,
     "metadata": {},
     "output_type": "execute_result"
    },
    {
     "data": {
      "text/plain": [
       "array([-1.8642941 , -1.02507595, -0.86564701, -0.68961702, -0.12000189,\n",
       "        0.01480229])"
      ]
     },
     "execution_count": 49,
     "metadata": {},
     "output_type": "execute_result"
    }
   ],
   "source": [
    "arr = np.random.randn(6)\n",
    "arr\n",
    "arr.sort()\n",
    "arr"
   ]
  },
  {
   "cell_type": "code",
   "execution_count": 50,
   "metadata": {
    "ExecuteTime": {
     "end_time": "2019-08-15T05:34:00.469828Z",
     "start_time": "2019-08-15T05:34:00.461271Z"
    }
   },
   "outputs": [
    {
     "data": {
      "text/plain": [
       "array([[ 0.15019443, -2.38873738,  0.32365271],\n",
       "       [-1.32534722,  0.15218711, -2.40766965],\n",
       "       [-0.29083241,  0.94509613,  0.29149998],\n",
       "       [-1.7043503 ,  1.60429167, -0.27416362],\n",
       "       [-0.95960886, -1.69904872, -1.32128658]])"
      ]
     },
     "execution_count": 50,
     "metadata": {},
     "output_type": "execute_result"
    },
    {
     "data": {
      "text/plain": [
       "array([[-1.7043503 , -2.38873738, -2.40766965],\n",
       "       [-1.32534722, -1.69904872, -1.32128658],\n",
       "       [-0.95960886,  0.15218711, -0.27416362],\n",
       "       [-0.29083241,  0.94509613,  0.29149998],\n",
       "       [ 0.15019443,  1.60429167,  0.32365271]])"
      ]
     },
     "execution_count": 50,
     "metadata": {},
     "output_type": "execute_result"
    }
   ],
   "source": [
    "#다차원의 경우 넘긴 축의 값에 따라 정렬함\n",
    "arr = np.random.randn(5,3)\n",
    "arr\n",
    "arr.sort(axis=0)\n",
    "arr"
   ]
  },
  {
   "cell_type": "code",
   "execution_count": 51,
   "metadata": {
    "ExecuteTime": {
     "end_time": "2019-08-15T05:34:00.482473Z",
     "start_time": "2019-08-15T05:34:00.470826Z"
    }
   },
   "outputs": [
    {
     "data": {
      "text/plain": [
       "array([[-1.99040312, -0.02292637, -3.01271948],\n",
       "       [-0.39192896,  0.23186678, -0.64438793],\n",
       "       [-0.06394616,  0.32384802, -0.61838724],\n",
       "       [ 0.24213423,  0.54368485, -0.56480408],\n",
       "       [ 1.84274643,  0.8404263 ,  0.28972146]])"
      ]
     },
     "execution_count": 51,
     "metadata": {},
     "output_type": "execute_result"
    }
   ],
   "source": [
    "#np.sort()를하면 직접변경하지 않고 변경된 배열 반환\n",
    "arr = np.random.randn(5,3)\n",
    "np.sort(arr,axis=0)"
   ]
  },
  {
   "cell_type": "code",
   "execution_count": 52,
   "metadata": {
    "ExecuteTime": {
     "end_time": "2019-08-15T05:34:00.497540Z",
     "start_time": "2019-08-15T05:34:00.483360Z"
    }
   },
   "outputs": [
    {
     "data": {
      "text/plain": [
       "-1.5971143055346677"
      ]
     },
     "execution_count": 52,
     "metadata": {},
     "output_type": "execute_result"
    }
   ],
   "source": [
    "#배열의 분위수를 구하기 위해서는 일단 정렬하고 특정분위의 값을 선택하면 된다.\n",
    "large = np.random.randn(1000)\n",
    "large.sort()\n",
    "large[int(0.05 * len(large))]"
   ]
  },
  {
   "cell_type": "markdown",
   "metadata": {},
   "source": [
    "### 4.3.5 집합관련 함수"
   ]
  },
  {
   "cell_type": "code",
   "execution_count": 53,
   "metadata": {
    "ExecuteTime": {
     "end_time": "2019-08-15T05:34:00.515406Z",
     "start_time": "2019-08-15T05:34:00.498538Z"
    }
   },
   "outputs": [
    {
     "data": {
      "text/plain": [
       "array(['Adam', 'Bob', 'Joe', 'Will'], dtype='<U4')"
      ]
     },
     "execution_count": 53,
     "metadata": {},
     "output_type": "execute_result"
    },
    {
     "name": "stdout",
     "output_type": "stream",
     "text": [
      "\n",
      "정렬도 해줌\n"
     ]
    }
   ],
   "source": [
    "#유일한 값 얻기\n",
    "names = np.array(['Bob','Joe','Will','Adam','Bob','Will','Joe','Joe'])\n",
    "np.unique(names)\n",
    "print(\"\"\"\n",
    "정렬도 해줌\"\"\")"
   ]
  },
  {
   "cell_type": "code",
   "execution_count": 54,
   "metadata": {
    "ExecuteTime": {
     "end_time": "2019-08-15T05:34:00.524730Z",
     "start_time": "2019-08-15T05:34:00.517403Z"
    }
   },
   "outputs": [
    {
     "data": {
      "text/plain": [
       "['Adam', 'Bob', 'Joe', 'Will']"
      ]
     },
     "execution_count": 54,
     "metadata": {},
     "output_type": "execute_result"
    }
   ],
   "source": [
    "#파이썬만으로 등가 구현하면\n",
    "sorted(set(names))"
   ]
  },
  {
   "cell_type": "code",
   "execution_count": 55,
   "metadata": {
    "ExecuteTime": {
     "end_time": "2019-08-15T05:34:00.540007Z",
     "start_time": "2019-08-15T05:34:00.527105Z"
    }
   },
   "outputs": [
    {
     "data": {
      "text/plain": [
       "array([ True, False, False,  True, False, False,  True])"
      ]
     },
     "execution_count": 55,
     "metadata": {},
     "output_type": "execute_result"
    }
   ],
   "source": [
    "#np.in1d : 두개의 배열을 받아 첫번째 배열의 각원소가 두번째에 들어가있는지 확인\n",
    "values = np.array([6,0,0,3,2,5,6])\n",
    "np.in1d(values,[6,3])"
   ]
  },
  {
   "cell_type": "markdown",
   "metadata": {},
   "source": [
    "## 4.4 배열 데이터의 파일 입출력  \n",
    "- 디스크에서 텍스트나 바이너리형식의 데이터를 불러오거나 저장가능"
   ]
  },
  {
   "cell_type": "code",
   "execution_count": 56,
   "metadata": {
    "ExecuteTime": {
     "end_time": "2019-08-15T05:34:00.551584Z",
     "start_time": "2019-08-15T05:34:00.542212Z"
    }
   },
   "outputs": [],
   "source": [
    "arr = np.arange(10)\n",
    "#np.save('some_array',arr)\n",
    "np.save('some_array.npy',arr)"
   ]
  },
  {
   "cell_type": "code",
   "execution_count": 57,
   "metadata": {
    "ExecuteTime": {
     "end_time": "2019-08-15T05:34:00.566207Z",
     "start_time": "2019-08-15T05:34:00.553736Z"
    }
   },
   "outputs": [
    {
     "data": {
      "text/plain": [
       "array([0, 1, 2, 3, 4, 5, 6, 7, 8, 9])"
      ]
     },
     "execution_count": 57,
     "metadata": {},
     "output_type": "execute_result"
    }
   ],
   "source": [
    "arr2 = np.load('some_array.npy')\n",
    "arr2"
   ]
  },
  {
   "cell_type": "code",
   "execution_count": 58,
   "metadata": {
    "ExecuteTime": {
     "end_time": "2019-08-15T05:34:00.584968Z",
     "start_time": "2019-08-15T05:34:00.568499Z"
    }
   },
   "outputs": [],
   "source": [
    "#np.savez 함수는 여러개의 배열을 압축형태로 저장가능하는데, 배열을 키워드 인자 형태로 전달함]\n",
    "arr1 = np.arange(10)\n",
    "arr2 = np.arange(5,15,1)\n",
    "np.savez('zipArr.npz',a = arr1,b=arr2) #확장자명이 npz인것에 유의"
   ]
  },
  {
   "cell_type": "code",
   "execution_count": 59,
   "metadata": {
    "ExecuteTime": {
     "end_time": "2019-08-15T05:34:00.602770Z",
     "start_time": "2019-08-15T05:34:00.588548Z"
    }
   },
   "outputs": [
    {
     "data": {
      "text/plain": [
       "<numpy.lib.npyio.NpzFile at 0x218ebda1400>"
      ]
     },
     "execution_count": 59,
     "metadata": {},
     "output_type": "execute_result"
    }
   ],
   "source": [
    "arrs = np.load('zipArr.npz')\n",
    "arrs"
   ]
  },
  {
   "cell_type": "code",
   "execution_count": 60,
   "metadata": {
    "ExecuteTime": {
     "end_time": "2019-08-15T05:34:00.615859Z",
     "start_time": "2019-08-15T05:34:00.603768Z"
    }
   },
   "outputs": [
    {
     "data": {
      "text/plain": [
       "array([0, 1, 2, 3, 4, 5, 6, 7, 8, 9])"
      ]
     },
     "execution_count": 60,
     "metadata": {},
     "output_type": "execute_result"
    },
    {
     "data": {
      "text/plain": [
       "array([ 5,  6,  7,  8,  9, 10, 11, 12, 13, 14])"
      ]
     },
     "execution_count": 60,
     "metadata": {},
     "output_type": "execute_result"
    }
   ],
   "source": [
    "arrs['a']\n",
    "arrs['b']"
   ]
  },
  {
   "cell_type": "code",
   "execution_count": 61,
   "metadata": {
    "ExecuteTime": {
     "end_time": "2019-08-15T05:34:00.627919Z",
     "start_time": "2019-08-15T05:34:00.618853Z"
    }
   },
   "outputs": [],
   "source": [
    "#압축이 잘되는 형식이라면 .savez_compressed 사용\n",
    "np.savez_compressed('CompArr.npz',a=arr1,b=arr2)"
   ]
  },
  {
   "cell_type": "markdown",
   "metadata": {},
   "source": [
    "## 4.5 선형대수"
   ]
  },
  {
   "cell_type": "code",
   "execution_count": 62,
   "metadata": {
    "ExecuteTime": {
     "end_time": "2019-08-15T05:34:00.645709Z",
     "start_time": "2019-08-15T05:34:00.629915Z"
    }
   },
   "outputs": [
    {
     "data": {
      "text/plain": [
       "array([[1., 2., 3.],\n",
       "       [4., 5., 6.]])"
      ]
     },
     "execution_count": 62,
     "metadata": {},
     "output_type": "execute_result"
    },
    {
     "data": {
      "text/plain": [
       "array([[ 6., 23.],\n",
       "       [-1.,  7.],\n",
       "       [ 8.,  9.]])"
      ]
     },
     "execution_count": 62,
     "metadata": {},
     "output_type": "execute_result"
    },
    {
     "data": {
      "text/plain": [
       "array([[ 28.,  64.],\n",
       "       [ 67., 181.]])"
      ]
     },
     "execution_count": 62,
     "metadata": {},
     "output_type": "execute_result"
    },
    {
     "data": {
      "text/plain": [
       "array([[ 28.,  64.],\n",
       "       [ 67., 181.]])"
      ]
     },
     "execution_count": 62,
     "metadata": {},
     "output_type": "execute_result"
    }
   ],
   "source": [
    "x = np.array([[1., 2., 3.],[4, 5, 6]])\n",
    "y = np.array([[6., 23],[-1,7],[8,9]])\n",
    "x\n",
    "y\n",
    "x.dot(y)\n",
    "#파이썬 3.5 이상부터는 @기호를 써서 행렬곱 가능\n",
    "x@y"
   ]
  },
  {
   "cell_type": "markdown",
   "metadata": {},
   "source": [
    "- **numpy.linalg**는 선대 알고리듬 포함  \n",
    "매틀랩,R같은 표준 포트랑 라이브러리 이용해서 구현됨"
   ]
  },
  {
   "cell_type": "code",
   "execution_count": 63,
   "metadata": {
    "ExecuteTime": {
     "end_time": "2019-08-15T05:34:00.673586Z",
     "start_time": "2019-08-15T05:34:00.647953Z"
    }
   },
   "outputs": [
    {
     "data": {
      "text/plain": [
       "array([[50.11, -827.72, 802.25, -1283.62, 1626.69],\n",
       "       [296.13, -58.16, -120.61, 1773.74, 31.54],\n",
       "       [277.46, -508.75, 863.41, -1657.86, 1987.91],\n",
       "       [-74.66, -21.85, 593.70, -1315.36, 145.02],\n",
       "       [-462.55, 1430.68, 2405.78, 45.29, -737.86]])"
      ]
     },
     "execution_count": 63,
     "metadata": {},
     "output_type": "execute_result"
    },
    {
     "data": {
      "text/plain": [
       "array([[50.11, 296.13, 277.46, -74.66, -462.55],\n",
       "       [-827.72, -58.16, -508.75, -21.85, 1430.68],\n",
       "       [802.25, -120.61, 863.41, 593.70, 2405.78],\n",
       "       [-1283.62, 1773.74, -1657.86, -1315.36, 45.29],\n",
       "       [1626.69, 31.54, 1987.91, 145.02, -737.86]])"
      ]
     },
     "execution_count": 63,
     "metadata": {},
     "output_type": "execute_result"
    },
    {
     "data": {
      "text/plain": [
       "array([[386715.29, -859995.55, -913071.27, 78192.54, 972894.67],\n",
       "       [-859995.55, 2994661.58, 2332646.29, 1896297.43, -3418438.47],\n",
       "       [-913071.27, 2332646.29, 7543869.32, -3347086.04, 1328554.69],\n",
       "       [78192.54, 1896297.43, -3347086.04, 9274565.74, -5551947.61],\n",
       "       [972894.67, -3418438.47, 1328554.69, -5551947.61, 7164340.88]])"
      ]
     },
     "execution_count": 63,
     "metadata": {},
     "output_type": "execute_result"
    },
    {
     "data": {
      "text/plain": [
       "array([[0.00, -0.00, 0.00, -0.00, -0.00],\n",
       "       [-0.00, 0.00, -0.00, 0.00, 0.00],\n",
       "       [0.00, -0.00, 0.00, -0.00, -0.00],\n",
       "       [-0.00, 0.00, -0.00, 0.00, 0.00],\n",
       "       [-0.00, 0.00, -0.00, 0.00, 0.00]])"
      ]
     },
     "execution_count": 63,
     "metadata": {},
     "output_type": "execute_result"
    },
    {
     "data": {
      "text/plain": [
       "array([[1.00, -0.00, -0.00, 0.00, -0.00],\n",
       "       [0.00, 1.00, 0.00, -0.00, -0.00],\n",
       "       [0.00, 0.00, 1.00, 0.00, 0.00],\n",
       "       [-0.00, 0.00, -0.00, 1.00, 0.00],\n",
       "       [0.00, -0.00, 0.00, -0.00, 1.00]])"
      ]
     },
     "execution_count": 63,
     "metadata": {},
     "output_type": "execute_result"
    }
   ],
   "source": [
    "from numpy.linalg import inv,qr\n",
    "#np.set_printoptions(precision=3)\n",
    "np.set_printoptions(formatter={'float_kind': lambda x: \"{0:0.2f}\".format(x)})\n",
    "x = np.random.randn(5,5)*1000\n",
    "x\n",
    "x.T\n",
    "mat = x.T.dot(x)\n",
    "mat\n",
    "inv(mat)\n",
    "mat.dot(inv(mat))\n"
   ]
  },
  {
   "cell_type": "markdown",
   "metadata": {},
   "source": [
    "## 4.6 난수 생성  \n",
    "파이썬 내장 random 함수는 한번에 하나의 값을 얻어낼수 있는데 반해 np.random은 훨씬빠름  \n",
    "유사난수 (seed) 사용"
   ]
  },
  {
   "cell_type": "code",
   "execution_count": 64,
   "metadata": {
    "ExecuteTime": {
     "end_time": "2019-08-15T05:34:21.149265Z",
     "start_time": "2019-08-15T05:34:00.674583Z"
    }
   },
   "outputs": [
    {
     "name": "stdout",
     "output_type": "stream",
     "text": [
      "220 ms ± 17 ms per loop (mean ± std. dev. of 7 runs, 10 loops each)\n",
      "3.41 µs ± 62.4 ns per loop (mean ± std. dev. of 7 runs, 100000 loops each)\n"
     ]
    }
   ],
   "source": [
    "from random import normalvariate\n",
    "\n",
    "N = 100000\n",
    "\n",
    "%timeit samples = [normalvariate(1,0) for _ in range(N)]\n",
    "\n",
    "%timeit samples = np.random.normal(N)"
   ]
  },
  {
   "cell_type": "code",
   "execution_count": 65,
   "metadata": {
    "ExecuteTime": {
     "end_time": "2019-08-15T05:34:21.181782Z",
     "start_time": "2019-08-15T05:34:21.152186Z"
    }
   },
   "outputs": [
    {
     "data": {
      "text/plain": [
       "<mtrand.RandomState at 0x218ebdbc480>"
      ]
     },
     "execution_count": 65,
     "metadata": {},
     "output_type": "execute_result"
    },
    {
     "data": {
      "text/plain": [
       "array([0.47, -1.19, 1.43, -0.31, -0.72, 0.89, 0.86, -0.64, 0.02, -2.24])"
      ]
     },
     "execution_count": 65,
     "metadata": {},
     "output_type": "execute_result"
    },
    {
     "data": {
      "text/plain": [
       "array([1.15, 0.99, 0.95, -2.02, -0.33, 0.00, 0.41, 0.29, 1.32, -1.55])"
      ]
     },
     "execution_count": 65,
     "metadata": {},
     "output_type": "execute_result"
    },
    {
     "data": {
      "text/plain": [
       "array([-0.20, -0.66, 0.19, 0.55, 1.32, -0.47, 0.68, -1.82, -0.18, 1.06])"
      ]
     },
     "execution_count": 65,
     "metadata": {},
     "output_type": "execute_result"
    },
    {
     "data": {
      "text/plain": [
       "array([-0.40, 0.34, 1.05, 1.05, 0.86, -0.12, 0.12, -0.32, 0.84, 2.39])"
      ]
     },
     "execution_count": 65,
     "metadata": {},
     "output_type": "execute_result"
    },
    {
     "data": {
      "text/plain": [
       "array([0.08, -0.57, 0.04, -2.07, 0.25, -0.90, -0.14, 0.02, 0.76, 0.22])"
      ]
     },
     "execution_count": 65,
     "metadata": {},
     "output_type": "execute_result"
    },
    {
     "data": {
      "text/plain": [
       "array([0.84, -1.45, -1.40, -0.10, -0.55, -0.14, 0.35, -0.04, 0.57, 1.55])"
      ]
     },
     "execution_count": 65,
     "metadata": {},
     "output_type": "execute_result"
    },
    {
     "data": {
      "text/plain": [
       "array([-0.97, -0.07, 0.31, -0.21, 1.03, -2.40, 2.03, -1.14, 0.21, 0.70])"
      ]
     },
     "execution_count": 65,
     "metadata": {},
     "output_type": "execute_result"
    },
    {
     "data": {
      "text/plain": [
       "array([-0.79, 0.46, 0.70, 0.52, -0.93, 2.01, 0.23, -1.15, 0.63, 0.04])"
      ]
     },
     "execution_count": 65,
     "metadata": {},
     "output_type": "execute_result"
    },
    {
     "data": {
      "text/plain": [
       "array([0.46, -3.56, 1.32, 0.15, 0.16, -0.43, 0.77, 0.98, 0.27, 1.39])"
      ]
     },
     "execution_count": 65,
     "metadata": {},
     "output_type": "execute_result"
    },
    {
     "data": {
      "text/plain": [
       "array([0.08, -0.40, -1.03, -0.58, 0.82, -0.08, -0.34, 0.53, -1.07, -0.51])"
      ]
     },
     "execution_count": 65,
     "metadata": {},
     "output_type": "execute_result"
    }
   ],
   "source": [
    "#시드값을 지정가능\n",
    "np.random.seed(1234)\n",
    "\n",
    "#np.random.RandomState()??? 다른 시드로부터 격리된 생성기를 만들수 있음??\n",
    "rng = np.random.RandomState(1234)\n",
    "rng\n",
    "for _ in range(10):\n",
    "    rng.randn(10)"
   ]
  },
  {
   "cell_type": "markdown",
   "metadata": {},
   "source": [
    "## 4.7 계단 오르내리기 예제"
   ]
  },
  {
   "cell_type": "markdown",
   "metadata": {},
   "source": [
    "- 한계단 오르거나 내리는 코드를  1000번 구현"
   ]
  },
  {
   "cell_type": "code",
   "execution_count": 66,
   "metadata": {
    "ExecuteTime": {
     "end_time": "2019-08-15T05:34:21.414110Z",
     "start_time": "2019-08-15T05:34:21.186770Z"
    }
   },
   "outputs": [
    {
     "data": {
      "text/plain": [
       "[<matplotlib.lines.Line2D at 0x218ebdf7ac8>]"
      ]
     },
     "execution_count": 66,
     "metadata": {},
     "output_type": "execute_result"
    },
    {
     "data": {
      "image/png": "[encoded data removed]",
      "text/plain": [
       "<Figure size 432x288 with 1 Axes>"
      ]
     },
     "metadata": {
      "needs_background": "light"
     },
     "output_type": "display_data"
    }
   ],
   "source": [
    "#파이썬 내장 모듈의 경우\n",
    "import random\n",
    "import matplotlib.pyplot as plt\n",
    "\n",
    "position = 0\n",
    "walk = [position]\n",
    "steps = 1000\n",
    "\n",
    "for i in range(steps):\n",
    "    step = 1 if random.randint(0,1) else -1\n",
    "    position += step\n",
    "    walk.append(position)\n",
    "plt.plot(walk)"
   ]
  },
  {
   "cell_type": "markdown",
   "metadata": {},
   "source": [
    "- 결과는 올라가거나 내려가거나 +1, -1 의 누적합임 -> np.random 이용"
   ]
  },
  {
   "cell_type": "code",
   "execution_count": 67,
   "metadata": {
    "ExecuteTime": {
     "end_time": "2019-08-15T05:34:21.641191Z",
     "start_time": "2019-08-15T05:34:21.416887Z"
    }
   },
   "outputs": [
    {
     "data": {
      "text/plain": [
       "[<matplotlib.lines.Line2D at 0x218ebed47f0>]"
      ]
     },
     "execution_count": 67,
     "metadata": {},
     "output_type": "execute_result"
    },
    {
     "data": {
      "image/png": "[encoded data removed]",
      "text/plain": [
       "<Figure size 432x288 with 1 Axes>"
      ]
     },
     "metadata": {
      "needs_background": "light"
     },
     "output_type": "display_data"
    }
   ],
   "source": [
    "draw = np.random.randint(0,2,size = steps)\n",
    "stepb = np.where(draw>0,1,-1)\n",
    "walk = stepb.cumsum()\n",
    "plt.plot(walk)"
   ]
  },
  {
   "cell_type": "code",
   "execution_count": 68,
   "metadata": {
    "ExecuteTime": {
     "end_time": "2019-08-15T05:34:21.661979Z",
     "start_time": "2019-08-15T05:34:21.651565Z"
    }
   },
   "outputs": [
    {
     "data": {
      "text/plain": [
       "-9"
      ]
     },
     "execution_count": 68,
     "metadata": {},
     "output_type": "execute_result"
    },
    {
     "data": {
      "text/plain": [
       "60"
      ]
     },
     "execution_count": 68,
     "metadata": {},
     "output_type": "execute_result"
    },
    {
     "data": {
      "text/plain": [
       "19.504"
      ]
     },
     "execution_count": 68,
     "metadata": {},
     "output_type": "execute_result"
    }
   ],
   "source": [
    "# 계단을 오르내린 최대 위치 등을 뽑아내기 편함\n",
    "walk.min()\n",
    "walk.max()\n",
    "walk.mean()"
   ]
  },
  {
   "cell_type": "markdown",
   "metadata": {},
   "source": [
    "- 조금더 복잡한 통계  \n",
    "처음으로 10칸 이상 떨어지는데 얼마나 걸렸는지"
   ]
  },
  {
   "cell_type": "code",
   "execution_count": 69,
   "metadata": {
    "ExecuteTime": {
     "end_time": "2019-08-15T05:34:21.682555Z",
     "start_time": "2019-08-15T05:34:21.669682Z"
    }
   },
   "outputs": [
    {
     "data": {
      "text/plain": [
       "297"
      ]
     },
     "execution_count": 69,
     "metadata": {},
     "output_type": "execute_result"
    }
   ],
   "source": [
    "(np.abs(walk) >= 10).argmax()\n",
    "\n",
    "#argmax를 이용했지만 모든 엔트리를 다 확인하기 때문에 효율적이지는 않음\n",
    "# 또 True가 Max라는걸 미리 알고 있었음"
   ]
  },
  {
   "cell_type": "markdown",
   "metadata": {},
   "source": [
    "### 4.7.1 한번에 시뮬레이션 하기"
   ]
  },
  {
   "cell_type": "code",
   "execution_count": 70,
   "metadata": {
    "ExecuteTime": {
     "end_time": "2019-08-15T05:34:21.819500Z",
     "start_time": "2019-08-15T05:34:21.684870Z"
    }
   },
   "outputs": [
    {
     "data": {
      "text/plain": [
       "(5000, 1000)"
      ]
     },
     "execution_count": 70,
     "metadata": {},
     "output_type": "execute_result"
    },
    {
     "data": {
      "text/plain": [
       "122"
      ]
     },
     "execution_count": 70,
     "metadata": {},
     "output_type": "execute_result"
    },
    {
     "data": {
      "text/plain": [
       "-128"
      ]
     },
     "execution_count": 70,
     "metadata": {},
     "output_type": "execute_result"
    },
    {
     "data": {
      "text/plain": [
       "3368"
      ]
     },
     "execution_count": 70,
     "metadata": {},
     "output_type": "execute_result"
    },
    {
     "data": {
      "text/plain": [
       "(5000,)"
      ]
     },
     "execution_count": 70,
     "metadata": {},
     "output_type": "execute_result"
    },
    {
     "data": {
      "text/plain": [
       "array([133, 395, 343, ..., 409, 297, 747], dtype=int64)"
      ]
     },
     "execution_count": 70,
     "metadata": {},
     "output_type": "execute_result"
    },
    {
     "data": {
      "text/plain": [
       "509.99762470308787"
      ]
     },
     "execution_count": 70,
     "metadata": {},
     "output_type": "execute_result"
    }
   ],
   "source": [
    "testnum = 5000\n",
    "stepsize = 1000\n",
    "draws = np.random.randint(0,2,(testnum,stepsize))\n",
    "steps = np.where(draws>0,1,-1)\n",
    "walks = steps.cumsum(axis = 1)\n",
    "walks.shape\n",
    "\n",
    "#모든 케이스의 최대,최소값\n",
    "walks.max()\n",
    "walks.min()\n",
    "\n",
    "#누적합이 30이 되는 최소시점\n",
    "#30 아예안되는 놈이 있는데 이런걸 거르기위해 any 사용\n",
    "a = (np.abs(walks) >= 30)\n",
    "hit30 = a.any(axis=1)\n",
    "hit30.sum()\n",
    "hit30.shape\n",
    "#hit30 - 30이상이 포함된 배열 엔트리\n",
    "\n",
    "crossing_times = (np.abs(walks[hit30]) >= 30).argmax(axis=1)\n",
    "crossing_times\n",
    "crossing_times.mean()"
   ]
  },
  {
   "cell_type": "code",
   "execution_count": 71,
   "metadata": {
    "ExecuteTime": {
     "end_time": "2019-08-15T05:34:22.088590Z",
     "start_time": "2019-08-15T05:34:21.820496Z"
    }
   },
   "outputs": [
    {
     "data": {
      "text/plain": [
       "(array([2.00, 14.00, 47.00, 83.00, 105.00, 118.00, 80.00, 38.00, 10.00,\n",
       "        3.00]),\n",
       " array([-9.98, -6.92, -3.85, -0.79, 2.27, 5.34, 8.40, 11.46, 14.53, 17.59,\n",
       "        20.65]),\n",
       " <a list of 10 Patch objects>)"
      ]
     },
     "execution_count": 71,
     "metadata": {},
     "output_type": "execute_result"
    },
    {
     "data": {
      "text/plain": [
       "(-100, 100)"
      ]
     },
     "execution_count": 71,
     "metadata": {},
     "output_type": "execute_result"
    },
    {
     "data": {
      "image/png": "[encoded data removed]",
      "text/plain": [
       "<Figure size 432x288 with 1 Axes>"
      ]
     },
     "metadata": {
      "needs_background": "light"
     },
     "output_type": "display_data"
    }
   ],
   "source": [
    "a = np.random.normal(loc = 5,scale = 5,size = 500)\n",
    "plt.hist(a)\n",
    "plt.xlim([-100,100])"
   ]
  }
 ],
 "metadata": {
  "kernelspec": {
   "display_name": "Python 3",
   "language": "python",
   "name": "python3"
  },
  "language_info": {
   "codemirror_mode": {
    "name": "ipython",
    "version": 3
   },
   "file_extension": ".py",
   "mimetype": "text/x-python",
   "name": "python",
   "nbconvert_exporter": "python",
   "pygments_lexer": "ipython3",
   "version": "3.7.3"
  },
  "varInspector": {
   "cols": {
    "lenName": "16",
    "lenType": "16",
    "lenVar": 40
   },
   "kernels_config": {
    "python": {
     "delete_cmd_postfix": "",
     "delete_cmd_prefix": "del ",
     "library": "var_list.py",
     "varRefreshCmd": "print(var_dic_list())"
    },
    "r": {
     "delete_cmd_postfix": ") ",
     "delete_cmd_prefix": "rm(",
     "library": "var_list.r",
     "varRefreshCmd": "cat(var_dic_list()) "
    }
   },
   "oldHeight": 239,
   "position": {
    "height": "260.6px",
    "left": "993px",
    "right": "20px",
    "top": "111px",
    "width": "529px"
   },
   "types_to_exclude": [
    "module",
    "function",
    "builtin_function_or_method",
    "instance",
    "_Feature"
   ],
   "varInspector_section_display": "block",
   "window_display": true
  }
 },
 "nbformat": 4,
 "nbformat_minor": 2
}
